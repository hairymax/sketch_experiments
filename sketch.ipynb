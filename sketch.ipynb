{
 "cells": [
  {
   "cell_type": "code",
   "execution_count": 1,
   "metadata": {},
   "outputs": [],
   "source": [
    "import sketch\n",
    "import pandas as pd"
   ]
  },
  {
   "attachments": {},
   "cell_type": "markdown",
   "metadata": {},
   "source": [
    "## Загрузка и обработка данных"
   ]
  },
  {
   "cell_type": "code",
   "execution_count": 2,
   "metadata": {},
   "outputs": [
    {
     "name": "stdout",
     "output_type": "stream",
     "text": [
      "<class 'pandas.core.frame.DataFrame'>\n",
      "RangeIndex: 1281351 entries, 0 to 1281350\n",
      "Data columns (total 15 columns):\n",
      " #   Column                  Non-Null Count    Dtype         \n",
      "---  ------                  --------------    -----         \n",
      " 0   datetime                1281351 non-null  datetime64[ns]\n",
      " 1   lat                     1270607 non-null  float64       \n",
      " 2   lon                     1270607 non-null  float64       \n",
      " 3   parent_region           1281351 non-null  object        \n",
      " 4   region                  1281351 non-null  object        \n",
      " 5   address                 1223853 non-null  object        \n",
      " 6   category                1281351 non-null  object        \n",
      " 7   severity                1281351 non-null  object        \n",
      " 8   vehicles                1281351 non-null  object        \n",
      " 9   participant_categories  1281351 non-null  object        \n",
      " 10  participants_count      1281351 non-null  int64         \n",
      " 11  injured_count           1281351 non-null  int64         \n",
      " 12  dead_count              1281351 non-null  int64         \n",
      " 13  light                   1281351 non-null  object        \n",
      " 14  weather                 1281351 non-null  object        \n",
      "dtypes: datetime64[ns](1), float64(2), int64(3), object(9)\n",
      "memory usage: 146.6+ MB\n"
     ]
    },
    {
     "data": {
      "text/html": [
       "<div>\n",
       "<style scoped>\n",
       "    .dataframe tbody tr th:only-of-type {\n",
       "        vertical-align: middle;\n",
       "    }\n",
       "\n",
       "    .dataframe tbody tr th {\n",
       "        vertical-align: top;\n",
       "    }\n",
       "\n",
       "    .dataframe thead th {\n",
       "        text-align: right;\n",
       "    }\n",
       "</style>\n",
       "<table border=\"1\" class=\"dataframe\">\n",
       "  <thead>\n",
       "    <tr style=\"text-align: right;\">\n",
       "      <th></th>\n",
       "      <th>datetime</th>\n",
       "      <th>lat</th>\n",
       "      <th>lon</th>\n",
       "      <th>parent_region</th>\n",
       "      <th>region</th>\n",
       "      <th>address</th>\n",
       "      <th>category</th>\n",
       "      <th>severity</th>\n",
       "      <th>vehicles</th>\n",
       "      <th>participant_categories</th>\n",
       "      <th>participants_count</th>\n",
       "      <th>injured_count</th>\n",
       "      <th>dead_count</th>\n",
       "      <th>light</th>\n",
       "      <th>weather</th>\n",
       "    </tr>\n",
       "  </thead>\n",
       "  <tbody>\n",
       "    <tr>\n",
       "      <th>627897</th>\n",
       "      <td>2015-10-10 19:54:00</td>\n",
       "      <td>51.826389</td>\n",
       "      <td>55.970000</td>\n",
       "      <td>Оренбургская область</td>\n",
       "      <td>Оренбургский</td>\n",
       "      <td>М-5 Подъезд к городу Оренбург от а/д М-5, 414 км</td>\n",
       "      <td>Наезд на пешехода</td>\n",
       "      <td>С погибшими</td>\n",
       "      <td>[CHEVROLET Cruze 2012]</td>\n",
       "      <td>Водители и пассажиры ТС, Пешеходы</td>\n",
       "      <td>2</td>\n",
       "      <td>0</td>\n",
       "      <td>1</td>\n",
       "      <td>В темное время суток, освещение включено</td>\n",
       "      <td>Ясно</td>\n",
       "    </tr>\n",
       "    <tr>\n",
       "      <th>738536</th>\n",
       "      <td>2019-07-24 09:40:00</td>\n",
       "      <td>53.357826</td>\n",
       "      <td>58.721924</td>\n",
       "      <td>Республика Башкортостан</td>\n",
       "      <td>Абзелиловский</td>\n",
       "      <td>с/с Давлетовский, Аскарово-Давлетово-Аэропорт,...</td>\n",
       "      <td>Съезд с дороги</td>\n",
       "      <td>Легкий</td>\n",
       "      <td>[ВАЗ  Жигули  ВАЗ-2108, 09 и модификации      ...</td>\n",
       "      <td>Водители и пассажиры ТС</td>\n",
       "      <td>3</td>\n",
       "      <td>2</td>\n",
       "      <td>0</td>\n",
       "      <td>Светлое время суток</td>\n",
       "      <td>Ясно</td>\n",
       "    </tr>\n",
       "    <tr>\n",
       "      <th>102836</th>\n",
       "      <td>2015-12-05 18:50:00</td>\n",
       "      <td>48.473320</td>\n",
       "      <td>44.356360</td>\n",
       "      <td>Волгоградская область</td>\n",
       "      <td>Волгоград</td>\n",
       "      <td>г Волгоград, пр-кт им В.И.Ленина, 122</td>\n",
       "      <td>Наезд на препятствие</td>\n",
       "      <td>Тяжёлый</td>\n",
       "      <td>[TOYOTA Cynos None]</td>\n",
       "      <td>Водители и пассажиры ТС</td>\n",
       "      <td>2</td>\n",
       "      <td>2</td>\n",
       "      <td>0</td>\n",
       "      <td>В темное время суток, освещение включено</td>\n",
       "      <td>Пасмурно</td>\n",
       "    </tr>\n",
       "    <tr>\n",
       "      <th>1230169</th>\n",
       "      <td>2022-03-28 09:08:00</td>\n",
       "      <td>55.163530</td>\n",
       "      <td>61.298132</td>\n",
       "      <td>Челябинская область</td>\n",
       "      <td>Челябинск</td>\n",
       "      <td>г Челябинск, ул Академика Королева, 24 5</td>\n",
       "      <td>Наезд на пешехода</td>\n",
       "      <td>Тяжёлый</td>\n",
       "      <td>[KIA Sportage 2017]</td>\n",
       "      <td>Водители и пассажиры ТС, Пешеходы</td>\n",
       "      <td>2</td>\n",
       "      <td>1</td>\n",
       "      <td>0</td>\n",
       "      <td>Светлое время суток</td>\n",
       "      <td>Пасмурно</td>\n",
       "    </tr>\n",
       "  </tbody>\n",
       "</table>\n",
       "</div>"
      ],
      "text/plain": [
       "                   datetime        lat        lon            parent_region  \\\n",
       "627897  2015-10-10 19:54:00  51.826389  55.970000     Оренбургская область   \n",
       "738536  2019-07-24 09:40:00  53.357826  58.721924  Республика Башкортостан   \n",
       "102836  2015-12-05 18:50:00  48.473320  44.356360    Волгоградская область   \n",
       "1230169 2022-03-28 09:08:00  55.163530  61.298132      Челябинская область   \n",
       "\n",
       "                region                                            address  \\\n",
       "627897    Оренбургский   М-5 Подъезд к городу Оренбург от а/д М-5, 414 км   \n",
       "738536   Абзелиловский  с/с Давлетовский, Аскарово-Давлетово-Аэропорт,...   \n",
       "102836       Волгоград              г Волгоград, пр-кт им В.И.Ленина, 122   \n",
       "1230169      Челябинск           г Челябинск, ул Академика Королева, 24 5   \n",
       "\n",
       "                     category     severity  \\\n",
       "627897      Наезд на пешехода  С погибшими   \n",
       "738536         Съезд с дороги       Легкий   \n",
       "102836   Наезд на препятствие      Тяжёлый   \n",
       "1230169     Наезд на пешехода      Тяжёлый   \n",
       "\n",
       "                                                  vehicles  \\\n",
       "627897                              [CHEVROLET Cruze 2012]   \n",
       "738536   [ВАЗ  Жигули  ВАЗ-2108, 09 и модификации      ...   \n",
       "102836                                 [TOYOTA Cynos None]   \n",
       "1230169                                [KIA Sportage 2017]   \n",
       "\n",
       "                    participant_categories  participants_count  injured_count  \\\n",
       "627897   Водители и пассажиры ТС, Пешеходы                   2              0   \n",
       "738536             Водители и пассажиры ТС                   3              2   \n",
       "102836             Водители и пассажиры ТС                   2              2   \n",
       "1230169  Водители и пассажиры ТС, Пешеходы                   2              1   \n",
       "\n",
       "         dead_count                                     light   weather  \n",
       "627897            1  В темное время суток, освещение включено      Ясно  \n",
       "738536            0                       Светлое время суток      Ясно  \n",
       "102836            0  В темное время суток, освещение включено  Пасмурно  \n",
       "1230169           0                       Светлое время суток  Пасмурно  "
      ]
     },
     "execution_count": 2,
     "metadata": {},
     "output_type": "execute_result"
    }
   ],
   "source": [
    "URL = \"https://cms.dtp-stat.ru/media/opendata/{}\"\n",
    "GEOJSONS = [\n",
    "    \"altaiskii-krai.geojson\",\n",
    "    \"amurskaia-oblast.geojson\",\n",
    "    \"arkhangelskaia-oblast.geojson\",\n",
    "    \"astrakhanskaia-oblast.geojson\",\n",
    "    \"belgorodskaia-oblast.geojson\",\n",
    "    \"brianskaia-oblast.geojson\",\n",
    "    \"vladimirskaia-oblast.geojson\",\n",
    "    \"volgogradskaia-oblast.geojson\",\n",
    "    \"vologodskaia-oblast.geojson\",\n",
    "    \"voronezhskaia-oblast.geojson\",\n",
    "    \"evreiskaia-avtonomnaia-oblast.geojson\",\n",
    "    \"zabaikalskii-krai.geojson\",\n",
    "    \"ivanovskaia-oblast.geojson\",\n",
    "    \"irkutskaia-oblast.geojson\",\n",
    "    \"kabardino-balkarskaia-respublika.geojson\",\n",
    "    \"kaliningradskaia-oblast.geojson\",\n",
    "    \"kaluzhskaia-oblast.geojson\",\n",
    "    \"kamchatskii-krai.geojson\",\n",
    "    \"karachaevo-cherkesskaia-respublika.geojson\",\n",
    "    \"kemerovskaia-oblast-kuzbass.geojson\",\n",
    "    \"kirovskaia-oblast.geojson\",\n",
    "    \"kostromskaia-oblast.geojson\",\n",
    "    \"krasnodarskii-krai.geojson\",\n",
    "    \"krasnoiarskii-krai.geojson\",\n",
    "    \"kurganskaia-oblast.geojson\",\n",
    "    \"kurskaia-oblast.geojson\",\n",
    "    \"leningradskaia-oblast.geojson\",\n",
    "    \"lipetskaia-oblast.geojson\",\n",
    "    \"magadanskaia-oblast.geojson\",\n",
    "    \"moskva.geojson\",\n",
    "    \"moskovskaia-oblast.geojson\",\n",
    "    \"murmanskaia-oblast.geojson\",\n",
    "    \"nenetskii-avtonomnyi-okrug.geojson\",\n",
    "    \"nizhegorodskaia-oblast.geojson\",\n",
    "    \"novgorodskaia-oblast.geojson\",\n",
    "    \"novosibirskaia-oblast.geojson\",\n",
    "    \"omskaia-oblast.geojson\",\n",
    "    \"orenburgskaia-oblast.geojson\",\n",
    "    \"orlovskaia-oblast.geojson\",\n",
    "    \"penzenskaia-oblast.geojson\",\n",
    "    \"permskii-krai.geojson\",\n",
    "    \"primorskii-krai.geojson\",\n",
    "    \"pskovskaia-oblast.geojson\",\n",
    "    \"respublika-adygeia-adygeia.geojson\",\n",
    "    \"respublika-altai.geojson\",\n",
    "    \"respublika-bashkortostan.geojson\",\n",
    "    \"respublika-buriatiia.geojson\",\n",
    "    \"respublika-dagestan.geojson\",\n",
    "    \"respublika-ingushetiia.geojson\",\n",
    "    \"respublika-kalmykiia.geojson\",\n",
    "    \"respublika-kareliia.geojson\",\n",
    "    \"respublika-komi.geojson\",\n",
    "    \"respublika-krym.geojson\",\n",
    "    \"respublika-marii-el.geojson\",\n",
    "    \"respublika-mordoviia.geojson\",\n",
    "    \"respublika-sakha-iakutiia.geojson\",\n",
    "    \"respublika-severnaia-osetiia-alaniia.geojson\",\n",
    "    \"respublika-tatarstan-tatarstan.geojson\",\n",
    "    \"respublika-tyva.geojson\",\n",
    "    \"respublika-khakasiia.geojson\",\n",
    "    \"rostovskaia-oblast.geojson\",\n",
    "    \"riazanskaia-oblast.geojson\",\n",
    "    \"samarskaia-oblast.geojson\",\n",
    "    \"sankt-peterburg.geojson\",\n",
    "    \"saratovskaia-oblast.geojson\",\n",
    "    \"sakhalinskaia-oblast.geojson\",\n",
    "    \"sverdlovskaia-oblast.geojson\",\n",
    "    \"sevastopol.geojson\",\n",
    "    \"smolenskaia-oblast.geojson\",\n",
    "    \"stavropolskii-krai.geojson\",\n",
    "    \"tambovskaia-oblast.geojson\",\n",
    "    \"tverskaia-oblast.geojson\",\n",
    "    \"tomskaia-oblast.geojson\",\n",
    "    \"tulskaia-oblast.geojson\",\n",
    "    \"tiumenskaia-oblast.geojson\",\n",
    "    \"udmurtskaia-respublika.geojson\",\n",
    "    \"ulianovskaia-oblast.geojson\",\n",
    "    \"khabarovskii-krai.geojson\",\n",
    "    \"khanty-mansiiskii-avtonomnyi-okrug-iugra.geojson\",\n",
    "    \"cheliabinskaia-oblast.geojson\",\n",
    "    \"chechenskaia-respublika.geojson\",\n",
    "    \"chuvashskaia-respublika-chuvashiia.geojson\",\n",
    "    \"chukotskii-avtonomnyi-okrug.geojson\",\n",
    "    \"iamalo-nenetskii-avtonomnyi-okrug.geojson\",\n",
    "    \"iaroslavskaia-oblast.geojson\",\n",
    "]\n",
    "\n",
    "regions = GEOJSONS.copy()\n",
    "# regions = ['khabarovskii-krai.geojson', 'evreiskaia-avtonomnaia-oblast.geojson', 'amurskaia-oblast.geojson', 'sakhalinskaia-oblast.geojson']\n",
    "df_name = 'dtp_ru.parquet'\n",
    "\n",
    "try:\n",
    "    df0 = pd.read_parquet(df_name)\n",
    "except:\n",
    "    from tqdm import tqdm\n",
    "    import os\n",
    "    import json\n",
    "    import requests\n",
    "    \n",
    "    for r in tqdm(regions):\n",
    "        f_path = f\"data/{r}\"\n",
    "        if not os.path.exists(f_path):\n",
    "            open(f_path, \"wb\").write(requests.get(URL.format(r)).content)\n",
    "    \n",
    "    columns = ['datetime', 'lat', 'lon', 'parent_region', 'region', 'address', 'category', 'severity', 'vehicles', 'participant_categories', 'participants_count', 'injured_count', 'dead_count', 'light', 'weather']\n",
    "\n",
    "    def get_df(dtp_geojson):\n",
    "        \n",
    "        # print(dtp_geojson)\n",
    "        with open(f\"data/{dtp_geojson}\") as json_file:\n",
    "            df = pd.DataFrame(json.load(json_file)['features']).drop(['type', 'geometry'], axis=1)\n",
    "\n",
    "        single_value_keys = ['datetime', 'parent_region', 'region', 'address', 'category', 'severity', 'participants_count', 'injured_count', 'dead_count', 'light']\n",
    "\n",
    "        # tqdm.pandas(desc='coordinates')\n",
    "        df[['lat','lon']] = df.properties.apply(lambda x: pd.Series([x['point']['lat'], x['point']['long']]))\n",
    "        \n",
    "        # tqdm.pandas(desc='single value keys')\n",
    "        df[single_value_keys] = df.properties.apply(lambda x: pd.Series(x[key] for key in single_value_keys))\n",
    "\n",
    "        # tqdm.pandas(desc='weather')\n",
    "        df['weather'] = df.properties.apply(lambda x: ', '.join(x['weather']))\n",
    "\n",
    "        # tqdm.pandas(desc='participant_categories')\n",
    "        def get_participant_categories(x):\n",
    "            res = sorted(x['participant_categories'])\n",
    "            res.insert(0, res.pop(res.index('Все участники')))\n",
    "            return ', '.join(res).replace('Все участники','Водители и пассажиры ТС')\n",
    "        df['participant_categories'] = df.properties.apply(get_participant_categories)\n",
    "\n",
    "        # tqdm.pandas(desc='vehicles')\n",
    "        df['vehicles'] = df.properties.apply(lambda x: [' '.join([str(v['brand']), str(v['model']), str(v['year'])]) for v in x['vehicles']])\n",
    "        \n",
    "        # df = df[(df.lon > 119) & (df.lon < 157) & (df.lat > 46) & (df.lat < 62)]\n",
    "        df.datetime = df.datetime.astype('datetime64')\n",
    "        return df[columns]\n",
    "\n",
    "    df0 = pd.DataFrame(columns=columns)\n",
    "    pbar = tqdm(regions)\n",
    "    for r in pbar:\n",
    "        pbar.set_postfix_str(r)\n",
    "        df0 = pd.concat([df0, get_df(r)], ignore_index=True)\n",
    "\n",
    "    # df.to_csv('dtp.csv', sep=';', index=False)\n",
    "    df0.to_parquet(df_name)\n",
    "\n",
    "df0.info()\n",
    "df0.sample(4)"
   ]
  },
  {
   "cell_type": "markdown",
   "metadata": {},
   "source": [
    "### `.ask` the questions"
   ]
  },
  {
   "cell_type": "code",
   "execution_count": 3,
   "metadata": {},
   "outputs": [
    {
     "name": "stdout",
     "output_type": "stream",
     "text": [
      "Failed to use remote https://prompts.approx.dev.. 414 Client Error: Request-URI Too Large for url: https://prompts.approx.dev/prompt/ask_from_parts?dfname=df&column_names=WyJpbmRleCIsICJkYXRldGltZSIsICJsYXQiLCAibG9uIiwgInBhcmVudF9yZWdpb24iLCAicmVnaW9uIiwgImFkZHJlc3MiLCAiY2F0ZWdvcnkiLCAic2V2ZXJpdHkiLCAidmVoaWNsZXMiLCAicGFydGljaXBhbnRfY2F0ZWdvcmllcyIsICJwYXJ0aWNpcGFudHNfY291bnQiLCAiaW5qdXJlZF9jb3VudCIsICJkZWFkX2NvdW50IiwgImxpZ2h0IiwgIndlYXRoZXIiXQ%3D%3D&data_types=WyJpbnQ2NCIsICJkYXRldGltZTY0W25zXSIsICJmbG9hdDY0IiwgImZsb2F0NjQiLCAib2JqZWN0IiwgIm9iamVjdCIsICJvYmplY3QiLCAib2JqZWN0IiwgIm9iamVjdCIsICJvYmplY3QiLCAib2JqZWN0IiwgImludDY0IiwgImludDY0IiwgImludDY0IiwgIm9iamVjdCIsICJvYmplY3QiXQ%3D%3D&extras=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%3D%3D&question=%D0%9A%D0%B0%D0%BA%D0%B8%D0%B5+%D0%BA%D0%BE%D0%BB%D0%BE%D0%BD%D0%BA%D0%B8+%D0%B5%D1%81%D1%82%D1%8C+%D0%B2+%D0%B4%D0%B0%D1%82%D0%B0%D1%81%D0%B5%D1%82%D0%B5%3F. \n",
      "Consider setting SKETCH_USE_REMOTE_LAMBDAPROMPT=False \n",
      "and run with your own open-ai key\n",
      "\n"
     ]
    },
    {
     "data": {
      "text/html": [
       "SKETCH ERROR - see print logs for full error"
      ],
      "text/plain": [
       "<IPython.core.display.HTML object>"
      ]
     },
     "metadata": {},
     "output_type": "display_data"
    },
    {
     "data": {
      "text/html": [
       "\n",
       "В датасете есть следующие колонки: index, datetime, lat, lon, parent_region, region, category, severity, vehicles, participant_categories, participants_count, injured_count, dead_count, light и weather."
      ],
      "text/plain": [
       "<IPython.core.display.HTML object>"
      ]
     },
     "metadata": {},
     "output_type": "display_data"
    }
   ],
   "source": [
    "df = df0.copy()\n",
    "df.sketch.ask(\"Какие колонки есть в датасете?\")\n",
    "\n",
    "df.drop('address',axis=1).sketch.ask(\"Какие колонки есть в датасете?\")\n",
    "\n",
    "df = df.drop('address', axis=1)"
   ]
  },
  {
   "cell_type": "code",
   "execution_count": 21,
   "metadata": {},
   "outputs": [
    {
     "data": {
      "text/html": [
       "\n",
       "Датасет содержит информацию о 1281351 ДТП, произошедших в России. Он содержит следующие столбцы: index, datetime, lat, lon, parent_region, region, category, severity, vehicles, participant_categories, participants_count, injured_count, dead_count, light и weather. Index - это уникальный идентификатор каждого ДТП. Datetime - дата и время события. Lat и lon - широта и долгота события. Parent_region - регион, в котором произошло событие. Region - город, в котором произошло событие. Category - тип события (например, столкновение). Severity - уровень тяжести (легкий / средний / тяжелый). Vehicles - список участвующих автомобилей. Participant_categories - участники (водител"
      ],
      "text/plain": [
       "<IPython.core.display.HTML object>"
      ]
     },
     "metadata": {},
     "output_type": "display_data"
    },
    {
     "name": "stdout",
     "output_type": "stream",
     "text": [
      "CPU times: total: 6.53 s\n",
      "Wall time: 27 s\n"
     ]
    }
   ],
   "source": [
    "%%time\n",
    "df.sketch.ask('Опиши датасет')"
   ]
  },
  {
   "cell_type": "code",
   "execution_count": 32,
   "metadata": {},
   "outputs": [],
   "source": [
    "df_ = df.sample(50000)"
   ]
  },
  {
   "cell_type": "code",
   "execution_count": 33,
   "metadata": {},
   "outputs": [
    {
     "data": {
      "text/html": [
       "\n",
       "Датасет содержит информацию о 50000 ДТП, произошедших в России. Он содержит следующие столбцы: index, datetime, lat, lon, parent_region, region, category, severity, vehicles, participant_categories, participants_count, injured_count, dead_count, light и weather. Типы данных различны: int64, object и float64. Индексом является столбец index. В столбцах parent_region, region, category, severity, participant_categories и light уникальные значения соответственно 85, 2180, 18, 3, 20 и 6. Квантили 0%, 25%, 50%, 75% и 100% равны 0.0, 317467.25, 635811.5, 958166.5 и 1281349.0."
      ],
      "text/plain": [
       "<IPython.core.display.HTML object>"
      ]
     },
     "metadata": {},
     "output_type": "display_data"
    },
    {
     "name": "stdout",
     "output_type": "stream",
     "text": [
      "CPU times: total: 734 ms\n",
      "Wall time: 13.6 s\n"
     ]
    }
   ],
   "source": [
    "%%time\n",
    "df_.sketch.ask('Опиши датасет')   "
   ]
  },
  {
   "attachments": {},
   "cell_type": "markdown",
   "metadata": {},
   "source": [
    "| размер | wall time, с | cpu time, с |\n",
    "|--------|--------------|--------------|\n",
    "|   1000 | 16.1 | 0.0312 |\n",
    "|  10000 | 13.4 | 0.312 |\n",
    "|  20000 | 17.8 | 0.188 |\n",
    "|  50000 | 13.6 | 0.734 |\n",
    "| 100000 | 12   | 0.844 |\n",
    "| 200000 | 16.8 | 1.42 |\n",
    "| 300000 | 21.9 | 2.03 |"
   ]
  },
  {
   "cell_type": "code",
   "execution_count": 4,
   "metadata": {},
   "outputs": [
    {
     "data": {
      "text/html": [
       "\n",
       "Датасет содержит 2000 строк и 11 столбцов. Столбцы включают индекс, дату и время, широту и долготу, родительскую область, регион, категорию, степень тяжести, категории участников, количество участников, количество пострадавших, количество погибших, светлое/темное время суток и погодные условия.\n"
      ],
      "text/plain": [
       "<IPython.core.display.HTML object>"
      ]
     },
     "metadata": {},
     "output_type": "display_data"
    },
    {
     "data": {
      "text/html": [
       "\n",
       "Датасет содержит 2000 строк и 11 столбцов. Столбцы включают индекс, дату и время, широту и долготу, родительскую область, регион, категорию, степень тяжести, категории участников, количество участников, количество пострадавших и количество погибших, светлое/темное время суток и погодные условия."
      ],
      "text/plain": [
       "<IPython.core.display.HTML object>"
      ]
     },
     "metadata": {},
     "output_type": "display_data"
    },
    {
     "data": {
      "text/html": [
       "\n",
       "Датасет содержит 2000 строк и 10 столбцов. Индекс является целочисленным значением, а дата и время - значениями datetime64[ns]. Координаты широты и долготы - числами с плавающей точкой, а родительский регион, регион, категория, степень тяжести, категория участников, количество участников, количество пострадавших, количество погибших, освещение и погода - строковыми значениями. 84 уникальных родительских регионов, 858 уникальных регионов, 14 уникальных категорий, 3 уникальных ст"
      ],
      "text/plain": [
       "<IPython.core.display.HTML object>"
      ]
     },
     "metadata": {},
     "output_type": "display_data"
    },
    {
     "data": {
      "text/html": [
       "\n",
       "Датасет содержит 2000 строк и 11 столбцов. Индекс является целочисленным значением, а дата и время - значениями datetime64[ns]. Данные о широте, долготе, родительской области, регионе, категории, степени тяжести, участниках, пострадавших, погибших, освещении и погоде - являются значениями object.\n",
       "\n",
       "В этом датасете 84 уникальных родительских областей, 875 уникальных регионов, 14 уникальных категорий, 3 уникальных ступени тяжести, 16 уникальных категорий участников, 11 уникальных значени"
      ],
      "text/plain": [
       "<IPython.core.display.HTML object>"
      ]
     },
     "metadata": {},
     "output_type": "display_data"
    },
    {
     "data": {
      "text/html": [
       "\n",
       "Датасет содержит 2000 строк и 11 столбцов. Индекс строк имеет тип int64, а дата и время - datetime64[ns]. Данные содержат информацию о широте (lat) и долготе (lon), родительской области (parent_region), регионе (region), категории (category), степени тяжести (severity), категориях участников (participant_categories), количестве участников (participants_count), количестве пострадавших (injured_count) и количестве погибших (dead_count). Также указываются условия освещенности (light) и погоды (weather)."
      ],
      "text/plain": [
       "<IPython.core.display.HTML object>"
      ]
     },
     "metadata": {},
     "output_type": "display_data"
    },
    {
     "data": {
      "text/html": [
       "\n",
       "Датасет содержит информацию о 2000 ДТП, произошедших в различных регионах России. Он содержит следующие столбцы: index, datetime, lat, lon, parent_region, region, category, severity, participant_categories, participants_count, injured_count, dead_count, light и weather. Типы данных включают int64, datetime64[ns], float64 и object. В столбцах index, datetime, lat, lon и parent_region уникальные значения соответственно 2000, 1998, 1949, 1966 и 84. Квантили распределения соответствующих столбцов соответственно 209.0, 318211.5, 638866.0, 952143.25, 1280816.0; 1.0, 51.670158, 55.0, 56.38253325, 69.476256; 1.0, 38.269985750000004, 44.407011999999995, 60.179589, 177.9686; 84; 832; 12; 3; 14; 13; 10; 5; 5; 16."
      ],
      "text/plain": [
       "<IPython.core.display.HTML object>"
      ]
     },
     "metadata": {},
     "output_type": "display_data"
    },
    {
     "name": "stdout",
     "output_type": "stream",
     "text": [
      "2000 82.81646990776062 0.28125\n"
     ]
    },
    {
     "data": {
      "text/html": [
       "\n",
       "Датасет содержит информацию о 6000 ДТП, произошедших в различных регионах России. Он содержит следующие столбцы: index, datetime, lat, lon, parent_region, region, category, severity, participant_categories, participants_count, injured_count, dead_count, light и weather. Index - уникальный идентификатор ДТП. Datetime - дата и время происшествия. Lat и lon - широта и долгота. Parent_region - родительская региональная единица. Region - регион. Category - категория ДТП. Severity - степень тяжести. Participant_categories - категория участников. Participants_count - количество участников. Injured_count - количество пострадавших. Dead_count - количество погибших. Light - условия освещенно"
      ],
      "text/plain": [
       "<IPython.core.display.HTML object>"
      ]
     },
     "metadata": {},
     "output_type": "display_data"
    },
    {
     "data": {
      "text/html": [
       "\n",
       "Датасет содержит информацию о 6000 ДТП, произошедших в различных регионах России. Он содержит следующие столбцы: index, datetime, lat, lon, parent_region, region, category, severity, participant_categories, participants_count, injured_count, dead_count, light и weather. Типы данных включают int64, datetime64[ns], float64 и object. В столбцах index, datetime, lat, lon и participants_count нет пропусков. В столбцах parent_region, region, category, severity, participant_categories, injured_count и dead_count есть пропуски."
      ],
      "text/plain": [
       "<IPython.core.display.HTML object>"
      ]
     },
     "metadata": {},
     "output_type": "display_data"
    },
    {
     "data": {
      "text/html": [
       "\n",
       "Датасет содержит информацию о 6000 ДТП, произошедших в различных регионах России. Он содержит следующие столбцы: index, datetime, lat, lon, parent_region, region, category, severity, participant_categories, participants_count, injured_count, dead_count, light и weather. Типы данных включают int64, datetime64[ns], float64 и object. В столбцах index, datetime, lat, lon и participants_count нет пропусков. В столбцах parent_region, region, category, severity, participant_categories, injured_count и dead_count есть некоторые пропуски."
      ],
      "text/plain": [
       "<IPython.core.display.HTML object>"
      ]
     },
     "metadata": {},
     "output_type": "display_data"
    },
    {
     "data": {
      "text/html": [
       "\n",
       "Датасет содержит информацию о 6000 ДТП, произошедших в различных регионах России. Он содержит следующие столбцы: index, datetime, lat, lon, parent_region, region, category, severity, participant_categories, participants_count, injured_count, dead_count, light и weather. Типы данных включают int64, datetime64[ns], float64 и object. Все столбцы имеют 6000 строк. Количество уникальных значений различается для каждого столбца."
      ],
      "text/plain": [
       "<IPython.core.display.HTML object>"
      ]
     },
     "metadata": {},
     "output_type": "display_data"
    },
    {
     "data": {
      "text/html": [
       "\n",
       "Датасет содержит информацию о 6000 ДТП, произошедших в различных регионах России. Для каждого ДТП указаны дата и время, широта и долгота, регион, родительский регион, категория, степень тяжести, категория участников, количество участников, количество пострадавших, количество погибших, условия освещенности и погоды."
      ],
      "text/plain": [
       "<IPython.core.display.HTML object>"
      ]
     },
     "metadata": {},
     "output_type": "display_data"
    },
    {
     "data": {
      "text/html": [
       "\n",
       "Датасет содержит информацию о 6000 ДТП, произошедших в различных регионах России. Он содержит следующие столбцы: index, datetime, lat, lon, parent_region, region, category, severity, participant_categories, participants_count, injured_count, dead_count, light и weather. Типы данных включают int64, datetime64[ns], float64 и object. В столбцах index, datetime, lat, lon и participants_count нет пропусков. В столбцах parent_region, region, category, severity, participant_categories, injured_count и dead_count есть некоторые пропуски. Квантили равны 756.0, 328941.75, 634337.0, 960500.0 и 1281226.0."
      ],
      "text/plain": [
       "<IPython.core.display.HTML object>"
      ]
     },
     "metadata": {},
     "output_type": "display_data"
    },
    {
     "name": "stdout",
     "output_type": "stream",
     "text": [
      "6000 86.31545877456665 0.453125\n"
     ]
    },
    {
     "data": {
      "text/html": [
       "\n",
       "Датасет содержит информацию о 10000 ДТП, произошедших в России. Он содержит следующие столбцы: index, datetime, lat, lon, parent_region, region, category, severity, participant_categories, participants_count, injured_count, dead_count, light и weather. Все столбцы являются числовыми или объектными. Index - уникальный идентификатор ДТП. Datetime - дата и время происшествия. Lat - широта. Lon - долгота. Parent_region - регион. Region - населенный пункт. Category - тип ДТП. Severity - тяжесть. Participant_categories - участники. Participants_count - количество участников. Injured_count - количество раненых. Dead_count - количество погибших. Light - условия освещенности. Weather - погодные условия."
      ],
      "text/plain": [
       "<IPython.core.display.HTML object>"
      ]
     },
     "metadata": {},
     "output_type": "display_data"
    },
    {
     "data": {
      "text/html": [
       "\n",
       "Датасет содержит информацию о 10000 ДТП, произошедших в различных регионах России. Он содержит следующие столбцы: index, datetime, lat, lon, parent_region, region, category, severity, participant_categories, participants_count, injured_count, dead_count, light и weather. Все столбцы имеют тип int64, float64, datetime64[ns] или object. Индексом является столбец index. В столбцах parent_region, region, category, severity и participant_categories наблюдается 84, 1691, 16, 3 и 17 уникальных значений соответственно. В столбцах participants_count, injured_count и dead_count 21, 19 и 7 уникальных значений соответственно."
      ],
      "text/plain": [
       "<IPython.core.display.HTML object>"
      ]
     },
     "metadata": {},
     "output_type": "display_data"
    },
    {
     "data": {
      "text/html": [
       "\n",
       "Датасет содержит информацию о 10000 ДТП, произошедших в различных регионах России. Он содержит следующие столбцы: index, datetime, lat, lon, parent_region, region, category, severity, participant_categories, participants_count, injured_count, dead_count, light и weather. Типы данных включают int64, datetime64[ns], float64 и object. Все столбцы имеют 10000 уникальных значений. Квантили распределены по 25%, 50%, 75% и 100%."
      ],
      "text/plain": [
       "<IPython.core.display.HTML object>"
      ]
     },
     "metadata": {},
     "output_type": "display_data"
    },
    {
     "data": {
      "text/html": [
       "\n",
       "Датасет содержит информацию о 10000 авариях, произошедших в различных регионах России. Он содержит следующие столбцы: index, datetime, lat, lon, parent_region, region, category, severity, participant_categories, participants_count, injured_count, dead_count, light и weather. Типы данных включают int64, datetime64[ns], float64 и object. Все столбцы имеют 10000 уникальных значений."
      ],
      "text/plain": [
       "<IPython.core.display.HTML object>"
      ]
     },
     "metadata": {},
     "output_type": "display_data"
    },
    {
     "data": {
      "text/html": [
       "\n",
       "Датасет содержит информацию о 10000 ДТП, произошедших в различных регионах России. Он содержит следующие столбцы: index, datetime, lat, lon, parent_region, region, category, severity, participant_categories, participants_count, injured_count, dead_count, light и weather. Все столбцы имеют тип int64, float64, datetime64[ns] или object. В столбцах index, datetime, lat, lon, parent_region, region, category, severity, participant_categories, participants_count, injured_count, dead_count, light и weather есть 10000 уникальных значений."
      ],
      "text/plain": [
       "<IPython.core.display.HTML object>"
      ]
     },
     "metadata": {},
     "output_type": "display_data"
    },
    {
     "data": {
      "text/html": [
       "\n",
       "Датасет df_ содержит 10000 строк и 11 столбцов. Индекс является целочисленным значением, а дата и время - значениями datetime64[ns]. Координаты широты и долготы являются числами с плавающей точкой, а родительский регион, регион, категория, степень тяжести, категории участников, количество участников, количество пострадавших, количество погибших, освещение и погода - являются объектами. 85 уникальных родительских регионов, 1681 уникальных регионов, 17 уникальных категорий, 3 уник"
      ],
      "text/plain": [
       "<IPython.core.display.HTML object>"
      ]
     },
     "metadata": {},
     "output_type": "display_data"
    },
    {
     "name": "stdout",
     "output_type": "stream",
     "text": [
      "10000 77.90518808364868 0.59375\n"
     ]
    },
    {
     "data": {
      "text/html": [
       "\n",
       "Датасет содержит информацию о 20000 ДТП, произошедших в различных регионах России. Он содержит следующие столбцы: index, datetime, lat, lon, parent_region, region, category, severity, participant_categories, participants_count, injured_count, dead_count, light и weather. Типы данных включают int64, datetime64[ns], float64 и object. В столбцах index, parent_region, region, category, severity и participant_categories уникальные значения составляют 20000, 85, 1968, 18, 3 и 20 соответственно."
      ],
      "text/plain": [
       "<IPython.core.display.HTML object>"
      ]
     },
     "metadata": {},
     "output_type": "display_data"
    },
    {
     "data": {
      "text/html": [
       "\n",
       "Датасет содержит информацию о 20000 ДТП, произошедших в различных регионах России. Он содержит следующие столбцы: index, datetime, lat, lon, parent_region, region, category, severity, participant_categories, participants_count, injured_count, dead_count, light и weather. Типы данных включают int64, datetime64[ns], float64 и object. В столбцах index, parent_region, region, category, severity, participant_categories и light уникальные значения составляют 20000, 84, 1997, 18, 3, 18 и 6 соответственно."
      ],
      "text/plain": [
       "<IPython.core.display.HTML object>"
      ]
     },
     "metadata": {},
     "output_type": "display_data"
    },
    {
     "data": {
      "text/html": [
       "\n",
       "Датасет содержит информацию о 20000 ДТП, произошедших в различных регионах России. Он содержит следующие столбцы: index, datetime, lat, lon, parent_region, region, category, severity, participant_categories, participants_count, injured_count, dead_count, light и weather. Типы данных включают int64, datetime64[ns], float64 и object. В столбцах index, parent_region, region, category, severity, participant_categories, light и weather уникальные значения соответственно 20000, 84, 1982, 18, 3, 17 и 22."
      ],
      "text/plain": [
       "<IPython.core.display.HTML object>"
      ]
     },
     "metadata": {},
     "output_type": "display_data"
    },
    {
     "data": {
      "text/html": [
       "\n",
       "Датасет содержит информацию о 20000 ДТП, произошедших в различных регионах России. Он содержит следующие столбцы: index, datetime, lat, lon, parent_region, region, category, severity, participant_categories, participants_count, injured_count, dead_count, light и weather. Все столбцы имеют тип данных int64, datetime64[ns], float64 и object. В столбцах parent_region, region, category, severity, participant_categories, light и weather уникальные значения соответственно 85, 1989, 18, 3, 18, 5 и 22."
      ],
      "text/plain": [
       "<IPython.core.display.HTML object>"
      ]
     },
     "metadata": {},
     "output_type": "display_data"
    },
    {
     "data": {
      "text/html": [
       "\n",
       "Датасет содержит информацию о 20000 ДТП, произошедших в различных регионах России. Он содержит следующие столбцы: index, datetime, lat, lon, parent_region, region, category, severity, participant_categories, participants_count, injured_count, dead_count, light и weather. Типы данных включают int64, datetime64[ns], float64 и object. В столбцах index, parent_region, region, category, severity и participant_categories уникальные значения соответственно 20000, 85, 1972, 17, 3 и 18."
      ],
      "text/plain": [
       "<IPython.core.display.HTML object>"
      ]
     },
     "metadata": {},
     "output_type": "display_data"
    },
    {
     "data": {
      "text/html": [
       "\n",
       "Датасет содержит информацию о 20000 ДТП, произошедших в различных регионах России. Для каждого ДТП указаны дата и время, широта и долгота, регион, родительский регион, категория, степень тяжести, участники, количество участников, количество пострадавших и количество погибших, условия освещенности и погоды."
      ],
      "text/plain": [
       "<IPython.core.display.HTML object>"
      ]
     },
     "metadata": {},
     "output_type": "display_data"
    },
    {
     "name": "stdout",
     "output_type": "stream",
     "text": [
      "20000 66.97318530082703 1.15625\n"
     ]
    },
    {
     "data": {
      "text/html": [
       "\n",
       "Датасет содержит информацию о 40000 ДТП, произошедших в различных регионах России. Он содержит следующие столбцы: index, datetime, lat, lon, parent_region, region, category, severity, participant_categories, participants_count, injured_count, dead_count, light и weather. Все столбцы имеют тип данных int64, datetime64[ns], float64 и object соответственно. В столбцах parent_region, region, category, severity и participant_categories наблюдается многоуровневое разделение. Количество уникальных значений в столбцах parent_region, region, category, severity и participant_categories составляет 85, 2146, 18, 3 и 20 соответственно."
      ],
      "text/plain": [
       "<IPython.core.display.HTML object>"
      ]
     },
     "metadata": {},
     "output_type": "display_data"
    },
    {
     "data": {
      "text/html": [
       "\n",
       "Датасет содержит информацию о 40000 ДТП, произошедших в различных регионах России. Он содержит следующие столбцы: index, datetime, lat, lon, parent_region, region, category, severity, participant_categories, participants_count, injured_count, dead_count, light и weather. Типы данных различны: int64, datetime64[ns], float64 и object. В столбцах index, datetime, lat, lon нет повторяющихся значений. В столбцах parent_region, region, category, severity, participant_categories, light и weather уникальные значения составляют 85, 2137, 17, 3, 20, 6 и 26 соответственно."
      ],
      "text/plain": [
       "<IPython.core.display.HTML object>"
      ]
     },
     "metadata": {},
     "output_type": "display_data"
    },
    {
     "data": {
      "text/html": [
       "\n",
       "Датасет содержит информацию о 40000 ДТП, произошедших в различных регионах России. Он содержит следующие столбцы: index, datetime, lat, lon, parent_region, region, category, severity, participant_categories, participants_count, injured_count, dead_count, light и weather. Index - уникальный идентификатор ДТП. Datetime - дата и время происшествия. Lat - широта. Lon - долгота. Parent_region - родительская региональная единица. Region - регион. Category - категория ДТП. Severity - степень тяжести. Participant_categories - категория участников. Participants_count - количество участников. Injured_count - количество пострадавших. Dead_count - количество погибших. Light - условия освещенност"
      ],
      "text/plain": [
       "<IPython.core.display.HTML object>"
      ]
     },
     "metadata": {},
     "output_type": "display_data"
    },
    {
     "name": "stdout",
     "output_type": "stream",
     "text": [
      "Failed to use remote https://prompts.approx.dev.. 414 Client Error: Request-URI Too Large for url: https://prompts.approx.dev/prompt/ask_from_parts?dfname=df_&column_names=WyJpbmRleCIsICJkYXRldGltZSIsICJsYXQiLCAibG9uIiwgInBhcmVudF9yZWdpb24iLCAicmVnaW9uIiwgImNhdGVnb3J5IiwgInNldmVyaXR5IiwgInBhcnRpY2lwYW50X2NhdGVnb3JpZXMiLCAicGFydGljaXBhbnRzX2NvdW50IiwgImluanVyZWRfY291bnQiLCAiZGVhZF9jb3VudCIsICJsaWdodCIsICJ3ZWF0aGVyIl0%3D&data_types=WyJpbnQ2NCIsICJkYXRldGltZTY0W25zXSIsICJmbG9hdDY0IiwgImZsb2F0NjQiLCAib2JqZWN0IiwgIm9iamVjdCIsICJvYmplY3QiLCAib2JqZWN0IiwgIm9iamVjdCIsICJpbnQ2NCIsICJpbnQ2NCIsICJpbnQ2NCIsICJvYmplY3QiLCAib2JqZWN0Il0%3D&extras=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%3D%3D&question=%D0%9E%D0%BF%D0%B8%D1%88%D0%B8+%D0%B4%D0%B0%D1%82%D0%B0%D1%81%D0%B5%D1%82. \n",
      "Consider setting SKETCH_USE_REMOTE_LAMBDAPROMPT=False \n",
      "and run with your own open-ai key\n",
      "\n"
     ]
    },
    {
     "data": {
      "text/html": [
       "SKETCH ERROR - see print logs for full error"
      ],
      "text/plain": [
       "<IPython.core.display.HTML object>"
      ]
     },
     "metadata": {},
     "output_type": "display_data"
    },
    {
     "data": {
      "text/html": [
       "\n",
       "Датасет содержит информацию о 40000 ДТП, произошедших в различных регионах России. Он содержит следующие столбцы: index, datetime, lat, lon, parent_region, region, category, severity, participant_categories, participants_count, injured_count, dead_count, light и weather. Все столбцы имеют тип int64 или object. Index - уникальный идентификатор ДТП. Datetime - дата и время происшествия. Lat - широта. Lon - долгота. Parent_region - родительский регион. Region - регион. Category - категория ДТП. Severity - тяжесть ДТП. Participant_categories - категория участников. Participants_count - количество участников. Injured_count - количество раненых. Dead_count - количество погибших. Light - условия о"
      ],
      "text/plain": [
       "<IPython.core.display.HTML object>"
      ]
     },
     "metadata": {},
     "output_type": "display_data"
    },
    {
     "data": {
      "text/html": [
       "\n",
       "Датасет содержит информацию о 40000 ДТП, произошедших в различных регионах России. Он содержит следующие столбцы: index, datetime, lat, lon, parent_region, region, category, severity, participant_categories, participants_count, injured_count, dead_count, light и weather. Все столбцы имеют тип данных int64, datetime64[ns], float64 или object. Количество уникальных значений в столбцах parent_region, region, category, severity, participant_categories, light и weather составляет 85, 2160, 18, 3, 20, 6 и 28 соответственно."
      ],
      "text/plain": [
       "<IPython.core.display.HTML object>"
      ]
     },
     "metadata": {},
     "output_type": "display_data"
    },
    {
     "name": "stdout",
     "output_type": "stream",
     "text": [
      "40000 75.4459240436554 1.875\n"
     ]
    },
    {
     "data": {
      "text/html": [
       "\n",
       "Датасет содержит информацию о 60000 ДТП, произошедших в различных регионах России. Он содержит следующие столбцы: index, datetime, lat, lon, parent_region, region, category, severity, participant_categories, participants_count, injured_count, dead_count, light и weather. Типы данных включают int64, datetime64[ns], float64 и object. Количество уникальных значений для различных столбцов различается. Например, parent_region содержит 85 уникальных значений, region - 2211, category - 18, severity - 3."
      ],
      "text/plain": [
       "<IPython.core.display.HTML object>"
      ]
     },
     "metadata": {},
     "output_type": "display_data"
    },
    {
     "data": {
      "text/html": [
       "\n",
       "Датасет содержит информацию о 60000 ДТП, произошедших в различных регионах России. Он содержит следующие столбцы: index, datetime, lat, lon, parent_region, region, category, severity, participant_categories, participants_count, injured_count, dead_count, light и weather. Типы данных включают int64, datetime64[ns], float64 и object. Индексом является столбец index. В столбцах parent_region, region, category, severity, participant_categories, light и weather уникальные значения."
      ],
      "text/plain": [
       "<IPython.core.display.HTML object>"
      ]
     },
     "metadata": {},
     "output_type": "display_data"
    },
    {
     "data": {
      "text/html": [
       "\n",
       "Датасет содержит информацию о 60000 ДТП, произошедших в различных регионах России. Он содержит следующие столбцы: index, datetime, lat, lon, parent_region, region, category, severity, participant_categories, participants_count, injured_count, dead_count, light и weather. Типы данных различны: int64, datetime64[ns], float64 и object. В столбцах index, parent_region, region, category, severity и participant_categories уникальные значения. Значения в столбцах head-sample и quantiles представляют собой примеры и квантили соответствующих столбцов."
      ],
      "text/plain": [
       "<IPython.core.display.HTML object>"
      ]
     },
     "metadata": {},
     "output_type": "display_data"
    },
    {
     "data": {
      "text/html": [
       "\n",
       "Датасет содержит информацию о 60000 ДТП, произошедших в различных регионах России. Он содержит следующие столбцы: index, datetime, lat, lon, parent_region, region, category, severity, participant_categories, participants_count, injured_count, dead_count, light и weather. Типы данных различны: int64, datetime64[ns], float64 и object. Индексом является столбец index. В столбцах parent_region, region, category, severity и participant_categories наблюдается большое разнообразие значений. Квантили распределения указывают на равномерное распределение данных."
      ],
      "text/plain": [
       "<IPython.core.display.HTML object>"
      ]
     },
     "metadata": {},
     "output_type": "display_data"
    },
    {
     "data": {
      "text/html": [
       "\n",
       "Датасет содержит информацию о 60000 ДТП, произошедших в России. Он содержит следующие столбцы: index, datetime, lat, lon, parent_region, region, category, severity, participant_categories, participants_count, injured_count, dead_count, light и weather. Типы данных различны: int64, datetime64[ns], float64 и object. Индексом является столбец index. В столбцах parent_region, region, category, severity, participant_categories, light и weather уникальные значения. Для каждого столбца приведены примеры значений (head-sample) и квантили (quantiles)."
      ],
      "text/plain": [
       "<IPython.core.display.HTML object>"
      ]
     },
     "metadata": {},
     "output_type": "display_data"
    },
    {
     "data": {
      "text/html": [
       "\n",
       "Датасет содержит информацию о 60000 ДТП, произошедших в различных регионах России. Он содержит следующие столбцы: index, datetime, lat, lon, parent_region, region, category, severity, participant_categories, participants_count, injured_count, dead_count, light и weather. Типы данных включают int64, datetime64[ns], float64 и object. Индексом является столбец index. В столбцах parent_region, region, category, severity и participant_categories уникальные значения соответственно 85, 2210, 18, 3 и 20. Квантили распределения соответствующих столбцов - 15.0, 320562.0, 642298.5, 962011.25 и 1281336.0."
      ],
      "text/plain": [
       "<IPython.core.display.HTML object>"
      ]
     },
     "metadata": {},
     "output_type": "display_data"
    },
    {
     "name": "stdout",
     "output_type": "stream",
     "text": [
      "60000 84.72787714004517 2.78125\n"
     ]
    },
    {
     "data": {
      "text/html": [
       "\n",
       "Датасет содержит 80000 строк и 11 столбцов. Индекс является целочисленным значением, а дата и время - значениями datetime64[ns]. Данные о широте, долготе, родительском регионе, регионе, категории, степени тяжести, категориях участников, количестве участников, количестве пострадавших, количестве погибших, условиях освещения и погоды - являются значениями float64, object, int64. 85 уникальных значений parent_region, 2235 - region, 18 - category, 3 - severity, 23 - participant_categories, 28 - participants_count, 24 - injured_count, 10 - dead_count, 6 - light и 28 - weather.\n"
      ],
      "text/plain": [
       "<IPython.core.display.HTML object>"
      ]
     },
     "metadata": {},
     "output_type": "display_data"
    },
    {
     "data": {
      "text/html": [
       "\n",
       "Датасет содержит информацию о 80000 ДТП, произошедших в России. Он содержит следующие столбцы: index, datetime, lat, lon, parent_region, region, category, severity, participant_categories, participants_count, injured_count, dead_count, light и weather. Index - уникальный идентификатор ДТП. Datetime - дата и время происшествия. Lat и lon - широта и долгота. Parent_region - регион. Region - район. Category - тип ДТП. Severity - тяжесть происшествия. Participant_categories - участники ДТП. Participants_count - количество участников. Injured_count - количество раненых. Dead_count - количество погибших. Light - условия освещенности. Weather - погодные условия."
      ],
      "text/plain": [
       "<IPython.core.display.HTML object>"
      ]
     },
     "metadata": {},
     "output_type": "display_data"
    },
    {
     "data": {
      "text/html": [
       "\n",
       "Датасет содержит информацию о 80000 ДТП, произошедших в различных регионах России. Он содержит следующие столбцы: index, datetime, lat, lon, parent_region, region, category, severity, participant_categories, participants_count, injured_count, dead_count, light и weather. Типы данных включают int64, datetime64[ns], float64 и object. В столбцах index, datetime, lat, lon и participants_count нет пропусков. В столбцах parent_region, region, category, severity, participant_categories и light уникальные значения составляют 85, 2231, 18, 3, 21 и 5 соответственно."
      ],
      "text/plain": [
       "<IPython.core.display.HTML object>"
      ]
     },
     "metadata": {},
     "output_type": "display_data"
    },
    {
     "data": {
      "text/html": [
       "\n",
       "Датасет содержит 80000 строк и 11 столбцов. Индекс является целочисленным значением, а дата и время - значениями datetime64[ns]. Координаты широты и долготы являются значениями float64, а родительская область, регион, категория, степень тяжести, участники категорий, участники, раненые и погибшие - значениями object. В столбцах parent_region, region, category, severity, participant_categories, light, weather уникальных значений 85, 2233, 18, 3, 21, 6 и 30 соответственно.\n"
      ],
      "text/plain": [
       "<IPython.core.display.HTML object>"
      ]
     },
     "metadata": {},
     "output_type": "display_data"
    },
    {
     "data": {
      "text/html": [
       "\n",
       "Датасет содержит 80000 строк и 11 столбцов. Индекс является целочисленным значением, а остальные столбцы содержат данные различных типов. Столбцы datetime, lat, lon, parent_region, region, category, severity, participant_categories, participants_count, injured_count и dead_count содержат как уникальные, так и неуникальные значения. Столбцы light и weather содержат только уникальные значения."
      ],
      "text/plain": [
       "<IPython.core.display.HTML object>"
      ]
     },
     "metadata": {},
     "output_type": "display_data"
    },
    {
     "data": {
      "text/html": [
       "\n",
       "Датасет содержит 80000 строк и 11 столбцов. Индекс является целочисленным значением, а дата и время - значениями datetime64[ns]. Координаты широты и долготы - числа с плавающей точкой, а родительский регион, регион, категория, степень тяжести, категория участников, количество участников, количество пострадавших, количество погибших, освещение и погода - строковыми. 85 уникальных родительских регионов, 2232 уникальных регионов, 18 уникальных категорий, 3 уникальных степени тяжес"
      ],
      "text/plain": [
       "<IPython.core.display.HTML object>"
      ]
     },
     "metadata": {},
     "output_type": "display_data"
    },
    {
     "name": "stdout",
     "output_type": "stream",
     "text": [
      "80000 89.92206692695618 3.625\n"
     ]
    },
    {
     "data": {
      "text/html": [
       "\n",
       "Датасет содержит информацию о 100000 ДТП, произошедших в различных регионах России. Он содержит следующие столбцы: index, datetime, lat, lon, parent_region, region, category, severity, participant_categories, participants_count, injured_count, dead_count, light и weather. Типы данных различны: int64, datetime64[ns], float64 и object. Все столбцы имеют 100000 уникальных значений. Например, parent_region содержит 85 уникальных значений."
      ],
      "text/plain": [
       "<IPython.core.display.HTML object>"
      ]
     },
     "metadata": {},
     "output_type": "display_data"
    },
    {
     "data": {
      "text/html": [
       "\n",
       "Датасет содержит информацию о 100000 ДТП, произошедших в различных регионах России. Он содержит следующие столбцы: index, datetime, lat, lon, parent_region, region, category, severity, participant_categories, participants_count, injured_count, dead_count, light и weather. Index - уникальный идентификатор ДТП. Datetime - дата и время происшествия. Lat - широта. Lon - долгота. Parent_region - родительская региональная единица. Region - регион. Category - категория ДТП. Severity - степень тяжести. Participant_categories - категория участников. Participants_count - количество участников. Injured_count - количество пострадавших. Dead_count - количество погибших. Light - условия освещенност"
      ],
      "text/plain": [
       "<IPython.core.display.HTML object>"
      ]
     },
     "metadata": {},
     "output_type": "display_data"
    },
    {
     "data": {
      "text/html": [
       "\n",
       "Датасет содержит информацию о 100000 ДТП, произошедших в различных регионах России. Он содержит следующие столбцы: index, datetime, lat, lon, parent_region, region, category, severity, participant_categories, participants_count, injured_count, dead_count, light и weather. Все столбцы имеют тип данных int64, datetime64[ns], float64 и object. В столбцах parent_region, region, category, severity и participant_categories уникальные значения соответственно 85, 2239, 18, 3 и 22."
      ],
      "text/plain": [
       "<IPython.core.display.HTML object>"
      ]
     },
     "metadata": {},
     "output_type": "display_data"
    },
    {
     "data": {
      "text/html": [
       "\n",
       "Датасет содержит информацию о 100000 ДТП, произошедших в различных регионах России. Он содержит следующие столбцы: index, datetime, lat, lon, parent_region, region, category, severity, participant_categories, participants_count, injured_count, dead_count, light и weather. Index - уникальный идентификатор ДТП. Datetime - дата и время происшествия. Lat и lon - широта и долгота. Parent_region - родительский регион. Region - регион. Category - категория ДТП. Severity - тяжесть. Participant_categories - категория участников. Participants_count - количество участников. Injured_count - количество пострадавших. Dead_count - количество погибших. Light - условия освещенности. Weather - погодные услови"
      ],
      "text/plain": [
       "<IPython.core.display.HTML object>"
      ]
     },
     "metadata": {},
     "output_type": "display_data"
    },
    {
     "data": {
      "text/html": [
       "\n",
       "Датасет содержит информацию о 100000 ДТП, произошедших в различных регионах России. Он содержит следующие столбцы: index, datetime, lat, lon, parent_region, region, category, severity, participant_categories, participants_count, injured_count, dead_count, light и weather. Index - уникальный идентификатор ДТП. Datetime - дата и время происшествия. Lat и lon - широта и долгота. Parent_region - родительская региональная единица. Region - регион. Category - категория ДТП. Severity - степень тяжести. Participant_categories - категория участников. Participants_count - количество участников. Injured_count - количество пострадавших. Dead_count - количество погибших. Light - условия освещенн"
      ],
      "text/plain": [
       "<IPython.core.display.HTML object>"
      ]
     },
     "metadata": {},
     "output_type": "display_data"
    },
    {
     "data": {
      "text/html": [
       "\n",
       "Датасет содержит информацию о 100000 ДТП, произошедших в России. Он содержит следующие столбцы: index, datetime, lat, lon, parent_region, region, category, severity, participant_categories, participants_count, injured_count, dead_count, light и weather. Типы данных различны: int64, datetime64[ns], float64 и object. В столбцах parent_region, region, category, severity и participant_categories уникальные значения соответственно 85, 2238, 18, 3 и 20."
      ],
      "text/plain": [
       "<IPython.core.display.HTML object>"
      ]
     },
     "metadata": {},
     "output_type": "display_data"
    },
    {
     "name": "stdout",
     "output_type": "stream",
     "text": [
      "100000 90.04323720932007 4.59375\n"
     ]
    },
    {
     "data": {
      "text/html": [
       "\n",
       "Датасет содержит информацию о 150000 ДТП, произошедших в России. Он содержит следующие столбцы: index, datetime, lat, lon, parent_region, region, category, severity, participant_categories, participants_count, injured_count, dead_count, light и weather. Все столбцы являются различными типами данных: int64, datetime64[ns], float64, object. В столбцах parent_region, region, category, severity и participant_categories наблюдается большое разнообразие значений."
      ],
      "text/plain": [
       "<IPython.core.display.HTML object>"
      ]
     },
     "metadata": {},
     "output_type": "display_data"
    },
    {
     "data": {
      "text/html": [
       "\n",
       "Датасет содержит информацию о 150000 ДТП, произошедших в России. Он содержит следующие столбцы: index, datetime, lat, lon, parent_region, region, category, severity, participant_categories, participants_count, injured_count, dead_count, light и weather. Типы данных различны: int64, datetime64[ns], float64 и object. Индексом является столбец index. В столбцах parent_region, region, category, severity, participant_categories, light и weather уникальные значения различаются. В столбцах participants_count, injured_count и dead_count распределение значений различается."
      ],
      "text/plain": [
       "<IPython.core.display.HTML object>"
      ]
     },
     "metadata": {},
     "output_type": "display_data"
    },
    {
     "data": {
      "text/html": [
       "\n",
       "Датасет содержит информацию о 150000 ДТП, произошедших в различных регионах России. Он содержит следующие столбцы: index, datetime, lat, lon, parent_region, region, category, severity, participant_categories, participants_count, injured_count, dead_count, light и weather. Все столбцы имеют типы данных int64, datetime64[ns], float64 и object. В столбцах parent_region, region, category, severity, participant_categories, light и weather уникальные значения соответственно 85, 2258, 18, 3, 20, 6 и 30."
      ],
      "text/plain": [
       "<IPython.core.display.HTML object>"
      ]
     },
     "metadata": {},
     "output_type": "display_data"
    },
    {
     "data": {
      "text/html": [
       "\n",
       "Датасет содержит информацию о 150000 ДТП, произошедших в России. Он содержит следующие столбцы: index, datetime, lat, lon, parent_region, region, category, severity, participant_categories, participants_count, injured_count, dead_count, light и weather. Типы данных различны: int64, datetime64[ns], float64 и object. В столбцах parent_region, region, category, severity и participant_categories уникальные значения соответственно 85, 2255, 18, 3 и 21."
      ],
      "text/plain": [
       "<IPython.core.display.HTML object>"
      ]
     },
     "metadata": {},
     "output_type": "display_data"
    },
    {
     "data": {
      "text/html": [
       "\n",
       "Датасет содержит информацию о 150000 ДТП, произошедших в различных регионах России. Он содержит следующие столбцы: index, datetime, lat, lon, parent_region, region, category, severity, participant_categories, participants_count, injured_count, dead_count, light и weather. Типы данных включают int64, datetime64[ns], float64 и object. В столбцах index, datetime, lat, lon и participants_count нет пропусков. В столбцах parent_region, region, category, severity, participant_categories, injured_count и dead_count уникальные значения составляют 85, 2254, 18, 3, 25, 29 и 13 соответственно."
      ],
      "text/plain": [
       "<IPython.core.display.HTML object>"
      ]
     },
     "metadata": {},
     "output_type": "display_data"
    },
    {
     "data": {
      "text/html": [
       "\n",
       "Датасет содержит информацию о 150000 ДТП, произошедших в различных регионах России. Он содержит следующие столбцы: index, datetime, lat, lon, parent_region, region, category, severity, participant_categories, participants_count, injured_count, dead_count, light и weather. Типы данных различны: int64, datetime64[ns], float64 и object. В столбцах parent_region, region, category, severity, participant_categories, light и weather уникальные значения соответственно 85, 2252, 18, 3, 22, 6 и 31."
      ],
      "text/plain": [
       "<IPython.core.display.HTML object>"
      ]
     },
     "metadata": {},
     "output_type": "display_data"
    },
    {
     "name": "stdout",
     "output_type": "stream",
     "text": [
      "150000 78.56763124465942 6.515625\n"
     ]
    },
    {
     "data": {
      "text/html": [
       "\n",
       "Датасет содержит информацию о 200000 ДТП, произошедших в различных регионах России. Он содержит следующие столбцы: index, datetime, lat, lon, parent_region, region, category, severity, participant_categories, participants_count, injured_count, dead_count, light и weather. Все столбцы имеют типы int64, datetime64[ns], float64 и object. В столбцах parent_region, region, category, severity, participant_categories, light и weather уникальные значения соответственно 85, 2259, 18, 3, 24, 6 и 30."
      ],
      "text/plain": [
       "<IPython.core.display.HTML object>"
      ]
     },
     "metadata": {},
     "output_type": "display_data"
    },
    {
     "data": {
      "text/html": [
       "\n",
       "Датасет содержит информацию о 200000 ДТП, произошедших в различных регионах России. Он содержит следующие столбцы: index, datetime, lat, lon, parent_region, region, category, severity, participant_categories, participants_count, injured_count, dead_count, light и weather. Index - уникальный идентификатор ДТП. Datetime - дата и время происшествия. Lat и lon - широта и долгота. Parent_region - родительский регион. Region - регион. Category - категория ДТП. Severity - степень тяжести. Participant_categories - категория участников. Participants_count - количество участников. Injured_count - количество пострадавших. Dead_count - количество погибших. Light - условия освещенности. Weather - погодн"
      ],
      "text/plain": [
       "<IPython.core.display.HTML object>"
      ]
     },
     "metadata": {},
     "output_type": "display_data"
    },
    {
     "data": {
      "text/html": [
       "\n",
       "Датасет содержит информацию о 200000 ДТП, произошедших в России. Он содержит следующие столбцы: index, datetime, lat, lon, parent_region, region, category, severity, participant_categories, participants_count, injured_count, dead_count, light и weather. Index - уникальный идентификатор каждого ДТП. Datetime - дата и время события. Lat и lon - широта и долгота события. Parent_region - регион, в котором произошло событие. Region - район, в котором произошло событие. Category - тип события. Severity - уровень тяжести. Participant_categories - категория участников. Participants_count - количество участников. Injured_count - количество пострадавших. Dead_count - количество погибших. Light - ус"
      ],
      "text/plain": [
       "<IPython.core.display.HTML object>"
      ]
     },
     "metadata": {},
     "output_type": "display_data"
    },
    {
     "data": {
      "text/html": [
       "\n",
       "Датасет содержит информацию о 200000 ДТП, произошедших в различных регионах России. Он содержит следующие столбцы: index, datetime, lat, lon, parent_region, region, category, severity, participant_categories, participants_count, injured_count, dead_count, light и weather. Все столбцы имеют тип данных int64, datetime64[ns], float64 и object. В столбцах parent_region, region, category, severity, participant_categories, light и weather уникальные значения соответственно 85, 2263, 18, 3, 22 и 30."
      ],
      "text/plain": [
       "<IPython.core.display.HTML object>"
      ]
     },
     "metadata": {},
     "output_type": "display_data"
    },
    {
     "data": {
      "text/html": [
       "\n",
       "Датасет содержит информацию о 200000 ДТП, произошедших в России. Он содержит следующие столбцы: index, datetime, lat, lon, parent_region, region, category, severity, participant_categories, participants_count, injured_count, dead_count, light и weather. Типы данных различны: int64, datetime64[ns], float64 и object. В столбцах index, datetime, lat, lon нет повторяющихся значений. В столбцах parent_region, region, category, severity, participant_categories, light и weather уникальные значения составляют 85, 2266, 18, 3, 22 и 32 соответственно."
      ],
      "text/plain": [
       "<IPython.core.display.HTML object>"
      ]
     },
     "metadata": {},
     "output_type": "display_data"
    },
    {
     "data": {
      "text/html": [
       "\n",
       "Датасет содержит информацию о 200000 ДТП, произошедших в различных регионах России. Он содержит следующие столбцы: index, datetime, lat, lon, parent_region, region, category, severity, participant_categories, participants_count, injured_count, dead_count, light и weather. Index - уникальный идентификатор каждого ДТП. Datetime - дата и время происшествия. Lat и lon - широта и долгота. Parent_region - родительская региональная единица. Region - регион. Category - категория ДТП. Severity - степень тяжести. Participant_categories - категория участников. Participants_count - количество участников. Injured_count - количество пострадавших. Dead_count - количество погибших. Light - условия"
      ],
      "text/plain": [
       "<IPython.core.display.HTML object>"
      ]
     },
     "metadata": {},
     "output_type": "display_data"
    },
    {
     "name": "stdout",
     "output_type": "stream",
     "text": [
      "200000 92.61955308914185 8.953125\n"
     ]
    },
    {
     "data": {
      "text/html": [
       "\n",
       "Датасет содержит информацию о 250000 ДТП, произошедших в различных регионах России. Он содержит следующие столбцы: index, datetime, lat, lon, parent_region, region, category, severity, participant_categories, participants_count, injured_count, dead_count, light и weather. Типы данных различны: int64, datetime64[ns], float64 и object. В столбцах parent_region, region, category, severity и participant_categories наблюдается 250000 уникальных значений. Значения в столбцах participants_count, injured_count и dead_count могут быть от 0 до 50."
      ],
      "text/plain": [
       "<IPython.core.display.HTML object>"
      ]
     },
     "metadata": {},
     "output_type": "display_data"
    },
    {
     "data": {
      "text/html": [
       "\n",
       "Датасет содержит информацию о 250000 ДТП, произошедших в России. Он содержит следующие столбцы: index, datetime, lat, lon, parent_region, region, category, severity, participant_categories, participants_count, injured_count, dead_count, light и weather. Типы данных различны: int64, datetime64[ns], float64 и object. Индексом является столбец index. В столбцах parent_region, region, category, severity и participant_categories уникальные значения."
      ],
      "text/plain": [
       "<IPython.core.display.HTML object>"
      ]
     },
     "metadata": {},
     "output_type": "display_data"
    },
    {
     "data": {
      "text/html": [
       "\n",
       "Датасет содержит информацию о 250000 ДТП, произошедших в России. Он содержит следующие столбцы: index, datetime, lat, lon, parent_region, region, category, severity, participant_categories, participants_count, injured_count, dead_count, light и weather. Типы данных различны: int64, datetime64[ns], float64 и object. Индексом является столбец index. В столбцах parent_region, region, category, severity и participant_categories уникальные значения соответственно 85, 2268, 18, 3 и 21."
      ],
      "text/plain": [
       "<IPython.core.display.HTML object>"
      ]
     },
     "metadata": {},
     "output_type": "display_data"
    },
    {
     "data": {
      "text/html": [
       "\n",
       "Датасет содержит информацию о 250000 ДТП, произошедших в России. Он содержит следующие столбцы: index, datetime, lat, lon, parent_region, region, category, severity, participant_categories, participants_count, injured_count, dead_count, light и weather. Типы данных различны: int64, datetime64[ns], float64 и object. В столбцах parent_region, region, category, severity и participant_categories уникальные значения соответственно 85, 2264, 18, 3 и 22."
      ],
      "text/plain": [
       "<IPython.core.display.HTML object>"
      ]
     },
     "metadata": {},
     "output_type": "display_data"
    },
    {
     "data": {
      "text/html": [
       "\n",
       "Датасет содержит 250000 строк и 12 столбцов. Индекс является целочисленным значением, а дата и время - значениями datetime64[ns]. Координаты широты и долготы - числами с плавающей точкой. Родительский регион, регион, категория, степень тяжести, категория участников, количество участников, количество пострадавших, количество погибших, светлое/темное время суток, погода - являются объектами.\n",
       "\n",
       "В этом датасете 85 уникальных родительских регионов, 2269 уникальных регионов, 18 уникальн"
      ],
      "text/plain": [
       "<IPython.core.display.HTML object>"
      ]
     },
     "metadata": {},
     "output_type": "display_data"
    },
    {
     "data": {
      "text/html": [
       "\n",
       "Датасет содержит 250000 строк и 11 столбцов. Индекс является целочисленным значением, а дата и время - значениями datetime64[ns]. Координаты широты и долготы - числами с плавающей точкой, а родительский регион, регион, категория, степень тяжести, категория участников, количество участников, количество пострадавших, количество погибших, освещение и погода - строковыми.\n",
       "\n",
       "В столбцах parent_region, region, category, severity, participant_categories, light и weather уникальных значений 85, 2263, 18, 3, 23, 6 и 31 соответственно.\n",
       "\n",
       "Квантиль 0.25 (25%) - 320208.25; 0.5 ("
      ],
      "text/plain": [
       "<IPython.core.display.HTML object>"
      ]
     },
     "metadata": {},
     "output_type": "display_data"
    },
    {
     "name": "stdout",
     "output_type": "stream",
     "text": [
      "250000 86.17969298362732 11.109375\n"
     ]
    },
    {
     "data": {
      "text/html": [
       "\n",
       "Датасет содержит информацию о 300000 ДТП, произошедших в различных регионах России. Он содержит следующие столбцы: index, datetime, lat, lon, parent_region, region, category, severity, participant_categories, participants_count, injured_count, dead_count, light и weather. Типы данных включают int64, datetime64[ns], float64 и object. В столбцах index, datetime, lat, lon и participants_count нет пропусков. В столбцах parent_region, region, category, severity, participant_categories, injured_count и dead_count есть пропуски."
      ],
      "text/plain": [
       "<IPython.core.display.HTML object>"
      ]
     },
     "metadata": {},
     "output_type": "display_data"
    },
    {
     "data": {
      "text/html": [
       "\n",
       "Датасет содержит информацию о 300000 ДТП, произошедших в различных регионах России. Он содержит следующие столбцы: index, datetime, lat, lon, parent_region, region, category, severity, participant_categories, participants_count, injured_count, dead_count, light и weather. Index - уникальный идентификатор ДТП. Datetime - дата и время происшествия. Lat и lon - широта и долгота. Parent_region - родительская региональная единица. Region - регион. Category - категория ДТП. Severity - степень тяжести. Participant_categories - категория участников. Participants_count - количество участников. Injured_count - количество пострадавших. Dead_count - количество погибших. Light - условия освещенн"
      ],
      "text/plain": [
       "<IPython.core.display.HTML object>"
      ]
     },
     "metadata": {},
     "output_type": "display_data"
    },
    {
     "data": {
      "text/html": [
       "\n",
       "Датасет содержит информацию о 300000 ДТП, произошедших в России. Он содержит следующие столбцы: index, datetime, lat, lon, parent_region, region, category, severity, participant_categories, participants_count, injured_count, dead_count, light и weather. Типы данных различны: int64, datetime64[ns], float64 и object. Индексом является столбец index. В столбцах parent_region, region, category, severity, participant_categories, light и weather уникальные значения."
      ],
      "text/plain": [
       "<IPython.core.display.HTML object>"
      ]
     },
     "metadata": {},
     "output_type": "display_data"
    },
    {
     "data": {
      "text/html": [
       "\n",
       "Датасет содержит информацию о 300000 ДТП, произошедших в различных регионах России. Он содержит следующие столбцы: index, datetime, lat, lon, parent_region, region, category, severity, participant_categories, participants_count, injured_count, dead_count, light и weather. Все столбцы являются типом int64 или object. Индекс датасета - int64. В датасете 300000 строк. Количество уникальных значений различных столбцов равно: parent_region - 85; region - 2270; category - 18; severity - 3; participant_categories - 23; participants_count - 40; injured_count - 35; dead_count - 16; light - 6; weather - 30."
      ],
      "text/plain": [
       "<IPython.core.display.HTML object>"
      ]
     },
     "metadata": {},
     "output_type": "display_data"
    },
    {
     "data": {
      "text/html": [
       "\n",
       "Датасет содержит информацию о 300000 ДТП, произошедших в различных регионах России. Он содержит следующие столбцы: index, datetime, lat, lon, parent_region, region, category, severity, participant_categories, participants_count, injured_count, dead_count, light и weather. Все столбцы имеют типы int64, datetime64[ns], float64 и object. В столбцах parent_region, region, category, severity и participant_categories наблюдается большое разнообразие значений."
      ],
      "text/plain": [
       "<IPython.core.display.HTML object>"
      ]
     },
     "metadata": {},
     "output_type": "display_data"
    },
    {
     "data": {
      "text/html": [
       "\n",
       "Датасет содержит информацию о 300000 ДТП, произошедших в различных регионах России. Он содержит следующие столбцы: index, datetime, lat, lon, parent_region, region, category, severity, participant_categories, participants_count, injured_count, dead_count, light и weather. Типы данных включают int64, datetime64[ns], float64 и object. В столбцах index, datetime, lat, lon и participants_count нет пропусков. В столбцах parent_region, region, category, severity, participant_categories, injured_count и dead_count уникальные значения составляют 85, 2270, 18, 3, 23, 32 и 11 соответственно."
      ],
      "text/plain": [
       "<IPython.core.display.HTML object>"
      ]
     },
     "metadata": {},
     "output_type": "display_data"
    },
    {
     "name": "stdout",
     "output_type": "stream",
     "text": [
      "300000 90.5446035861969 13.109375\n"
     ]
    },
    {
     "data": {
      "text/html": [
       "\n",
       "Датасет содержит информацию о 350000 ДТП, произошедших в России. Он содержит следующие столбцы: index, datetime, lat, lon, parent_region, region, category, severity, participant_categories, participants_count, injured_count, dead_count, light и weather. Типы данных различны: int64, datetime64[ns], float64 и object. В столбцах index, datetime, lat, lon нет повторяющихся значений. В столбцах parent_region, region, category, severity, participant_categories, light и weather уникальные значения соответственно 85, 2275, 18, 3, 22 и 31."
      ],
      "text/plain": [
       "<IPython.core.display.HTML object>"
      ]
     },
     "metadata": {},
     "output_type": "display_data"
    },
    {
     "data": {
      "text/html": [
       "\n",
       "Датасет содержит 350000 строк и 11 столбцов. Индекс является целочисленным значением, а дата и время - значениями datetime64[ns]. Координаты широты и долготы являются значениями float64. Столбцы parent_region, region, category, severity, participant_categories, light и weather содержат объекты. Столбцы participants_count, injured_count и dead_count содержат целочисленные значения."
      ],
      "text/plain": [
       "<IPython.core.display.HTML object>"
      ]
     },
     "metadata": {},
     "output_type": "display_data"
    },
    {
     "data": {
      "text/html": [
       "\n",
       "Датасет содержит информацию о 350000 авариях, произошедших в различных регионах России. Для каждой аварии указаны дата и время, широта и долгота, регион, родительский регион, категория, степень тяжести, категория участников, количество участников, количество пострадавших и количество погибших, условия освещенности и погоды."
      ],
      "text/plain": [
       "<IPython.core.display.HTML object>"
      ]
     },
     "metadata": {},
     "output_type": "display_data"
    },
    {
     "data": {
      "text/html": [
       "\n",
       "Датасет содержит 350000 строк и 11 столбцов. Индекс является целочисленным значением, а дата и время - значениями datetime64[ns]. Координаты широты и долготы - числами с плавающей точкой, родительский регион, регион, категория, степень тяжести, категория участников, количество участников, количество пострадавших, количество погибших, освещение и погода - строковыми значениями.\n",
       "\n",
       "В столбцах index, datetime, lat, lon, parent_region, region, category, severity, participant_categories, participants_count, injured_count, dead_count, light и weather уникальных значений 350000, 272564, 267783, 291334, 85, 2272, 18, 3, 24,"
      ],
      "text/plain": [
       "<IPython.core.display.HTML object>"
      ]
     },
     "metadata": {},
     "output_type": "display_data"
    },
    {
     "data": {
      "text/html": [
       "\n",
       "Датасет содержит информацию о 350000 ДТП, произошедших в различных регионах России. Он содержит следующие столбцы: index, datetime, lat, lon, parent_region, region, category, severity, participant_categories, participants_count, injured_count, dead_count, light и weather. Типы данных различны: int64, datetime64[ns], float64 и object. В столбцах index, parent_region, region, category, severity, participant_categories и light уникальные значения соответственно 350000, 85, 2268, 18, 3, 24 и 6."
      ],
      "text/plain": [
       "<IPython.core.display.HTML object>"
      ]
     },
     "metadata": {},
     "output_type": "display_data"
    },
    {
     "data": {
      "text/html": [
       "\n",
       "Датасет содержит информацию о 350000 ДТП, произошедших в различных регионах России. Он содержит следующие столбцы: index, datetime, lat, lon, parent_region, region, category, severity, participant_categories, participants_count, injured_count, dead_count, light и weather. Все столбцы имеют тип данных int64, datetime64[ns], float64 и object. В столбцах parent_region, region, category, severity и participant_categories уникальные значения соответственно 85, 2272, 18, 3 и 22."
      ],
      "text/plain": [
       "<IPython.core.display.HTML object>"
      ]
     },
     "metadata": {},
     "output_type": "display_data"
    },
    {
     "name": "stdout",
     "output_type": "stream",
     "text": [
      "350000 86.47099900245667 15.390625\n"
     ]
    },
    {
     "data": {
      "text/html": [
       "\n",
       "Датасет содержит информацию о 400000 ДТП, произошедших в России. Он содержит следующие столбцы: index, datetime, lat, lon, parent_region, region, category, severity, participant_categories, participants_count, injured_count, dead_count, light и weather. Index - уникальный идентификатор каждого ДТП. Datetime - дата и время события. Lat и lon - широта и долгота события. Parent_region - регион, в котором произошло событие. Region - район, в котором произошло событие. Category - тип события. Severity - уровень тяжести. Participant_categories - категория участников. Participants_count - количество участников. Injured_count - количество раненых. Dead_count - количество погибших. Light - условия"
      ],
      "text/plain": [
       "<IPython.core.display.HTML object>"
      ]
     },
     "metadata": {},
     "output_type": "display_data"
    },
    {
     "data": {
      "text/html": [
       "\n",
       "Датасет содержит информацию о 400000 ДТП, произошедших в различных регионах России. Он содержит следующие столбцы: index, datetime, lat, lon, parent_region, region, category, severity, participant_categories, participants_count, injured_count, dead_count, light и weather. Типы данных включают int64, datetime64[ns], float64 и object. В столбцах index, datetime, lat, lon и participants_count нет повторяющихся значений. В столбцах parent_region, region, category, severity, participant_categories, light и weather уникальные значения составляют 85, 2274, 18, 3, 23, 6 и 31 соответственно."
      ],
      "text/plain": [
       "<IPython.core.display.HTML object>"
      ]
     },
     "metadata": {},
     "output_type": "display_data"
    },
    {
     "data": {
      "text/html": [
       "\n",
       "Датасет содержит информацию о 400000 ДТП, произошедших в различных регионах России. Он содержит следующие столбцы: index, datetime, lat, lon, parent_region, region, category, severity, participant_categories, participants_count, injured_count, dead_count, light и weather. Типы данных включают int64, datetime64[ns], float64 и object. В столбцах index, datetime, lat, lon и participants_count есть 400000 уникальных значений. В столбцах parent_region, region, category, severity и participant_categories - 85, 2274, 18, 3 и 23 уникальных значения соответственно."
      ],
      "text/plain": [
       "<IPython.core.display.HTML object>"
      ]
     },
     "metadata": {},
     "output_type": "display_data"
    },
    {
     "data": {
      "text/html": [
       "\n",
       "Датасет содержит информацию о 400000 ДТП, произошедших в различных регионах России. Он содержит следующие столбцы: index, datetime, lat, lon, parent_region, region, category, severity, participant_categories, participants_count, injured_count, dead_count, light и weather. Index - уникальный идентификатор каждого ДТП. Datetime - дата и время происшествия. Lat и lon - широта и долгота. Parent_region - регион, в котором произошло ДТП. Region - район, в котором произошло ДТП. Category - тип ДТП. Severity - степень тяжести. Participant_categories - участники ДТП. Participants_count - число участников. Injured_count - число пострадавших. Dead_count - число погибших. Light - услови"
      ],
      "text/plain": [
       "<IPython.core.display.HTML object>"
      ]
     },
     "metadata": {},
     "output_type": "display_data"
    },
    {
     "data": {
      "text/html": [
       "\n",
       "Датасет содержит информацию о 400000 ДТП, произошедших в различных регионах России. Он содержит следующие столбцы: index, datetime, lat, lon, parent_region, region, category, severity, participant_categories, participants_count, injured_count, dead_count, light и weather. Все столбцы имеют типы данных int64, datetime64[ns], float64 и object. Индексом является столбец index. В столбцах parent_region, region, category, severity и participant_categories присутствует 85, 2272, 18, 3 и 22 уникальных значения соответственно. В столбцах participants_count, injured_count и dead_count 39, 33 и 15 уникальных значений соответственно. В столбцах light и weather 6 и 31 уникальных значения соответственно."
      ],
      "text/plain": [
       "<IPython.core.display.HTML object>"
      ]
     },
     "metadata": {},
     "output_type": "display_data"
    },
    {
     "data": {
      "text/html": [
       "\n",
       "Датасет содержит информацию о 400000 ДТП, произошедших в различных регионах России. Он содержит следующие столбцы: index, datetime, lat, lon, parent_region, region, category, severity, participant_categories, participants_count, injured_count, dead_count, light и weather. Index - уникальный идентификатор ДТП. Datetime - дата и время происшествия. Lat и lon - широта и долгота. Parent_region - родительская региональная единица. Region - регион. Category - категория ДТП. Severity - степень тяжести. Participant_categories - категория участников. Participants_count - количество участников. Injured_count - количество пострадавших. Dead_count - количество погибших. Light - условия освещенн"
      ],
      "text/plain": [
       "<IPython.core.display.HTML object>"
      ]
     },
     "metadata": {},
     "output_type": "display_data"
    },
    {
     "name": "stdout",
     "output_type": "stream",
     "text": [
      "400000 115.48254156112671 17.53125\n"
     ]
    },
    {
     "data": {
      "text/html": [
       "\n",
       "Датасет содержит информацию о 450000 ДТП, произошедших в различных регионах России. Он содержит следующие столбцы: index, datetime, lat, lon, parent_region, region, category, severity, participant_categories, participants_count, injured_count, dead_count, light и weather. Типы данных включают int64, datetime64[ns], float64 и object. В столбцах parent_region, region, category, severity и participant_categories уникальные значения составляют 85, 2276, 18, 3 и 24 соответственно."
      ],
      "text/plain": [
       "<IPython.core.display.HTML object>"
      ]
     },
     "metadata": {},
     "output_type": "display_data"
    },
    {
     "data": {
      "text/html": [
       "\n",
       "Датасет содержит информацию о 450000 ДТП, произошедших в различных регионах России. Он содержит следующие столбцы: index, datetime, lat, lon, parent_region, region, category, severity, participant_categories, participants_count, injured_count, dead_count, light и weather. Типы данных включают int64, datetime64[ns], float64 и object. В столбцах parent_region, region, category, severity и participant_categories уникальные значения составляют 85, 2276, 18, 3 и 22 соответственно."
      ],
      "text/plain": [
       "<IPython.core.display.HTML object>"
      ]
     },
     "metadata": {},
     "output_type": "display_data"
    },
    {
     "data": {
      "text/html": [
       "\n",
       "Датасет содержит 450000 строк и 10 столбцов. Индекс является целочисленным значением, а дата и время - значениями datetime64[ns]. Координаты широты и долготы - числами с плавающей точкой, родительский регион, регион, категория, степень тяжести, категория участников, количество участников, количество пострадавших, количество погибших, освещение и погода - строковыми значениями.\n",
       "\n",
       "В столбцах index, datetime, lat, lon, parent_region, region, category, severity, participant_categories, participants_count, injured_count, dead_count, light и weather уникальных значений 450000, 329985, 331253, 364003, 85, 2275, 18, 3, 23, 41,"
      ],
      "text/plain": [
       "<IPython.core.display.HTML object>"
      ]
     },
     "metadata": {},
     "output_type": "display_data"
    },
    {
     "data": {
      "text/html": [
       "\n",
       "Датасет содержит 450000 строк и 11 столбцов. Индекс является целочисленным значением, а дата и время - значениями datetime64[ns]. Данные о широте и долготе являются float64, а родительский регион, регион, категория, степень тяжести, участники категорий, участники и пострадавшие - object. Выборка данных включает 5 примеров, а также 4-квантиль."
      ],
      "text/plain": [
       "<IPython.core.display.HTML object>"
      ]
     },
     "metadata": {},
     "output_type": "display_data"
    },
    {
     "data": {
      "text/html": [
       "\n",
       "Датасет содержит информацию о 450000 ДТП, произошедших в различных регионах России. Он содержит следующие столбцы: index, datetime, lat, lon, parent_region, region, category, severity, participant_categories, participants_count, injured_count, dead_count, light и weather. Index - уникальный идентификатор ДТП. Datetime - дата и время происшествия. Lat и lon - широта и долгота. Parent_region - регион. Region - район. Category - категория ДТП. Severity - степень тяжести. Participant_categories - категория участников. Participants_count - количество участников. Injured_count - количество раненых. Dead_count - количество погибших. Light - условия освещенности. Weather - погодные условия."
      ],
      "text/plain": [
       "<IPython.core.display.HTML object>"
      ]
     },
     "metadata": {},
     "output_type": "display_data"
    },
    {
     "data": {
      "text/html": [
       "\n",
       "Датасет содержит 450000 строк и 11 столбцов. Индекс является целочисленным значением, а дата и время - значениями datetime64[ns]. Координаты широты и долготы - числами с плавающей точкой, а родительская область, регион, категория, степень тяжести, категория участников, количество участников, количество пострадавших, количество погибших, освещение и погода - строковыми.\n",
       "\n",
       "В этом датасете 85 уникальных родительских областей, 2278 уникальных регионов, 18 уникальных категорий, 3 уника"
      ],
      "text/plain": [
       "<IPython.core.display.HTML object>"
      ]
     },
     "metadata": {},
     "output_type": "display_data"
    },
    {
     "name": "stdout",
     "output_type": "stream",
     "text": [
      "450000 109.76378846168518 19.546875\n"
     ]
    },
    {
     "data": {
      "text/html": [
       "\n",
       "Датасет содержит информацию о 500000 ДТП, произошедших в различных регионах России. Он содержит следующие столбцы: index, datetime, lat, lon, parent_region, region, category, severity, participant_categories, participants_count, injured_count, dead_count, light и weather. Типы данных включают int64, datetime64[ns], float64 и object. В столбцах parent_region, region, category, severity и participant_categories уникальные значения соответственно 85, 2277, 18, 3 и 22."
      ],
      "text/plain": [
       "<IPython.core.display.HTML object>"
      ]
     },
     "metadata": {},
     "output_type": "display_data"
    },
    {
     "data": {
      "text/html": [
       "\n",
       "Датасет содержит информацию о 500000 ДТП, произошедших в различных регионах России. Он содержит следующие столбцы: index, datetime, lat, lon, parent_region, region, category, severity, participant_categories, participants_count, injured_count, dead_count, light и weather. Index - уникальный идентификатор ДТП. Datetime - дата и время происшествия. Lat - широта. Lon - долгота. Parent_region - родительская региональная единица. Region - регион. Category - категория ДТП. Severity - степень тяжести. Participant_categories - категория участников. Participants_count - количество участников. Injured_count - количество пострадавших. Dead_count - количество погибших. Light - условия освещенност"
      ],
      "text/plain": [
       "<IPython.core.display.HTML object>"
      ]
     },
     "metadata": {},
     "output_type": "display_data"
    },
    {
     "data": {
      "text/html": [
       "\n",
       "Датасет содержит информацию о 500000 ДТП, произошедших в России. Он содержит следующие столбцы: index, datetime, lat, lon, parent_region, region, category, severity, participant_categories, participants_count, injured_count, dead_count, light и weather. Типы данных различны: int64, datetime64[ns], float64 и object. В столбцах parent_region, region, category, severity и participant_categories уникальные значения соответственно 85, 2276, 18, 3 и 23."
      ],
      "text/plain": [
       "<IPython.core.display.HTML object>"
      ]
     },
     "metadata": {},
     "output_type": "display_data"
    },
    {
     "data": {
      "text/html": [
       "\n",
       "Датасет содержит информацию о 500000 ДТП, произошедших в различных регионах России. Он содержит следующие столбцы: index, datetime, lat, lon, parent_region, region, category, severity, participant_categories, participants_count, injured_count, dead_count, light и weather. Типы данных включают int64, datetime64[ns], float64 и object. В столбцах index, datetime, lat, lon и participants_count нет пропусков. В столбцах parent_region, region, category, severity, participant_categories, injured_count и dead_count уникальные значения составляют 85, 2274, 18, 3, 22 и 14 соответственно."
      ],
      "text/plain": [
       "<IPython.core.display.HTML object>"
      ]
     },
     "metadata": {},
     "output_type": "display_data"
    },
    {
     "data": {
      "text/html": [
       "\n",
       "Датасет содержит информацию о 500000 ДТП, произошедших в различных регионах России. Он содержит следующие столбцы: index, datetime, lat, lon, parent_region, region, category, severity, participant_categories, participants_count, injured_count, dead_count, light и weather. Типы данных включают int64, datetime64[ns], float64 и object. Количество уникальных значений для различных столбцов различается."
      ],
      "text/plain": [
       "<IPython.core.display.HTML object>"
      ]
     },
     "metadata": {},
     "output_type": "display_data"
    },
    {
     "data": {
      "text/html": [
       "\n",
       "Датасет содержит информацию о 500000 ДТП, произошедших в различных регионах России. Он содержит следующие столбцы: index, datetime, lat, lon, parent_region, region, category, severity, participant_categories, participants_count, injured_count, dead_count, light и weather. Типы данных различны: int64, datetime64[ns], float64 и object. В столбцах index, datetime, lat, lon нет повторяющихся значений. В столбцах parent_region, region, category, severity, participant_categories, light и weather уникальные значения соответственно 85, 2273, 18, 3, 24, 6 и 31."
      ],
      "text/plain": [
       "<IPython.core.display.HTML object>"
      ]
     },
     "metadata": {},
     "output_type": "display_data"
    },
    {
     "name": "stdout",
     "output_type": "stream",
     "text": [
      "500000 98.86783456802368 21.953125\n"
     ]
    },
    {
     "data": {
      "text/html": [
       "\n",
       "Датасет содержит информацию о 600000 ДТП, произошедших в различных регионах России. Он содержит следующие столбцы: index, datetime, lat, lon, parent_region, region, category, severity, participant_categories, participants_count, injured_count, dead_count, light и weather. Типы данных включают int64, datetime64[ns], float64 и object. В столбцах parent_region, region, category, severity и participant_categories уникальные значения соответственно 85, 2276, 18, 3 и 25."
      ],
      "text/plain": [
       "<IPython.core.display.HTML object>"
      ]
     },
     "metadata": {},
     "output_type": "display_data"
    },
    {
     "data": {
      "text/html": [
       "\n",
       "Датасет содержит информацию о 600000 ДТП, произошедших в различных регионах России. Он содержит следующие столбцы: index, datetime, lat, lon, parent_region, region, category, severity, participant_categories, participants_count, injured_count, dead_count, light и weather. Index - уникальный идентификатор ДТП. Datetime - дата и время происшествия. Lat - широта. Lon - долгота. Parent_region - родительская региональная единица. Region - регион. Category - категория ДТП. Severity - степень тяжести. Participant_categories - категория участников. Participants_count - количество участников. Injured_count - количество пострадавших. Dead_count - количество погибших. Light - условия освещенност"
      ],
      "text/plain": [
       "<IPython.core.display.HTML object>"
      ]
     },
     "metadata": {},
     "output_type": "display_data"
    },
    {
     "data": {
      "text/html": [
       "\n",
       "Датасет содержит информацию о 600000 ДТП, произошедших в различных регионах России. Он содержит следующие столбцы: index, datetime, lat, lon, parent_region, region, category, severity, participant_categories, participants_count, injured_count, dead_count, light и weather. Index - уникальный идентификатор ДТП. Datetime - дата и время происшествия. Lat и lon - широта и долгота. Parent_region - регион. Region - место происшествия. Category - тип ДТП. Severity - тяжесть. Participant_categories - участники. Participants_count - количество участников. Injured_count - количество раненых. Dead_count - количество погибших. Light - условия освещенности. Weather - погодные условия."
      ],
      "text/plain": [
       "<IPython.core.display.HTML object>"
      ]
     },
     "metadata": {},
     "output_type": "display_data"
    },
    {
     "data": {
      "text/html": [
       "\n",
       "Датасет содержит информацию о 600000 ДТП, произошедших в различных регионах России. Он содержит следующие столбцы: index, datetime, lat, lon, parent_region, region, category, severity, participant_categories, participants_count, injured_count, dead_count, light и weather. Index - уникальный идентификатор ДТП. Datetime - дата и время происшествия. Lat - широта. Lon - долгота. Parent_region - родительский регион. Region - регион. Category - категория ДТП. Severity - тяжесть происшествия. Participant_categories - категория участников. Participants_count - количество участников. Injured_count - количество пострадавших. Dead_count - количество погибших. Light - условия освещенности. Weather - пог"
      ],
      "text/plain": [
       "<IPython.core.display.HTML object>"
      ]
     },
     "metadata": {},
     "output_type": "display_data"
    },
    {
     "data": {
      "text/html": [
       "\n",
       "Датасет содержит информацию о 600000 ДТП, произошедших в различных регионах России. Он содержит следующие столбцы: index, datetime, lat, lon, parent_region, region, category, severity, participant_categories, participants_count, injured_count, dead_count, light и weather. Index - уникальный идентификатор каждого ДТП. Datetime - дата и время происшествия. Lat - широта. Lon - долгота. Parent_region - родительский регион. Region - регион. Category - категория. Severity - степень тяжести. Participant_categories - категория участников. Participants_count - количество участников. Injured_count - количество пострадавших. Dead_count - количество погибших. Light - условия освещенности. Weather - погодн"
      ],
      "text/plain": [
       "<IPython.core.display.HTML object>"
      ]
     },
     "metadata": {},
     "output_type": "display_data"
    },
    {
     "data": {
      "text/html": [
       "\n",
       "Датасет содержит информацию о 600000 ДТП, произошедших в различных регионах России. Он содержит следующие столбцы: index, datetime, lat, lon, parent_region, region, category, severity, participant_categories, participants_count, injured_count, dead_count, light и weather. Типы данных включают int64, datetime64[ns], float64 и object. В столбцах index, datetime, lat, lon и participants_count нет пропусков. В столбцах parent_region, region, category, severity, participant_categories, injured_count и dead_count уникальные значения составляют 85, 2277, 18, 3, 23, 38 и 18 соответственно."
      ],
      "text/plain": [
       "<IPython.core.display.HTML object>"
      ]
     },
     "metadata": {},
     "output_type": "display_data"
    },
    {
     "name": "stdout",
     "output_type": "stream",
     "text": [
      "600000 118.5828685760498 26.75\n"
     ]
    },
    {
     "data": {
      "text/html": [
       "\n",
       "Датасет содержит информацию о 700000 ДТП, произошедших в различных регионах России. Он содержит следующие столбцы: index, datetime, lat, lon, parent_region, region, category, severity, participant_categories, participants_count, injured_count, dead_count, light и weather. Типы данных включают int64, datetime64[ns], float64 и object. В столбцах index, datetime, lat, lon и participants_count нет пропусков. В столбцах parent_region, region, category, severity, participant_categories, injured_count и dead_count уникальные значения составляют 85, 2278, 18, 3, 24, 39 и 18 соответственно."
      ],
      "text/plain": [
       "<IPython.core.display.HTML object>"
      ]
     },
     "metadata": {},
     "output_type": "display_data"
    },
    {
     "data": {
      "text/html": [
       "\n",
       "Датасет содержит информацию о 700000 ДТП, произошедших в различных регионах России. Он содержит следующие столбцы: index, datetime, lat, lon, parent_region, region, category, severity, participant_categories, participants_count, injured_count, dead_count, light и weather. Типы данных различны: int64, datetime64[ns], float64 и object. В столбцах index, datetime, lat, lon и participants_count нет пропусков. В столбцах parent_region, region, category, severity, participant_categories, injured_count и dead_count есть пропуски. Количество уникальных значений различно: 700000 (index), 450714 (datetime), 476895 (lat), 532936 (lon), 85 (parent_region), 2281 (region), 18 (category), 3 (severity), 23 (participant_categories), 50 (participants_count), 41 (injured_count) и 19 (dead_count)."
      ],
      "text/plain": [
       "<IPython.core.display.HTML object>"
      ]
     },
     "metadata": {},
     "output_type": "display_data"
    },
    {
     "data": {
      "text/html": [
       "\n",
       "Датасет содержит информацию о 700000 ДТП, произошедших в различных регионах России. Он содержит следующие столбцы: index, datetime, lat, lon, parent_region, region, category, severity, participant_categories, participants_count, injured_count, dead_count, light и weather. Типы данных различны: int64, datetime64[ns], float64 и object. В столбцах parent_region, region, category, severity и participant_categories уникальные значения соответственно 85, 2275, 18, 3 и 24."
      ],
      "text/plain": [
       "<IPython.core.display.HTML object>"
      ]
     },
     "metadata": {},
     "output_type": "display_data"
    },
    {
     "data": {
      "text/html": [
       "\n",
       "Датасет содержит информацию о 700000 ДТП, произошедших в различных регионах России. Он содержит следующие столбцы: index, datetime, lat, lon, parent_region, region, category, severity, participant_categories, participants_count, injured_count, dead_count, light и weather. Index - уникальный идентификатор ДТП. Datetime - дата и время происшествия. Lat - широта. Lon - долгота. Parent_region - родительский регион. Region - регион. Category - категория ДТП. Severity - тяжесть происшествия. Participant_categories - категория участников. Participants_count - количество участников. Injured_count - количество пострадавших. Dead_count - количество погибших. Light - условия освещенности. Weather - пог"
      ],
      "text/plain": [
       "<IPython.core.display.HTML object>"
      ]
     },
     "metadata": {},
     "output_type": "display_data"
    },
    {
     "data": {
      "text/html": [
       "\n",
       "Датасет содержит информацию о 700000 ДТП, произошедших в различных регионах России. Он содержит следующие столбцы: index, datetime, lat, lon, parent_region, region, category, severity, participant_categories, participants_count, injured_count, dead_count, light и weather. Типы данных включают int64, datetime64[ns], float64 и object. В столбцах index, datetime, lat, lon и participants_count уникальные значения составляют 700000. В столбцах parent_region, region, category, severity и participant_categories уникальные значения составляют 85, 2276, 18, 3 и 25 соответственно. В столбцах injured_count и dead_count уникальные значения составляют 43 и 18 соответственно. В столбцах light и weather уникальные значения составляют 6 и 33 со"
      ],
      "text/plain": [
       "<IPython.core.display.HTML object>"
      ]
     },
     "metadata": {},
     "output_type": "display_data"
    },
    {
     "data": {
      "text/html": [
       "\n",
       "Датасет содержит информацию о 700000 ДТП, произошедших в различных регионах России. Он содержит следующие столбцы: index, datetime, lat, lon, parent_region, region, category, severity, participant_categories, participants_count, injured_count, dead_count, light и weather. Index - уникальный идентификатор ДТП. Datetime - дата и время происшествия. Lat и lon - широта и долгота. Parent_region - регион. Region - место происшествия. Category - тип ДТП. Severity - тяжесть. Participant_categories - участники. Participants_count - количество участников. Injured_count - количество раненых. Dead_count - количество погибших. Light - условия освещенности. Weather - погодные условия."
      ],
      "text/plain": [
       "<IPython.core.display.HTML object>"
      ]
     },
     "metadata": {},
     "output_type": "display_data"
    },
    {
     "name": "stdout",
     "output_type": "stream",
     "text": [
      "700000 121.43404459953308 31.5625\n"
     ]
    },
    {
     "data": {
      "text/html": [
       "\n",
       "Датасет содержит 800000 строк и 11 столбцов. Индекс является целочисленным значением, а дата и время - значениями datetime64[ns]. Координаты широты и долготы - числами с плавающей точкой, а родительский регион, регион, категория, степень тяжести, категория участников, количество участников, количество пострадавших, количество погибших, освещение и погода - строковыми. 85 уникальных родительских регионов, 2282 уникальных регионов, 18 уникальных категорий, 3 уникальных ступеня тяж"
      ],
      "text/plain": [
       "<IPython.core.display.HTML object>"
      ]
     },
     "metadata": {},
     "output_type": "display_data"
    },
    {
     "data": {
      "text/html": [
       "\n",
       "Датасет содержит информацию о 800000 авариях, произошедших в различных регионах России. Он содержит следующие столбцы: index, datetime, lat, lon, parent_region, region, category, severity, participant_categories, participants_count, injured_count, dead_count, light и weather. Index - уникальный идентификатор аварии. Datetime - дата и время аварии. Lat - широта. Lon - долгота. Parent_region - родительский регион. Region - регион. Category - категория аварии. Severity - степень тяжести. Participant_categories - категория участников. Participants_count - количество участников. Injured_count - количество пострадавших. Dead_count - количество погибших. Light - условия освещенности. Weather - погодные ус"
      ],
      "text/plain": [
       "<IPython.core.display.HTML object>"
      ]
     },
     "metadata": {},
     "output_type": "display_data"
    },
    {
     "data": {
      "text/html": [
       "\n",
       "Датасет содержит информацию о 800000 ДТП, произошедших в различных регионах России. Он содержит 8 столбцов: index, datetime, lat, lon, parent_region, region, category, severity, participant_categories, participants_count, injured_count, dead_count, light и weather. Index - уникальный идентификатор каждого ДТП. Datetime - дата и время события. Lat - широта. Lon - долгота. Parent_region - регион. Region - район. Category - категория ДТП. Severity - степень тяжести. Participant_categories - категория участников. Participants_count - количество участников. Injured_count - количество пострадавших. Dead_count - количество погибших. Light - условия освещенности. Weather - погодные условия."
      ],
      "text/plain": [
       "<IPython.core.display.HTML object>"
      ]
     },
     "metadata": {},
     "output_type": "display_data"
    },
    {
     "data": {
      "text/html": [
       "\n",
       "Датасет содержит информацию о 800000 ДТП, произошедших в различных регионах России. Он содержит следующие столбцы: index, datetime, lat, lon, parent_region, region, category, severity, participant_categories, participants_count, injured_count, dead_count, light и weather. Типы данных включают int64, datetime64[ns], float64 и object. В столбцах index, datetime, lat, lon и participants_count нет пропусков. В столбцах parent_region, region, category, severity, participant_categories, injured_count и dead_count есть пропуски."
      ],
      "text/plain": [
       "<IPython.core.display.HTML object>"
      ]
     },
     "metadata": {},
     "output_type": "display_data"
    },
    {
     "data": {
      "text/html": [
       "\n",
       "Датасет содержит 800000 строк и 11 столбцов. Индекс является целочисленным значением, а дата и время - значениями datetime64[ns]. Координаты широты и долготы - числами с плавающей точкой. Родительский регион, регион, категория, степень тяжести, категория участников, количество участников, количество пострадавших, количество погибших, светлое/темное время суток, погода - являются объектами. 85 уникальных родительских регионов, 2275 уникальных регионов, 18 уникальных категорий, 3 у"
      ],
      "text/plain": [
       "<IPython.core.display.HTML object>"
      ]
     },
     "metadata": {},
     "output_type": "display_data"
    },
    {
     "data": {
      "text/html": [
       "\n",
       "Датасет содержит информацию о 800000 ДТП, произошедших в различных регионах России. Он содержит следующие столбцы: index, datetime, lat, lon, parent_region, region, category, severity, participant_categories, participants_count, injured_count, dead_count, light и weather. Типы данных включают int64, datetime64[ns], float64 и object. В столбцах index, datetime, lat, lon и participants_count уникальные значения составляют 800000. В столбцах parent_region, region, category, severity и participant_categories уникальные значения составляют 85, 2280, 18, 3 и 25 соответственно. В столбцах injured_count и dead_count уникальные значения составляют 43 и 19 соответственно. В столбцах light и weather уникальные значения составляют 6 и 32 со"
      ],
      "text/plain": [
       "<IPython.core.display.HTML object>"
      ]
     },
     "metadata": {},
     "output_type": "display_data"
    },
    {
     "name": "stdout",
     "output_type": "stream",
     "text": [
      "800000 140.74688076972961 36.140625\n"
     ]
    },
    {
     "data": {
      "text/html": [
       "\n",
       "Датасет содержит информацию о 900000 ДТП, произошедших в различных регионах России. Он содержит следующие столбцы: index, datetime, lat, lon, parent_region, region, category, severity, participant_categories, participants_count, injured_count, dead_count, light и weather. Все столбцы имеют типы int64, datetime64[ns], float64 и object. В столбцах parent_region, region, category, severity и participant_categories наблюдается многоуровневое разнообразие."
      ],
      "text/plain": [
       "<IPython.core.display.HTML object>"
      ]
     },
     "metadata": {},
     "output_type": "display_data"
    },
    {
     "data": {
      "text/html": [
       "\n",
       "Датасет содержит информацию о 900000 авариях, произошедших в различных регионах России. Для каждой аварии указаны дата и время, широта и долгота, регион, родительский регион, категория, степень тяжести, количество участников, количество пострадавших, количество погибших, условия освещенности и погоды."
      ],
      "text/plain": [
       "<IPython.core.display.HTML object>"
      ]
     },
     "metadata": {},
     "output_type": "display_data"
    },
    {
     "data": {
      "text/html": [
       "\n",
       "Датасет содержит информацию о 900000 ДТП, произошедших в различных регионах России. Он содержит следующие столбцы: index, datetime, lat, lon, parent_region, region, category, severity, participant_categories, participants_count, injured_count, dead_count, light и weather. Типы данных включают int64, datetime64[ns], float64 и object. В столбцах index, datetime, lat, lon и participants_count уникальные значения составляют 900000. В столбцах parent_region, region, category, severity, participant_categories, injured_count и dead_count уникальные значения составляют 85, 2280, 18, 3, 24, 44 и 19 соответственно."
      ],
      "text/plain": [
       "<IPython.core.display.HTML object>"
      ]
     },
     "metadata": {},
     "output_type": "display_data"
    },
    {
     "data": {
      "text/html": [
       "\n",
       "Датасет содержит информацию о 900000 ДТП, произошедших в различных регионах России. Он содержит следующие столбцы: index, datetime, lat, lon, parent_region, region, category, severity, participant_categories, participants_count, injured_count, dead_count, light и weather. Типы данных включают int64, datetime64[ns], float64 и object. Количество уникальных значений для различных столбцов различается."
      ],
      "text/plain": [
       "<IPython.core.display.HTML object>"
      ]
     },
     "metadata": {},
     "output_type": "display_data"
    },
    {
     "data": {
      "text/html": [
       "\n",
       "Датасет содержит информацию о 900000 ДТП, произошедших в различных регионах России. Он содержит следующие столбцы: index, datetime, lat, lon, parent_region, region, category, severity, participant_categories, participants_count, injured_count, dead_count, light и weather. Типы данных включают int64, datetime64[ns], float64 и object. В столбцах index, datetime, lat, lon и participants_count уникальные значения составляют 900000. В столбцах parent_region, region, category, severity и participant_categories уникальные значения составляют 85, 2280, 18, 3 и 24 соответственно. В столбцах injured_count и dead_count уникальные значения составляют 42 и 20 соответственно. В столбцах light и weather уникальные значения составляют 6 и 31 со"
      ],
      "text/plain": [
       "<IPython.core.display.HTML object>"
      ]
     },
     "metadata": {},
     "output_type": "display_data"
    },
    {
     "data": {
      "text/html": [
       "\n",
       "Датасет содержит информацию о 900000 ДТП, произошедших в различных регионах России. Он содержит следующие столбцы: index, datetime, lat, lon, parent_region, region, category, severity, participant_categories, participants_count, injured_count, dead_count, light и weather. Типы данных включают int64, datetime64[ns], float64 и object. В столбцах index, datetime, lat, lon и participants_count уникальные значения составляют 900000. В столбцах parent_region, region, category, severity, participant_categories, injured_count и dead_count уникальные значения составляют 85, 2280, 18, 3, 25, 42 и 18 соответственно."
      ],
      "text/plain": [
       "<IPython.core.display.HTML object>"
      ]
     },
     "metadata": {},
     "output_type": "display_data"
    },
    {
     "name": "stdout",
     "output_type": "stream",
     "text": [
      "900000 121.94958567619324 39.8125\n"
     ]
    },
    {
     "data": {
      "text/html": [
       "\n",
       "Датасет содержит информацию о миллионе аварий, произошедших в разных регионах России. Он содержит следующие столбцы: index, datetime, lat, lon, parent_region, region, category, severity, participant_categories, participants_count, injured_count, dead_count, light и weather. Типы данных различны: int64, datetime64[ns], float64 и object. Все столбцы имеют 1 000 000 строк. Index - уникальный идентификатор аварии. Datetime - дата и время аварии. Lat - широта. Lon - долгота. Parent_region - родительский регион. Region - регион. Category - категория. Severity - степень тяжести. Participant_categories - категория участников. Participants_count - количество участников. Injured_count - количество пострадавших. Dead"
      ],
      "text/plain": [
       "<IPython.core.display.HTML object>"
      ]
     },
     "metadata": {},
     "output_type": "display_data"
    },
    {
     "data": {
      "text/html": [
       "\n",
       "Датасет содержит информацию о миллионе аварий, произошедших в разных регионах России. Он содержит следующие столбцы: index, datetime, lat, lon, parent_region, region, category, severity, participant_categories, participants_count, injured_count, dead_count, light и weather. Типы данных включают int64, datetime64[ns], float64 и object. Все столбцы имеют 1 000 000 строк. Index - уникальный идентификатор события. Datetime - дата и время события. Lat - широта. Lon - долгота. Parent_region - родительская региональная единица. Region - регион. Category - категория события. Severity - уровень тяжести. Participant_categories - категория участников. Participants_count - количество участников. Injured_count - коли"
      ],
      "text/plain": [
       "<IPython.core.display.HTML object>"
      ]
     },
     "metadata": {},
     "output_type": "display_data"
    },
    {
     "data": {
      "text/html": [
       "\n",
       "Датасет содержит информацию о миллионе аварий, произошедших в разных регионах России. Он содержит следующие столбцы: index, datetime, lat, lon, parent_region, region, category, severity, participant_categories, participants_count, injured_count, dead_count, light и weather. Index - уникальный идентификатор аварии. Datetime - дата и время аварии. Lat - широта. Lon - долгота. Parent_region - родительская региональная единица. Region - регион. Category - категория аварии. Severity - степень тяжести. Participant_categories - категория участников. Participants_count - количество участников. Injured_count - количество пострадавших. Dead_count - количество погибших. Light - условия освещенност"
      ],
      "text/plain": [
       "<IPython.core.display.HTML object>"
      ]
     },
     "metadata": {},
     "output_type": "display_data"
    },
    {
     "data": {
      "text/html": [
       "\n",
       "Датасет содержит информацию о милицейских дорожно-транспортных происшествиях, произошедших в России. Он содержит 1 миллион строк, содержащих индекс, дату, широту, долготу, родительскую область, регион, категорию, степень тяжести, категории участников, количество участников, количество пострадавших и количество погибших. Также указывается условия освещенности (днем/ночь) и погодные условия."
      ],
      "text/plain": [
       "<IPython.core.display.HTML object>"
      ]
     },
     "metadata": {},
     "output_type": "display_data"
    },
    {
     "data": {
      "text/html": [
       "\n",
       "Датасет содержит информацию о миллионе аварий, произошедших в разных регионах России. Он содержит следующие столбцы: index, datetime, lat, lon, parent_region, region, category, severity, participant_categories, participants_count, injured_count, dead_count, light и weather. Типы данных включают int64, datetime64[ns], float64 и object. Индексом является столбец index. В столбцах parent_region, region, category, severity и participant_categories уникальные значения соответственно 85, 2281, 18, 3 и 24."
      ],
      "text/plain": [
       "<IPython.core.display.HTML object>"
      ]
     },
     "metadata": {},
     "output_type": "display_data"
    },
    {
     "data": {
      "text/html": [
       "\n",
       "Датасет содержит информацию о дорожно-транспортных происшествиях, произошедших в различных регионах России. Он содержит 1 миллион строк, каждая из которых содержит следующую информацию: индекс, дату, широту, долготу, родительский регион, регион, категорию, степень тяжести, категории участников, количество участников, количество пострадавших, количество погибших, яркость и погода."
      ],
      "text/plain": [
       "<IPython.core.display.HTML object>"
      ]
     },
     "metadata": {},
     "output_type": "display_data"
    },
    {
     "name": "stdout",
     "output_type": "stream",
     "text": [
      "1000000 149.41508746147156 44.390625\n"
     ]
    },
    {
     "data": {
      "text/html": [
       "\n",
       "Датасет содержит 1100000 строк и 11 столбцов. Индекс является целочисленным значением, а остальные столбцы содержат данные различных типов. Столбцы datetime, lat, lon, parent_region, region, category, severity, participant_categories, participants_count, injured_count, dead_count, light и weather содержат данные различных типов. В столбцах datetime и lat/lon есть значения квантилей. В столбцах parent_region, region, category, severity, participant_categories, light и weather есть уникальные значения."
      ],
      "text/plain": [
       "<IPython.core.display.HTML object>"
      ]
     },
     "metadata": {},
     "output_type": "display_data"
    },
    {
     "data": {
      "text/html": [
       "\n",
       "Датасет содержит 1100000 строк и 12 столбцов. Индекс является целочисленным значением, а дата и время - значениями datetime64[ns]. Координаты широты и долготы являются числовыми значениями float64. Столбцы parent_region, region, category, severity, participant_categories, light и weather содержат объекты. Столбцы participants_count, injured_count и dead_count содержат целочисленные значения."
      ],
      "text/plain": [
       "<IPython.core.display.HTML object>"
      ]
     },
     "metadata": {},
     "output_type": "display_data"
    },
    {
     "data": {
      "text/html": [
       "\n",
       "Датасет содержит 1100000 строк и 10 столбцов. Индекс является целочисленным значением, а дата и время - значениями datetime64[ns]. Данные о широте и долготе являются числовыми значениями float64. Столбцы parent_region, region, category, severity, participant_categories, light и weather содержат объекты. Столбцы participants_count, injured_count и dead_count содержат целочисленные значения."
      ],
      "text/plain": [
       "<IPython.core.display.HTML object>"
      ]
     },
     "metadata": {},
     "output_type": "display_data"
    },
    {
     "data": {
      "text/html": [
       "\n",
       "Датасет содержит 1100000 строк и 11 столбцов. Индекс является целочисленным значением, а остальные столбцы содержат данные различных типов. Столбцы datetime, lat, lon, parent_region, region, category, severity, participant_categories, participants_count, injured_count, dead_count, light и weather содержат данные о времени, географических координатах, регионах, категориях ДТП, степени тяжести, участниках ДТП, количестве участников, количестве пострадавших и количестве погибших. В столбцах parent_region, region, category, severity, participant_categories, light и weather уникальными значениями являются 85, 2281, 18, 3, 25, 6 и 33 соответствен"
      ],
      "text/plain": [
       "<IPython.core.display.HTML object>"
      ]
     },
     "metadata": {},
     "output_type": "display_data"
    },
    {
     "data": {
      "text/html": [
       "\n",
       "Датасет содержит 1100000 строк и 11 столбцов. Индекс является целочисленным значением, а остальные столбцы содержат данные различных типов. Столбцы datetime, lat, lon, parent_region, region, category, severity, participant_categories, participants_count, injured_count и dead_count содержат неуникальные значения. Столбцы light и weather содержат 33 и 6 уникальных значений соответственно."
      ],
      "text/plain": [
       "<IPython.core.display.HTML object>"
      ]
     },
     "metadata": {},
     "output_type": "display_data"
    },
    {
     "data": {
      "text/html": [
       "\n",
       "Датасет содержит 1100000 строк и 12 столбцов. Он содержит информацию о дорожно-транспортных происшествиях, произошедших в различных регионах России. Столбцы содержат индекс, дату, широту, долготу, родительскую область, регион, категорию, степень тяжести, категории участников, количество участников, количество пострадавших, количество погибших, условия освещенности и погоды."
      ],
      "text/plain": [
       "<IPython.core.display.HTML object>"
      ]
     },
     "metadata": {},
     "output_type": "display_data"
    },
    {
     "name": "stdout",
     "output_type": "stream",
     "text": [
      "1100000 131.59916806221008 48.375\n"
     ]
    },
    {
     "data": {
      "text/html": [
       "\n",
       "Датасет содержит информацию о 1200000 ДТП, произошедших в различных регионах России. Он содержит следующие столбцы: index, datetime, lat, lon, parent_region, region, category, severity, participant_categories, participants_count, injured_count, dead_count, light и weather. Типы данных включают int64, datetime64[ns], float64 и object. В столбцах index, datetime, lat, lon и participants_count нет пропусков. В столбцах parent_region, region, category, severity, participant_categories, injured_count и dead_count уникальные значения составляют 85, 2281, 18, 3, 25, 46 и 20 соответственно."
      ],
      "text/plain": [
       "<IPython.core.display.HTML object>"
      ]
     },
     "metadata": {},
     "output_type": "display_data"
    },
    {
     "data": {
      "text/html": [
       "\n",
       "Датасет содержит информацию о 1200000 ДТП, произошедших в различных регионах России. Он содержит следующие столбцы: index, datetime, lat, lon, parent_region, region, category, severity, participant_categories, participants_count, injured_count, dead_count, light и weather. Типы данных включают int64, datetime64[ns], float64 и object. Количество уникальных значений для различных столбцов различается. Например, parent_region содержит 85 уникальных значений, region - 2282, category - 18, severity - 3, participant_categories - 25."
      ],
      "text/plain": [
       "<IPython.core.display.HTML object>"
      ]
     },
     "metadata": {},
     "output_type": "display_data"
    },
    {
     "data": {
      "text/html": [
       "\n",
       "Датасет содержит информацию о 1200000 ДТП, произошедших в различных регионах России. Он содержит следующие столбцы: index, datetime, lat, lon, parent_region, region, category, severity, participant_categories, participants_count, injured_count, dead_count, light и weather. Типы данных различны: int64, datetime64[ns], float64 и object. В столбцах index, datetime, lat, lon нет дубликатов. В столбцах parent_region, region, category, severity, participant_categories количество уникальных значений составляет 85, 2281, 18 и 3 соответственно."
      ],
      "text/plain": [
       "<IPython.core.display.HTML object>"
      ]
     },
     "metadata": {},
     "output_type": "display_data"
    },
    {
     "data": {
      "text/html": [
       "\n",
       "Датасет содержит информацию о 1200000 ДТП, произошедших в России. Он содержит следующие столбцы: index, datetime, lat, lon, parent_region, region, category, severity, participant_categories, participants_count, injured_count, dead_count, light и weather. Типы данных различны: int64, datetime64[ns], float64 и object. Индексом является столбец index. В столбцах parent_region, region, category, severity и participant_categories уникальные значения соответственно 85, 2281, 18, 3 и 25."
      ],
      "text/plain": [
       "<IPython.core.display.HTML object>"
      ]
     },
     "metadata": {},
     "output_type": "display_data"
    },
    {
     "data": {
      "text/html": [
       "\n",
       "Датасет содержит информацию о 1200000 ДТП, произошедших в различных регионах России. Он содержит следующие столбцы: index, datetime, lat, lon, parent_region, region, category, severity, participant_categories, participants_count, injured_count, dead_count, light и weather. Типы данных различны: int64, datetime64[ns], float64 и object. В столбцах parent_region, region, category, severity, participant_categories и light уникальные значения соответственно 85, 2282, 18, 3, 25 и 6."
      ],
      "text/plain": [
       "<IPython.core.display.HTML object>"
      ]
     },
     "metadata": {},
     "output_type": "display_data"
    },
    {
     "data": {
      "text/html": [
       "\n",
       "Датасет содержит информацию о 1200000 ДТП, произошедших в России. Он содержит следующие столбцы: index, datetime, lat, lon, parent_region, region, category, severity, participant_categories, participants_count, injured_count, dead_count, light и weather. Типы данных различны: int64, datetime64[ns], float64 и object. Индексом является столбец index. В столбцах parent_region, region, category, severity, participant_categories, light и weather уникальные значения соответственно 85, 2281, 18, 3, 24, 6 и 33. Квантили равны 0.0, 320291.75, 640650.5, 960934.25 и 1281350.0."
      ],
      "text/plain": [
       "<IPython.core.display.HTML object>"
      ]
     },
     "metadata": {},
     "output_type": "display_data"
    },
    {
     "name": "stdout",
     "output_type": "stream",
     "text": [
      "1200000 133.09952688217163 52.734375\n"
     ]
    },
    {
     "data": {
      "text/html": [
       "<div>\n",
       "<style scoped>\n",
       "    .dataframe tbody tr th:only-of-type {\n",
       "        vertical-align: middle;\n",
       "    }\n",
       "\n",
       "    .dataframe tbody tr th {\n",
       "        vertical-align: top;\n",
       "    }\n",
       "\n",
       "    .dataframe thead th {\n",
       "        text-align: right;\n",
       "    }\n",
       "</style>\n",
       "<table border=\"1\" class=\"dataframe\">\n",
       "  <thead>\n",
       "    <tr style=\"text-align: right;\">\n",
       "      <th></th>\n",
       "      <th>size</th>\n",
       "      <th>wall_time</th>\n",
       "      <th>cpu_time</th>\n",
       "    </tr>\n",
       "  </thead>\n",
       "  <tbody>\n",
       "    <tr>\n",
       "      <th>0</th>\n",
       "      <td>2.0</td>\n",
       "      <td>13.802745</td>\n",
       "      <td>0.046875</td>\n",
       "    </tr>\n",
       "    <tr>\n",
       "      <th>1</th>\n",
       "      <td>6.0</td>\n",
       "      <td>14.385910</td>\n",
       "      <td>0.075521</td>\n",
       "    </tr>\n",
       "    <tr>\n",
       "      <th>2</th>\n",
       "      <td>10.0</td>\n",
       "      <td>12.984198</td>\n",
       "      <td>0.098958</td>\n",
       "    </tr>\n",
       "    <tr>\n",
       "      <th>3</th>\n",
       "      <td>20.0</td>\n",
       "      <td>11.162198</td>\n",
       "      <td>0.192708</td>\n",
       "    </tr>\n",
       "    <tr>\n",
       "      <th>4</th>\n",
       "      <td>40.0</td>\n",
       "      <td>12.574321</td>\n",
       "      <td>0.312500</td>\n",
       "    </tr>\n",
       "    <tr>\n",
       "      <th>5</th>\n",
       "      <td>60.0</td>\n",
       "      <td>14.121313</td>\n",
       "      <td>0.463542</td>\n",
       "    </tr>\n",
       "    <tr>\n",
       "      <th>6</th>\n",
       "      <td>80.0</td>\n",
       "      <td>14.987011</td>\n",
       "      <td>0.604167</td>\n",
       "    </tr>\n",
       "    <tr>\n",
       "      <th>7</th>\n",
       "      <td>100.0</td>\n",
       "      <td>15.007206</td>\n",
       "      <td>0.765625</td>\n",
       "    </tr>\n",
       "    <tr>\n",
       "      <th>8</th>\n",
       "      <td>150.0</td>\n",
       "      <td>13.094605</td>\n",
       "      <td>1.085938</td>\n",
       "    </tr>\n",
       "    <tr>\n",
       "      <th>9</th>\n",
       "      <td>200.0</td>\n",
       "      <td>15.436592</td>\n",
       "      <td>1.492188</td>\n",
       "    </tr>\n",
       "    <tr>\n",
       "      <th>10</th>\n",
       "      <td>250.0</td>\n",
       "      <td>14.363282</td>\n",
       "      <td>1.851562</td>\n",
       "    </tr>\n",
       "    <tr>\n",
       "      <th>11</th>\n",
       "      <td>300.0</td>\n",
       "      <td>15.090767</td>\n",
       "      <td>2.184896</td>\n",
       "    </tr>\n",
       "    <tr>\n",
       "      <th>12</th>\n",
       "      <td>350.0</td>\n",
       "      <td>14.411833</td>\n",
       "      <td>2.565104</td>\n",
       "    </tr>\n",
       "    <tr>\n",
       "      <th>13</th>\n",
       "      <td>400.0</td>\n",
       "      <td>19.247090</td>\n",
       "      <td>2.921875</td>\n",
       "    </tr>\n",
       "    <tr>\n",
       "      <th>14</th>\n",
       "      <td>450.0</td>\n",
       "      <td>18.293965</td>\n",
       "      <td>3.257812</td>\n",
       "    </tr>\n",
       "    <tr>\n",
       "      <th>15</th>\n",
       "      <td>500.0</td>\n",
       "      <td>16.477972</td>\n",
       "      <td>3.658854</td>\n",
       "    </tr>\n",
       "    <tr>\n",
       "      <th>16</th>\n",
       "      <td>600.0</td>\n",
       "      <td>19.763811</td>\n",
       "      <td>4.458333</td>\n",
       "    </tr>\n",
       "    <tr>\n",
       "      <th>17</th>\n",
       "      <td>700.0</td>\n",
       "      <td>20.239007</td>\n",
       "      <td>5.260417</td>\n",
       "    </tr>\n",
       "    <tr>\n",
       "      <th>18</th>\n",
       "      <td>800.0</td>\n",
       "      <td>23.457813</td>\n",
       "      <td>6.023438</td>\n",
       "    </tr>\n",
       "    <tr>\n",
       "      <th>19</th>\n",
       "      <td>900.0</td>\n",
       "      <td>20.324931</td>\n",
       "      <td>6.635417</td>\n",
       "    </tr>\n",
       "    <tr>\n",
       "      <th>20</th>\n",
       "      <td>1000.0</td>\n",
       "      <td>24.902515</td>\n",
       "      <td>7.398438</td>\n",
       "    </tr>\n",
       "    <tr>\n",
       "      <th>21</th>\n",
       "      <td>1100.0</td>\n",
       "      <td>21.933195</td>\n",
       "      <td>8.062500</td>\n",
       "    </tr>\n",
       "    <tr>\n",
       "      <th>22</th>\n",
       "      <td>1200.0</td>\n",
       "      <td>22.183254</td>\n",
       "      <td>8.789062</td>\n",
       "    </tr>\n",
       "  </tbody>\n",
       "</table>\n",
       "</div>"
      ],
      "text/plain": [
       "      size  wall_time  cpu_time\n",
       "0      2.0  13.802745  0.046875\n",
       "1      6.0  14.385910  0.075521\n",
       "2     10.0  12.984198  0.098958\n",
       "3     20.0  11.162198  0.192708\n",
       "4     40.0  12.574321  0.312500\n",
       "5     60.0  14.121313  0.463542\n",
       "6     80.0  14.987011  0.604167\n",
       "7    100.0  15.007206  0.765625\n",
       "8    150.0  13.094605  1.085938\n",
       "9    200.0  15.436592  1.492188\n",
       "10   250.0  14.363282  1.851562\n",
       "11   300.0  15.090767  2.184896\n",
       "12   350.0  14.411833  2.565104\n",
       "13   400.0  19.247090  2.921875\n",
       "14   450.0  18.293965  3.257812\n",
       "15   500.0  16.477972  3.658854\n",
       "16   600.0  19.763811  4.458333\n",
       "17   700.0  20.239007  5.260417\n",
       "18   800.0  23.457813  6.023438\n",
       "19   900.0  20.324931  6.635417\n",
       "20  1000.0  24.902515  7.398438\n",
       "21  1100.0  21.933195  8.062500\n",
       "22  1200.0  22.183254  8.789062"
      ]
     },
     "execution_count": 4,
     "metadata": {},
     "output_type": "execute_result"
    }
   ],
   "source": [
    "import time\n",
    "sizes, wall_times, cpu_times = [], [], []\n",
    "sizes.extend(list(range(2000, 10001, 4000)))\n",
    "sizes.extend(list(range(20_000, 100_000, 20_000)))\n",
    "sizes.extend(list(range(100_000, 500_000, 50_000)))\n",
    "sizes.extend(list(range(500_000, 1250_000, 100_000)))\n",
    "df1 = df.drop('vehicles', axis=1)\n",
    "iters = 6\n",
    "for s in sizes:\n",
    "    wt, ct = 0, 0\n",
    "    for i in range(iters):\n",
    "        df_ = df1.sample(s)\n",
    "        start = time.time(), time.process_time()\n",
    "        df_.sketch.ask('Опиши датасет')\n",
    "        wt += time.time()-start[0]\n",
    "        ct += time.process_time()-start[1]\n",
    "    wall_times.append(wt/iters)\n",
    "    cpu_times.append(ct/iters)\n",
    "    print(s, wt, ct)\n",
    "test_df = pd.DataFrame({'size':sizes, 'wall_time':wall_times, 'cpu_time':cpu_times})\n",
    "test_df['size'] = test_df['size'] / 1000\n",
    "test_df"
   ]
  },
  {
   "cell_type": "code",
   "execution_count": 16,
   "metadata": {},
   "outputs": [
    {
     "data": {
      "image/png": "[encoded data removed]",
      "text/plain": [
       "<Figure size 1008x504 with 1 Axes>"
      ]
     },
     "metadata": {
      "needs_background": "light"
     },
     "output_type": "display_data"
    }
   ],
   "source": [
    "ax = test_df.plot(x='size', figsize=(14, 7), grid=True,\n",
    "                  xlim=(0,1200), ylim=(-0.1,26),\n",
    "                  fontsize=16, linewidth=2, style='o-')\n",
    "ax.set_xlabel('Pазмер выборки, тыс. записей', fontsize=16)\n",
    "ax.set_ylabel('Время выполнения, сек.', fontsize=16)\n",
    "ax.set_title(\"Среднее время выполнения запроса в зависимости от объёма датасета\", fontsize=18)\n",
    "ax.legend(['Общее время', 'Процессорное время'], fontsize=14);"
   ]
  },
  {
   "cell_type": "code",
   "execution_count": null,
   "metadata": {},
   "outputs": [],
   "source": [
    "test_df"
   ]
  },
  {
   "attachments": {},
   "cell_type": "markdown",
   "metadata": {},
   "source": [
    "#### Тест 0"
   ]
  },
  {
   "cell_type": "code",
   "execution_count": 54,
   "metadata": {},
   "outputs": [
    {
     "data": {
      "text/html": [
       "\n",
       "Датасет содержит 2000 строк и 10 столбцов. Индекс является целочисленным значением, а остальные столбцы являются объектами. Столбцы datetime, lat, lon, parent_region, region, category, severity, participant_categories, participants_count, injured_count, dead_count, light и weather содержат уникальные значения. Например, столбец category содержит 13 уникальных значений. Столбец severity содержит 3 уникальных значения."
      ],
      "text/plain": [
       "<IPython.core.display.HTML object>"
      ]
     },
     "metadata": {},
     "output_type": "display_data"
    },
    {
     "data": {
      "text/html": [
       "\n",
       "Датасет содержит информацию о 2000 ДТП, произошедших в различных регионах России. Он содержит следующие столбцы: index, datetime, lat, lon, parent_region, region, category, severity, participant_categories, participants_count, injured_count, dead_count, light и weather. Типы данных включают int64, object и float64. Все столбцы имеют 2000 уникальных значений."
      ],
      "text/plain": [
       "<IPython.core.display.HTML object>"
      ]
     },
     "metadata": {},
     "output_type": "display_data"
    },
    {
     "data": {
      "text/html": [
       "\n",
       "Датасет df_ содержит 2000 строк и 11 столбцов. Индекс является целочисленным значением, а остальные столбцы являются объектами. Столбцы datetime, lat, lon, parent_region, region, category, severity, participant_categories, participants_count, injured_count, dead_count, light и weather содержат уникальные значения. Например, столбец category содержит 14 уникальных значений. Квантили для индекса равны 90.0, 304600.25, 624236.0, 957758.75 и 1280479.0."
      ],
      "text/plain": [
       "<IPython.core.display.HTML object>"
      ]
     },
     "metadata": {},
     "output_type": "display_data"
    },
    {
     "data": {
      "text/html": [
       "\n",
       "Датасет содержит 2000 строк и 14 столбцов. Индекс является целочисленным значением, а дата и время - объектом. Остальные столбцы содержат объекты, включая родительскую область, регион, категорию, степень тяжести, категории участников, количество участников, количество пострадавших, количество погибших, условия освещения и погоды."
      ],
      "text/plain": [
       "<IPython.core.display.HTML object>"
      ]
     },
     "metadata": {},
     "output_type": "display_data"
    },
    {
     "data": {
      "text/html": [
       "\n",
       "Датасет содержит 2000 строк и 12 столбцов. Индекс является целочисленным значением, а остальные столбцы являются объектами. Столбцы datetime, lat, lon, parent_region, region, category, severity, participant_categories, participants_count, injured_count, dead_count, light и weather содержат уникальные значения. Квантили для индекса равны 319.0, 295907.25, 616266.5, 944827.0 и 1281260.0."
      ],
      "text/plain": [
       "<IPython.core.display.HTML object>"
      ]
     },
     "metadata": {},
     "output_type": "display_data"
    },
    {
     "name": "stdout",
     "output_type": "stream",
     "text": [
      "2000 50.68166255950928\n"
     ]
    },
    {
     "data": {
      "text/html": [
       "\n",
       "Датасет df_ содержит информацию о 6000 авариях, произошедших в различных регионах России. Он содержит следующие столбцы: index, datetime, lat, lon, parent_region, region, category, severity, participant_categories, participants_count, injured_count, dead_count, light и weather. Типы данных включают int64, object и float64. Индексом является столбец index. В столбцах parent_region, region, category, severity, participant_categories, light и weather уникальные значения соответственно 85, 1455, 18, 3, 19, 5 и 18."
      ],
      "text/plain": [
       "<IPython.core.display.HTML object>"
      ]
     },
     "metadata": {},
     "output_type": "display_data"
    },
    {
     "data": {
      "text/html": [
       "\n",
       "Датасет df_ содержит информацию о 6000 ДТП, произошедших в различных регионах России. Он содержит следующие столбцы: index, datetime, lat, lon, parent_region, region, category, severity, participant_categories, participants_count, injured_count, dead_count, light и weather. Все столбцы имеют тип object, кроме index, который имеет тип int64. Все столбцы имеют 6000 строк."
      ],
      "text/plain": [
       "<IPython.core.display.HTML object>"
      ]
     },
     "metadata": {},
     "output_type": "display_data"
    },
    {
     "data": {
      "text/html": [
       "\n",
       "Датасет содержит информацию о 6000 ДТП, произошедших в различных регионах России. Он содержит следующие столбцы: index, datetime, lat, lon, parent_region, region, category, severity, participant_categories, participants_count, injured_count, dead_count, light и weather. Index - уникальный идентификатор ДТП. Datetime - дата и время происшествия. Lat и lon - широта и долгота. Parent_region - родительский регион. Region - регион. Category - категория ДТП. Severity - тяжесть. Participant_categories - категория участников. Participants_count - количество участников. Injured_count - количество раненых. Dead_count - количество погибших. Light - условия освещенности. Weather - погодные условия."
      ],
      "text/plain": [
       "<IPython.core.display.HTML object>"
      ]
     },
     "metadata": {},
     "output_type": "display_data"
    },
    {
     "data": {
      "text/html": [
       "\n",
       "Датасет содержит информацию о 6000 ДТП, произошедших в различных регионах России. Он содержит следующие столбцы: index, datetime, lat, lon, parent_region, region, category, severity, participant_categories, participants_count, injured_count, dead_count, light и weather. Типы данных включают int64, object и float64. В столбцах index, datetime, lat, lon, parent_region, region и category уникальные значения составляют 6000. В столбцах severity, participant_categories, participants_count, injured_count, dead_count, light и weather уникальные значения составляют 3, 15, 17, 17 и 7 соответственно."
      ],
      "text/plain": [
       "<IPython.core.display.HTML object>"
      ]
     },
     "metadata": {},
     "output_type": "display_data"
    },
    {
     "data": {
      "text/html": [
       "\n",
       "Датасет содержит информацию о 6000 ДТП, произошедших в различных регионах России. В датасете содержатся следующие колонки: index, datetime, lat, lon, parent_region, region, category, severity, participant_categories, participants_count, injured_count, dead_count, light и weather. Index - уникальный идентификатор ДТП. Datetime - дата и время происшествия. Lat - широта. Lon - долгота. Parent_region - родительский регион. Region - регион. Category - категория. Severity - тяжесть. Participant_categories - категория участников. Participants_count - количество участников. Injured_count - количество раненых. Dead_count - количество погибших. Light - условия освещенности. Weather - погодные условия."
      ],
      "text/plain": [
       "<IPython.core.display.HTML object>"
      ]
     },
     "metadata": {},
     "output_type": "display_data"
    },
    {
     "name": "stdout",
     "output_type": "stream",
     "text": [
      "6000 63.46045660972595\n"
     ]
    },
    {
     "data": {
      "text/html": [
       "\n",
       "Датасет содержит информацию о 10000 ДТП, произошедших в различных регионах России. Он содержит следующие столбцы: index, datetime, lat, lon, parent_region, region, category, severity, participant_categories, participants_count, injured_count, dead_count, light и weather. Index - уникальный идентификатор ДТП. Datetime - дата и время происшествия. Lat и lon - широта и долгота. Parent_region - регион, в котором произошло ДТП. Region - район, в котором произошло ДТП. Category - тип ДТП. Severity - степень тяжести. Participant_categories - участники ДТП. Participants_count - количество участников. Injured_count - количество раненых. Dead_count - количество погибших. Light - условия"
      ],
      "text/plain": [
       "<IPython.core.display.HTML object>"
      ]
     },
     "metadata": {},
     "output_type": "display_data"
    },
    {
     "data": {
      "text/html": [
       "\n",
       "Датасет df_ содержит информацию о 10000 авариях, произошедших в различных регионах России. Он содержит следующие столбцы: index, datetime, lat, lon, parent_region, region, category, severity, participant_categories, participants_count, injured_count, dead_count, light и weather. Типы данных включают int64, object и float64. Все столбцы имеют 10000 строк. Количество уникальных значений в столбцах parent_region, region, category, severity, participant_categories составляет 84, 1672, 16, 3 и 19 соответственно."
      ],
      "text/plain": [
       "<IPython.core.display.HTML object>"
      ]
     },
     "metadata": {},
     "output_type": "display_data"
    },
    {
     "data": {
      "text/html": [
       "\n",
       "Датасет содержит информацию о 10000 ДТП, произошедших в различных регионах России. Он содержит следующие столбцы: index, datetime, lat, lon, parent_region, region, category, severity, participant_categories, participants_count, injured_count, dead_count, light и weather. Типы данных включают int64, object и float64. Все столбцы имеют 10000 уникальных значений. Значения для столбцов parent_region, region, category, severity и participant_categories уникальны."
      ],
      "text/plain": [
       "<IPython.core.display.HTML object>"
      ]
     },
     "metadata": {},
     "output_type": "display_data"
    },
    {
     "data": {
      "text/html": [
       "\n",
       "Датасет df_ содержит 10000 строк и 12 столбцов. Индекс является целочисленным значением, а остальные столбцы являются объектами. В столбцах datetime, lat, lon, parent_region, region, category, severity, participant_categories, participants_count, injured_count, dead_count, light и weather есть 9916, 9612, 9683, 84, 1692, 17, 3, 18, 18, 17 и 6 уникальных значений соответственно. Примеры данных из первых 5 строк: ['1173140', '2018-03-03 17:05:00', '56.4971', '53.12798', 'Удмуртская Республика', 'Ижевск', 'Столкновение', 'Тяжёлый', 'Водители и пассажиры ТС, Дети', '3', '1', '0', 'Светлое время суток', 'Ясно']. Квантили равны 21.0, 326109.5, 653004.0, 964231.0 и 1281332.0."
      ],
      "text/plain": [
       "<IPython.core.display.HTML object>"
      ]
     },
     "metadata": {},
     "output_type": "display_data"
    },
    {
     "data": {
      "text/html": [
       "\n",
       "Датасет содержит информацию о 10000 ДТП, произошедших в различных регионах России. Он содержит следующие столбцы: index, datetime, lat, lon, parent_region, region, category, severity, participant_categories, participants_count, injured_count, dead_count, light и weather. Типы данных включают int64, object и float64. Все столбцы имеют 10000 строк. Количество уникальных значений в столбцах parent_region, category, severity, participant_categories, participants_count, injured_count и dead_count составляет 84, 16, 3, 16, 18, 14 и 6 соответственно."
      ],
      "text/plain": [
       "<IPython.core.display.HTML object>"
      ]
     },
     "metadata": {},
     "output_type": "display_data"
    },
    {
     "name": "stdout",
     "output_type": "stream",
     "text": [
      "10000 61.08577799797058\n"
     ]
    },
    {
     "data": {
      "text/html": [
       "\n",
       "Датасет содержит информацию о 20000 ДТП, произошедших в различных регионах России. Он содержит следующие столбцы: index, datetime, lat, lon, parent_region, region, category, severity, participant_categories, participants_count, injured_count, dead_count, light и weather. Index - уникальный идентификатор ДТП. Datetime - дата и время происшествия. Lat - широта. Lon - долгота. Parent_region - родительский регион. Region - регион. Category - категория ДТП. Severity - степень тяжести. Participant_categories - категория участников. Participants_count - количество участников. Injured_count - количество пострадавших. Dead_count - количество погибших. Light - условия освещенности. Weather - погодные "
      ],
      "text/plain": [
       "<IPython.core.display.HTML object>"
      ]
     },
     "metadata": {},
     "output_type": "display_data"
    },
    {
     "data": {
      "text/html": [
       "\n",
       "Датасет содержит информацию о 20000 ДТП, произошедших в различных регионах России. Он содержит следующие столбцы: index, datetime, lat, lon, parent_region, region, category, severity, participant_categories, participants_count, injured_count, dead_count, light и weather. Типы данных включают int64, object и float64. Индексом является столбец index. В столбцах parent_region, region, category, severity, participant_categories, light и weather уникальные значения."
      ],
      "text/plain": [
       "<IPython.core.display.HTML object>"
      ]
     },
     "metadata": {},
     "output_type": "display_data"
    },
    {
     "data": {
      "text/html": [
       "\n",
       "Датасет содержит информацию о 20000 ДТП, произошедших в различных регионах России. Он содержит следующие столбцы: index, datetime, lat, lon, parent_region, region, category, severity, participant_categories, participants_count, injured_count, dead_count, light и weather. Index - уникальный идентификатор ДТП. Datetime - дата и время происшествия. Lat и lon - широта и долгота. Parent_region - родительская региональная единица. Region - регион. Category - категория ДТП. Severity - степень тяжести. Participant_categories - категория участников. Participants_count - количество участников. Injured_count - количество пострадавших. Dead_count - количество погибших. Light - условия освещенн"
      ],
      "text/plain": [
       "<IPython.core.display.HTML object>"
      ]
     },
     "metadata": {},
     "output_type": "display_data"
    },
    {
     "data": {
      "text/html": [
       "\n",
       "Датасет содержит информацию о 20000 ДТП, произошедших в различных регионах России. Он содержит следующие колонки: index, datetime, lat, lon, parent_region, region, category, severity, participant_categories, participants_count, injured_count, dead_count, light и weather. Index - уникальный идентификатор ДТП. Datetime - дата и время происшествия. Lat и lon - широта и долгота. Parent_region - регион, в котором произошло ДТП. Region - точный район. Category - тип ДТП. Severity - степень тяжести. Participant_categories - участники ДТП. Participants_count - количество участников. Injured_count - количество раненых. Dead_count - количество погибших. Light - условия освещенности. Weather - пог"
      ],
      "text/plain": [
       "<IPython.core.display.HTML object>"
      ]
     },
     "metadata": {},
     "output_type": "display_data"
    },
    {
     "data": {
      "text/html": [
       "\n",
       "Датасет содержит информацию о 20000 ДТП, произошедших в различных регионах России. Он содержит следующие столбцы: index, datetime, lat, lon, parent_region, region, category, severity, participant_categories, participants_count, injured_count, dead_count, light и weather. Index - уникальный идентификатор ДТП. Datetime - дата и время происшествия. Lat и lon - широта и долгота. Parent_region - регион. Region - район. Category - категория ДТП. Severity - степень тяжести. Participant_categories - категория участников. Participants_count - количество участников. Injured_count - количество раненых. Dead_count - количество погибших. Light - условия освещенности. Weather - погодные условия."
      ],
      "text/plain": [
       "<IPython.core.display.HTML object>"
      ]
     },
     "metadata": {},
     "output_type": "display_data"
    },
    {
     "name": "stdout",
     "output_type": "stream",
     "text": [
      "20000 73.62308502197266\n"
     ]
    },
    {
     "data": {
      "text/html": [
       "\n",
       "Датасет содержит информацию о 40000 ДТП, произошедших в России. Он содержит следующие столбцы: index, datetime, lat, lon, parent_region, region, category, severity, participant_categories, participants_count, injured_count, dead_count, light и weather. Типы данных различны: int64, object и float64. Индексом является столбец index. В столбцах parent_region, region, category, severity, participant_categories, light и weather уникальные значения. Значения в столбцах participants_count, injured_count и dead_count - целочисленные."
      ],
      "text/plain": [
       "<IPython.core.display.HTML object>"
      ]
     },
     "metadata": {},
     "output_type": "display_data"
    },
    {
     "data": {
      "text/html": [
       "\n",
       "Датасет содержит информацию о 40000 ДТП, произошедших в различных регионах России. Он содержит следующие столбцы: index, datetime, lat, lon, parent_region, region, category, severity, participant_categories, participants_count, injured_count, dead_count, light и weather. Типы данных включают int64, object и float64. Все столбцы имеют 40000 строк."
      ],
      "text/plain": [
       "<IPython.core.display.HTML object>"
      ]
     },
     "metadata": {},
     "output_type": "display_data"
    },
    {
     "data": {
      "text/html": [
       "\n",
       "Датасет содержит информацию о 40000 ДТП, произошедших в различных регионах России. Он содержит следующие столбцы: index, datetime, lat, lon, parent_region, region, category, severity, participant_categories, participants_count, injured_count, dead_count, light и weather. Index - уникальный идентификатор ДТП. Datetime - дата и время происшествия. Lat - широта. Lon - долгота. Parent_region - родительский регион. Region - регион. Category - категория ДТП. Severity - тяжесть происшествия. Participant_categories - категория участников. Participants_count - количество участников. Injured_count - количество пострадавших. Dead_count - количество погибших. Light - условия освещенности. Weather - пог"
      ],
      "text/plain": [
       "<IPython.core.display.HTML object>"
      ]
     },
     "metadata": {},
     "output_type": "display_data"
    },
    {
     "data": {
      "text/html": [
       "\n",
       "Датасет содержит информацию о 40000 ДТП, произошедших в различных регионах России. Он содержит следующие столбцы: index, datetime, lat, lon, parent_region, region, category, severity, participant_categories, participants_count, injured_count, dead_count, light и weather. Типы данных включают int64, object и float64. Индексом является столбец index. В столбцах datetime, lat, lon, parent_region, region, category, severity, participant_categories, participants_count, injured_count, dead_count, light и weather уникальные значения соответственно 38757, 36988, 37765, 85, 2153, 18, 3, 20, 24, 17 и 9."
      ],
      "text/plain": [
       "<IPython.core.display.HTML object>"
      ]
     },
     "metadata": {},
     "output_type": "display_data"
    },
    {
     "data": {
      "text/html": [
       "\n",
       "Датасет содержит информацию о 40000 ДТП, произошедших в России. Он содержит следующие столбцы: index, datetime, lat, lon, parent_region, region, category, severity, participant_categories, participants_count, injured_count, dead_count, light и weather. Типы данных различны: int64, object и float64. Индексом является столбец index. В столбцах parent_region, region, category, severity, participant_categories, light и weather уникальные значения."
      ],
      "text/plain": [
       "<IPython.core.display.HTML object>"
      ]
     },
     "metadata": {},
     "output_type": "display_data"
    },
    {
     "name": "stdout",
     "output_type": "stream",
     "text": [
      "40000 57.03283190727234\n"
     ]
    },
    {
     "data": {
      "text/html": [
       "\n",
       "Датасет содержит информацию о 60000 ДТП, произошедших в различных регионах России. Он содержит следующие столбцы: index, datetime, lat, lon, parent_region, region, category, severity, participant_categories, participants_count, injured_count, dead_count, light и weather. Типы данных включают int64, object и float64. Индексом является столбец index. В столбцах parent_region, region, category, severity и participant_categories уникальные значения соответственно 85, 2203, 18, 3 и 19."
      ],
      "text/plain": [
       "<IPython.core.display.HTML object>"
      ]
     },
     "metadata": {},
     "output_type": "display_data"
    },
    {
     "data": {
      "text/html": [
       "\n",
       "Датасет содержит информацию о 60000 ДТП, произошедших в различных регионах России. Он содержит следующие столбцы: index, datetime, lat, lon, parent_region, region, category, severity, participant_categories, participants_count, injured_count, dead_count, light и weather. Index - уникальный идентификатор ДТП. Datetime - дата и время происшествия. Lat - широта. Lon - долгота. Parent_region - родительский регион. Region - регион. Category - категория ДТП. Severity - тяжесть происшествия. Participant_categories - категория участников. Participants_count - количество участников. Injured_count - количество пострадавших. Dead_count - количество погибших. Light - условия освещенности. Weather - пог"
      ],
      "text/plain": [
       "<IPython.core.display.HTML object>"
      ]
     },
     "metadata": {},
     "output_type": "display_data"
    },
    {
     "data": {
      "text/html": [
       "\n",
       "Датасет содержит информацию о 60000 ДТП, произошедших в различных регионах России. Он содержит следующие столбцы: index, datetime, lat, lon, parent_region, region, category, severity, participant_categories, participants_count, injured_count, dead_count, light и weather. Index - уникальный идентификатор ДТП. Datetime - дата и время происшествия. Lat - широта. Lon - долгота. Parent_region - родительский регион. Region - регион. Category - категория ДТП. Severity - тяжесть происшествия. Participant_categories - категория участников. Participants_count - количество участников. Injured_count - количество пострадавших. Dead_count - количество погибших. Light - условия освещенности. Weather - пог"
      ],
      "text/plain": [
       "<IPython.core.display.HTML object>"
      ]
     },
     "metadata": {},
     "output_type": "display_data"
    },
    {
     "data": {
      "text/html": [
       "\n",
       "Датасет содержит информацию о 60000 ДТП, произошедших в различных регионах России. Он содержит следующие столбцы: index, datetime, lat, lon, parent_region, region, category, severity, participant_categories, participants_count, injured_count, dead_count, light и weather. Типы данных включают int64, object и float64. Индексом является столбец index. В столбцах parent_region, region, category, severity, participant_categories, light и weather уникальные значения соответственно 85, 2208, 18, 3, 22, 6 и 27."
      ],
      "text/plain": [
       "<IPython.core.display.HTML object>"
      ]
     },
     "metadata": {},
     "output_type": "display_data"
    },
    {
     "data": {
      "text/html": [
       "\n",
       "Датасет содержит информацию о 60000 ДТП, произошедших в различных регионах России. Он содержит следующие столбцы: index, datetime, lat, lon, parent_region, region, category, severity, participant_categories, participants_count, injured_count, dead_count, light и weather. Типы данных включают int64, object и float64. В столбце index 60000 уникальных значений. В столбце datetime 57200 уникальных значений. В столбцах lat и lon 54477 и 56001 уникальных значения соответственно. В столбце parent_region 85 уникальных значений. В столбце region 2195 уникальных значений. В столбце category 18 уникальных значений. В столбце severity 3 уникальные значе"
      ],
      "text/plain": [
       "<IPython.core.display.HTML object>"
      ]
     },
     "metadata": {},
     "output_type": "display_data"
    },
    {
     "name": "stdout",
     "output_type": "stream",
     "text": [
      "60000 77.57116794586182\n"
     ]
    },
    {
     "data": {
      "text/html": [
       "\n",
       "Датасет содержит 80000 строк и 14 столбцов. Индекс является целочисленным значением, а дата и время - объектом. Координаты широты и долготы являются объектами, а родительская область, регион, категория, степень тяжести, категории участников, количество участников, количество пострадавших, количество погибших, свет, погода - объекты.\n",
       "\n",
       "Уникальные значения: 80000 (index), 75082 (datetime), 71288 (lat), 73878 (lon), 85 (parent_region), 2219 (region), 18 (category), 3 (severity), 20 (participant_categories), 32 (participants_count), 28 (injured_count), 15 (dead_count), 6 (light) and 28 (weather).\n",
       "\n",
       "Примеры: index - ['127489', '1235998', '897509', '638579', '717243'"
      ],
      "text/plain": [
       "<IPython.core.display.HTML object>"
      ]
     },
     "metadata": {},
     "output_type": "display_data"
    },
    {
     "data": {
      "text/html": [
       "\n",
       "Датасет содержит 80000 строк и 13 столбцов. Индекс является целочисленным значением, а остальные столбцы являются объектами. Столбцы содержат информацию о дате, широте, долготе, родительском регионе, регионе, категории, степени тяжести, категориях участников, количество участников, количество пострадавших, количество погибших, освещение и погоду."
      ],
      "text/plain": [
       "<IPython.core.display.HTML object>"
      ]
     },
     "metadata": {},
     "output_type": "display_data"
    },
    {
     "data": {
      "text/html": [
       "\n",
       "Датасет содержит 80000 строк и 15 столбцов. Индекс является целочисленным значением, а остальные столбцы являются объектами. Столбцы datetime, lat, lon, parent_region, region, category, severity, participant_categories, participants_count, injured_count, dead_count, light, weather содержат информацию о дате и времени происшествия, географических координатах, родительском регионе, регионе, категории происшествия, уровню тяжести, категориям участников, количеству участников, количеству пострадавших и количеству погибших. Столбцы light и weather содержат информацию о условиях о"
      ],
      "text/plain": [
       "<IPython.core.display.HTML object>"
      ]
     },
     "metadata": {},
     "output_type": "display_data"
    },
    {
     "data": {
      "text/html": [
       "\n",
       "Датасет содержит информацию о 80000 ДТП, произошедших в различных регионах России. Он содержит следующие столбцы: index, datetime, lat, lon, parent_region, region, category, severity, participant_categories, participants_count, injured_count, dead_count, light и weather. Типы данных включают int64, object, float64. В столбцах index, datetime, lat, lon и parent_region нет дубликатов. В столбцах region, category, severity, participant_categories, participants_count, injured_count, dead_count, light и weather уникальные значения составляют 2224, 18, 3, 20, 31, 28 и 9 соответственно."
      ],
      "text/plain": [
       "<IPython.core.display.HTML object>"
      ]
     },
     "metadata": {},
     "output_type": "display_data"
    },
    {
     "data": {
      "text/html": [
       "\n",
       "Датасет содержит информацию о 80000 ДТП, произошедших в различных регионах России. Он содержит следующие колонки: index, datetime, lat, lon, parent_region, region, category, severity, participant_categories, participants_count, injured_count, dead_count, light и weather. Index - уникальный идентификатор ДТП. Datetime - дата и время происшествия. Lat - широта. Lon - долгота. Parent_region - родительская региональная единица. Region - регион. Category - категория ДТП. Severity - степень тяжести. Participant_categories - категория участников. Participants_count - количество участников. Injured_count - количество раненых. Dead_count - количество погибших. Light - условия освещенности. Weather - пог"
      ],
      "text/plain": [
       "<IPython.core.display.HTML object>"
      ]
     },
     "metadata": {},
     "output_type": "display_data"
    },
    {
     "name": "stdout",
     "output_type": "stream",
     "text": [
      "80000 81.95738339424133\n"
     ]
    },
    {
     "data": {
      "text/html": [
       "\n",
       "Датасет содержит информацию о 100000 ДТП, произошедших в различных регионах России. Он содержит следующие столбцы: index, datetime, lat, lon, parent_region, region, category, severity, participant_categories, participants_count, injured_count, dead_count, light и weather. Index - уникальный идентификатор ДТП. Datetime - дата и время происшествия. Lat - широта. Lon - долгота. Parent_region - родительская региональная единица. Region - регион. Category - категория ДТП. Severity - тяжесть происшествия. Participant_categories - категория участников. Participants_count - количество участников. Injured_count - количество пострадавших. Dead_count - количество погибших. Light - условия освеще"
      ],
      "text/plain": [
       "<IPython.core.display.HTML object>"
      ]
     },
     "metadata": {},
     "output_type": "display_data"
    },
    {
     "data": {
      "text/html": [
       "\n",
       "Датасет содержит информацию о 100000 ДТП, произошедших в различных регионах России. Он содержит следующие колонки: index, datetime, lat, lon, parent_region, region, category, severity, participant_categories, participants_count, injured_count, dead_count, light и weather. Index - уникальный идентификатор ДТП. Datetime - дата и время происшествия. Lat - широта. Lon - долгота. Parent_region - родительская региональная единица. Region - регион. Category - категория ДТП. Severity - степень тяжести. Participant_categories - категория участников. Participants_count - количество участников. Injured_count - количество пострадавших. Dead_count - количество погибших. Light - условия освещенности."
      ],
      "text/plain": [
       "<IPython.core.display.HTML object>"
      ]
     },
     "metadata": {},
     "output_type": "display_data"
    },
    {
     "data": {
      "text/html": [
       "\n",
       "Датасет содержит информацию о 100000 ДТП, произошедших в различных регионах России. Он содержит следующие столбцы: index, datetime, lat, lon, parent_region, region, category, severity, participant_categories, participants_count, injured_count, dead_count, light и weather. Типы данных включают int64, object и float64. В столбцах index, datetime, lat, lon и parent_region уникальные значения составляют 100000. В столбцах region, category, severity, participant_categories, participants_count, injured_count, dead_count, light и weather уникальные значения составляют 2245, 18, 3, 22, 30, 27 и 11 соответственно."
      ],
      "text/plain": [
       "<IPython.core.display.HTML object>"
      ]
     },
     "metadata": {},
     "output_type": "display_data"
    },
    {
     "data": {
      "text/html": [
       "\n",
       "Датасет содержит информацию о 100000 ДТП, произошедших в различных регионах России. Он содержит следующие столбцы: index, datetime, lat, lon, parent_region, region, category, severity, participant_categories, participants_count, injured_count, dead_count, light и weather. Все столбцы имеют тип object, кроме index, который имеет тип int64. В столбцах parent_region, region, category, severity, participant_categories, light и weather есть уникальные значения."
      ],
      "text/plain": [
       "<IPython.core.display.HTML object>"
      ]
     },
     "metadata": {},
     "output_type": "display_data"
    },
    {
     "data": {
      "text/html": [
       "\n",
       "Датасет содержит информацию о 100000 ДТП, произошедших в России. Он содержит следующие столбцы: index, datetime, lat, lon, parent_region, region, category, severity, participant_categories, participants_count, injured_count, dead_count, light и weather. Типы данных различны: int64, object и float64. Индексом является столбец index. В столбцах parent_region, region, category, severity, participant_categories, light и weather уникальные значения соответственно 85, 2241, 18, 3, 21, 6 и 28."
      ],
      "text/plain": [
       "<IPython.core.display.HTML object>"
      ]
     },
     "metadata": {},
     "output_type": "display_data"
    },
    {
     "name": "stdout",
     "output_type": "stream",
     "text": [
      "100000 78.5295741558075\n"
     ]
    },
    {
     "data": {
      "text/html": [
       "\n",
       "Датасет содержит 150000 строк и 14 столбцов. Индекс является целочисленным значением, а остальные столбцы являются объектами. Столбцы содержат информацию о дате, широте, долготе, родительском регионе, регионе, категории, степени тяжести, категориях участников, количество участников, количество пострадавших, количество погибших, освещение и погоду."
      ],
      "text/plain": [
       "<IPython.core.display.HTML object>"
      ]
     },
     "metadata": {},
     "output_type": "display_data"
    },
    {
     "data": {
      "text/html": [
       "\n",
       "Датасет содержит 150000 строк и 13 столбцов. Индекс является целочисленным значением, а остальные столбцы являются объектами. Столбцы содержат информацию о дате, широте, долготе, родительском регионе, регионе, категории, степени тяжести, категориях участников, количестве участников, количество пострадавших, количество погибших, освещении и погодным условиям."
      ],
      "text/plain": [
       "<IPython.core.display.HTML object>"
      ]
     },
     "metadata": {},
     "output_type": "display_data"
    },
    {
     "data": {
      "text/html": [
       "\n",
       "Датасет содержит 150000 строк и 15 столбцов. Индекс является целочисленным значением, а остальные столбцы являются объектами. Столбцы содержат информацию о дате, широте, долготе, родительском регионе, регионе, категории, степени тяжести, категориях участников, количестве участников, количестве пострадавших, количестве погибших, освещении и погодных условиях."
      ],
      "text/plain": [
       "<IPython.core.display.HTML object>"
      ]
     },
     "metadata": {},
     "output_type": "display_data"
    },
    {
     "data": {
      "text/html": [
       "\n",
       "Датасет содержит 150000 строк и 12 столбцов. Индекс является целочисленным значением, а остальные столбцы содержат объекты. Столбцы datetime, lat, lon, parent_region, region, category, severity, participant_categories, participants_count, injured_count, dead_count, light и weather содержат по 133421, 126849, 133992, 85, 2254, 18, 3, 21, 27, 24 и 12 уникальных значений соответственно."
      ],
      "text/plain": [
       "<IPython.core.display.HTML object>"
      ]
     },
     "metadata": {},
     "output_type": "display_data"
    },
    {
     "data": {
      "text/html": [
       "\n",
       "Датасет содержит 150000 строк и 14 столбцов. Индекс является целочисленным значением, а остальные столбцы являются объектами. Столбцы содержат информацию о дате и времени, широте, долготе, родительском регионе, регионе, категории, степени тяжести, категориях участников, количество участников, количество пострадавших, количество погибших, условия освещения и погоды."
      ],
      "text/plain": [
       "<IPython.core.display.HTML object>"
      ]
     },
     "metadata": {},
     "output_type": "display_data"
    },
    {
     "name": "stdout",
     "output_type": "stream",
     "text": [
      "150000 73.87414264678955\n"
     ]
    },
    {
     "data": {
      "text/html": [
       "\n",
       "Датасет содержит информацию о 200000 ДТП, произошедших в России. Он содержит следующие столбцы: index, datetime, lat, lon, parent_region, region, category, severity, participant_categories, participants_count, injured_count, dead_count, light и weather. Типы данных различны: int64, object и float64. Индексом является столбец index. В столбцах parent_region, region, category, severity, participant_categories, light и weather уникальные значения."
      ],
      "text/plain": [
       "<IPython.core.display.HTML object>"
      ]
     },
     "metadata": {},
     "output_type": "display_data"
    },
    {
     "data": {
      "text/html": [
       "\n",
       "Датасет содержит информацию о 200000 ДТП, произошедших в России с 2016 по 2020 год. Он содержит следующие столбцы: index, datetime, lat, lon, parent_region, region, category, severity, participant_categories, participants_count, injured_count, dead_count, light и weather. Типы данных различны: int64, object и float64. Индексом является столбец index. В столбцах parent_region, region, category, severity и participant_categories уникальные значения."
      ],
      "text/plain": [
       "<IPython.core.display.HTML object>"
      ]
     },
     "metadata": {},
     "output_type": "display_data"
    },
    {
     "data": {
      "text/html": [
       "\n",
       "Датасет df_ содержит информацию о 200000 ДТП, произошедших в России. Он содержит следующие столбцы: index, datetime, lat, lon, parent_region, region, category, severity, participant_categories, participants_count, injured_count, dead_count, light и weather. Типы данных различны: int64, object и float64. Индексом является столбец index. В столбцах parent_region, region, category, severity и participant_categories уникальные значения. Значения в столбцах head-sample и quantiles - являются примерами данных."
      ],
      "text/plain": [
       "<IPython.core.display.HTML object>"
      ]
     },
     "metadata": {},
     "output_type": "display_data"
    },
    {
     "data": {
      "text/html": [
       "\n",
       "Датасет содержит информацию о 200000 ДТП, произошедших в России. Он содержит следующие столбцы: index, datetime, lat, lon, parent_region, region, category, severity, participant_categories, participants_count, injured_count, dead_count, light и weather. Типы данных различны: int64, object и float64. Индексом является столбец index. В столбцах parent_region, region, category, severity, participant_categories, light и weather уникальные значения."
      ],
      "text/plain": [
       "<IPython.core.display.HTML object>"
      ]
     },
     "metadata": {},
     "output_type": "display_data"
    },
    {
     "data": {
      "text/html": [
       "\n",
       "Датасет содержит информацию о 200000 ДТП, произошедших в различных регионах России. Он содержит следующие столбцы: index, datetime, lat, lon, parent_region, region, category, severity, participant_categories, participants_count, injured_count, dead_count, light и weather. Типы данных включают int64, object и float64. Все столбцы имеют 200000 строк. Количество уникальных значений в столбцах index, datetime, lat, lon, parent_region, region и category составляет 200000. Квантили равны 1.0, 321468.25, 641799.5, 962659.5 и 1281346.0."
      ],
      "text/plain": [
       "<IPython.core.display.HTML object>"
      ]
     },
     "metadata": {},
     "output_type": "display_data"
    },
    {
     "name": "stdout",
     "output_type": "stream",
     "text": [
      "200000 69.47513198852539\n"
     ]
    },
    {
     "data": {
      "text/html": [
       "\n",
       "Датасет df_ содержит 250000 строк и 13 столбцов. Индекс является целочисленным значением, а остальные столбцы являются объектами. Столбцы datetime, lat, lon, parent_region, region, category, severity, participant_categories, participants_count, injured_count, dead_count, light и weather содержат по 250000 значений. В столбцах datetime, lat, lon, parent_region, region и category уникальных значений 207702, 200088, 215062, 85, 2267 и 18 соответственно. В столбцах severity, participant_categories, participants_count, injured_count, dead_count, light и weather уникальных значений 3, 22, 35, 30, 14, 6 и 30 соответственно."
      ],
      "text/plain": [
       "<IPython.core.display.HTML object>"
      ]
     },
     "metadata": {},
     "output_type": "display_data"
    },
    {
     "data": {
      "text/html": [
       "\n",
       "Датасет содержит 250000 строк и 11 столбцов. Индекс является целочисленным значением, а остальные столбцы являются объектами. Столбцы datetime, lat, lon, parent_region, region, category, severity, participant_categories, participants_count, injured_count, dead_count, light и weather содержат по 207630, 199908, 214860, 85, 2266, 18, 3, 23, 39, 33 и 13 уникальных значений соответственно."
      ],
      "text/plain": [
       "<IPython.core.display.HTML object>"
      ]
     },
     "metadata": {},
     "output_type": "display_data"
    },
    {
     "data": {
      "text/html": [
       "\n",
       "Датасет содержит 250000 строк и 14 столбцов. Индекс является целочисленным значением, а дата и время - объектом. Остальные столбцы содержат объекты, такие как широта, долгота, родительский регион, регион, категория, степень тяжести, категории участников, количество участников, количество пострадавших и количество погибших. Также есть сведения о светло-временных условиях и погодных условиях."
      ],
      "text/plain": [
       "<IPython.core.display.HTML object>"
      ]
     },
     "metadata": {},
     "output_type": "display_data"
    },
    {
     "data": {
      "text/html": [
       "\n",
       "Датасет содержит 250000 строк и 14 столбцов. Индекс является целочисленным значением, а остальные столбцы являются объектами. Столбцы datetime, lat, lon, parent_region, region, category, severity, participant_categories, participants_count, injured_count, dead_count, light и weather содержат по 207548, 200063, 214545, 85, 2265, 18, 3, 23, 39, 31 и 15 уникальных значений соответственно. Примеры данных из каждого столбца: index - 7.0; datetime - 2020-01-25 09:20:00; lat - 54.508339; lon - 52.868099; parent_region - Республика Татарстан (Татарстан); region - Бугульминский район; category - Столкновение; severity - Тяжёлый; participant_categories - Водители и пассажиры ТС; participants_count - 4; injured_count - 3; dead_count - 0; light - Светлое время су"
      ],
      "text/plain": [
       "<IPython.core.display.HTML object>"
      ]
     },
     "metadata": {},
     "output_type": "display_data"
    },
    {
     "data": {
      "text/html": [
       "\n",
       "Датасет содержит 250000 строк и 14 столбцов. Индекс является целочисленным значением, а остальные столбцы содержат объекты. Столбцы datetime, lat, lon, parent_region, region, category, severity, participant_categories, participants_count, injured_count, dead_count, light и weather содержат по 207613, 199944, 214916, 85, 2271, 18, 3, 23, 36, 28 и 12 уникальных значений соответственно. Примеры значений для каждого столбца можно найти в сводке."
      ],
      "text/plain": [
       "<IPython.core.display.HTML object>"
      ]
     },
     "metadata": {},
     "output_type": "display_data"
    },
    {
     "name": "stdout",
     "output_type": "stream",
     "text": [
      "250000 88.60846543312073\n"
     ]
    },
    {
     "data": {
      "text/html": [
       "\n",
       "Датасет содержит информацию о 300000 ДТП, произошедших в различных регионах России. Он содержит следующие столбцы: index, datetime, lat, lon, parent_region, region, category, severity, participant_categories, participants_count, injured_count, dead_count, light и weather. Типы данных включают int64, object и float64. В столбцах index, datetime, lat, lon, parent_region, region и category уникальные значения составляют 300000. Квантили 0.0, 321224.75, 642007.0, 961281.5 и 1281348.0."
      ],
      "text/plain": [
       "<IPython.core.display.HTML object>"
      ]
     },
     "metadata": {},
     "output_type": "display_data"
    },
    {
     "data": {
      "text/html": [
       "\n",
       "Датасет df_ содержит информацию о 300000 ДТП, произошедших в различных регионах России. Он содержит следующие столбцы: index, datetime, lat, lon, parent_region, region, category, severity, participant_categories, participants_count, injured_count, dead_count, light и weather. Index - уникальный идентификатор каждого ДТП. Datetime - дата и время происшествия. Lat и lon - широта и долгота. Parent_region - регион, в котором произошло ДТП. Region - точный район. Category - тип ДТП. Severity - степень тяжести. Participant_categories - участники ДТП. Participants_count - количество участников. Injured_count - количество пострадавших. Dead_count - количество погибших. Light - условия о"
      ],
      "text/plain": [
       "<IPython.core.display.HTML object>"
      ]
     },
     "metadata": {},
     "output_type": "display_data"
    },
    {
     "data": {
      "text/html": [
       "\n",
       "Датасет содержит информацию о 300000 ДТП, произошедших в различных регионах России. Он содержит следующие столбцы: index, datetime, lat, lon, parent_region, region, category, severity, participant_categories, participants_count, injured_count, dead_count, light и weather. Типы данных включают int64, object и float64. Индексом является столбец index."
      ],
      "text/plain": [
       "<IPython.core.display.HTML object>"
      ]
     },
     "metadata": {},
     "output_type": "display_data"
    },
    {
     "data": {
      "text/html": [
       "\n",
       "Датасет содержит информацию о 300000 ДТП, произошедших в различных регионах России. Он содержит следующие столбцы: index, datetime, lat, lon, parent_region, region, category, severity, participant_categories, participants_count, injured_count, dead_count, light и weather. Типы данных включают int64, object и float64. В столбцах index, datetime, lat, lon и parent_region уникальные значения составляют 300000. В столбцах region, category, severity, participant_categories, participants_count, injured_count, dead_count, light и weather уникальные значения составляют 2272, 18, 3, 22, 41, 36 и 17 соответственно."
      ],
      "text/plain": [
       "<IPython.core.display.HTML object>"
      ]
     },
     "metadata": {},
     "output_type": "display_data"
    },
    {
     "data": {
      "text/html": [
       "\n",
       "Датасет содержит информацию о 300000 ДТП, произошедших в различных регионах России. Он содержит следующие столбцы: index, datetime, lat, lon, parent_region, region, category, severity, participant_categories, participants_count, injured_count, dead_count, light и weather. Index - уникальный идентификатор ДТП. Datetime - дата и время происшествия. Lat - широта. Lon - долгота. Parent_region - родительская региональная единица. Region - регион. Category - категория ДТП. Severity - степень тяжести. Participant_categories - категория участников. Participants_count - количество участников. Injured_count - количество пострадавших. Dead_count - количество погибших. Light - условия освещенност"
      ],
      "text/plain": [
       "<IPython.core.display.HTML object>"
      ]
     },
     "metadata": {},
     "output_type": "display_data"
    },
    {
     "name": "stdout",
     "output_type": "stream",
     "text": [
      "300000 91.36043810844421\n"
     ]
    },
    {
     "data": {
      "text/html": [
       "\n",
       "Датасет содержит информацию о 350000 ДТП, произошедших в России. Он содержит следующие столбцы: index, datetime, lat, lon, parent_region, region, category, severity, participant_categories, participants_count, injured_count, dead_count, light и weather. Типы данных различны: int64, object и float64. В столбцах parent_region, region, category, severity и participant_categories уникальные значения соответственно 85, 2272, 18, 3 и 22."
      ],
      "text/plain": [
       "<IPython.core.display.HTML object>"
      ]
     },
     "metadata": {},
     "output_type": "display_data"
    },
    {
     "data": {
      "text/html": [
       "\n",
       "Датасет содержит информацию о 350000 ДТП, произошедших в различных регионах России. Он содержит следующие столбцы: index, datetime, lat, lon, parent_region, region, category, severity, participant_categories, participants_count, injured_count, dead_count, light и weather. Index - уникальный идентификатор каждого ДТП. Datetime - дата и время происшествия. Lat и lon - широта и долгота. Parent_region - регион, в котором произошло ДТП. Region - точный район. Category - тип ДТП. Severity - степень тяжести. Participant_categories - участники ДТП. Participants_count - количество участников. Injured_count - количество раненых. Dead_count - количество погибших. Light - условия освещенн"
      ],
      "text/plain": [
       "<IPython.core.display.HTML object>"
      ]
     },
     "metadata": {},
     "output_type": "display_data"
    },
    {
     "data": {
      "text/html": [
       "\n",
       "Датасет содержит информацию о 350000 ДТП, произошедших в России. Он содержит следующие столбцы: index, datetime, lat, lon, parent_region, region, category, severity, participant_categories, participants_count, injured_count, dead_count, light и weather. Index - уникальный идентификатор ДТП. Datetime - дата и время происшествия. Lat - широта. Lon - долгота. Parent_region - регион. Region - район. Category - категория ДТП. Severity - степень тяжести. Participant_categories - категория участников. Participants_count - количество участников. Injured_count - количество пострадавших. Dead_count - количество погибших. Light - условия освещенности. Weather - погодные условия."
      ],
      "text/plain": [
       "<IPython.core.display.HTML object>"
      ]
     },
     "metadata": {},
     "output_type": "display_data"
    },
    {
     "data": {
      "text/html": [
       "\n",
       "Датасет содержит 350000 строк и 12 столбцов. Индекс является целочисленным значением, а остальные столбцы являются объектами. Столбцы datetime, lat, lon, parent_region, region, category, severity, participant_categories, participants_count, injured_count, dead_count, light и weather содержат уникальные значения. Квантили для индекса равны 12.0, 319865.5, 639784.0, 959716.25 и 1281350.0."
      ],
      "text/plain": [
       "<IPython.core.display.HTML object>"
      ]
     },
     "metadata": {},
     "output_type": "display_data"
    },
    {
     "data": {
      "text/html": [
       "\n",
       "Датасет содержит 350000 строк и 11 столбцов. Индекс является целочисленным значением, а остальные столбцы являются объектами. Столбцы datetime, lat, lon, parent_region, region, category, severity, participant_categories, participants_count, injured_count и dead_count содержат уникальные значения. Столбцы light и weather содержат 31 и 6 уникальных значений соответственно."
      ],
      "text/plain": [
       "<IPython.core.display.HTML object>"
      ]
     },
     "metadata": {},
     "output_type": "display_data"
    },
    {
     "name": "stdout",
     "output_type": "stream",
     "text": [
      "350000 87.61038541793823\n"
     ]
    },
    {
     "data": {
      "text/html": [
       "\n",
       "Датасет содержит информацию о 400000 ДТП, произошедших в различных регионах России. Он содержит следующие столбцы: index, datetime, lat, lon, parent_region, region, category, severity, participant_categories, participants_count, injured_count, dead_count, light и weather. Index - уникальный идентификатор ДТП. Datetime - дата и время происшествия. Lat и lon - широта и долгота. Parent_region - родительская региональная единица. Region - регион. Category - категория ДТП. Severity - тяжесть. Participant_categories - категория участников. Participants_count - количество участников. Injured_count - количество раненых. Dead_count - количество погибших. Light - условия освещенности. Weather - погодны"
      ],
      "text/plain": [
       "<IPython.core.display.HTML object>"
      ]
     },
     "metadata": {},
     "output_type": "display_data"
    },
    {
     "data": {
      "text/html": [
       "\n",
       "Датасет содержит информацию о 400000 ДТП, произошедших в различных регионах России. Он содержит следующие столбцы: index, datetime, lat, lon, parent_region, region, category, severity, participant_categories, participants_count, injured_count, dead_count, light и weather. Index - уникальный идентификатор ДТП. Datetime - дата и время происшествия. Lat - широта. Lon - долгота. Parent_region - родительская региональная единица. Region - регион. Category - категория ДТП. Severity - степень тяжести. Participant_categories - категория участников. Participants_count - количество участников. Injured_count - количество пострадавших. Dead_count - количество погибших. Light - условия освещенност"
      ],
      "text/plain": [
       "<IPython.core.display.HTML object>"
      ]
     },
     "metadata": {},
     "output_type": "display_data"
    },
    {
     "data": {
      "text/html": [
       "\n",
       "Датасет df_ содержит 400000 строк и 11 столбцов. Индекс является целочисленным значением, а остальные столбцы являются объектами. Столбцы datetime, lat, lon, parent_region, region, category, severity, participant_categories, participants_count, injured_count, dead_count, light и weather содержат по 302098, 299807, 328042, 85, 2275, 18, 3, 21, 41, 37 и 14 уникальных значений соответственно. Квантили для index равны 2.0, 319987.25, 640664.5, 960910.25 и 1281347.0."
      ],
      "text/plain": [
       "<IPython.core.display.HTML object>"
      ]
     },
     "metadata": {},
     "output_type": "display_data"
    },
    {
     "data": {
      "text/html": [
       "\n",
       "Датасет содержит 400000 строк и 14 столбцов. Индекс является целочисленным значением, а остальные столбцы являются объектами. В столбцах datetime, lat, lon, parent_region, region, category, severity, participant_categories, participants_count, injured_count, dead_count, light и weather есть 302081, 299921, 328098, 85, 2276, 18, 3, 24, 44, 36 и 14 уникальных значений соответственно. Примеры данных для каждого столбца: ['442526', '2022-07-09 05:11:00', '55.7332', '37.711751', 'Москва', 'Нижегородский', 'Столкновение', 'Тяжёлый', 'Водители и пассажиры ТС', '2', '1', '0', 'Светлое время суток', 'Ясно']."
      ],
      "text/plain": [
       "<IPython.core.display.HTML object>"
      ]
     },
     "metadata": {},
     "output_type": "display_data"
    },
    {
     "data": {
      "text/html": [
       "\n",
       "Датасет содержит информацию о 400000 ДТП, произошедших в различных регионах России. Он содержит следующие столбцы: index, datetime, lat, lon, parent_region, region, category, severity, participant_categories, participants_count, injured_count, dead_count, light и weather. Index - уникальный идентификатор ДТП. Datetime - дата и время происшествия. Lat и lon - широта и долгота. Parent_region - родительская региональная единица. Region - регион. Category - категория ДТП. Severity - тяжесть. Participant_categories - категория участников. Participants_count - количество участников. Injured_count - количество пострадавших. Dead_count - количество погибших. Light - условия освещенности. Weather - п"
      ],
      "text/plain": [
       "<IPython.core.display.HTML object>"
      ]
     },
     "metadata": {},
     "output_type": "display_data"
    },
    {
     "name": "stdout",
     "output_type": "stream",
     "text": [
      "400000 97.07733130455017\n"
     ]
    },
    {
     "data": {
      "text/html": [
       "\n",
       "Датасет содержит 450000 строк и 12 столбцов. Индекс является целочисленным значением, а остальные столбцы являются объектами. Столбцы содержат информацию о дате, широте, долготе, родительском регионе, регионе, категории, степени тяжести, категориях участников, количестве участников, количестве пострадавших, количестве погибших, освещении и погодным условиям."
      ],
      "text/plain": [
       "<IPython.core.display.HTML object>"
      ]
     },
     "metadata": {},
     "output_type": "display_data"
    },
    {
     "data": {
      "text/html": [
       "\n",
       "Датасет содержит 450000 строк и 15 столбцов. Индекс является целочисленным значением, а остальные столбцы являются объектами. Столбцы datetime, lat, lon, parent_region, region, category, severity, participant_categories, participants_count, injured_count, dead_count, light и weather содержат уникальные значения. В датасете присутствуют данные о различных регионах, категориях ДТП, уровнях тяжести, участниках ДТП, количестве пострадавших и умерших, а также о условиях освещения и погоды."
      ],
      "text/plain": [
       "<IPython.core.display.HTML object>"
      ]
     },
     "metadata": {},
     "output_type": "display_data"
    },
    {
     "data": {
      "text/html": [
       "\n",
       "Датасет содержит информацию о 450000 ДТП, произошедших в различных регионах России. Он содержит следующие столбцы: index, datetime, lat, lon, parent_region, region, category, severity, participant_categories, participants_count, injured_count, dead_count, light и weather. Index - уникальный идентификатор каждого ДТП. Datetime - дата и время происшествия. Lat и lon - широта и долгота. Parent_region - родительский регион. Region - регион. Category - категория ДТП. Severity - степень тяжести. Participant_categories - категория участников. Participants_count - количество участников. Injured_count - количество пострадавших. Dead_count - количество погибших. Light - условия освещенности."
      ],
      "text/plain": [
       "<IPython.core.display.HTML object>"
      ]
     },
     "metadata": {},
     "output_type": "display_data"
    },
    {
     "data": {
      "text/html": [
       "\n",
       "Датасет содержит 450000 строк и 12 столбцов. Индекс является целочисленным значением, а остальные столбцы содержат объекты. Столбцы содержат информацию о дате, широте, долготе, родительском регионе, регионе, категории, степени тяжести, категориях участников, количество участников, количество пострадавших, количество погибших, освещенность и погоду."
      ],
      "text/plain": [
       "<IPython.core.display.HTML object>"
      ]
     },
     "metadata": {},
     "output_type": "display_data"
    },
    {
     "data": {
      "text/html": [
       "\n",
       "Датасет содержит 450000 строк и 14 столбцов. Индекс является целочисленным значением, а остальные столбцы являются объектами. Столбцы содержат информацию о дате, широте, долготе, родительском регионе, регионе, категории, степени тяжести, категориях участников, количество участников, количество пострадавших, количество погибших, освещенность и погоду."
      ],
      "text/plain": [
       "<IPython.core.display.HTML object>"
      ]
     },
     "metadata": {},
     "output_type": "display_data"
    },
    {
     "name": "stdout",
     "output_type": "stream",
     "text": [
      "450000 90.15607571601868\n"
     ]
    },
    {
     "data": {
      "text/html": [
       "\n",
       "Датасет содержит 500000 строк и 11 столбцов. Индекс является целочисленным значением, а остальные столбцы являются объектами. Столбцы datetime, lat, lon, parent_region, region, category, severity, participant_categories, participants_count, injured_count и dead_count содержат по 495867 уникальных значений. Столбец light содержит 6 уникальных значений, а weather - 33."
      ],
      "text/plain": [
       "<IPython.core.display.HTML object>"
      ]
     },
     "metadata": {},
     "output_type": "display_data"
    },
    {
     "data": {
      "text/html": [
       "\n",
       "Датасет содержит информацию о 500000 ДТП, произошедших в различных регионах России. Он содержит следующие столбцы: index, datetime, lat, lon, parent_region, region, category, severity, participant_categories, participants_count, injured_count, dead_count, light и weather. Все столбцы имеют тип object, кроме index, который имеет тип int64. В столбцах parent_region, region, category, severity и participant_categories наблюдается большое разнообразие значений."
      ],
      "text/plain": [
       "<IPython.core.display.HTML object>"
      ]
     },
     "metadata": {},
     "output_type": "display_data"
    },
    {
     "data": {
      "text/html": [
       "\n",
       "Датасет содержит информацию о 500000 ДТП, произошедших в различных регионах России. Он содержит следующие столбцы: index, datetime, lat, lon, parent_region, region, category, severity, participant_categories, participants_count, injured_count, dead_count, light и weather. Index - уникальный идентификатор ДТП. Datetime - дата и время происшествия. Lat и lon - широта и долгота. Parent_region - родительская региональная единица. Region - регион. Category - категория ДТП. Severity - тяжесть. Participant_categories - категория участников. Participants_count - количество участников. Injured_count - количество раненых. Dead_count - количество погибших. Light - условия освещенности. Weather - погодны"
      ],
      "text/plain": [
       "<IPython.core.display.HTML object>"
      ]
     },
     "metadata": {},
     "output_type": "display_data"
    },
    {
     "data": {
      "text/html": [
       "\n",
       "Датасет содержит информацию о 500000 ДТП, произошедших в различных регионах России. Он содержит следующие столбцы: index, datetime, lat, lon, parent_region, region, category, severity, participant_categories, participants_count, injured_count, dead_count, light и weather. Типы данных включают int64, object и float64. Индексом является столбец index. В столбцах parent_region, region, category, severity, participant_categories, light и weather уникальные значения соответственно 85, 2275, 18, 3, 24, 6 и 32."
      ],
      "text/plain": [
       "<IPython.core.display.HTML object>"
      ]
     },
     "metadata": {},
     "output_type": "display_data"
    },
    {
     "data": {
      "text/html": [
       "\n",
       "Датасет содержит информацию о 500000 ДТП, произошедших в различных регионах России. Он содержит следующие столбцы: index, datetime, lat, lon, parent_region, region, category, severity, participant_categories, participants_count, injured_count, dead_count, light и weather. Типы данных включают int64, object и float64. В столбце index 500000 уникальных значений. В столбце datetime 356506 уникальных значений. В столбцах lat и lon 361887 и 399148 уникальных значений соответственно. В столбце parent_region 85 уникальных значений. В столбце region 2272 уникальных значения. В столбце category 18 уникальных значений. В столбце severity 3 уникальные знач"
      ],
      "text/plain": [
       "<IPython.core.display.HTML object>"
      ]
     },
     "metadata": {},
     "output_type": "display_data"
    },
    {
     "name": "stdout",
     "output_type": "stream",
     "text": [
      "500000 87.05151224136353\n"
     ]
    },
    {
     "data": {
      "text/html": [
       "\n",
       "Датасет содержит информацию о 600000 ДТП, произошедших в различных регионах России. Он содержит следующие столбцы: index, datetime, lat, lon, parent_region, region, category, severity, participant_categories, participants_count, injured_count, dead_count, light и weather. Типы данных включают int64, object и float64. Индексом является столбец index. В столбцах parent_region, region, category, severity, participant_categories, light и weather уникальные значения соответственно 85, 2278, 18, 3, 23, 6 и 31. Квантили 0%, 25%, 50%, 75% и 100% равны 0.0, 320738.75, 641061.5, 961495.25 и 1281350.0."
      ],
      "text/plain": [
       "<IPython.core.display.HTML object>"
      ]
     },
     "metadata": {},
     "output_type": "display_data"
    },
    {
     "data": {
      "text/html": [
       "\n",
       "Датасет содержит информацию о 600000 ДТП, произошедших в различных регионах России. Он содержит следующие столбцы: index, datetime, lat, lon, parent_region, region, category, severity, participant_categories, participants_count, injured_count, dead_count, light и weather. Типы данных включают int64, object и float64. В столбце index есть 600000 уникальных значений. В столбце datetime 405657 уникальных значений. В столбцах lat и lon 420183 и 466928 уникальных значений соответственно. В столбце parent_region 85 уникальных значений. В столбце region 2275 уникальных значений. В столбце category 18 уникальных значений. В столбце severity 3 уникальные"
      ],
      "text/plain": [
       "<IPython.core.display.HTML object>"
      ]
     },
     "metadata": {},
     "output_type": "display_data"
    },
    {
     "data": {
      "text/html": [
       "\n",
       "Датасет содержит информацию о 600000 ДТП, произошедших в различных регионах России. Он содержит следующие столбцы: index, datetime, lat, lon, parent_region, region, category, severity, participant_categories, participants_count, injured_count, dead_count, light и weather. Типы данных включают int64, object, float64. В столбцах index, datetime, lat, lon и parent_region уникальные значения составляют 600000. В столбцах region, category, severity, participant_categories, participants_count, injured_count, dead_count, light и weather уникальные значения составляют 2277, 18, 3, 25, 46, 39 и 14 соответственно."
      ],
      "text/plain": [
       "<IPython.core.display.HTML object>"
      ]
     },
     "metadata": {},
     "output_type": "display_data"
    },
    {
     "data": {
      "text/html": [
       "\n",
       "Датасет содержит информацию о 600000 ДТП, произошедших в различных регионах России. Он содержит следующие столбцы: index, datetime, lat, lon, parent_region, region, category, severity, participant_categories, participants_count, injured_count, dead_count, light и weather. Index - уникальный идентификатор ДТП. Datetime - дата и время происшествия. Lat и lon - широта и долгота. Parent_region - регион. Region - район. Category - категория ДТП. Severity - степень тяжести. Participant_categories - категория участников. Participants_count - количество участников. Injured_count - количество пострадавших. Dead_count - количество погибших. Light - условия освещенности. Weather - погодные условия."
      ],
      "text/plain": [
       "<IPython.core.display.HTML object>"
      ]
     },
     "metadata": {},
     "output_type": "display_data"
    },
    {
     "data": {
      "text/html": [
       "\n",
       "Датасет содержит информацию о 600000 ДТП, произошедших в различных регионах России. Он содержит следующие столбцы: index, datetime, lat, lon, parent_region, region, category, severity, participant_categories, participants_count, injured_count, dead_count, light и weather. Index - уникальный идентификатор ДТП. Datetime - дата и время происшествия. Lat и lon - широта и долгота. Parent_region - регион. Region - район. Category - категория ДТП. Severity - тяжесть. Participant_categories - категория участников. Participants_count - количество участников. Injured_count - количество раненых. Dead_count - количество погибших. Light - условия освещенности. Weather - погодные условия."
      ],
      "text/plain": [
       "<IPython.core.display.HTML object>"
      ]
     },
     "metadata": {},
     "output_type": "display_data"
    },
    {
     "name": "stdout",
     "output_type": "stream",
     "text": [
      "600000 105.74999141693115\n"
     ]
    },
    {
     "data": {
      "text/html": [
       "\n",
       "Датасет содержит информацию о 700000 ДТП, произошедших в России. Он содержит следующие столбцы: index, datetime, lat, lon, parent_region, region, category, severity, participant_categories, participants_count, injured_count, dead_count, light и weather. Index - уникальный идентификатор ДТП. Datetime - дата и время происшествия. Lat и lon - широта и долгота. Parent_region - регион, в котором произошло ДТП. Region - точное местоположение. Category - тип ДТП. Severity - степень тяжести. Participant_categories - участники ДТП. Participants_count - количество участников. Injured_count - количество раненых. Dead_count - количество погибших. Light - условия освещенности. Weather - условия погоды."
      ],
      "text/plain": [
       "<IPython.core.display.HTML object>"
      ]
     },
     "metadata": {},
     "output_type": "display_data"
    },
    {
     "data": {
      "text/html": [
       "\n",
       "Датасет содержит информацию о 700000 ДТП, произошедших в различных регионах России. Он содержит следующие столбцы: index, datetime, lat, lon, parent_region, region, category, severity, participant_categories, participants_count, injured_count, dead_count, light и weather. Index - уникальный идентификатор ДТП. Datetime - дата и время происшествия. Lat и lon - широта и долгота. Parent_region - родительская региональная единица. Region - регион. Category - категория ДТП. Severity - степень тяжести. Participant_categories - категория участников. Participants_count - количество участников. Injured_count - количество пострадавших. Dead_count - количество погибших. Light - условия освещенн"
      ],
      "text/plain": [
       "<IPython.core.display.HTML object>"
      ]
     },
     "metadata": {},
     "output_type": "display_data"
    },
    {
     "data": {
      "text/html": [
       "\n",
       "Датасет содержит информацию о 700000 ДТП, произошедших в различных регионах России. Он содержит следующие столбцы: index, datetime, lat, lon, parent_region, region, category, severity, participant_categories, participants_count, injured_count, dead_count, light и weather. Типы данных включают int64, object и float64. В столбцах index, datetime, lat, lon и parent_region уникальные значения составляют 700000. В столбцах region, category, severity, participant_categories, participants_count, injured_count, dead_count, light и weather уникальные значения составляют 2280, 18, 3, 25, 46, 39 и 16 соответственно."
      ],
      "text/plain": [
       "<IPython.core.display.HTML object>"
      ]
     },
     "metadata": {},
     "output_type": "display_data"
    },
    {
     "data": {
      "text/html": [
       "\n",
       "Датасет содержит информацию о 700000 ДТП, произошедших в различных регионах России. Он содержит следующие столбцы: index, datetime, lat, lon, parent_region, region, category, severity, participant_categories, participants_count, injured_count, dead_count, light и weather. Index - уникальный идентификатор каждого ДТП. Datetime - дата и время происшествия. Lat и lon - широта и долгота. Parent_region - родительская региональная единица. Region - регион. Category - категория ДТП. Severity - степень тяжести. Participant_categories - категория участников. Participants_count - количество участников. Injured_count - количество раненых. Dead_count - количество погибших. Light - условия освещ"
      ],
      "text/plain": [
       "<IPython.core.display.HTML object>"
      ]
     },
     "metadata": {},
     "output_type": "display_data"
    },
    {
     "data": {
      "text/html": [
       "\n",
       "Датасет содержит информацию о 700000 ДТП, произошедших в различных регионах России. Он содержит следующие столбцы: index, datetime, lat, lon, parent_region, region, category, severity, participant_categories, participants_count, injured_count, dead_count, light и weather. Index - уникальный идентификатор ДТП. Datetime - дата и время происшествия. Lat - широта. Lon - долгота. Parent_region - регион. Region - район. Category - категория ДТП. Severity - тяжесть происшествия. Participant_categories - категория участников. Participants_count - количество участников. Injured_count - количество пострадавших. Dead_count - количество погибших. Light - условия освещенности. Weather - погодные условия."
      ],
      "text/plain": [
       "<IPython.core.display.HTML object>"
      ]
     },
     "metadata": {},
     "output_type": "display_data"
    },
    {
     "name": "stdout",
     "output_type": "stream",
     "text": [
      "700000 113.2233498096466\n"
     ]
    },
    {
     "data": {
      "text/html": [
       "\n",
       "Датасет df_ содержит 800000 строк и 11 столбцов. Индекс является целочисленным значением, а остальные столбцы являются объектами. Столбцы datetime, lat, lon, parent_region, region, category, severity, participant_categories, participants_count, injured_count, dead_count, light и weather содержат уникальные значения. Например, столбец category содержит 18 уникальных значений. Значения в столбцах head-sample и quantiles предоставляют примеры данных из начальных 5 строк и 5-квантиль."
      ],
      "text/plain": [
       "<IPython.core.display.HTML object>"
      ]
     },
     "metadata": {},
     "output_type": "display_data"
    },
    {
     "data": {
      "text/html": [
       "\n",
       "Датасет содержит информацию о 800000 ДТП, произошедших в различных регионах России. Он содержит следующие столбцы: index, datetime, lat, lon, parent_region, region, category, severity, participant_categories, participants_count, injured_count, dead_count, light и weather. Index - уникальный идентификатор ДТП. Datetime - дата и время происшествия. Lat и lon - широта и долгота. Parent_region - родительский регион. Region - регион. Category - категория ДТП. Severity - тяжесть. Participant_categories - категория участников. Participants_count - количество участников. Injured_count - количество раненых. Dead_count - количество погибших. Light - условия освещенности. Weather - погодные условия."
      ],
      "text/plain": [
       "<IPython.core.display.HTML object>"
      ]
     },
     "metadata": {},
     "output_type": "display_data"
    },
    {
     "data": {
      "text/html": [
       "\n",
       "Датасет df_ содержит 800000 строк и 13 столбцов. Индекс является целочисленным значением, а остальные столбцы являются объектами. Столбцы datetime, lat, lon, parent_region, region, category, severity, participant_categories, participants_count, injured_count, dead_count, light и weather содержат уникальные значения. Квантили индекса 0.0, 320637.75, 641220.5, 961171.5 и 1281349.0."
      ],
      "text/plain": [
       "<IPython.core.display.HTML object>"
      ]
     },
     "metadata": {},
     "output_type": "display_data"
    },
    {
     "data": {
      "text/html": [
       "\n",
       "Датасет содержит информацию о 800000 ДТП, произошедших в различных регионах России. Он содержит следующие столбцы: index, datetime, lat, lon, parent_region, region, category, severity, participant_categories, participants_count, injured_count, dead_count, light и weather. Index - уникальный идентификатор каждого ДТП. Datetime - дата и время происшествия. Lat и lon - широта и долгота. Parent_region - регион, в котором произошло ДТП. Region - район, в котором произошло ДТП. Category - тип ДТП. Severity - степень тяжести. Participant_categories - участники ДТП. Participants_count - количество участников. Injured_count - количество раненых. Dead_count - количество погибших."
      ],
      "text/plain": [
       "<IPython.core.display.HTML object>"
      ]
     },
     "metadata": {},
     "output_type": "display_data"
    },
    {
     "data": {
      "text/html": [
       "\n",
       "Датасет содержит 800000 строк и 11 столбцов. Индекс является целочисленным значением, а остальные столбцы являются объектами. Столбцы datetime, lat, lon, parent_region, region, category, severity, participant_categories, participants_count, injured_count, dead_count, light и weather содержат по 490622, 530085, 595984, 85, 2280, 18, 3, 24, 52, 44 и 19 уникальных значений соответственно. Примеры данных из каждого столбца: index - ['800561', '881261', '915066', '1226827', '182641'], datetime - ['2022-06-04 00:20:00', '2015-07-25 16:45:00', '2015-12-09 08:50:00', '2016-12-05 08:10:00', '2021-09-30 22:30:00'], lat - ['44.435672', '51.555', '47.516667', '53.5856', '52.260829'], lon - ['34.093698', '93.799444', '42.133056', '58.9394', '104.26079'], parent_region - ['Республика Крым', 'Республик"
      ],
      "text/plain": [
       "<IPython.core.display.HTML object>"
      ]
     },
     "metadata": {},
     "output_type": "display_data"
    },
    {
     "name": "stdout",
     "output_type": "stream",
     "text": [
      "800000 112.25982308387756\n"
     ]
    },
    {
     "data": {
      "text/html": [
       "\n",
       "Датасет содержит информацию о 900000 ДТП, произошедших в различных регионах России. Он содержит следующие столбцы: index, datetime, lat, lon, parent_region, region, category, severity, participant_categories, participants_count, injured_count, dead_count, light и weather. Index - уникальный идентификатор каждого ДТП. Datetime - дата и время происшествия. Lat и lon - широта и долгота. Parent_region - родительский регион. Region - регион. Category - категория ДТП. Severity - степень тяжести. Participant_categories - категория участников. Participants_count - количество участников. Injured_count - количество раненых. Dead_count - количество погибших. Light - условия освещенности. Weather - пог"
      ],
      "text/plain": [
       "<IPython.core.display.HTML object>"
      ]
     },
     "metadata": {},
     "output_type": "display_data"
    },
    {
     "data": {
      "text/html": [
       "\n",
       "Датасет содержит информацию о 900000 ДТП, произошедших в различных регионах России. Он содержит следующие столбцы: index, datetime, lat, lon, parent_region, region, category, severity, participant_categories, participants_count, injured_count, dead_count, light и weather. Index - уникальный идентификатор ДТП. Datetime - дата и время происшествия. Lat и lon - широта и долгота. Parent_region - родительская региональная единица. Region - регион. Category - категория ДТП. Severity - степень тяжести. Participant_categories - категория участников. Participants_count - количество участников. Injured_count - количество пострадавших. Dead_count - количество погибших. Light - условия освещенн"
      ],
      "text/plain": [
       "<IPython.core.display.HTML object>"
      ]
     },
     "metadata": {},
     "output_type": "display_data"
    },
    {
     "data": {
      "text/html": [
       "\n",
       "Датасет содержит информацию о 900000 ДТП, произошедших в различных регионах России. Он содержит следующие столбцы: index, datetime, lat, lon, parent_region, region, category, severity, participant_categories, participants_count, injured_count, dead_count, light и weather. Типы данных включают int64, object и float64. Все столбцы имеют 900000 строк. Количество уникальных значений различается для каждого столбца. Квантильные разделы равны 1.0, 320437.75, 640775.5, 960919.25 и 1281350.0."
      ],
      "text/plain": [
       "<IPython.core.display.HTML object>"
      ]
     },
     "metadata": {},
     "output_type": "display_data"
    },
    {
     "data": {
      "text/html": [
       "\n",
       "Датасет содержит информацию о 900000 ДТП, произошедших в различных регионах России. Он содержит следующие столбцы: index, datetime, lat, lon, parent_region, region, category, severity, participant_categories, participants_count, injured_count, dead_count, light и weather. Index - уникальный идентификатор ДТП. Datetime - дата и время происшествия. Lat и lon - широта и долгота. Parent_region - родительская региональная единица. Region - регион. Category - категория ДТП. Severity - степень тяжести. Participant_categories - категория участников. Participants_count - количество участников. Injured_count - количество пострадавших. Dead_count - количество погибших. Light - условия освещенн"
      ],
      "text/plain": [
       "<IPython.core.display.HTML object>"
      ]
     },
     "metadata": {},
     "output_type": "display_data"
    },
    {
     "data": {
      "text/html": [
       "\n",
       "Датасет содержит информацию о 900000 ДТП, произошедших в различных регионах России. Он содержит следующие столбцы: index, datetime, lat, lon, parent_region, region, category, severity, participant_categories, participants_count, injured_count, dead_count, light и weather. Типы данных включают int64, object и float64. В столбцах index, datetime, lat, lon и parent_region уникальные значения составляют 900000. В столбцах region, category, severity, participant_categories, participants_count, injured_count, dead_count, light и weather уникальные значения составляют 2281, 18, 3, 25, 51, 42 и 19 соответственно."
      ],
      "text/plain": [
       "<IPython.core.display.HTML object>"
      ]
     },
     "metadata": {},
     "output_type": "display_data"
    },
    {
     "name": "stdout",
     "output_type": "stream",
     "text": [
      "900000 118.99462127685547\n"
     ]
    },
    {
     "data": {
      "text/html": [
       "\n",
       "Датасет содержит информацию о миллионе аварий, произошедших в разных регионах России. Он содержит следующие столбцы: index, datetime, lat, lon, parent_region, region, category, severity, participant_categories, participants_count, injured_count, dead_count, light и weather. Типы данных включают int64, object и float64. Всего 1 000 000 строк. Уникальные значения равны 633 567 (lat), 716 356 (lon), 85 (parent_region), 2 280 (region), 18 (category), 3 (severity), 25 (participant_categories), 51 (participants_count), 43 (injured_count), 17 (dead_count), 6 (light) и 33 (weather)."
      ],
      "text/plain": [
       "<IPython.core.display.HTML object>"
      ]
     },
     "metadata": {},
     "output_type": "display_data"
    },
    {
     "data": {
      "text/html": [
       "\n",
       "Датасет df_ содержит информацию о миллионе аварий, произошедших в разных регионах России. Он содержит следующие столбцы: index, datetime, lat, lon, parent_region, region, category, severity, participant_categories, participants_count, injured_count, dead_count, light и weather. Типы данных включают int64, object и float64. Всего 1 000 000 строк. Уникальные значения равны 1 000 000. Квантили 2.0, 320126.75, 640801.5, 961155.25 и 1281350.0."
      ],
      "text/plain": [
       "<IPython.core.display.HTML object>"
      ]
     },
     "metadata": {},
     "output_type": "display_data"
    },
    {
     "data": {
      "text/html": [
       "\n",
       "Датасет содержит информацию о миллионе ДТП, произошедших в России. Он содержит следующие столбцы: index, datetime, lat, lon, parent_region, region, category, severity, participant_categories, participants_count, injured_count, dead_count, light и weather. Типы данных различны: int64, object и float64. Индексом является столбец index. В столбцах parent_region, region, category, severity, participant_categories, light и weather уникальные значения."
      ],
      "text/plain": [
       "<IPython.core.display.HTML object>"
      ]
     },
     "metadata": {},
     "output_type": "display_data"
    },
    {
     "data": {
      "text/html": [
       "\n",
       "Датасет содержит информацию о миллионе аварий, произошедших в разных регионах России. Он содержит следующие столбцы: index, datetime, lat, lon, parent_region, region, category, severity, participant_categories, participants_count, injured_count, dead_count, light и weather. Типы данных включают int64, object и float64. Все столбцы имеют 1 000 000 строк. Index - уникальный идентификатор события. Datetime - дата и время события. Lat - широта. Lon - долгота. Parent_region - родительский регион. Region - регион. Category - категория события. Severity - уровень тяжести. Participant_categories - категория участников. Participants_count - количество участников. Injured_count - количество пострадавши"
      ],
      "text/plain": [
       "<IPython.core.display.HTML object>"
      ]
     },
     "metadata": {},
     "output_type": "display_data"
    },
    {
     "data": {
      "text/html": [
       "\n",
       "Датасет содержит информацию о миллионе ДТП, произошедших в России. Он содержит следующие столбцы: index, datetime, lat, lon, parent_region, region, category, severity, participant_categories, participants_count, injured_count, dead_count, light и weather. Типы данных различны: int64, object и float64. Индексом является столбец index. В столбцах parent_region, region, category, severity, participant_categories, light и weather уникальные значения. В столбцах participants_count, injured_count и dead_count уникальные значения."
      ],
      "text/plain": [
       "<IPython.core.display.HTML object>"
      ]
     },
     "metadata": {},
     "output_type": "display_data"
    },
    {
     "name": "stdout",
     "output_type": "stream",
     "text": [
      "1000000 120.47132563591003\n"
     ]
    },
    {
     "data": {
      "text/html": [
       "\n",
       "Датасет содержит 1100000 строк и 11 столбцов. Индекс является целочисленным значением, а остальные столбцы являются объектами. Столбцы datetime, lat, lon, parent_region, region, category, severity, participant_categories, participants_count, injured_count, dead_count, light и weather содержат уникальные значения. Например, столбец category содержит 18 уникальных значений. Квантили для индекса 0.0, 320546.75, 640957.0, 961258.25 и 1281350.0."
      ],
      "text/plain": [
       "<IPython.core.display.HTML object>"
      ]
     },
     "metadata": {},
     "output_type": "display_data"
    },
    {
     "data": {
      "text/html": [
       "\n",
       "Датасет содержит 1100000 строк и 12 столбцов. Индекс является целочисленным значением, а остальные столбцы являются объектами. Столбцы datetime, lat, lon, parent_region, region, category, severity, participant_categories, participants_count, injured_count, dead_count, light и weather содержат уникальные значения. Например, столбец category содержит 18 уникальных значений. Для каждого столбца приведены примеры значений."
      ],
      "text/plain": [
       "<IPython.core.display.HTML object>"
      ]
     },
     "metadata": {},
     "output_type": "display_data"
    },
    {
     "data": {
      "text/html": [
       "\n",
       "Датасет содержит 1100000 строк и 12 столбцов. Индекс является целочисленным значением, а остальные столбцы являются объектами. Столбцы содержат информацию о дате, широте, долготе, родительском регионе, регионе, категории, степени тяжести, категориях участников, количестве участников, количество пострадавших, количество погибших, освещении и погодным условиям."
      ],
      "text/plain": [
       "<IPython.core.display.HTML object>"
      ]
     },
     "metadata": {},
     "output_type": "display_data"
    },
    {
     "data": {
      "text/html": [
       "\n",
       "Датасет содержит 1100000 строк и 11 столбцов. Индекс является целочисленным значением, а остальные столбцы являются объектами. Столбцы содержат информацию о дате, широте, долготе, родительском регионе, регионе, категории, степени тяжести, категориях участников, количество участников, количество пострадавших, количество погибших, освещения и погоды.\n"
      ],
      "text/plain": [
       "<IPython.core.display.HTML object>"
      ]
     },
     "metadata": {},
     "output_type": "display_data"
    },
    {
     "data": {
      "text/html": [
       "\n",
       "Датасет содержит 1100000 строк и 13 столбцов. Индекс является целочисленным значением, а остальные столбцы содержат объекты. Столбцы содержат информацию о дате и времени, широте, долготе, родительском регионе, регионе, категории, степени тяжести, категориях участников, количеству участников, количеству пострадавших, количеству погибших, освещению и погодным условиям."
      ],
      "text/plain": [
       "<IPython.core.display.HTML object>"
      ]
     },
     "metadata": {},
     "output_type": "display_data"
    },
    {
     "name": "stdout",
     "output_type": "stream",
     "text": [
      "1100000 118.42129611968994\n"
     ]
    },
    {
     "data": {
      "text/html": [
       "\n",
       "Датасет df_ содержит 1200000 строк и 13 столбцов. Индекс является целочисленным значением, а остальные столбцы являются объектами. Столбцы datetime, lat, lon, parent_region, region, category, severity, participant_categories, participants_count, injured_count, dead_count, light и weather содержат по 1200000 уникальных значений. Квантили для index равны 0.0, 320166.75, 640578.5, 960937.25 и 1281350.0."
      ],
      "text/plain": [
       "<IPython.core.display.HTML object>"
      ]
     },
     "metadata": {},
     "output_type": "display_data"
    },
    {
     "data": {
      "text/html": [
       "\n",
       "Датасет содержит 1200000 строк и 12 столбцов. Индекс является целочисленным значением, а остальные столбцы являются объектами. Столбцы содержат информацию о дате, широте, долготе, родительском регионе, регионе, категории, степени тяжести, категориях участников, количестве участников, количестве пострадавших, количестве погибших, освещении и погодным условиям."
      ],
      "text/plain": [
       "<IPython.core.display.HTML object>"
      ]
     },
     "metadata": {},
     "output_type": "display_data"
    },
    {
     "data": {
      "text/html": [
       "\n",
       "Датасет содержит информацию о 1200000 ДТП, произошедших в различных регионах России. Он содержит следующие столбцы: index, datetime, lat, lon, parent_region, region, category, severity, participant_categories, participants_count, injured_count, dead_count, light и weather. Типы данных включают int64, object и float64. В столбцах index, datetime, lat, lon и parent_region уникальные значения составляют 1200000, 625072, 725851, 830731 и 85 соответственно. В столбцах region, category, severity, participant_categories уникальные значения составляют 2282, 18, 3, 25 соответственно."
      ],
      "text/plain": [
       "<IPython.core.display.HTML object>"
      ]
     },
     "metadata": {},
     "output_type": "display_data"
    },
    {
     "data": {
      "text/html": [
       "\n",
       "Датасет содержит 1200000 строк и 13 столбцов. Индекс является целочисленным значением, а остальные столбцы являются объектами. Столбцы содержат информацию о дате, широте, долготе, родительской области, регионе, категории, степени тяжести, категориях участников, количестве участников, количество пострадавших, количество погибших, условиям освещения и погоды.\n"
      ],
      "text/plain": [
       "<IPython.core.display.HTML object>"
      ]
     },
     "metadata": {},
     "output_type": "display_data"
    },
    {
     "data": {
      "text/html": [
       "\n",
       "Датасет содержит 1200000 строк и 11 столбцов. Индекс является целочисленным значением, а остальные столбцы содержат объекты. Столбцы содержат информацию о дате и времени, широте, долготе, родительском регионе, районе, категории, степени тяжести, категориях участников, количество участников, количество пострадавших, количество погибших, освещения и погоды.\n"
      ],
      "text/plain": [
       "<IPython.core.display.HTML object>"
      ]
     },
     "metadata": {},
     "output_type": "display_data"
    },
    {
     "name": "stdout",
     "output_type": "stream",
     "text": [
      "1200000 125.89042091369629\n"
     ]
    },
    {
     "data": {
      "text/html": [
       "<div>\n",
       "<style scoped>\n",
       "    .dataframe tbody tr th:only-of-type {\n",
       "        vertical-align: middle;\n",
       "    }\n",
       "\n",
       "    .dataframe tbody tr th {\n",
       "        vertical-align: top;\n",
       "    }\n",
       "\n",
       "    .dataframe thead th {\n",
       "        text-align: right;\n",
       "    }\n",
       "</style>\n",
       "<table border=\"1\" class=\"dataframe\">\n",
       "  <thead>\n",
       "    <tr style=\"text-align: right;\">\n",
       "      <th></th>\n",
       "      <th>size</th>\n",
       "      <th>time</th>\n",
       "    </tr>\n",
       "  </thead>\n",
       "  <tbody>\n",
       "    <tr>\n",
       "      <th>0</th>\n",
       "      <td>2000</td>\n",
       "      <td>10.136333</td>\n",
       "    </tr>\n",
       "    <tr>\n",
       "      <th>1</th>\n",
       "      <td>6000</td>\n",
       "      <td>12.692091</td>\n",
       "    </tr>\n",
       "    <tr>\n",
       "      <th>2</th>\n",
       "      <td>10000</td>\n",
       "      <td>12.217156</td>\n",
       "    </tr>\n",
       "    <tr>\n",
       "      <th>3</th>\n",
       "      <td>20000</td>\n",
       "      <td>14.724617</td>\n",
       "    </tr>\n",
       "    <tr>\n",
       "      <th>4</th>\n",
       "      <td>40000</td>\n",
       "      <td>11.406566</td>\n",
       "    </tr>\n",
       "    <tr>\n",
       "      <th>5</th>\n",
       "      <td>60000</td>\n",
       "      <td>15.514234</td>\n",
       "    </tr>\n",
       "    <tr>\n",
       "      <th>6</th>\n",
       "      <td>80000</td>\n",
       "      <td>16.391477</td>\n",
       "    </tr>\n",
       "    <tr>\n",
       "      <th>7</th>\n",
       "      <td>100000</td>\n",
       "      <td>15.705915</td>\n",
       "    </tr>\n",
       "    <tr>\n",
       "      <th>8</th>\n",
       "      <td>150000</td>\n",
       "      <td>14.774829</td>\n",
       "    </tr>\n",
       "    <tr>\n",
       "      <th>9</th>\n",
       "      <td>200000</td>\n",
       "      <td>13.895026</td>\n",
       "    </tr>\n",
       "    <tr>\n",
       "      <th>10</th>\n",
       "      <td>250000</td>\n",
       "      <td>17.721693</td>\n",
       "    </tr>\n",
       "    <tr>\n",
       "      <th>11</th>\n",
       "      <td>300000</td>\n",
       "      <td>18.272088</td>\n",
       "    </tr>\n",
       "    <tr>\n",
       "      <th>12</th>\n",
       "      <td>350000</td>\n",
       "      <td>17.522077</td>\n",
       "    </tr>\n",
       "    <tr>\n",
       "      <th>13</th>\n",
       "      <td>400000</td>\n",
       "      <td>19.415466</td>\n",
       "    </tr>\n",
       "    <tr>\n",
       "      <th>14</th>\n",
       "      <td>450000</td>\n",
       "      <td>18.031215</td>\n",
       "    </tr>\n",
       "    <tr>\n",
       "      <th>15</th>\n",
       "      <td>500000</td>\n",
       "      <td>17.410302</td>\n",
       "    </tr>\n",
       "    <tr>\n",
       "      <th>16</th>\n",
       "      <td>600000</td>\n",
       "      <td>21.149998</td>\n",
       "    </tr>\n",
       "    <tr>\n",
       "      <th>17</th>\n",
       "      <td>700000</td>\n",
       "      <td>22.644670</td>\n",
       "    </tr>\n",
       "    <tr>\n",
       "      <th>18</th>\n",
       "      <td>800000</td>\n",
       "      <td>22.451965</td>\n",
       "    </tr>\n",
       "    <tr>\n",
       "      <th>19</th>\n",
       "      <td>900000</td>\n",
       "      <td>23.798924</td>\n",
       "    </tr>\n",
       "    <tr>\n",
       "      <th>20</th>\n",
       "      <td>1000000</td>\n",
       "      <td>24.094265</td>\n",
       "    </tr>\n",
       "    <tr>\n",
       "      <th>21</th>\n",
       "      <td>1100000</td>\n",
       "      <td>23.684259</td>\n",
       "    </tr>\n",
       "    <tr>\n",
       "      <th>22</th>\n",
       "      <td>1200000</td>\n",
       "      <td>25.178084</td>\n",
       "    </tr>\n",
       "  </tbody>\n",
       "</table>\n",
       "</div>"
      ],
      "text/plain": [
       "       size       time\n",
       "0      2000  10.136333\n",
       "1      6000  12.692091\n",
       "2     10000  12.217156\n",
       "3     20000  14.724617\n",
       "4     40000  11.406566\n",
       "5     60000  15.514234\n",
       "6     80000  16.391477\n",
       "7    100000  15.705915\n",
       "8    150000  14.774829\n",
       "9    200000  13.895026\n",
       "10   250000  17.721693\n",
       "11   300000  18.272088\n",
       "12   350000  17.522077\n",
       "13   400000  19.415466\n",
       "14   450000  18.031215\n",
       "15   500000  17.410302\n",
       "16   600000  21.149998\n",
       "17   700000  22.644670\n",
       "18   800000  22.451965\n",
       "19   900000  23.798924\n",
       "20  1000000  24.094265\n",
       "21  1100000  23.684259\n",
       "22  1200000  25.178084"
      ]
     },
     "execution_count": 54,
     "metadata": {},
     "output_type": "execute_result"
    }
   ],
   "source": [
    "import time\n",
    "sizes = []\n",
    "times = []\n",
    "sizes.extend(list(range(2000, 10001, 4000)))\n",
    "sizes.extend(list(range(20_000, 100_000, 20_000)))\n",
    "sizes.extend(list(range(100_000, 500_000, 50_000)))\n",
    "sizes.extend(list(range(500_000, 1250_000, 100_000)))\n",
    "df1 = df.drop('vehicles', axis=1)\n",
    "iters = 5\n",
    "for s in sizes:\n",
    "    t = 0\n",
    "    for i in range(iters):\n",
    "        df_ = df1.sample(s)\n",
    "        begin = time.time()\n",
    "        df_.sketch.ask('Опиши датасет')\n",
    "        t += time.time()-begin\n",
    "    times.append(t/iters)\n",
    "    print(s, t)\n",
    "test_df = pd.DataFrame({'size':sizes, 'time':times})\n",
    "test_df['size'] = test_df['size'] / 1000\n",
    "test_df"
   ]
  },
  {
   "cell_type": "code",
   "execution_count": null,
   "metadata": {},
   "outputs": [
    {
     "data": {
      "image/png": "[encoded data removed]",
      "text/plain": [
       "<Figure size 1008x432 with 1 Axes>"
      ]
     },
     "metadata": {},
     "output_type": "display_data"
    }
   ],
   "source": [
    "ax = test_df.plot(x='size', figsize=(14, 6), grid=True, # , y='time'\n",
    "             fontsize=16, xlim=(0,1200), linewidth=2)   # , legend=False\n",
    "ax.set_xlabel('Pазмер выборки, тыс. записей', fontsize=16)\n",
    "ax.set_ylabel('Время выполнения, сек.', fontsize=16)\n",
    "ax.set_title(\"Среднее время выполнения запроса в зависимости от объёма датасета\", fontsize=18);"
   ]
  },
  {
   "cell_type": "code",
   "execution_count": 63,
   "metadata": {},
   "outputs": [
    {
     "data": {
      "text/plain": [
       "Москва                          72122\n",
       "Краснодарский край              52505\n",
       "Санкт-Петербург                 47860\n",
       "Московская область              47119\n",
       "Нижегородская область           41482\n",
       "                                ...  \n",
       "Магаданская область              1955\n",
       "Еврейская автономная область     1803\n",
       "Республика Ингушетия             1649\n",
       "Ненецкий автономный округ         253\n",
       "Чукотский автономный округ        201\n",
       "Name: parent_region, Length: 85, dtype: int64"
      ]
     },
     "execution_count": 63,
     "metadata": {},
     "output_type": "execute_result"
    }
   ],
   "source": [
    "df1.parent_region.value_counts()"
   ]
  },
  {
   "cell_type": "code",
   "execution_count": 66,
   "metadata": {},
   "outputs": [
    {
     "data": {
      "text/html": [
       "\n",
       "Датасет содержит 2000 записей о дорожно-транспортных происшествиях, произошедших в различных регионах России. Он содержит следующие столбцы: index, datetime, lat, lon, parent_region, region, category, severity, participant_categories, participants_count, injured_count, dead_count, light и weather. Index - уникальный идентификатор записи. Datetime - дата и время происшествия. Lat - широта. Lon - долгота. Parent_region - родительский регион. Region - регион. Category - категория происшествия. Severity - уровень тяжести. Participant_categories - категория участников. Participants_count - количество участников. Injured_count - количество пострадавших. Dead_count - количество погибших."
      ],
      "text/plain": [
       "<IPython.core.display.HTML object>"
      ]
     },
     "metadata": {},
     "output_type": "display_data"
    },
    {
     "data": {
      "text/html": [
       "\n",
       "Датасет содержит 2000 строк и 12 столбцов. Индекс является целочисленным значением, а дата и время - объектом. Данные по широте, долготе, родительскому региону, региону, категории, степени тяжести, категориям участников, количеству участников, количеству пострадавших, количеству погибших, освещению и погоде - являются объектами. В столбцах parent_region, region, category, severity, participant_categories, light и weather уникальных значений 2000."
      ],
      "text/plain": [
       "<IPython.core.display.HTML object>"
      ]
     },
     "metadata": {},
     "output_type": "display_data"
    },
    {
     "data": {
      "text/html": [
       "\n",
       "Датасет содержит информацию о 2000 ДТП, произошедших в Москве и Московской области. Он содержит следующие столбцы: index, datetime, lat, lon, parent_region, region, category, severity, participant_categories, participants_count, injured_count, dead_count, light и weather. Index - уникальный идентификатор события. Datetime - дата и время события. Lat и lon - широта и долгота. Parent_region - регион (Москва/Московская область). Region - район. Category - тип события. Severity - уровень тяжести. Participant_categories - категория участников. Participants_count - количество участников. Injured_count - количество раненых. Dead_count - количество погибших. Light - уровень освещенности. Weather - погодные у"
      ],
      "text/plain": [
       "<IPython.core.display.HTML object>"
      ]
     },
     "metadata": {},
     "output_type": "display_data"
    },
    {
     "data": {
      "text/html": [
       "\n",
       "Датасет содержит информацию о 2000 ДТП, произошедших в России. Он содержит следующие столбцы: index, datetime, lat, lon, parent_region, region, category, severity, participant_categories, participants_count, injured_count, dead_count, light и weather. Типы данных различны: int64, object и float64. Индексом является столбец index. В столбцах datetime, lat, lon, parent_region, region, category, severity, participant_categories, participants_count, injured_count, dead_count, light и weather уникальные значения различаются. Квантили равны 407823.0, 437090.25, 467155.5, 495871.25 и 526877.0."
      ],
      "text/plain": [
       "<IPython.core.display.HTML object>"
      ]
     },
     "metadata": {},
     "output_type": "display_data"
    },
    {
     "data": {
      "text/html": [
       "\n",
       "Датасет df_ содержит 2000 строк и 12 столбцов. Индекс является целочисленным значением, а остальные столбцы являются объектами. Столбцы datetime, lat, lon, parent_region, region, category, severity, participant_categories, participants_count, injured_count, dead_count, light и weather содержат 2000 уникальных значений. Квантили 407789.0, 440866.5, 469052.5, 498985.25 и 527000.0."
      ],
      "text/plain": [
       "<IPython.core.display.HTML object>"
      ]
     },
     "metadata": {},
     "output_type": "display_data"
    },
    {
     "name": "stdout",
     "output_type": "stream",
     "text": [
      "2000 71.42739748954773\n"
     ]
    },
    {
     "data": {
      "text/html": [
       "\n",
       "Датасет содержит информацию о 6000 ДТП, произошедших в Москве. Он содержит следующие столбцы: index, datetime, lat, lon, parent_region, region, category, severity, participant_categories, participants_count, injured_count, dead_count, light и weather. Index - уникальный идентификатор ДТП. Datetime - дата и время происшествия. Lat и lon - широта и долгота. Parent_region - регион. Region - район. Category - тип ДТП. Severity - степень тяжести. Participant_categories - участники ДТП. Participants_count - количество участников. Injured_count - количество пострадавших. Dead_count - количество погибших. Light - условия освещенности. Weather - погодные условия."
      ],
      "text/plain": [
       "<IPython.core.display.HTML object>"
      ]
     },
     "metadata": {},
     "output_type": "display_data"
    },
    {
     "data": {
      "text/html": [
       "\n",
       "Датасет содержит информацию о 6000 ДТП, произошедших в Москве и Московской области. Он содержит следующие столбцы: index, datetime, lat, lon, parent_region, region, category, severity, participant_categories, participants_count, injured_count, dead_count, light и weather. Index - уникальный идентификатор события. Datetime - дата и время события. Lat - широта. Lon - долгота. Parent_region - регион (Москва/Московская область). Region - район. Category - категория события. Severity - тяжесть события. Participant_categories - категория участников. Participants_count - количество участников. Injured_count - количество пострадавших. Dead_count - количество погибших. Light - уровень освещенности. Weather - п"
      ],
      "text/plain": [
       "<IPython.core.display.HTML object>"
      ]
     },
     "metadata": {},
     "output_type": "display_data"
    },
    {
     "data": {
      "text/html": [
       "\n",
       "Датасет содержит информацию о 6000 ДТП, произошедших в Москве и Московской области. Он содержит следующие столбцы: index, datetime, lat, lon, parent_region, region, category, severity, participant_categories, participants_count, injured_count, dead_count, light и weather. Index - уникальный идентификатор события. Datetime - дата и время события. Lat - широта. Lon - долгота. Parent_region - регион (Москва/Московская область). Region - район. Category - категория события. Severity - уровень тяжести. Participant_categories - категория участников. Participants_count - количество участников. Injured_count - количество пострадавших. Dead_count - количество погибших. Light - уровень освещенности. Weather - п"
      ],
      "text/plain": [
       "<IPython.core.display.HTML object>"
      ]
     },
     "metadata": {},
     "output_type": "display_data"
    },
    {
     "data": {
      "text/html": [
       "\n",
       "Датасет содержит информацию о 6000 ДТП, произошедших в Москве и Московской области. Он содержит следующие столбцы: index, datetime, lat, lon, parent_region, region, category, severity, participant_categories, participants_count, injured_count, dead_count, light и weather. Index - уникальный идентификатор события. Datetime - дата и время события. Lat - широта. Lon - долгота. Parent_region - регион (Москва/Московская область). Region - район. Category - тип события. Severity - тяжесть события. Participant_categories - категория участников. Participants_count - количество участников. Injured_count - количество пострадавших. Dead_count - количество погибших. Light - условия освещенности. Weather - погодны"
      ],
      "text/plain": [
       "<IPython.core.display.HTML object>"
      ]
     },
     "metadata": {},
     "output_type": "display_data"
    },
    {
     "data": {
      "text/html": [
       "\n",
       "Датасет df_ содержит информацию о 6000 ДТП, произошедших в Москве и Московской области. Он содержит следующие столбцы: index, datetime, lat, lon, parent_region, region, category, severity, participant_categories, participants_count, injured_count, dead_count, light и weather. Index - уникальный идентификатор события. Datetime - дата и время события. Lat - широта. Lon - долгота. Parent_region - регион (Москва/Московская область). Region - район. Category - тип события. Severity - уровень тяжести. Participant_categories - категория участников. Participants_count - количество участников. Injured_count - количество пострадавших. Dead_count - количество погибших. Light - уровень освещенности. Weather - погод"
      ],
      "text/plain": [
       "<IPython.core.display.HTML object>"
      ]
     },
     "metadata": {},
     "output_type": "display_data"
    },
    {
     "name": "stdout",
     "output_type": "stream",
     "text": [
      "6000 83.5719404220581\n"
     ]
    },
    {
     "data": {
      "text/html": [
       "\n",
       "Датасет содержит информацию о 10000 ДТП, произошедших в России. Он содержит следующие столбцы: index, datetime, lat, lon, parent_region, region, category, severity, participant_categories, participants_count, injured_count, dead_count, light и weather. Типы данных различны: int64, object и float64. Индексом является столбец index. В столбцах parent_region, region, category, severity, participant_categories, participants_count, injured_count, dead_count, light и weather уникальные значения."
      ],
      "text/plain": [
       "<IPython.core.display.HTML object>"
      ]
     },
     "metadata": {},
     "output_type": "display_data"
    },
    {
     "data": {
      "text/html": [
       "\n",
       "Датасет содержит информацию о 10000 ДТП, произошедших в Москве и Московской области. Он содержит следующие столбцы: index, datetime, lat, lon, parent_region, region, category, severity, participant_categories, participants_count, injured_count, dead_count, light и weather. Index - уникальный идентификатор события. Datetime - дата и время события. Lat - широта. Lon - долгота. Parent_region - регион (Москва/Московская область). Region - район. Category - категория события. Severity - тяжесть события. Participant_categories - категория участников. Participants_count - количество участников. Injured_count - количество пострадавших. Dead_count - количество погибших. Light - уровень освещенности. Weather - п"
      ],
      "text/plain": [
       "<IPython.core.display.HTML object>"
      ]
     },
     "metadata": {},
     "output_type": "display_data"
    },
    {
     "data": {
      "text/html": [
       "\n",
       "Датасет df_ содержит информацию о 10000 ДТП, произошедших в Москве и Московской области. Он содержит следующие столбцы: index, datetime, lat, lon, parent_region, region, category, severity, participant_categories, participants_count, injured_count, dead_count, light и weather. Index - уникальный идентификатор события. Datetime - дата и время события. Lat и lon - широта и долгота. Parent_region - регион (Москва/Московская область). Region - район. Category - тип события. Severity - тяжесть события. Participant_categories - категория участников. Participants_count - количество участников. Injured_count - количество пострадавших. Dead_count - количество погибших. Light - условия освещенности. Weather - п"
      ],
      "text/plain": [
       "<IPython.core.display.HTML object>"
      ]
     },
     "metadata": {},
     "output_type": "display_data"
    },
    {
     "data": {
      "text/html": [
       "\n",
       "Датасет содержит информацию о 10000 ДТП, произошедших в Москве и Московской области. Он содержит следующие столбцы: index, datetime, lat, lon, parent_region, region, category, severity, participant_categories, participants_count, injured_count, dead_count, light и weather. Index - уникальный идентификатор события. Datetime - дата и время события. Lat - широта. Lon - долгота. Parent_region - регион (Москва/Московская область). Region - район. Category - тип события. Severity - тяжесть события. Participant_categories - категория участников. Participants_count - количество участников. Injured_count - количество раненых. Dead_count - количество погибших. Light - уровень освещенности. Weather - погодные усл"
      ],
      "text/plain": [
       "<IPython.core.display.HTML object>"
      ]
     },
     "metadata": {},
     "output_type": "display_data"
    },
    {
     "data": {
      "text/html": [
       "\n",
       "Датасет содержит информацию о 10000 ДТП, произошедших в России. Он содержит следующие столбцы: index, datetime, lat, lon, parent_region, region, category, severity, participant_categories, participants_count, injured_count, dead_count, light и weather. Типы данных различны: int64, object и float64. Индексом является столбец index. В столбцах parent_region, region, category, severity, participant_categories, light и weather уникальные значения. Квантили распределены по столбцу index."
      ],
      "text/plain": [
       "<IPython.core.display.HTML object>"
      ]
     },
     "metadata": {},
     "output_type": "display_data"
    },
    {
     "name": "stdout",
     "output_type": "stream",
     "text": [
      "10000 69.26135873794556\n"
     ]
    },
    {
     "data": {
      "text/html": [
       "\n",
       "Датасет содержит информацию о 20000 ДТП, произошедших в Москве и Московской области. Он содержит следующие столбцы: index, datetime, lat, lon, parent_region, region, category, severity, participant_categories, participants_count, injured_count, dead_count, light и weather. Типы данных различны: int64, object и float64. В столбцах index, datetime, lat, lon, parent_region, region, category, severity, participant_categories, participants_count, injured_count и dead_count уникальные значения. Квантили равны 407782.0, 437748.5, 467713.0, 496920.25 и 527012.0."
      ],
      "text/plain": [
       "<IPython.core.display.HTML object>"
      ]
     },
     "metadata": {},
     "output_type": "display_data"
    },
    {
     "name": "stdout",
     "output_type": "stream",
     "text": [
      "Failed to use remote https://prompts.approx.dev.. ('Connection aborted.', ConnectionResetError(10054, 'Удаленный хост принудительно разорвал существующее подключение', None, 10054, None)). \n",
      "Consider setting SKETCH_USE_REMOTE_LAMBDAPROMPT=False \n",
      "and run with your own open-ai key\n",
      "\n"
     ]
    },
    {
     "data": {
      "text/html": [
       "SKETCH ERROR - see print logs for full error"
      ],
      "text/plain": [
       "<IPython.core.display.HTML object>"
      ]
     },
     "metadata": {},
     "output_type": "display_data"
    },
    {
     "data": {
      "text/html": [
       "\n",
       "Датасет df_ содержит информацию о 20000 ДТП, произошедших в Москве и Московской области. Он содержит следующие столбцы: index, datetime, lat, lon, parent_region, region, category, severity, participant_categories, participants_count, injured_count, dead_count, light и weather. Index - уникальный идентификатор события. Datetime - дата и время события. Lat - широта. Lon - долгота. Parent_region - регион (Москва/Московская область). Region - район. Category - категория события. Severity - уровень тяжести. Participant_categories - категория участников. Participants_count - количество участников. Injured_count - количество пострадавших. Dead_count - количество погибших. Light - уровень освещенности. Weather"
      ],
      "text/plain": [
       "<IPython.core.display.HTML object>"
      ]
     },
     "metadata": {},
     "output_type": "display_data"
    },
    {
     "data": {
      "text/html": [
       "\n",
       "Датасет содержит информацию о 20000 ДТП, произошедших в Москве и Московской области. Он содержит следующие столбцы: index, datetime, lat, lon, parent_region, region, category, severity, participant_categories, participants_count, injured_count, dead_count, light и weather. Типы данных различны: int64, object и float64. В столбцах index, datetime, lat, lon, parent_region, region, category, severity, participant_categories и participants_count уникальные значения."
      ],
      "text/plain": [
       "<IPython.core.display.HTML object>"
      ]
     },
     "metadata": {},
     "output_type": "display_data"
    },
    {
     "data": {
      "text/html": [
       "\n",
       "Датасет содержит информацию о 20000 ДТП, произошедших в Москве и Московской области. Он содержит следующие столбцы: index, datetime, lat, lon, parent_region, region, category, severity, participant_categories, participants_count, injured_count, dead_count, light и weather. Типы данных различны: int64, object и float64. В столбцах index, datetime, lat, lon, parent_region, region, category, severity, participant_categories и participants_count уникальные значения. Квантили равны 407788.0, 437194.0, 467125.0, 497452.75 и 527013.0."
      ],
      "text/plain": [
       "<IPython.core.display.HTML object>"
      ]
     },
     "metadata": {},
     "output_type": "display_data"
    },
    {
     "name": "stdout",
     "output_type": "stream",
     "text": [
      "20000 59.05242323875427\n"
     ]
    },
    {
     "data": {
      "text/html": [
       "\n",
       "Датасет содержит информацию о 40000 ДТП, произошедших в Москве и Московской области. Он содержит следующие столбцы: index, datetime, lat, lon, parent_region, region, category, severity, participant_categories, participants_count, injured_count, dead_count, light и weather. Index - уникальный идентификатор события. Datetime - дата и время события. Lat - широта. Lon - долгота. Parent_region - регион (Москва/Московская область). Region - район. Category - категория события. Severity - тяжесть события. Participant_categories - категория участников. Participants_count - количество участников. Injured_count - количество пострадавших. Dead_count - количество погибших. Light - уровень освещенности. Weather -"
      ],
      "text/plain": [
       "<IPython.core.display.HTML object>"
      ]
     },
     "metadata": {},
     "output_type": "display_data"
    },
    {
     "data": {
      "text/html": [
       "\n",
       "Датасет содержит информацию о 40000 ДТП, произошедших в Москве. Он содержит следующие столбцы: index, datetime, lat, lon, parent_region, region, category, severity, participant_categories, participants_count, injured_count, dead_count, light и weather. Все столбцы являются объектами. Index - это уникальный идентификатор каждого ДТП. Datetime - дата и время события. Lat и lon - широта и долгота. Parent_region - регион, в котором произошло событие. Region - район, в котором произошло событие. Category - тип события (например, столкновение). Severity - уровень тяжести (легкий, умеренный, тяжелый). Participant_categories - категория участников (водите"
      ],
      "text/plain": [
       "<IPython.core.display.HTML object>"
      ]
     },
     "metadata": {},
     "output_type": "display_data"
    },
    {
     "data": {
      "text/html": [
       "\n",
       "Датасет содержит информацию о 40000 ДТП, произошедших в Москве и Московской области. Он содержит следующие столбцы: index, datetime, lat, lon, parent_region, region, category, severity, participant_categories, participants_count, injured_count, dead_count, light и weather. Index - уникальный идентификатор события. Datetime - дата и время события. Lat - широта. Lon - долгота. Parent_region - регион (Москва/Московская область). Region - населенный пункт. Category - тип события (наезд/столкновение). Severity - тяжесть ущерба. Participant_categories - участники события. Participants_count - количество участников. Injured_count - количество пострадавших. Dead_count - количество погибших. Light - усл"
      ],
      "text/plain": [
       "<IPython.core.display.HTML object>"
      ]
     },
     "metadata": {},
     "output_type": "display_data"
    },
    {
     "data": {
      "text/html": [
       "\n",
       "Датасет содержит информацию о 40000 ДТП, произошедших в Москве и Московской области. Он содержит следующие столбцы: index, datetime, lat, lon, parent_region, region, category, severity, participant_categories, participants_count, injured_count, dead_count, light и weather. Index - уникальный идентификатор события. Datetime - дата и время события. Lat - широта. Lon - долгота. Parent_region - регион (Москва/Московская область). Region - район. Category - тип события (например, столкновение). Severity - тяжесть события (легкое/тяжелое/с погибшими). Participant_categories - категория участников (водитель/мотоциклист/пешеход). Participants_count - кол-во участников. Injured_count - кол-во"
      ],
      "text/plain": [
       "<IPython.core.display.HTML object>"
      ]
     },
     "metadata": {},
     "output_type": "display_data"
    },
    {
     "data": {
      "text/html": [
       "\n",
       "Датасет содержит информацию о 40000 ДТП, произошедших в Москве и Московской области. Он содержит следующие столбцы: index, datetime, lat, lon, parent_region, region, category, severity, participant_categories, participants_count, injured_count, dead_count, light и weather. Index - уникальный идентификатор события. Datetime - дата и время события. Lat - широта. Lon - долгота. Parent_region - регион (Москва/Московская область). Region - населенный пункт. Category - тип события. Severity - тяжесть события. Participant_categories - категория участников. Participants_count - количество участников. Injured_count - количество раненых. Dead_count - количество погибших. Light - уровень освещенности. Weather - п"
      ],
      "text/plain": [
       "<IPython.core.display.HTML object>"
      ]
     },
     "metadata": {},
     "output_type": "display_data"
    },
    {
     "name": "stdout",
     "output_type": "stream",
     "text": [
      "40000 76.56100463867188\n"
     ]
    },
    {
     "data": {
      "text/html": [
       "\n",
       "Датасет содержит информацию о 60000 ДТП, произошедших в России. Он содержит следующие столбцы: index, datetime, lat, lon, parent_region, region, category, severity, participant_categories, participants_count, injured_count, dead_count, light и weather. Типы данных различны: int64, object и float64. Индексом является столбец index. В столбцах parent_region, region, category, severity и participant_categories уникальные значения. Квантили распределены 407778.0, 437359.5, 467084.5, 496987.25 и 527017.0."
      ],
      "text/plain": [
       "<IPython.core.display.HTML object>"
      ]
     },
     "metadata": {},
     "output_type": "display_data"
    },
    {
     "data": {
      "text/html": [
       "\n",
       "Датасет содержит информацию о 60000 ДТП, произошедших в Москве и Московской области. Он содержит следующие столбцы: index, datetime, lat, lon, parent_region, region, category, severity, participant_categories, participants_count, injured_count, dead_count, light и weather. Index - уникальный идентификатор события. Datetime - дата и время события. Lat - широта. Lon - долгота. Parent_region - регион (Москва/Московская область). Region - район. Category - категория события. Severity - тяжесть события. Participant_categories - категория участников. Participants_count - количество участников. Injured_count - количество пострадавших. Dead_count - количество погибших. Light - уровень освещенности. Weather -"
      ],
      "text/plain": [
       "<IPython.core.display.HTML object>"
      ]
     },
     "metadata": {},
     "output_type": "display_data"
    },
    {
     "data": {
      "text/html": [
       "\n",
       "Датасет содержит информацию о 60000 ДТП, произошедших в Москве и Московской области. Он содержит следующие столбцы: index, datetime, lat, lon, parent_region, region, category, severity, participant_categories, participants_count, injured_count, dead_count, light и weather. Типы данных различны: int64, object и float64. В столбцах index, datetime, lat, lon, parent_region, region, category, severity, participant_categories, participants_count, injured_count и dead_count уникальные значения. Квантили равны 407778.0, 437904.75, 467720.5, 497332.25 и 527017.0."
      ],
      "text/plain": [
       "<IPython.core.display.HTML object>"
      ]
     },
     "metadata": {},
     "output_type": "display_data"
    },
    {
     "data": {
      "text/html": [
       "\n",
       "Датасет df_ содержит 60000 строк и 14 столбцов. Индекс является целочисленным значением, а остальные столбцы являются объектами. Столбцы datetime, lat, lon, parent_region, region, category, severity, participant_categories, participants_count, injured_count, dead_count, light и weather содержат уникальные значения. Например, столбец category содержит 18 уникальных значений. Данные включают время и место происшествия, родительскую область, регион, категорию, степень тяжести, категории участников, количество участников, количество пострадавших и количество погибших."
      ],
      "text/plain": [
       "<IPython.core.display.HTML object>"
      ]
     },
     "metadata": {},
     "output_type": "display_data"
    },
    {
     "data": {
      "text/html": [
       "\n",
       "Датасет df_ содержит 60000 строк и 12 столбцов. Индекс является целочисленным значением, а остальные столбцы являются объектами. Столбцы datetime, lat, lon, parent_region, region, category, severity, participant_categories, participants_count, injured_count, dead_count, light и weather содержат по 57482, 44161, 45682, 2, 210, 18, 3, 20, 23, 19 и 9 уникальных значений соответственно. Значения в столбцах index, datetime, lat, lon и quantiles приведены выше."
      ],
      "text/plain": [
       "<IPython.core.display.HTML object>"
      ]
     },
     "metadata": {},
     "output_type": "display_data"
    },
    {
     "name": "stdout",
     "output_type": "stream",
     "text": [
      "60000 66.25451040267944\n"
     ]
    },
    {
     "data": {
      "text/html": [
       "\n",
       "Датасет df_ содержит 80000 строк и 14 столбцов. Индекс является целочисленным значением, а остальные столбцы являются объектами. Столбцы datetime, lat, lon, parent_region, region, category, severity, participant_categories, participants_count, injured_count, dead_count, light и weather содержат уникальные значения. Например, столбец category содержит 18 уникальных значений. Квантили для index равны 407778.0, 437558.5, 467604.5, 497211.75 и 527018.0."
      ],
      "text/plain": [
       "<IPython.core.display.HTML object>"
      ]
     },
     "metadata": {},
     "output_type": "display_data"
    },
    {
     "data": {
      "text/html": [
       "\n",
       "Датасет содержит 80000 строк и 15 столбцов. Индекс является целочисленным значением, а остальные столбцы являются объектами. Столбцы datetime, lat, lon, parent_region, region, category, severity, participant_categories, participants_count, injured_count, dead_count, light и weather содержат уникальные значения. Например, столбец category содержит 18 уникальных значений. Квантили для индекса 407778.0, 437701.75, 467401.5, 497146.25 и 527017.0."
      ],
      "text/plain": [
       "<IPython.core.display.HTML object>"
      ]
     },
     "metadata": {},
     "output_type": "display_data"
    },
    {
     "data": {
      "text/html": [
       "\n",
       "Датасет содержит информацию о 80000 ДТП, произошедших в Москве и Московской области. Он содержит следующие столбцы: index, datetime, lat, lon, parent_region, region, category, severity, participant_categories, participants_count, injured_count, dead_count, light и weather. Типы данных различны: int64, object и float64. Индекс является целочисленным. Значения datetime являются строками. lat и lon - это широта и долгота. parent_region - родительская региональная единица (Москва или Московская область). region - регион (210 уникальных). category - 18 уникальных категорий. severity - 3 уровня тяжести. participant_categories - 21 уникальных категория участников. participants_count - 25 уник"
      ],
      "text/plain": [
       "<IPython.core.display.HTML object>"
      ]
     },
     "metadata": {},
     "output_type": "display_data"
    },
    {
     "data": {
      "text/html": [
       "\n",
       "Датасет df_ содержит 80000 строк и 12 столбцов. Индекс является целочисленным значением, а остальные столбцы являются объектами. Столбцы datetime, lat, lon, parent_region, region, category, severity, participant_categories, participants_count, injured_count, dead_count, light и weather содержат по 80000 значений. Значения уникальных столбцов равны 75491 (datetime), 55219 (lat), 57531 (lon), 2 (parent_region), 210 (region), 18 (category), 3 (severity), 20 (participant_categories), 24 (participants_count), 21 (injured_count), 9 (dead_count), 6 (light) и 19 (weather). Квантили 407778.0, 437582.5, 467477.5, 497308.75 и 527016.0."
      ],
      "text/plain": [
       "<IPython.core.display.HTML object>"
      ]
     },
     "metadata": {},
     "output_type": "display_data"
    },
    {
     "data": {
      "text/html": [
       "\n",
       "Датасет содержит 80000 строк и 14 столбцов. Индекс является целочисленным значением, а дата и время - объектом. Координаты широты и долготы являются объектами, а родительский регион, регион, категория, степень тяжести, категории участников, количество участников, количество пострадавших, количество погибших, светлое/темное время суток и погода - объекты. Уникальных значений 55206, 57386, 2, 210, 18, 3, 20, 24, 21, 7, 6 и 19 соответственно.\n"
      ],
      "text/plain": [
       "<IPython.core.display.HTML object>"
      ]
     },
     "metadata": {},
     "output_type": "display_data"
    },
    {
     "name": "stdout",
     "output_type": "stream",
     "text": [
      "80000 71.07951474189758\n"
     ]
    },
    {
     "data": {
      "text/html": [
       "\n",
       "Датасет содержит информацию о 100000 ДТП, произошедших в Москве и Московской области. Он содержит следующие столбцы: index, datetime, lat, lon, parent_region, region, category, severity, participant_categories, participants_count, injured_count, dead_count, light и weather. Index - уникальный идентификатор события. Datetime - дата и время события. Lat - широта. Lon - долгота. Parent_region - регион (Москва/Московская область). Region - район. Category - категория события. Severity - уровень тяжести. Participant_categories - категория участников. Participants_count - количество участников. Injured_count - количество пострадавших. Dead_count - количество погибших. Light - уровень освещенности. Weather -"
      ],
      "text/plain": [
       "<IPython.core.display.HTML object>"
      ]
     },
     "metadata": {},
     "output_type": "display_data"
    },
    {
     "data": {
      "text/html": [
       "\n",
       "Датасет содержит информацию о 100000 ДТП, произошедших в России. Он содержит следующие столбцы: index, datetime, lat, lon, parent_region, region, category, severity, participant_categories, participants_count, injured_count, dead_count, light и weather. Типы данных различны: int64, object и float64. Индексом является столбец index. В столбцах parent_region, region, category, severity, participant_categories, participants_count, injured_count и dead_count уникальные значения. В столбцах light и weather уникальные значения также присутствуют."
      ],
      "text/plain": [
       "<IPython.core.display.HTML object>"
      ]
     },
     "metadata": {},
     "output_type": "display_data"
    },
    {
     "data": {
      "text/html": [
       "\n",
       "Датасет содержит информацию о 100000 ДТП, произошедших в Москве и Московской области. Он содержит следующие столбцы: index, datetime, lat, lon, parent_region, region, category, severity, participant_categories, participants_count, injured_count, dead_count, light и weather. Типы данных различны: int64, object, float64. В столбцах index, datetime, lat, lon, parent_region, region, category, severity, participant_categories имеется 100000 уникальных значений. В столбцах participants_count, injured_count и dead_count - 23, 23 и 9 уникальных значений соответственно."
      ],
      "text/plain": [
       "<IPython.core.display.HTML object>"
      ]
     },
     "metadata": {},
     "output_type": "display_data"
    },
    {
     "data": {
      "text/html": [
       "\n",
       "Датасет содержит информацию о 100000 ДТП, произошедших в России. Он содержит следующие столбцы: index, datetime, lat, lon, parent_region, region, category, severity, participant_categories, participants_count, injured_count, dead_count, light и weather. Index - уникальный идентификатор ДТП. Datetime - дата и время происшествия. Lat и lon - широта и долгота. Parent_region - регион. Region - район. Category - тип ДТП. Severity - тяжесть. Participant_categories - участники. Participants_count - количество участников. Injured_count - количество раненых. Dead_count - количество погибших. Light - условия освещенности. Weather - погодные условия."
      ],
      "text/plain": [
       "<IPython.core.display.HTML object>"
      ]
     },
     "metadata": {},
     "output_type": "display_data"
    },
    {
     "data": {
      "text/html": [
       "\n",
       "Датасет содержит информацию о 100000 ДТП, произошедших в различных регионах России. Он содержит следующие столбцы: index, datetime, lat, lon, parent_region, region, category, severity, participant_categories, participants_count, injured_count, dead_count, light и weather. Типы данных включают int64, object и float64. Все столбцы имеют 100000 строк. Количество уникальных значений в столбцах index, datetime, lat, lon, parent_region, region, category, severity, participant_categories, participants_count, injured_count и dead_count составляет 100000. Квантиль 0.25 равен 407778.0, 0.5 - 437543.75, 0.75 - 467361.5 и 1 - 497137.25."
      ],
      "text/plain": [
       "<IPython.core.display.HTML object>"
      ]
     },
     "metadata": {},
     "output_type": "display_data"
    },
    {
     "name": "stdout",
     "output_type": "stream",
     "text": [
      "100000 72.93494415283203\n"
     ]
    },
    {
     "data": {
      "text/html": [
       "<div>\n",
       "<style scoped>\n",
       "    .dataframe tbody tr th:only-of-type {\n",
       "        vertical-align: middle;\n",
       "    }\n",
       "\n",
       "    .dataframe tbody tr th {\n",
       "        vertical-align: top;\n",
       "    }\n",
       "\n",
       "    .dataframe thead th {\n",
       "        text-align: right;\n",
       "    }\n",
       "</style>\n",
       "<table border=\"1\" class=\"dataframe\">\n",
       "  <thead>\n",
       "    <tr style=\"text-align: right;\">\n",
       "      <th></th>\n",
       "      <th>size</th>\n",
       "      <th>time</th>\n",
       "    </tr>\n",
       "  </thead>\n",
       "  <tbody>\n",
       "    <tr>\n",
       "      <th>0</th>\n",
       "      <td>2.0</td>\n",
       "      <td>14.285479</td>\n",
       "    </tr>\n",
       "    <tr>\n",
       "      <th>1</th>\n",
       "      <td>6.0</td>\n",
       "      <td>16.714388</td>\n",
       "    </tr>\n",
       "    <tr>\n",
       "      <th>2</th>\n",
       "      <td>10.0</td>\n",
       "      <td>13.852272</td>\n",
       "    </tr>\n",
       "    <tr>\n",
       "      <th>3</th>\n",
       "      <td>20.0</td>\n",
       "      <td>11.810485</td>\n",
       "    </tr>\n",
       "    <tr>\n",
       "      <th>4</th>\n",
       "      <td>40.0</td>\n",
       "      <td>15.312201</td>\n",
       "    </tr>\n",
       "    <tr>\n",
       "      <th>5</th>\n",
       "      <td>60.0</td>\n",
       "      <td>13.250902</td>\n",
       "    </tr>\n",
       "    <tr>\n",
       "      <th>6</th>\n",
       "      <td>80.0</td>\n",
       "      <td>14.215903</td>\n",
       "    </tr>\n",
       "    <tr>\n",
       "      <th>7</th>\n",
       "      <td>100.0</td>\n",
       "      <td>14.586989</td>\n",
       "    </tr>\n",
       "  </tbody>\n",
       "</table>\n",
       "</div>"
      ],
      "text/plain": [
       "    size       time\n",
       "0    2.0  14.285479\n",
       "1    6.0  16.714388\n",
       "2   10.0  13.852272\n",
       "3   20.0  11.810485\n",
       "4   40.0  15.312201\n",
       "5   60.0  13.250902\n",
       "6   80.0  14.215903\n",
       "7  100.0  14.586989"
      ]
     },
     "execution_count": 85,
     "metadata": {},
     "output_type": "execute_result"
    }
   ],
   "source": [
    "df2 = df1[(df1.parent_region=='Москва') | (df1.parent_region=='Московская область')]\n",
    "times = []\n",
    "iters = 5\n",
    "for s in sizes[:8]:\n",
    "    t = 0\n",
    "    for i in range(iters):\n",
    "        df_ = df2.sample(s)\n",
    "        begin = time.time()\n",
    "        df_.sketch.ask('Опиши датасет')\n",
    "        t += time.time()-begin\n",
    "    times.append(t/iters)\n",
    "    print(s, t)\n",
    "test_df2 = pd.DataFrame({'size':sizes[:8], 'time':times})\n",
    "test_df2['size'] = test_df['size'] / 1000\n",
    "test_df2"
   ]
  },
  {
   "cell_type": "code",
   "execution_count": 86,
   "metadata": {},
   "outputs": [
    {
     "data": {
      "text/plain": [
       "<AxesSubplot:title={'center':'Среднее время выполнения запроса в зависимости от объёма датасета'}, xlabel='Pазмер выборки, тыс. записей', ylabel='Время выполнения, сек.'>"
      ]
     },
     "execution_count": 86,
     "metadata": {},
     "output_type": "execute_result"
    },
    {
     "data": {
      "image/png": "[encoded data removed]",
      "text/plain": [
       "<Figure size 864x360 with 1 Axes>"
      ]
     },
     "metadata": {
      "needs_background": "light"
     },
     "output_type": "display_data"
    }
   ],
   "source": [
    "test_df2.plot(x='size', y='time', figsize=(12, 5), grid=True, \n",
    "             xlabel='Pазмер выборки, тыс. записей', ylabel='Время выполнения, сек.', \n",
    "             title=\"Среднее время выполнения запроса в зависимости от объёма датасета\")"
   ]
  },
  {
   "attachments": {},
   "cell_type": "markdown",
   "metadata": {},
   "source": [
    "#### Другое"
   ]
  },
  {
   "cell_type": "code",
   "execution_count": 106,
   "metadata": {},
   "outputs": [
    {
     "data": {
      "text/plain": [
       "Москва                          72122\n",
       "Краснодарский край              52505\n",
       "Санкт-Петербург                 47860\n",
       "Московская область              47119\n",
       "Нижегородская область           41482\n",
       "                                ...  \n",
       "Магаданская область              1955\n",
       "Еврейская автономная область     1803\n",
       "Республика Ингушетия             1649\n",
       "Ненецкий автономный округ         253\n",
       "Чукотский автономный округ        201\n",
       "Name: parent_region, Length: 85, dtype: int64"
      ]
     },
     "execution_count": 106,
     "metadata": {},
     "output_type": "execute_result"
    }
   ],
   "source": [
    "df.parent_region.value_counts()"
   ]
  },
  {
   "cell_type": "code",
   "execution_count": 5,
   "metadata": {},
   "outputs": [
    {
     "data": {
      "text/plain": [
       "Хабаровский край                14362\n",
       "Амурская область                 9546\n",
       "Сахалинская область              5017\n",
       "Еврейская автономная область     1737\n",
       "Name: parent_region, dtype: int64"
      ]
     },
     "execution_count": 5,
     "metadata": {},
     "output_type": "execute_result"
    }
   ],
   "source": [
    "df.parent_region.value_counts()"
   ]
  },
  {
   "cell_type": "code",
   "execution_count": 107,
   "metadata": {},
   "outputs": [
    {
     "data": {
      "text/html": [
       "\n",
       "Для заполнения пропусков в столбце адреса можно использовать различные методы, включая использование гео-кодирования, распознавания образов, автоматическое соответствие и т.д. Для восстановления улицы и номера дома можно использовать различные техники, такие как распознавание текста, распознавание шаблонов, ручное разделение строки на части, используя регулярные выражения.\n"
      ],
      "text/plain": [
       "<IPython.core.display.HTML object>"
      ]
     },
     "metadata": {},
     "output_type": "display_data"
    }
   ],
   "source": [
    "df0[['datetime','parent_region','region','address','lat','lon']].sketch.ask(\n",
    "    'Как заполнить пропуски в столбце адреса, восстановить улицу и номер дома?')"
   ]
  },
  {
   "cell_type": "code",
   "execution_count": 11,
   "metadata": {},
   "outputs": [
    {
     "data": {
      "text/html": [
       "\n",
       "В датасете есть географические данные, включая широту (lat), долготу (lon), родительский регион (parent_region) и регион (region)."
      ],
      "text/plain": [
       "<IPython.core.display.HTML object>"
      ]
     },
     "metadata": {},
     "output_type": "display_data"
    }
   ],
   "source": [
    "df.sketch.ask(\"Какие географические данные есть в датасете?\")"
   ]
  },
  {
   "cell_type": "code",
   "execution_count": 15,
   "metadata": {},
   "outputs": [
    {
     "data": {
      "text/html": [
       "html\n",
       "<table>\n",
       "  <tr>\n",
       "    <th>Current Column Name</th>\n",
       "    <th>Suggested Column Name</th>\n",
       "  </tr>\n",
       "  <tr>\n",
       "    <td>index</td>\n",
       "    <td>record_id</td>\n",
       "  </tr>\n",
       "  <tr>\n",
       "    <td>datetime</td>\n",
       "    <td>date_time</td>\n",
       "  </tr>\n",
       "  <tr>\n",
       "    <td>lat</td>\n",
       "    <td>latitude</td>\n",
       "  </tr>\n",
       "  <tr>\n",
       "    <td>lon</td>\n",
       "    <td>longitude</td>\n",
       "  </tr>\n",
       "  <tr>\n",
       "    <td>parent_region</td>\n",
       "    <td>parent_region_name</td>\n",
       "  </tr>\n",
       "  <tr>\n",
       "    <td>region</td>\n",
       "    <td>region_name</td>\n",
       "  </tr>\n",
       "  <tr>\n",
       "    <td>category</td>\n",
       "    <td>accident_category</td>\n",
       "  </tr>\n",
       "  <tr>\n",
       "    <td>severity</td>\n",
       "    <td>accident_severity</td"
      ],
      "text/plain": [
       "<IPython.core.display.HTML object>"
      ]
     },
     "metadata": {},
     "output_type": "display_data"
    }
   ],
   "source": [
    "df.sketch.ask(\"Предложи, как переименовать столбцы (результат в html формате)\")"
   ]
  },
  {
   "cell_type": "code",
   "execution_count": 108,
   "metadata": {},
   "outputs": [
    {
     "data": {
      "text/html": [
       "\n",
       "Столбец category имеет 18 уникальных значений: 'Столкновение', 'Наезд на препятствие', 'Опрокидывание', 'Наезд на пешехода', 'Наезд на велосипедиста', 'Наезд на животное', 'Налёт', 'Протаранил', 'Удар о препятствие', 'Удар о другое транспортное средство', 'Удар о стоящее транспортное средство', 'Вылет с дороги', 'Замыкание', 'Двойное столкновение', 'Тройное столкновение', 'Четырёхместное столкновение' и 'Пятиместное столкновение'.\n",
       "\n",
       "Столбец severity имеет 3 уникальных значения: 'Легкий', 'Средний' и '"
      ],
      "text/plain": [
       "<IPython.core.display.HTML object>"
      ]
     },
     "metadata": {},
     "output_type": "display_data"
    }
   ],
   "source": [
    "df.sketch.ask(\"Какие уникальные значения у столбцов category, severity?\")"
   ]
  },
  {
   "cell_type": "code",
   "execution_count": 110,
   "metadata": {},
   "outputs": [
    {
     "data": {
      "text/html": [
       "\n",
       "The range of values for latitude is from 53.264995 to 53.3764.\n"
      ],
      "text/plain": [
       "<IPython.core.display.HTML object>"
      ]
     },
     "metadata": {},
     "output_type": "display_data"
    },
    {
     "data": {
      "text/plain": [
       "count     1270607.0\n",
       "unique     762639.0\n",
       "top            55.0\n",
       "freq         3722.0\n",
       "Name: lat, dtype: float64"
      ]
     },
     "execution_count": 110,
     "metadata": {},
     "output_type": "execute_result"
    }
   ],
   "source": [
    "df.sketch.ask('Диапазон значений широты')\n",
    "df.lat.describe()"
   ]
  },
  {
   "cell_type": "code",
   "execution_count": 17,
   "metadata": {},
   "outputs": [
    {
     "data": {
      "text/html": [
       "\n",
       "<table>\n",
       "  <tr>\n",
       "    <th>Column Name</th>\n",
       "    <th>Unique Count</th>\n",
       "  </tr>\n",
       "  <tr>\n",
       "    <td>parent_region</td>\n",
       "    <td>4</td>\n",
       "  </tr>\n",
       "  <tr>\n",
       "    <td>region</td>\n",
       "    <td>61</td>\n",
       "  </tr>\n",
       "  <tr>\n",
       "    <td>category</td>\n",
       "    <td>16</td>\n",
       "  </tr>\n",
       "  <tr>\n",
       "    <td>severity</td>\n",
       "    <td>3</td>\n",
       "  </tr>\n",
       "  <tr>\n",
       "    <td>participant_categories</td>\n",
       "    <td>21</td>\n",
       "  </tr>\n",
       "  <tr>\n",
       "    <td>light</td>\n",
       "    <td>6</td>\n",
       "  </tr>\n",
       "  <tr>\n",
       "    <td>weather</td>\n",
       "    <td>24</td>\n",
       "  </tr>  \n",
       "</table"
      ],
      "text/plain": [
       "<IPython.core.display.HTML object>"
      ]
     },
     "metadata": {},
     "output_type": "display_data"
    }
   ],
   "source": [
    "cols = ['parent_region','region','category','severity','participant_categories','light','weather']\n",
    "df.sketch.ask(f\"Количество уникальных значений полей {cols} (результат в виде html)\")"
   ]
  },
  {
   "cell_type": "code",
   "execution_count": 19,
   "metadata": {},
   "outputs": [
    {
     "data": {
      "text/html": [
       "<div>\n",
       "<style scoped>\n",
       "    .dataframe tbody tr th:only-of-type {\n",
       "        vertical-align: middle;\n",
       "    }\n",
       "\n",
       "    .dataframe tbody tr th {\n",
       "        vertical-align: top;\n",
       "    }\n",
       "\n",
       "    .dataframe thead th {\n",
       "        text-align: right;\n",
       "    }\n",
       "</style>\n",
       "<table border=\"1\" class=\"dataframe\">\n",
       "  <thead>\n",
       "    <tr style=\"text-align: right;\">\n",
       "      <th></th>\n",
       "      <th>Unique Count</th>\n",
       "    </tr>\n",
       "  </thead>\n",
       "  <tbody>\n",
       "    <tr>\n",
       "      <th>parent_region</th>\n",
       "      <td>4</td>\n",
       "    </tr>\n",
       "    <tr>\n",
       "      <th>region</th>\n",
       "      <td>61</td>\n",
       "    </tr>\n",
       "    <tr>\n",
       "      <th>category</th>\n",
       "      <td>16</td>\n",
       "    </tr>\n",
       "    <tr>\n",
       "      <th>severity</th>\n",
       "      <td>3</td>\n",
       "    </tr>\n",
       "    <tr>\n",
       "      <th>participant_categories</th>\n",
       "      <td>21</td>\n",
       "    </tr>\n",
       "    <tr>\n",
       "      <th>light</th>\n",
       "      <td>6</td>\n",
       "    </tr>\n",
       "    <tr>\n",
       "      <th>weather</th>\n",
       "      <td>24</td>\n",
       "    </tr>\n",
       "  </tbody>\n",
       "</table>\n",
       "</div>"
      ],
      "text/plain": [
       "                        Unique Count\n",
       "parent_region                      4\n",
       "region                            61\n",
       "category                          16\n",
       "severity                           3\n",
       "participant_categories            21\n",
       "light                              6\n",
       "weather                           24"
      ]
     },
     "execution_count": 19,
     "metadata": {},
     "output_type": "execute_result"
    }
   ],
   "source": [
    "pd.DataFrame({'Unique Count': [df[col].unique().shape[0] for col in cols]}, index=cols)"
   ]
  },
  {
   "cell_type": "code",
   "execution_count": 112,
   "metadata": {},
   "outputs": [],
   "source": [
    "df.describe()"
   ]
  },
  {
   "cell_type": "code",
   "execution_count": 22,
   "metadata": {},
   "outputs": [
    {
     "data": {
      "text/html": [
       "\n",
       "parent_region: Хабаровский край\n",
       "severity: Легкий, Тяжёлый\n",
       "light: Светлое время суток, Темное время суток, Ночь, День, Утро, Вечер"
      ],
      "text/plain": [
       "<IPython.core.display.HTML object>"
      ]
     },
     "metadata": {},
     "output_type": "display_data"
    }
   ],
   "source": [
    "cols = ['parent_region','severity','light',]\n",
    "df.sketch.ask(f\"Уникальные значения полей {cols}\")"
   ]
  },
  {
   "cell_type": "code",
   "execution_count": 26,
   "metadata": {},
   "outputs": [
    {
     "data": {
      "text/plain": [
       "{'parent_region': ['Хабаровский край',\n",
       "  'Еврейская автономная область',\n",
       "  'Амурская область',\n",
       "  'Сахалинская область'],\n",
       " 'severity': ['Легкий', 'Тяжёлый', 'С погибшими'],\n",
       " 'light': ['Светлое время суток',\n",
       "  'В темное время суток, освещение отсутствует',\n",
       "  'В темное время суток, освещение не включено',\n",
       "  'В темное время суток, освещение включено',\n",
       "  'Сумерки',\n",
       "  'Не установлено']}"
      ]
     },
     "execution_count": 26,
     "metadata": {},
     "output_type": "execute_result"
    }
   ],
   "source": [
    "{col: df[col].unique().tolist() for col in cols}"
   ]
  },
  {
   "cell_type": "code",
   "execution_count": 8,
   "metadata": {},
   "outputs": [
    {
     "name": "stdout",
     "output_type": "stream",
     "text": [
      "Уникальные значения category\n",
      "['Отбрасывание предмета' 'Столкновение' 'Наезд на стоящее ТС'\n",
      " 'Наезд на пешехода' 'Опрокидывание' 'Наезд на велосипедиста'\n",
      " 'Съезд с дороги' 'Иной вид ДТП' 'Наезд на препятствие'\n",
      " 'Наезд на внезапно возникшее препятствие' 'Падение пассажира'\n",
      " 'Наезд на животное'\n",
      " 'Наезд на лицо, не являющееся участником дорожного движения, осуществляющее производство работ'\n",
      " 'Наезд на лицо, не являющееся участником дорожного движения, осуществляющее какую-либо другую деятельность'\n",
      " 'Падение груза'\n",
      " 'Наезд на лицо, не являющееся участником дорожного движения, осуществляющее несение службы']\n",
      "Уникальные значения severity\n",
      "['Легкий' 'Тяжёлый' 'С погибшими']\n"
     ]
    }
   ],
   "source": [
    "print(f'Уникальные значения category\\n{df.category.unique()}')\n",
    "print(f'Уникальные значения severity\\n{df.severity.unique()}')"
   ]
  },
  {
   "cell_type": "code",
   "execution_count": null,
   "metadata": {},
   "outputs": [
    {
     "data": {
      "text/html": [
       "\n",
       "index: min=0.0, max=30661.0, mean=15330.5, median=15330.5\n",
       "lat: min=46.0042, max=60.087426, mean=48.814077, median=48.971184\n",
       "lon: min=120.166667, max=156.1431, mean=135.311845, median=135.078009\n",
       "participants_count: min=1.0, max=58.0, mean=2.837862, median=2.0\n",
       "injured_count: min=0.0, max=43.0, mean=1.097881, median=1.0\n",
       "dead_count: min=0.0, max=15.0, mean=0.252041, median=0.0\n",
       "``"
      ],
      "text/plain": [
       "<IPython.core.display.HTML object>"
      ]
     },
     "metadata": {},
     "output_type": "display_data"
    }
   ],
   "source": [
    "df.sketch.ask('Какие минимальные и максимальные, средние и медианные значения у численных столбцов?')"
   ]
  },
  {
   "cell_type": "code",
   "execution_count": null,
   "metadata": {},
   "outputs": [
    {
     "data": {
      "text/html": [
       "<div>\n",
       "<style scoped>\n",
       "    .dataframe tbody tr th:only-of-type {\n",
       "        vertical-align: middle;\n",
       "    }\n",
       "\n",
       "    .dataframe tbody tr th {\n",
       "        vertical-align: top;\n",
       "    }\n",
       "\n",
       "    .dataframe thead th {\n",
       "        text-align: right;\n",
       "    }\n",
       "</style>\n",
       "<table border=\"1\" class=\"dataframe\">\n",
       "  <thead>\n",
       "    <tr style=\"text-align: right;\">\n",
       "      <th></th>\n",
       "      <th>lat</th>\n",
       "      <th>lon</th>\n",
       "      <th>participants_count</th>\n",
       "      <th>injured_count</th>\n",
       "      <th>dead_count</th>\n",
       "    </tr>\n",
       "  </thead>\n",
       "  <tbody>\n",
       "    <tr>\n",
       "      <th>count</th>\n",
       "      <td>30662.000000</td>\n",
       "      <td>30662.000000</td>\n",
       "      <td>30662.000000</td>\n",
       "      <td>30662.000000</td>\n",
       "      <td>30662.000000</td>\n",
       "    </tr>\n",
       "    <tr>\n",
       "      <th>mean</th>\n",
       "      <td>49.445560</td>\n",
       "      <td>134.289527</td>\n",
       "      <td>2.426424</td>\n",
       "      <td>1.262214</td>\n",
       "      <td>0.104135</td>\n",
       "    </tr>\n",
       "    <tr>\n",
       "      <th>std</th>\n",
       "      <td>1.795554</td>\n",
       "      <td>5.275187</td>\n",
       "      <td>1.165527</td>\n",
       "      <td>0.899246</td>\n",
       "      <td>0.368720</td>\n",
       "    </tr>\n",
       "    <tr>\n",
       "      <th>min</th>\n",
       "      <td>46.004200</td>\n",
       "      <td>120.166667</td>\n",
       "      <td>1.000000</td>\n",
       "      <td>0.000000</td>\n",
       "      <td>0.000000</td>\n",
       "    </tr>\n",
       "    <tr>\n",
       "      <th>25%</th>\n",
       "      <td>48.422789</td>\n",
       "      <td>128.481935</td>\n",
       "      <td>2.000000</td>\n",
       "      <td>1.000000</td>\n",
       "      <td>0.000000</td>\n",
       "    </tr>\n",
       "    <tr>\n",
       "      <th>50%</th>\n",
       "      <td>48.971184</td>\n",
       "      <td>135.078009</td>\n",
       "      <td>2.000000</td>\n",
       "      <td>1.000000</td>\n",
       "      <td>0.000000</td>\n",
       "    </tr>\n",
       "    <tr>\n",
       "      <th>75%</th>\n",
       "      <td>50.514203</td>\n",
       "      <td>137.004433</td>\n",
       "      <td>3.000000</td>\n",
       "      <td>1.000000</td>\n",
       "      <td>0.000000</td>\n",
       "    </tr>\n",
       "    <tr>\n",
       "      <th>max</th>\n",
       "      <td>60.087426</td>\n",
       "      <td>156.143100</td>\n",
       "      <td>58.000000</td>\n",
       "      <td>43.000000</td>\n",
       "      <td>15.000000</td>\n",
       "    </tr>\n",
       "  </tbody>\n",
       "</table>\n",
       "</div>"
      ],
      "text/plain": [
       "                lat           lon  participants_count  injured_count  \\\n",
       "count  30662.000000  30662.000000        30662.000000   30662.000000   \n",
       "mean      49.445560    134.289527            2.426424       1.262214   \n",
       "std        1.795554      5.275187            1.165527       0.899246   \n",
       "min       46.004200    120.166667            1.000000       0.000000   \n",
       "25%       48.422789    128.481935            2.000000       1.000000   \n",
       "50%       48.971184    135.078009            2.000000       1.000000   \n",
       "75%       50.514203    137.004433            3.000000       1.000000   \n",
       "max       60.087426    156.143100           58.000000      43.000000   \n",
       "\n",
       "         dead_count  \n",
       "count  30662.000000  \n",
       "mean       0.104135  \n",
       "std        0.368720  \n",
       "min        0.000000  \n",
       "25%        0.000000  \n",
       "50%        0.000000  \n",
       "75%        0.000000  \n",
       "max       15.000000  "
      ]
     },
     "metadata": {},
     "output_type": "display_data"
    }
   ],
   "source": [
    "df.describe()"
   ]
  },
  {
   "attachments": {},
   "cell_type": "markdown",
   "metadata": {},
   "source": [
    "#### Ещё некоторые примеры"
   ]
  },
  {
   "cell_type": "code",
   "execution_count": 12,
   "metadata": {},
   "outputs": [
    {
     "data": {
      "text/html": [
       "\n",
       "Для определения доли иномарок среди автомобилей необходимо посчитать количество уникальных иномарок в столбце \"vehicles\" и поделить его на общее количество уникальных автомобилей.\n"
      ],
      "text/plain": [
       "<IPython.core.display.HTML object>"
      ]
     },
     "metadata": {},
     "output_type": "display_data"
    }
   ],
   "source": [
    "df.sketch.ask('Как определить долю иномарок среди автомобилей?')"
   ]
  },
  {
   "cell_type": "code",
   "execution_count": 14,
   "metadata": {},
   "outputs": [
    {
     "data": {
      "text/html": [
       "\n",
       "Для визуализации ДТП на карте можно использовать библиотеку Folium. Она позволяет создавать интерактивные карты, на которых можно отмечать различные события. Для этого нужно создать словарь, содержащий данные из dataframe df, связанные с координатами (lat, lon). Затем этот словарь можно использовать для создания Folium-карты, на которой будут отмечены расположения различных событий."
      ],
      "text/plain": [
       "<IPython.core.display.HTML object>"
      ]
     },
     "metadata": {},
     "output_type": "display_data"
    }
   ],
   "source": [
    "df.sketch.ask(\"Как визуализировать ДТП на карте?\")"
   ]
  },
  {
   "cell_type": "code",
   "execution_count": 53,
   "metadata": {},
   "outputs": [
    {
     "data": {
      "text/html": [
       "\n",
       "df.injured_count.plot(kind='hist')\n"
      ],
      "text/plain": [
       "<IPython.core.display.HTML object>"
      ]
     },
     "metadata": {},
     "output_type": "display_data"
    }
   ],
   "source": [
    "df.sketch.ask('Как построить гистограмму количества пострадавших?')"
   ]
  },
  {
   "cell_type": "code",
   "execution_count": 54,
   "metadata": {},
   "outputs": [
    {
     "data": {
      "text/html": [
       "\n",
       "В столбце light содержатся следующие значения: 'Светлое время суток', 'Туман', 'Ночь с полнолунием', 'Ночь, без луны', 'День', 'Ночь'."
      ],
      "text/plain": [
       "<IPython.core.display.HTML object>"
      ]
     },
     "metadata": {},
     "output_type": "display_data"
    }
   ],
   "source": [
    "df.sketch.ask(\"Какие значения и содержатся в столбце light\")"
   ]
  },
  {
   "cell_type": "code",
   "execution_count": 58,
   "metadata": {},
   "outputs": [
    {
     "data": {
      "text/html": [
       "\n",
       "Для получения ответа на данный вопрос необходимо проанализировать столбец `participant_categories` датафрейма `df`. В этом столбце указаны категории участников ДТП. Если в строке указано \"Пешеходы\", то это означает, что в этом ДТП участвовали пешеходы. Для подсчета количества таких ДТП можно использовать следующую строку:\n",
       "\n",
       "df[df['participant_categories'].str.contains('Пешеходы')].shape[0]\n"
      ],
      "text/plain": [
       "<IPython.core.display.HTML object>"
      ]
     },
     "metadata": {},
     "output_type": "display_data"
    }
   ],
   "source": [
    "df.sketch.ask(\"Сколько ДТП с участием пешеходов\")"
   ]
  },
  {
   "cell_type": "code",
   "execution_count": 57,
   "metadata": {},
   "outputs": [
    {
     "data": {
      "text/html": [
       "\n",
       "В тёмное время суток произошло 14,845 ДТП, а в светлое время суток - 15,817 ДТП.\n"
      ],
      "text/plain": [
       "<IPython.core.display.HTML object>"
      ]
     },
     "metadata": {},
     "output_type": "display_data"
    },
    {
     "data": {
      "text/plain": [
       "Светлое время суток                            19465\n",
       "В темное время суток, освещение включено        6362\n",
       "В темное время суток, освещение отсутствует     3876\n",
       "Сумерки                                          643\n",
       "В темное время суток, освещение не включено      313\n",
       "Не установлено                                     3\n",
       "Name: light, dtype: int64"
      ]
     },
     "execution_count": 57,
     "metadata": {},
     "output_type": "execute_result"
    }
   ],
   "source": [
    "df.sketch.ask(\"Сколько ДТП произошло в тёмное время суток и в светлое время суток?\")\n",
    "df.light.value_counts()"
   ]
  },
  {
   "cell_type": "code",
   "execution_count": 61,
   "metadata": {},
   "outputs": [
    {
     "data": {
      "text/html": [
       "\n",
       "В данном датасете всего 30662 ДТП, из которых 21 содержит пострадавших."
      ],
      "text/plain": [
       "<IPython.core.display.HTML object>"
      ]
     },
     "metadata": {},
     "output_type": "display_data"
    },
    {
     "data": {
      "text/html": [
       "\n",
       "В данном датафрейме есть 21 строка со значением `injured_count` больше 0.\n"
      ],
      "text/plain": [
       "<IPython.core.display.HTML object>"
      ]
     },
     "metadata": {},
     "output_type": "display_data"
    },
    {
     "data": {
      "text/html": [
       "\n",
       "There are 14,845 rows with an injured_count greater than 0.\n"
      ],
      "text/plain": [
       "<IPython.core.display.HTML object>"
      ]
     },
     "metadata": {},
     "output_type": "display_data"
    },
    {
     "name": "stdout",
     "output_type": "stream",
     "text": [
      "ДТП с пострадавшими: 28915\n"
     ]
    }
   ],
   "source": [
    "df.sketch.ask(\"Сколько ДТП с пострадавшими?\")\n",
    "df.sketch.ask(\"Сколько строк со значением `injured_count` больше 0?\")\n",
    "df.sketch.ask(\"How many rows with `injured_count` greater than 0?\")\n",
    "print('ДТП с пострадавшими:', (df.injured_count > 0).sum())"
   ]
  },
  {
   "cell_type": "code",
   "execution_count": 16,
   "metadata": {},
   "outputs": [
    {
     "data": {
      "text/html": [
       "\n",
       "В данном датасете всего 8 ДТП с умершими.\n"
      ],
      "text/plain": [
       "<IPython.core.display.HTML object>"
      ]
     },
     "metadata": {},
     "output_type": "display_data"
    },
    {
     "name": "stdout",
     "output_type": "stream",
     "text": [
      "ДТП с умершими: 2785\n"
     ]
    }
   ],
   "source": [
    "df.sketch.ask(\"Сколько ДТП с умершими?\")\n",
    "print('ДТП с умершими:', (df.dead_count > 0).sum())"
   ]
  },
  {
   "cell_type": "code",
   "execution_count": 18,
   "metadata": {},
   "outputs": [
    {
     "data": {
      "text/html": [
       "\n",
       "В данном датасете ДТП с `participants_count` равным 1 составляет 15983."
      ],
      "text/plain": [
       "<IPython.core.display.HTML object>"
      ]
     },
     "metadata": {},
     "output_type": "display_data"
    },
    {
     "name": "stdout",
     "output_type": "stream",
     "text": [
      "ДТП с одним участником: 3303\n"
     ]
    }
   ],
   "source": [
    "df.sketch.ask(\"Сколько ДТП с `participants_count` равным 1?\")\n",
    "print('ДТП с одним участником:', (df.participants_count == 1).sum())"
   ]
  },
  {
   "attachments": {},
   "cell_type": "markdown",
   "metadata": {},
   "source": [
    "### `.howto` write the code"
   ]
  },
  {
   "cell_type": "markdown",
   "metadata": {},
   "source": [
    "#### Генерация признаков"
   ]
  },
  {
   "cell_type": "code",
   "execution_count": null,
   "metadata": {},
   "outputs": [
    {
     "data": {
      "text/html": [
       "<div style=\"display:flex;flex-direction:row;justify-content:space-between;\">\n",
       "                <pre style=\"width: 100%; white-space: pre-wrap;\" id=\"53a27d5b-1531-45f0-a9eb-8b9863094dbe\">\n",
       "# Create a new column with the day of the week\n",
       "df['day_of_week'] = df['datetime'].dt.day_name()\n",
       "\n",
       "# Create a new column with the hour of the day\n",
       "df['hour_of_day'] = df['datetime'].dt.hour\n",
       "\n",
       "# Create a new column with the month of the year\n",
       "df['month_of_year'] = df['datetime'].dt.month_name()\n",
       "</pre>\n",
       "                <button style=\"height: fit-content;\" onclick=\"navigator.clipboard.writeText(JSON.parse(atob(`IlxuIyBDcmVhdGUgYSBuZXcgY29sdW1uIHdpdGggdGhlIGRheSBvZiB0aGUgd2Vla1xuZGZbJ2RheV9vZl93ZWVrJ10gPSBkZlsnZGF0ZXRpbWUnXS5kdC5kYXlfbmFtZSgpXG5cbiMgQ3JlYXRlIGEgbmV3IGNvbHVtbiB3aXRoIHRoZSBob3VyIG9mIHRoZSBkYXlcbmRmWydob3VyX29mX2RheSddID0gZGZbJ2RhdGV0aW1lJ10uZHQuaG91clxuXG4jIENyZWF0ZSBhIG5ldyBjb2x1bW4gd2l0aCB0aGUgbW9udGggb2YgdGhlIHllYXJcbmRmWydtb250aF9vZl95ZWFyJ10gPSBkZlsnZGF0ZXRpbWUnXS5kdC5tb250aF9uYW1lKClcbiI=`)))\">Copy</button>\n",
       "                </div>"
      ],
      "text/plain": [
       "<IPython.core.display.HTML object>"
      ]
     },
     "metadata": {},
     "output_type": "display_data"
    }
   ],
   "source": [
    "df.sketch.howto('Сгенерируй новые признаки')"
   ]
  },
  {
   "cell_type": "code",
   "execution_count": null,
   "metadata": {},
   "outputs": [
    {
     "data": {
      "text/html": [
       "<div style=\"display:flex;flex-direction:row;justify-content:space-between;\">\n",
       "                <pre style=\"width: 100%; white-space: pre-wrap;\" id=\"199d1a73-0b73-4180-98e5-50a76d71fae7\">\n",
       "# Create a new column with the total number of participants in an accident\n",
       "df['total_participants'] = df['participants_count'] + df['injured_count'] + df['dead_count']\n",
       "\n",
       "# Create a new column with the ratio of injured to total participants\n",
       "df['injured_ratio'] = df['injured_count'] / df['total_participants']\n",
       "\n",
       "# Create a new column with the ratio of dead to total participants\n",
       "df['dead_ratio'] = df['dead_count'] / df['total_participants']\n",
       "</pre>\n",
       "                <button style=\"height: fit-content;\" onclick=\"navigator.clipboard.writeText(JSON.parse(atob(`IlxuIyBDcmVhdGUgYSBuZXcgY29sdW1uIHdpdGggdGhlIHRvdGFsIG51bWJlciBvZiBwYXJ0aWNpcGFudHMgaW4gYW4gYWNjaWRlbnRcbmRmWyd0b3RhbF9wYXJ0aWNpcGFudHMnXSA9IGRmWydwYXJ0aWNpcGFudHNfY291bnQnXSArIGRmWydpbmp1cmVkX2NvdW50J10gKyBkZlsnZGVhZF9jb3VudCddXG5cbiMgQ3JlYXRlIGEgbmV3IGNvbHVtbiB3aXRoIHRoZSByYXRpbyBvZiBpbmp1cmVkIHRvIHRvdGFsIHBhcnRpY2lwYW50c1xuZGZbJ2luanVyZWRfcmF0aW8nXSA9IGRmWydpbmp1cmVkX2NvdW50J10gLyBkZlsndG90YWxfcGFydGljaXBhbnRzJ11cblxuIyBDcmVhdGUgYSBuZXcgY29sdW1uIHdpdGggdGhlIHJhdGlvIG9mIGRlYWQgdG8gdG90YWwgcGFydGljaXBhbnRzXG5kZlsnZGVhZF9yYXRpbyddID0gZGZbJ2RlYWRfY291bnQnXSAvIGRmWyd0b3RhbF9wYXJ0aWNpcGFudHMnXVxuIg==`)))\">Copy</button>\n",
       "                </div>"
      ],
      "text/plain": [
       "<IPython.core.display.HTML object>"
      ]
     },
     "metadata": {},
     "output_type": "display_data"
    }
   ],
   "source": [
    "df.drop('datetime',axis=1).sketch.howto('Сгенерируй новые признаки')"
   ]
  },
  {
   "cell_type": "code",
   "execution_count": null,
   "metadata": {},
   "outputs": [
    {
     "data": {
      "text/html": [
       "<div style=\"display:flex;flex-direction:row;justify-content:space-between;\">\n",
       "                <pre style=\"width: 100%; white-space: pre-wrap;\" id=\"2f88841e-9a37-4037-a7b6-ac4ea794e7c4\">\n",
       "# Create a new column with the number of participants per vehicle\n",
       "df['participants_per_vehicle'] = df['participants_count'] / df['vehicles'].str.len()\n",
       "\n",
       "# Create a new column with the ratio of injured to dead\n",
       "df['injured_to_dead_ratio'] = df['injured_count'] / df['dead_count']\n",
       "\n",
       "# Create a new column with the ratio of participants to injured\n",
       "df['participants_to_injured_ratio'] = df['participants_count'] / df['injured_count']\n",
       "</pre>\n",
       "                <button style=\"height: fit-content;\" onclick=\"navigator.clipboard.writeText(JSON.parse(atob(`IlxuIyBDcmVhdGUgYSBuZXcgY29sdW1uIHdpdGggdGhlIG51bWJlciBvZiBwYXJ0aWNpcGFudHMgcGVyIHZlaGljbGVcbmRmWydwYXJ0aWNpcGFudHNfcGVyX3ZlaGljbGUnXSA9IGRmWydwYXJ0aWNpcGFudHNfY291bnQnXSAvIGRmWyd2ZWhpY2xlcyddLnN0ci5sZW4oKVxuXG4jIENyZWF0ZSBhIG5ldyBjb2x1bW4gd2l0aCB0aGUgcmF0aW8gb2YgaW5qdXJlZCB0byBkZWFkXG5kZlsnaW5qdXJlZF90b19kZWFkX3JhdGlvJ10gPSBkZlsnaW5qdXJlZF9jb3VudCddIC8gZGZbJ2RlYWRfY291bnQnXVxuXG4jIENyZWF0ZSBhIG5ldyBjb2x1bW4gd2l0aCB0aGUgcmF0aW8gb2YgcGFydGljaXBhbnRzIHRvIGluanVyZWRcbmRmWydwYXJ0aWNpcGFudHNfdG9faW5qdXJlZF9yYXRpbyddID0gZGZbJ3BhcnRpY2lwYW50c19jb3VudCddIC8gZGZbJ2luanVyZWRfY291bnQnXVxuIg==`)))\">Copy</button>\n",
       "                </div>"
      ],
      "text/plain": [
       "<IPython.core.display.HTML object>"
      ]
     },
     "metadata": {},
     "output_type": "display_data"
    }
   ],
   "source": [
    "df.datetime = df.datetime.astype(str)\n",
    "df.sketch.howto('Сгенерируй новые признаки')"
   ]
  },
  {
   "cell_type": "code",
   "execution_count": null,
   "metadata": {},
   "outputs": [
    {
     "data": {
      "text/html": [
       "<div style=\"display:flex;flex-direction:row;justify-content:space-between;\">\n",
       "                <pre style=\"width: 100%; white-space: pre-wrap;\" id=\"f855aca0-6c0c-455b-ad95-8982b4678e26\">\n",
       "# Convert the datetime column from string to datetime64\n",
       "df['datetime'] = pd.to_datetime(df['datetime'])\n",
       "\n",
       "# Create new features from the datetime column\n",
       "df['year'] = df['datetime'].dt.year\n",
       "df['month'] = df['datetime'].dt.month\n",
       "df['day'] = df['datetime'].dt.day\n",
       "df['hour'] = df['datetime'].dt.hour\n",
       "df['minute'] = df['datetime'].dt.minute\n",
       "</pre>\n",
       "                <button style=\"height: fit-content;\" onclick=\"navigator.clipboard.writeText(JSON.parse(atob(`IlxuIyBDb252ZXJ0IHRoZSBkYXRldGltZSBjb2x1bW4gZnJvbSBzdHJpbmcgdG8gZGF0ZXRpbWU2NFxuZGZbJ2RhdGV0aW1lJ10gPSBwZC50b19kYXRldGltZShkZlsnZGF0ZXRpbWUnXSlcblxuIyBDcmVhdGUgbmV3IGZlYXR1cmVzIGZyb20gdGhlIGRhdGV0aW1lIGNvbHVtblxuZGZbJ3llYXInXSA9IGRmWydkYXRldGltZSddLmR0LnllYXJcbmRmWydtb250aCddID0gZGZbJ2RhdGV0aW1lJ10uZHQubW9udGhcbmRmWydkYXknXSA9IGRmWydkYXRldGltZSddLmR0LmRheVxuZGZbJ2hvdXInXSA9IGRmWydkYXRldGltZSddLmR0LmhvdXJcbmRmWydtaW51dGUnXSA9IGRmWydkYXRldGltZSddLmR0Lm1pbnV0ZVxuIg==`)))\">Copy</button>\n",
       "                </div>"
      ],
      "text/plain": [
       "<IPython.core.display.HTML object>"
      ]
     },
     "metadata": {},
     "output_type": "display_data"
    }
   ],
   "source": [
    "df.sketch.howto('Сгенерируй новые признаки (поле datetime необходимо перевести из строки в datetime64)')"
   ]
  },
  {
   "cell_type": "code",
   "execution_count": null,
   "metadata": {},
   "outputs": [
    {
     "name": "stdout",
     "output_type": "stream",
     "text": [
      "['Ясно' 'Дождь' 'Пасмурно' 'Снегопад' 'Метель' 'Пасмурно, Дождь'\n",
      " 'Ясно, Туман' 'Пасмурно, Снегопад' 'Снегопад, Метель' 'Дождь, Снегопад'\n",
      " 'Туман' 'Дождь, Ураганный ветер' 'Туман, Температура ниже -30С'\n",
      " 'Пасмурно, Туман' 'Ясно, Температура ниже -30С' 'Дождь, Туман'\n",
      " 'Снегопад, Температура ниже -30С' 'Пасмурно, Температура ниже -30С'\n",
      " 'Ясно, Дождь' 'Ясно, Температура выше +30С' 'Пасмурно, Метель'\n",
      " 'Пасмурно, Ураганный ветер' 'Пасмурно, Температура выше +30С'\n",
      " 'Метель, Ураганный ветер']\n"
     ]
    }
   ],
   "source": [
    "print(df.weather.unique())"
   ]
  },
  {
   "cell_type": "code",
   "execution_count": null,
   "metadata": {},
   "outputs": [
    {
     "data": {
      "text/html": [
       "<div style=\"display:flex;flex-direction:row;justify-content:space-between;\">\n",
       "                <pre style=\"width: 100%; white-space: pre-wrap;\" id=\"60806edd-0e5e-4e5f-8371-1f5eb9797757\">\n",
       "# Generate new logical features from all possible weather conditions in the `weather` field (first convert values to lowercase)\n",
       "df['weather_clear'] = df['weather'].str.lower().eq('ясно')\n",
       "df['weather_rain'] = df['weather'].str.lower().eq('дождь')\n",
       "df['weather_snow'] = df['weather'].str.lower().eq('снег')\n",
       "df['weather_fog'] = df['weather'].str.lower().eq('туман')\n",
       "</pre>\n",
       "                <button style=\"height: fit-content;\" onclick=\"navigator.clipboard.writeText(JSON.parse(atob(`IlxuIyBHZW5lcmF0ZSBuZXcgbG9naWNhbCBmZWF0dXJlcyBmcm9tIGFsbCBwb3NzaWJsZSB3ZWF0aGVyIGNvbmRpdGlvbnMgaW4gdGhlIGB3ZWF0aGVyYCBmaWVsZCAoZmlyc3QgY29udmVydCB2YWx1ZXMgdG8gbG93ZXJjYXNlKVxuZGZbJ3dlYXRoZXJfY2xlYXInXSA9IGRmWyd3ZWF0aGVyJ10uc3RyLmxvd2VyKCkuZXEoJ1x1MDQ0Zlx1MDQ0MVx1MDQzZFx1MDQzZScpXG5kZlsnd2VhdGhlcl9yYWluJ10gPSBkZlsnd2VhdGhlciddLnN0ci5sb3dlcigpLmVxKCdcdTA0MzRcdTA0M2VcdTA0MzZcdTA0MzRcdTA0NGMnKVxuZGZbJ3dlYXRoZXJfc25vdyddID0gZGZbJ3dlYXRoZXInXS5zdHIubG93ZXIoKS5lcSgnXHUwNDQxXHUwNDNkXHUwNDM1XHUwNDMzJylcbmRmWyd3ZWF0aGVyX2ZvZyddID0gZGZbJ3dlYXRoZXInXS5zdHIubG93ZXIoKS5lcSgnXHUwNDQyXHUwNDQzXHUwNDNjXHUwNDMwXHUwNDNkJylcbiI=`)))\">Copy</button>\n",
       "                </div>"
      ],
      "text/plain": [
       "<IPython.core.display.HTML object>"
      ]
     },
     "metadata": {},
     "output_type": "display_data"
    }
   ],
   "source": [
    "df.sketch.howto('Сгенерируй новые логические признаки из всех возможных погодных условий в поле `weather` (сначала приведи значения к нижнему регистру)')"
   ]
  },
  {
   "cell_type": "code",
   "execution_count": null,
   "metadata": {},
   "outputs": [
    {
     "data": {
      "text/html": [
       "<div style=\"display:flex;flex-direction:row;justify-content:space-between;\">\n",
       "                <pre style=\"width: 100%; white-space: pre-wrap;\" id=\"a68fd5ef-a490-4d1f-aba5-828f5b657dd8\">\n",
       "# Create a list of all possible weather conditions\n",
       "weather_conditions = df['weather'].str.split(',').tolist()\n",
       "weather_conditions = [item for sublist in weather_conditions for item in sublist]\n",
       "weather_conditions = list(set(weather_conditions))\n",
       "\n",
       "# Create new boolean columns for each weather condition\n",
       "for condition in weather_conditions:\n",
       "    df[condition] = df['weather'].str.contains(condition).astype(int)\n",
       "</pre>\n",
       "                <button style=\"height: fit-content;\" onclick=\"navigator.clipboard.writeText(JSON.parse(atob(`IlxuIyBDcmVhdGUgYSBsaXN0IG9mIGFsbCBwb3NzaWJsZSB3ZWF0aGVyIGNvbmRpdGlvbnNcbndlYXRoZXJfY29uZGl0aW9ucyA9IGRmWyd3ZWF0aGVyJ10uc3RyLnNwbGl0KCcsJykudG9saXN0KClcbndlYXRoZXJfY29uZGl0aW9ucyA9IFtpdGVtIGZvciBzdWJsaXN0IGluIHdlYXRoZXJfY29uZGl0aW9ucyBmb3IgaXRlbSBpbiBzdWJsaXN0XVxud2VhdGhlcl9jb25kaXRpb25zID0gbGlzdChzZXQod2VhdGhlcl9jb25kaXRpb25zKSlcblxuIyBDcmVhdGUgbmV3IGJvb2xlYW4gY29sdW1ucyBmb3IgZWFjaCB3ZWF0aGVyIGNvbmRpdGlvblxuZm9yIGNvbmRpdGlvbiBpbiB3ZWF0aGVyX2NvbmRpdGlvbnM6XG4gICAgZGZbY29uZGl0aW9uXSA9IGRmWyd3ZWF0aGVyJ10uc3RyLmNvbnRhaW5zKGNvbmRpdGlvbikuYXN0eXBlKGludClcbiI=`)))\">Copy</button>\n",
       "                </div>"
      ],
      "text/plain": [
       "<IPython.core.display.HTML object>"
      ]
     },
     "metadata": {},
     "output_type": "display_data"
    }
   ],
   "source": [
    "df.sketch.howto('Сгенерируй новые логические признаки из всех возможных погодных условий в поле `weather` (погодные условия перечисляются через запятую)')"
   ]
  },
  {
   "cell_type": "code",
   "execution_count": null,
   "metadata": {},
   "outputs": [
    {
     "data": {
      "text/html": [
       "<div>\n",
       "<style scoped>\n",
       "    .dataframe tbody tr th:only-of-type {\n",
       "        vertical-align: middle;\n",
       "    }\n",
       "\n",
       "    .dataframe tbody tr th {\n",
       "        vertical-align: top;\n",
       "    }\n",
       "\n",
       "    .dataframe thead th {\n",
       "        text-align: right;\n",
       "    }\n",
       "</style>\n",
       "<table border=\"1\" class=\"dataframe\">\n",
       "  <thead>\n",
       "    <tr style=\"text-align: right;\">\n",
       "      <th></th>\n",
       "      <th>Температура выше +30С</th>\n",
       "      <th>Ясно</th>\n",
       "      <th>Дождь</th>\n",
       "      <th>Температура ниже -30С</th>\n",
       "      <th>Пасмурно</th>\n",
       "      <th>Снегопад</th>\n",
       "      <th>Туман</th>\n",
       "      <th>Метель</th>\n",
       "      <th>Ураганный ветер</th>\n",
       "    </tr>\n",
       "  </thead>\n",
       "  <tbody>\n",
       "    <tr>\n",
       "      <th>11106</th>\n",
       "      <td>0</td>\n",
       "      <td>0</td>\n",
       "      <td>0</td>\n",
       "      <td>0</td>\n",
       "      <td>1</td>\n",
       "      <td>0</td>\n",
       "      <td>0</td>\n",
       "      <td>0</td>\n",
       "      <td>0</td>\n",
       "    </tr>\n",
       "    <tr>\n",
       "      <th>4025</th>\n",
       "      <td>0</td>\n",
       "      <td>1</td>\n",
       "      <td>0</td>\n",
       "      <td>0</td>\n",
       "      <td>0</td>\n",
       "      <td>0</td>\n",
       "      <td>0</td>\n",
       "      <td>0</td>\n",
       "      <td>0</td>\n",
       "    </tr>\n",
       "    <tr>\n",
       "      <th>25534</th>\n",
       "      <td>0</td>\n",
       "      <td>0</td>\n",
       "      <td>0</td>\n",
       "      <td>0</td>\n",
       "      <td>0</td>\n",
       "      <td>1</td>\n",
       "      <td>0</td>\n",
       "      <td>0</td>\n",
       "      <td>0</td>\n",
       "    </tr>\n",
       "    <tr>\n",
       "      <th>24867</th>\n",
       "      <td>0</td>\n",
       "      <td>1</td>\n",
       "      <td>0</td>\n",
       "      <td>0</td>\n",
       "      <td>0</td>\n",
       "      <td>0</td>\n",
       "      <td>0</td>\n",
       "      <td>0</td>\n",
       "      <td>0</td>\n",
       "    </tr>\n",
       "    <tr>\n",
       "      <th>22514</th>\n",
       "      <td>0</td>\n",
       "      <td>1</td>\n",
       "      <td>0</td>\n",
       "      <td>0</td>\n",
       "      <td>0</td>\n",
       "      <td>0</td>\n",
       "      <td>0</td>\n",
       "      <td>0</td>\n",
       "      <td>0</td>\n",
       "    </tr>\n",
       "  </tbody>\n",
       "</table>\n",
       "</div>"
      ],
      "text/plain": [
       "       Температура выше +30С  Ясно  Дождь  Температура ниже -30С  Пасмурно  \\\n",
       "11106                      0     0      0                      0         1   \n",
       "4025                       0     1      0                      0         0   \n",
       "25534                      0     0      0                      0         0   \n",
       "24867                      0     1      0                      0         0   \n",
       "22514                      0     1      0                      0         0   \n",
       "\n",
       "       Снегопад  Туман  Метель  Ураганный ветер  \n",
       "11106         0      0       0                0  \n",
       "4025          0      0       0                0  \n",
       "25534         1      0       0                0  \n",
       "24867         0      0       0                0  \n",
       "22514         0      0       0                0  "
      ]
     },
     "metadata": {},
     "output_type": "display_data"
    }
   ],
   "source": [
    "df1 = df.copy()\n",
    "# Create a list of all possible weather conditions\n",
    "weather_conditions = df['weather'].str.split(', ').tolist()\n",
    "weather_conditions = [item for sublist in weather_conditions for item in sublist]\n",
    "weather_conditions = list(set(weather_conditions))\n",
    "\n",
    "# Create new boolean columns for each weather condition\n",
    "for condition in weather_conditions:\n",
    "    df1[condition] = df['weather'].str.contains(condition).astype(int)\n",
    "    \n",
    "df1[weather_conditions].sample(5)"
   ]
  },
  {
   "attachments": {},
   "cell_type": "markdown",
   "metadata": {},
   "source": [
    "#### Манипуляции с данными"
   ]
  },
  {
   "cell_type": "code",
   "execution_count": 75,
   "metadata": {},
   "outputs": [
    {
     "data": {
      "text/plain": [
       "150                           [None None None]\n",
       "29443                      [TOYOTA Vista 1990]\n",
       "2725                         [HONDA Logo 1999]\n",
       "25595    [NISSAN Juke 1994, NISSAN Tiida 2009]\n",
       "6093      [TOYOTA Crown 2002, YAMAHA XVS 2003]\n",
       "Name: vehicles, dtype: object"
      ]
     },
     "execution_count": 75,
     "metadata": {},
     "output_type": "execute_result"
    }
   ],
   "source": [
    "df.vehicles.sample(5)"
   ]
  },
  {
   "cell_type": "code",
   "execution_count": 63,
   "metadata": {},
   "outputs": [
    {
     "data": {
      "text/html": [
       "\n",
       "Минимальный год выпуска автомобилей: 1986\n",
       "Максимальный год выпуска автомобилей: 2018"
      ],
      "text/plain": [
       "<IPython.core.display.HTML object>"
      ]
     },
     "metadata": {},
     "output_type": "display_data"
    }
   ],
   "source": [
    "df.sketch.ask('Какой минимальный и максимальный годы выпуска автомобилей (колонка vehicles имеет тип списка, год может быть неизвестен)?')"
   ]
  },
  {
   "cell_type": "code",
   "execution_count": 80,
   "metadata": {},
   "outputs": [
    {
     "data": {
      "text/html": [
       "<div style=\"display:flex;flex-direction:row;justify-content:space-between;\">\n",
       "                <pre style=\"width: 100%; white-space: pre-wrap;\" id=\"8744a1f3-a273-40c9-bf45-6863ba2e526c\">\n",
       "# Get list of all vehicles\n",
       "vehicles_list = df['vehicles'].tolist()\n",
       "\n",
       "# Create empty list to store years\n",
       "years_list = []\n",
       "\n",
       "# Iterate through each vehicle in the list and extract the year from the string\n",
       "for vehicle in vehicles_list:\n",
       "    # Split the string on space\n",
       "    vehicle_split = vehicle.split(' ')\n",
       "    # Get the last item in the list which is the year\n",
       "    year = vehicle_split[-1]\n",
       "    # Append the year to the years_list if it is a number\n",
       "    if year.isdigit():\n",
       "        years_list.append(int(year))\n",
       "        \n",
       "# Calculate min and max years from the years_list\n",
       "min_year = min(years_list)\n",
       "max_year = max(years_list)\n",
       "\n",
       "print('Min year:', min_year)\n",
       "print('Max year:', max_year)\n",
       "</pre>\n",
       "                <button style=\"height: fit-content;\" onclick=\"navigator.clipboard.writeText(JSON.parse(atob(`IlxuIyBHZXQgbGlzdCBvZiBhbGwgdmVoaWNsZXNcbnZlaGljbGVzX2xpc3QgPSBkZlsndmVoaWNsZXMnXS50b2xpc3QoKVxuXG4jIENyZWF0ZSBlbXB0eSBsaXN0IHRvIHN0b3JlIHllYXJzXG55ZWFyc19saXN0ID0gW11cblxuIyBJdGVyYXRlIHRocm91Z2ggZWFjaCB2ZWhpY2xlIGluIHRoZSBsaXN0IGFuZCBleHRyYWN0IHRoZSB5ZWFyIGZyb20gdGhlIHN0cmluZ1xuZm9yIHZlaGljbGUgaW4gdmVoaWNsZXNfbGlzdDpcbiAgICAjIFNwbGl0IHRoZSBzdHJpbmcgb24gc3BhY2VcbiAgICB2ZWhpY2xlX3NwbGl0ID0gdmVoaWNsZS5zcGxpdCgnICcpXG4gICAgIyBHZXQgdGhlIGxhc3QgaXRlbSBpbiB0aGUgbGlzdCB3aGljaCBpcyB0aGUgeWVhclxuICAgIHllYXIgPSB2ZWhpY2xlX3NwbGl0Wy0xXVxuICAgICMgQXBwZW5kIHRoZSB5ZWFyIHRvIHRoZSB5ZWFyc19saXN0IGlmIGl0IGlzIGEgbnVtYmVyXG4gICAgaWYgeWVhci5pc2RpZ2l0KCk6XG4gICAgICAgIHllYXJzX2xpc3QuYXBwZW5kKGludCh5ZWFyKSlcbiAgICAgICAgXG4jIENhbGN1bGF0ZSBtaW4gYW5kIG1heCB5ZWFycyBmcm9tIHRoZSB5ZWFyc19saXN0XG5taW5feWVhciA9IG1pbih5ZWFyc19saXN0KVxubWF4X3llYXIgPSBtYXgoeWVhcnNfbGlzdClcblxucHJpbnQoJ01pbiB5ZWFyOicsIG1pbl95ZWFyKVxucHJpbnQoJ01heCB5ZWFyOicsIG1heF95ZWFyKVxuIg==`)))\">Copy</button>\n",
       "                </div>"
      ],
      "text/plain": [
       "<IPython.core.display.HTML object>"
      ]
     },
     "metadata": {},
     "output_type": "display_data"
    }
   ],
   "source": [
    "df.sketch.howto('Определи минимальный и максимальный годы выпуска автомобилей (колонка vehicles имеет тип списка, год может быть неизвестен)?')"
   ]
  },
  {
   "cell_type": "code",
   "execution_count": null,
   "metadata": {},
   "outputs": [
    {
     "name": "stdout",
     "output_type": "stream",
     "text": [
      "Min Year: 1\n",
      "Max Year: 2022\n"
     ]
    }
   ],
   "source": [
    "# Get list of all vehicles\n",
    "vehicles_list = df['vehicles'].tolist()\n",
    "\n",
    "# Create empty list to store all years\n",
    "years_list = []\n",
    "\n",
    "# Iterate through the list of vehicles and extract the year from each vehicle\n",
    "for vehicles in vehicles_list:\n",
    "    for v in vehicles:\n",
    "        # Split the string on space to get the year\n",
    "        year = v.split(' ')[-1]\n",
    "        # Append the year to the list of years\n",
    "        if year.isdigit():\n",
    "            years_list.append(int(year))\n",
    "        \n",
    "# Calculate min and max years from the list of years\n",
    "min_year = min(years_list)\n",
    "max_year = max(years_list)\n",
    "\n",
    "print('Min Year:', min_year)\n",
    "print('Max Year:', max_year)"
   ]
  },
  {
   "cell_type": "code",
   "execution_count": 91,
   "metadata": {},
   "outputs": [
    {
     "data": {
      "text/html": [
       "<div style=\"display:flex;flex-direction:row;justify-content:space-between;\">\n",
       "                <pre style=\"width: 100%; white-space: pre-wrap;\" id=\"99c0553b-f4b6-443c-b7bb-9955d7e92ac8\">\n",
       "# Count the number of accidents involving Toyota vehicles before 2000\n",
       "toyota_before_2000 = df[df['vehicles'].apply(lambda x: any('TOYOTA' in v and int(v.split()[-1]) < 2000 for v in x))].shape[0]\n",
       "print(f'Number of accidents involving Toyota vehicles before 2000: {toyota_before_2000}')\n",
       "</pre>\n",
       "                <button style=\"height: fit-content;\" onclick=\"navigator.clipboard.writeText(JSON.parse(atob(`IlxuIyBDb3VudCB0aGUgbnVtYmVyIG9mIGFjY2lkZW50cyBpbnZvbHZpbmcgVG95b3RhIHZlaGljbGVzIGJlZm9yZSAyMDAwXG50b3lvdGFfYmVmb3JlXzIwMDAgPSBkZltkZlsndmVoaWNsZXMnXS5hcHBseShsYW1iZGEgeDogYW55KCdUT1lPVEEnIGluIHYgYW5kIGludCh2LnNwbGl0KClbLTFdKSA8IDIwMDAgZm9yIHYgaW4geCkpXS5zaGFwZVswXVxucHJpbnQoZidOdW1iZXIgb2YgYWNjaWRlbnRzIGludm9sdmluZyBUb3lvdGEgdmVoaWNsZXMgYmVmb3JlIDIwMDA6IHt0b3lvdGFfYmVmb3JlXzIwMDB9JylcbiI=`)))\">Copy</button>\n",
       "                </div>"
      ],
      "text/plain": [
       "<IPython.core.display.HTML object>"
      ]
     },
     "metadata": {},
     "output_type": "display_data"
    }
   ],
   "source": [
    "df.sketch.howto(\"\"\"\n",
    "    Посчитать количество ДТП с участием машин марки `TOYOTA` до 2000 года выпуска,\n",
    "    поле `vehicles` имеет тип списка, год может быть неизвестен\n",
    "\"\"\")"
   ]
  },
  {
   "cell_type": "code",
   "execution_count": 93,
   "metadata": {},
   "outputs": [
    {
     "name": "stdout",
     "output_type": "stream",
     "text": [
      "Number of accidents involving Toyota vehicles before 2000: 8961\n"
     ]
    }
   ],
   "source": [
    "# Count the number of accidents involving Toyota vehicles before 2000\n",
    "toyota_before_2000 = df[df['vehicles'].apply(lambda x: any('TOYOTA' in v and (int(v.split()[-1]) < 2000 if v.split()[-1].isdigit() else False) for v in x))].shape[0]\n",
    "print(f'Number of accidents involving Toyota vehicles before 2000: {toyota_before_2000}')"
   ]
  },
  {
   "cell_type": "code",
   "execution_count": 97,
   "metadata": {},
   "outputs": [
    {
     "data": {
      "text/html": [
       "<div style=\"display:flex;flex-direction:row;justify-content:space-between;\">\n",
       "                <pre style=\"width: 100%; white-space: pre-wrap;\" id=\"d36d25e2-af2a-47f6-9575-f46ac8d6fb21\">\n",
       "# Get all rows where the `vehicles` column contains a Toyota\n",
       "toyota_rows = df[df['vehicles'].str.contains('TOYOTA')]\n",
       "\n",
       "# Get all rows where the `vehicles` column contains a Toyota before 2000\n",
       "toyota_before_2000 = toyota_rows[toyota_rows['vehicles'].str.contains('\\d{4}') & toyota_rows['vehicles'].str.contains('\\d{4}').apply(lambda x: int(x) < 2000)]\n",
       "\n",
       "# Count the number of rows\n",
       "num_toyota_before_2000 = len(toyota_before_2000)\n",
       "</pre>\n",
       "                <button style=\"height: fit-content;\" onclick=\"navigator.clipboard.writeText(JSON.parse(atob(`IlxuIyBHZXQgYWxsIHJvd3Mgd2hlcmUgdGhlIGB2ZWhpY2xlc2AgY29sdW1uIGNvbnRhaW5zIGEgVG95b3RhXG50b3lvdGFfcm93cyA9IGRmW2RmWyd2ZWhpY2xlcyddLnN0ci5jb250YWlucygnVE9ZT1RBJyldXG5cbiMgR2V0IGFsbCByb3dzIHdoZXJlIHRoZSBgdmVoaWNsZXNgIGNvbHVtbiBjb250YWlucyBhIFRveW90YSBiZWZvcmUgMjAwMFxudG95b3RhX2JlZm9yZV8yMDAwID0gdG95b3RhX3Jvd3NbdG95b3RhX3Jvd3NbJ3ZlaGljbGVzJ10uc3RyLmNvbnRhaW5zKCdcXGR7NH0nKSAmIHRveW90YV9yb3dzWyd2ZWhpY2xlcyddLnN0ci5jb250YWlucygnXFxkezR9JykuYXBwbHkobGFtYmRhIHg6IGludCh4KSA8IDIwMDApXVxuXG4jIENvdW50IHRoZSBudW1iZXIgb2Ygcm93c1xubnVtX3RveW90YV9iZWZvcmVfMjAwMCA9IGxlbih0b3lvdGFfYmVmb3JlXzIwMDApXG4i`)))\">Copy</button>\n",
       "                </div>"
      ],
      "text/plain": [
       "<IPython.core.display.HTML object>"
      ]
     },
     "metadata": {},
     "output_type": "display_data"
    }
   ],
   "source": [
    "df.sketch.howto(\"\"\"\n",
    "    Количество ДТП с участием машин марки `TOYOTA` до 2000 года выпуска,\n",
    "    поле `vehicles` имеет тип списка, год может быть неизвестен\n",
    "\"\"\")"
   ]
  },
  {
   "cell_type": "code",
   "execution_count": 98,
   "metadata": {},
   "outputs": [
    {
     "data": {
      "text/html": [
       "<div style=\"display:flex;flex-direction:row;justify-content:space-between;\">\n",
       "                <pre style=\"width: 100%; white-space: pre-wrap;\" id=\"2a5bc335-ee9b-4fa7-8768-c5918c59eb5e\">\n",
       "# Count the number of accidents involving motorcyclists\n",
       "motorcycle_accidents = df[df['participant_categories'].str.contains('Мотоциклисты')].shape[0]\n",
       "print(f'Number of accidents involving motorcyclists: {motorcycle_accidents}')\n",
       "</pre>\n",
       "                <button style=\"height: fit-content;\" onclick=\"navigator.clipboard.writeText(JSON.parse(atob(`IlxuIyBDb3VudCB0aGUgbnVtYmVyIG9mIGFjY2lkZW50cyBpbnZvbHZpbmcgbW90b3JjeWNsaXN0c1xubW90b3JjeWNsZV9hY2NpZGVudHMgPSBkZltkZlsncGFydGljaXBhbnRfY2F0ZWdvcmllcyddLnN0ci5jb250YWlucygnXHUwNDFjXHUwNDNlXHUwNDQyXHUwNDNlXHUwNDQ2XHUwNDM4XHUwNDNhXHUwNDNiXHUwNDM4XHUwNDQxXHUwNDQyXHUwNDRiJyldLnNoYXBlWzBdXG5wcmludChmJ051bWJlciBvZiBhY2NpZGVudHMgaW52b2x2aW5nIG1vdG9yY3ljbGlzdHM6IHttb3RvcmN5Y2xlX2FjY2lkZW50c30nKVxuIg==`)))\">Copy</button>\n",
       "                </div>"
      ],
      "text/plain": [
       "<IPython.core.display.HTML object>"
      ]
     },
     "metadata": {},
     "output_type": "display_data"
    }
   ],
   "source": [
    "df.sketch.howto('Количество ДТП с участием мотоциклистов')"
   ]
  },
  {
   "cell_type": "code",
   "execution_count": 111,
   "metadata": {},
   "outputs": [
    {
     "name": "stdout",
     "output_type": "stream",
     "text": [
      "Number of accidents involving motorcyclists: 2221\n"
     ]
    }
   ],
   "source": [
    "# Count the number of accidents involving motorcyclists\n",
    "motorcycle_accidents = df[df['participant_categories'].str.contains('Мотоциклисты')].shape[0]\n",
    "print(f'Number of accidents involving motorcyclists: {motorcycle_accidents}')"
   ]
  },
  {
   "cell_type": "code",
   "execution_count": 15,
   "metadata": {
    "scrolled": true
   },
   "outputs": [
    {
     "name": "stderr",
     "output_type": "stream",
     "text": [
      "WARNING:root:Module astral not found, but part of suggestion. May need to pip install...\n"
     ]
    },
    {
     "data": {
      "text/html": [
       "<div style=\"display:flex;flex-direction:row;justify-content:space-between;\">\n",
       "                <pre style=\"width: 100%; white-space: pre-wrap;\" id=\"855948e3-8332-4d04-89ed-b4f523ca3a37\">\n",
       "# import necessary libraries\n",
       "import pandas as pd\n",
       "import datetime\n",
       "from astral import Astral\n",
       "\n",
       "# create an Astral object\n",
       "a = Astral()\n",
       "\n",
       "# create a list of dates from the datetime column in df\n",
       "dates = df['datetime'].tolist()\n",
       "\n",
       "# create a list of moon phases for each date in the list of dates\n",
       "moon_phases = [a.moon_phase(date) for date in dates]\n",
       "\n",
       "# add the list of moon phases to the dataframe as a new column\n",
       "df['moon_phase'] = moon_phases\n",
       "</pre>\n",
       "                <button style=\"height: fit-content;\" onclick=\"navigator.clipboard.writeText(JSON.parse(atob(`IlxuIyBpbXBvcnQgbmVjZXNzYXJ5IGxpYnJhcmllc1xuaW1wb3J0IHBhbmRhcyBhcyBwZFxuaW1wb3J0IGRhdGV0aW1lXG5mcm9tIGFzdHJhbCBpbXBvcnQgQXN0cmFsXG5cbiMgY3JlYXRlIGFuIEFzdHJhbCBvYmplY3RcbmEgPSBBc3RyYWwoKVxuXG4jIGNyZWF0ZSBhIGxpc3Qgb2YgZGF0ZXMgZnJvbSB0aGUgZGF0ZXRpbWUgY29sdW1uIGluIGRmXG5kYXRlcyA9IGRmWydkYXRldGltZSddLnRvbGlzdCgpXG5cbiMgY3JlYXRlIGEgbGlzdCBvZiBtb29uIHBoYXNlcyBmb3IgZWFjaCBkYXRlIGluIHRoZSBsaXN0IG9mIGRhdGVzXG5tb29uX3BoYXNlcyA9IFthLm1vb25fcGhhc2UoZGF0ZSkgZm9yIGRhdGUgaW4gZGF0ZXNdXG5cbiMgYWRkIHRoZSBsaXN0IG9mIG1vb24gcGhhc2VzIHRvIHRoZSBkYXRhZnJhbWUgYXMgYSBuZXcgY29sdW1uXG5kZlsnbW9vbl9waGFzZSddID0gbW9vbl9waGFzZXNcbiI=`)))\">Copy</button>\n",
       "                </div>"
      ],
      "text/plain": [
       "<IPython.core.display.HTML object>"
      ]
     },
     "metadata": {},
     "output_type": "display_data"
    }
   ],
   "source": [
    "df.sketch.howto('Какая фаза луны была в день ДТП?')"
   ]
  },
  {
   "cell_type": "code",
   "execution_count": 17,
   "metadata": {},
   "outputs": [
    {
     "data": {
      "text/html": [
       "<div style=\"display:flex;flex-direction:row;justify-content:space-between;\">\n",
       "                <pre style=\"width: 100%; white-space: pre-wrap;\" id=\"563a6509-6c8f-4823-ad16-d6b964057108\">\n",
       "# import necessary libraries\n",
       "import pandas as pd\n",
       "import numpy as np\n",
       "from geopy.distance import geodesic\n",
       "\n",
       "# define coordinates of Moscow\n",
       "moscow_lat = 55.755826\n",
       "moscow_lon = 37.6173\n",
       "\n",
       "# calculate distance from Moscow for each row in the dataframe\n",
       "df['distance_from_moscow'] = df.apply(lambda row: geodesic((row['lat'], row['lon']), (moscow_lat, moscow_lon)).km, axis=1)\n",
       "\n",
       "# print the min and max distances from Moscow\n",
       "print('Minimum distance from Moscow:', df['distance_from_moscow'].min())\n",
       "print('Maximum distance from Moscow:', df['distance_from_moscow'].max())\n",
       "</pre>\n",
       "                <button style=\"height: fit-content;\" onclick=\"navigator.clipboard.writeText(JSON.parse(atob(`IlxuIyBpbXBvcnQgbmVjZXNzYXJ5IGxpYnJhcmllc1xuaW1wb3J0IHBhbmRhcyBhcyBwZFxuaW1wb3J0IG51bXB5IGFzIG5wXG5mcm9tIGdlb3B5LmRpc3RhbmNlIGltcG9ydCBnZW9kZXNpY1xuXG4jIGRlZmluZSBjb29yZGluYXRlcyBvZiBNb3Njb3dcbm1vc2Nvd19sYXQgPSA1NS43NTU4MjZcbm1vc2Nvd19sb24gPSAzNy42MTczXG5cbiMgY2FsY3VsYXRlIGRpc3RhbmNlIGZyb20gTW9zY293IGZvciBlYWNoIHJvdyBpbiB0aGUgZGF0YWZyYW1lXG5kZlsnZGlzdGFuY2VfZnJvbV9tb3Njb3cnXSA9IGRmLmFwcGx5KGxhbWJkYSByb3c6IGdlb2Rlc2ljKChyb3dbJ2xhdCddLCByb3dbJ2xvbiddKSwgKG1vc2Nvd19sYXQsIG1vc2Nvd19sb24pKS5rbSwgYXhpcz0xKVxuXG4jIHByaW50IHRoZSBtaW4gYW5kIG1heCBkaXN0YW5jZXMgZnJvbSBNb3Njb3dcbnByaW50KCdNaW5pbXVtIGRpc3RhbmNlIGZyb20gTW9zY293OicsIGRmWydkaXN0YW5jZV9mcm9tX21vc2NvdyddLm1pbigpKVxucHJpbnQoJ01heGltdW0gZGlzdGFuY2UgZnJvbSBNb3Njb3c6JywgZGZbJ2Rpc3RhbmNlX2Zyb21fbW9zY293J10ubWF4KCkpXG4i`)))\">Copy</button>\n",
       "                </div>"
      ],
      "text/plain": [
       "<IPython.core.display.HTML object>"
      ]
     },
     "metadata": {},
     "output_type": "display_data"
    }
   ],
   "source": [
    "df.sketch.howto('На каком расстоянии от Москвы произошло ДТП?')"
   ]
  },
  {
   "cell_type": "code",
   "execution_count": 112,
   "metadata": {},
   "outputs": [
    {
     "name": "stdout",
     "output_type": "stream",
     "text": [
      "Minimum distance from Moscow: 4737.977084020733\n",
      "Maximum distance from Moscow: 7127.686149630483\n"
     ]
    }
   ],
   "source": [
    "# import necessary libraries\n",
    "import pandas as pd\n",
    "import numpy as np\n",
    "from geopy.distance import geodesic\n",
    "\n",
    "# define coordinates of Moscow\n",
    "moscow_lat = 55.755826\n",
    "moscow_lon = 37.6173\n",
    "\n",
    "# calculate distance from Moscow for each row in the dataframe\n",
    "df['distance_from_moscow'] = df.apply(lambda row: geodesic((row['lat'], row['lon']), (moscow_lat, moscow_lon)).km, axis=1)\n",
    "\n",
    "# print the min and max distances from Moscow\n",
    "print('Minimum distance from Moscow:', df['distance_from_moscow'].min())\n",
    "print('Maximum distance from Moscow:', df['distance_from_moscow'].max())"
   ]
  },
  {
   "cell_type": "code",
   "execution_count": 110,
   "metadata": {},
   "outputs": [
    {
     "data": {
      "text/html": [
       "<div style=\"display:flex;flex-direction:row;justify-content:space-between;\">\n",
       "                <pre style=\"width: 100%; white-space: pre-wrap;\" id=\"26a26ca7-d0f6-4f87-9c65-0b04bd212fbe\">\n",
       "# Get the datetime column from the dataframe\n",
       "datetime_col = df['datetime']\n",
       "\n",
       "# Get the date of Lenin's birthday\n",
       "lenin_birthday = datetime.date(1870, 4, 22)\n",
       "\n",
       "# Filter the dataframe to only include rows with a datetime that matches Lenin's birthday\n",
       "lenin_birthday_df = df[datetime_col.dt.date == lenin_birthday]\n",
       "\n",
       "# Count the number of rows in the filtered dataframe\n",
       "lenin_birthday_count = lenin_birthday_df.shape[0]\n",
       "\n",
       "# Print the result\n",
       "print('Number of DTPs on Lenin\\'s birthday: {}'.format(lenin_birthday_count))\n",
       "</pre>\n",
       "                <button style=\"height: fit-content;\" onclick=\"navigator.clipboard.writeText(JSON.parse(atob(`IlxuIyBHZXQgdGhlIGRhdGV0aW1lIGNvbHVtbiBmcm9tIHRoZSBkYXRhZnJhbWVcbmRhdGV0aW1lX2NvbCA9IGRmWydkYXRldGltZSddXG5cbiMgR2V0IHRoZSBkYXRlIG9mIExlbmluJ3MgYmlydGhkYXlcbmxlbmluX2JpcnRoZGF5ID0gZGF0ZXRpbWUuZGF0ZSgxODcwLCA0LCAyMilcblxuIyBGaWx0ZXIgdGhlIGRhdGFmcmFtZSB0byBvbmx5IGluY2x1ZGUgcm93cyB3aXRoIGEgZGF0ZXRpbWUgdGhhdCBtYXRjaGVzIExlbmluJ3MgYmlydGhkYXlcbmxlbmluX2JpcnRoZGF5X2RmID0gZGZbZGF0ZXRpbWVfY29sLmR0LmRhdGUgPT0gbGVuaW5fYmlydGhkYXldXG5cbiMgQ291bnQgdGhlIG51bWJlciBvZiByb3dzIGluIHRoZSBmaWx0ZXJlZCBkYXRhZnJhbWVcbmxlbmluX2JpcnRoZGF5X2NvdW50ID0gbGVuaW5fYmlydGhkYXlfZGYuc2hhcGVbMF1cblxuIyBQcmludCB0aGUgcmVzdWx0XG5wcmludCgnTnVtYmVyIG9mIERUUHMgb24gTGVuaW5cXCdzIGJpcnRoZGF5OiB7fScuZm9ybWF0KGxlbmluX2JpcnRoZGF5X2NvdW50KSlcbiI=`)))\">Copy</button>\n",
       "                </div>"
      ],
      "text/plain": [
       "<IPython.core.display.HTML object>"
      ]
     },
     "metadata": {},
     "output_type": "display_data"
    }
   ],
   "source": [
    "df.sketch.howto('Сколько ДТП произошли в день рождения Ленина?')"
   ]
  },
  {
   "cell_type": "code",
   "execution_count": 102,
   "metadata": {},
   "outputs": [
    {
     "data": {
      "text/html": [
       "\n",
       "Нет, эта информация не присутствует в данном датафрейме."
      ],
      "text/plain": [
       "<IPython.core.display.HTML object>"
      ]
     },
     "metadata": {},
     "output_type": "display_data"
    }
   ],
   "source": [
    "df.sketch.ask('День рождения Ленина')"
   ]
  },
  {
   "cell_type": "code",
   "execution_count": 103,
   "metadata": {},
   "outputs": [
    {
     "data": {
      "text/html": [
       "<div style=\"display:flex;flex-direction:row;justify-content:space-between;\">\n",
       "                <pre style=\"width: 100%; white-space: pre-wrap;\" id=\"6050b4a6-3f66-486a-9d86-310a1bdb6c22\">\n",
       "# Get the datetime column from the dataframe\n",
       "datetime_column = df['datetime']\n",
       "\n",
       "# Filter the datetime column to only include dates that match the day of Lenin's birthday\n",
       "lenin_birthday = datetime_column.dt.month == 4 and datetime_column.dt.day == 22\n",
       "\n",
       "# Get the rows that match the filter\n",
       "lenin_birthday_rows = df[lenin_birthday]\n",
       "</pre>\n",
       "                <button style=\"height: fit-content;\" onclick=\"navigator.clipboard.writeText(JSON.parse(atob(`IlxuIyBHZXQgdGhlIGRhdGV0aW1lIGNvbHVtbiBmcm9tIHRoZSBkYXRhZnJhbWVcbmRhdGV0aW1lX2NvbHVtbiA9IGRmWydkYXRldGltZSddXG5cbiMgRmlsdGVyIHRoZSBkYXRldGltZSBjb2x1bW4gdG8gb25seSBpbmNsdWRlIGRhdGVzIHRoYXQgbWF0Y2ggdGhlIGRheSBvZiBMZW5pbidzIGJpcnRoZGF5XG5sZW5pbl9iaXJ0aGRheSA9IGRhdGV0aW1lX2NvbHVtbi5kdC5tb250aCA9PSA0IGFuZCBkYXRldGltZV9jb2x1bW4uZHQuZGF5ID09IDIyXG5cbiMgR2V0IHRoZSByb3dzIHRoYXQgbWF0Y2ggdGhlIGZpbHRlclxubGVuaW5fYmlydGhkYXlfcm93cyA9IGRmW2xlbmluX2JpcnRoZGF5XVxuIg==`)))\">Copy</button>\n",
       "                </div>"
      ],
      "text/plain": [
       "<IPython.core.display.HTML object>"
      ]
     },
     "metadata": {},
     "output_type": "display_data"
    }
   ],
   "source": [
    "df.sketch.howto('День рождения Ленина')"
   ]
  },
  {
   "attachments": {},
   "cell_type": "markdown",
   "metadata": {},
   "source": [
    "#### Графики"
   ]
  },
  {
   "cell_type": "code",
   "execution_count": 121,
   "metadata": {},
   "outputs": [
    {
     "data": {
      "text/html": [
       "<div style=\"display:flex;flex-direction:row;justify-content:space-between;\">\n",
       "                <pre style=\"width: 100%; white-space: pre-wrap;\" id=\"42e3876d-8b98-4ddc-a190-c055d5953786\">\n",
       "import matplotlib.pyplot as plt\n",
       "\n",
       "# Get the max value of injured_count\n",
       "max_injured_count = df['injured_count'].max()\n",
       "\n",
       "# Create a histogram of the injured_count column with max_injured_count bins\n",
       "df['injured_count'].hist(bins=max_injured_count)\n",
       "\n",
       "# Set the title and labels for the histogram\n",
       "plt.title('Injured Count')\n",
       "plt.xlabel('Number of Injuries')\n",
       "plt.ylabel('Frequency')\n",
       "\n",
       "# Show the plot\n",
       "plt.show()\n",
       "</pre>\n",
       "                <button style=\"height: fit-content;\" onclick=\"navigator.clipboard.writeText(JSON.parse(atob(`IlxuaW1wb3J0IG1hdHBsb3RsaWIucHlwbG90IGFzIHBsdFxuXG4jIEdldCB0aGUgbWF4IHZhbHVlIG9mIGluanVyZWRfY291bnRcbm1heF9pbmp1cmVkX2NvdW50ID0gZGZbJ2luanVyZWRfY291bnQnXS5tYXgoKVxuXG4jIENyZWF0ZSBhIGhpc3RvZ3JhbSBvZiB0aGUgaW5qdXJlZF9jb3VudCBjb2x1bW4gd2l0aCBtYXhfaW5qdXJlZF9jb3VudCBiaW5zXG5kZlsnaW5qdXJlZF9jb3VudCddLmhpc3QoYmlucz1tYXhfaW5qdXJlZF9jb3VudClcblxuIyBTZXQgdGhlIHRpdGxlIGFuZCBsYWJlbHMgZm9yIHRoZSBoaXN0b2dyYW1cbnBsdC50aXRsZSgnSW5qdXJlZCBDb3VudCcpXG5wbHQueGxhYmVsKCdOdW1iZXIgb2YgSW5qdXJpZXMnKVxucGx0LnlsYWJlbCgnRnJlcXVlbmN5JylcblxuIyBTaG93IHRoZSBwbG90XG5wbHQuc2hvdygpXG4i`)))\">Copy</button>\n",
       "                </div>"
      ],
      "text/plain": [
       "<IPython.core.display.HTML object>"
      ]
     },
     "metadata": {},
     "output_type": "display_data"
    }
   ],
   "source": [
    "df.sketch.howto(\"\"\"Построить гистограмму количества пострадавших, \n",
    "                установить количество корзин равным максимальному значению\"\"\")"
   ]
  },
  {
   "cell_type": "code",
   "execution_count": 5,
   "metadata": {},
   "outputs": [
    {
     "data": {
      "image/png": "[encoded data removed]",
      "text/plain": [
       "<Figure size 432x288 with 1 Axes>"
      ]
     },
     "metadata": {
      "needs_background": "light"
     },
     "output_type": "display_data"
    }
   ],
   "source": [
    "import matplotlib.pyplot as plt\n",
    "\n",
    "# Get the max value of injured_count\n",
    "max_injured_count = df['injured_count'].max()\n",
    "\n",
    "# Create a histogram of the injured_count column with max_injured_count bins\n",
    "df['injured_count'].hist(bins=max_injured_count)\n",
    "\n",
    "# Set the title and labels for the histogram\n",
    "plt.title('Injured Count')\n",
    "plt.xlabel('Number of Injuries')\n",
    "plt.ylabel('Frequency')\n",
    "\n",
    "# Show the plot\n",
    "plt.show()"
   ]
  },
  {
   "cell_type": "code",
   "execution_count": 13,
   "metadata": {},
   "outputs": [
    {
     "data": {
      "text/html": [
       "<div style=\"display:flex;flex-direction:row;justify-content:space-between;\">\n",
       "                <pre style=\"width: 100%; white-space: pre-wrap;\" id=\"a3fd9b6e-aa3c-4d0e-9a56-52bd74e7e085\">\n",
       "import seaborn as sns\n",
       "\n",
       "# Set figure size\n",
       "plt.figure(figsize=(12, 9))\n",
       "\n",
       "# Plot the data\n",
       "sns.scatterplot(x=\"lon\", y=\"lat\", hue=\"parent_region\", size=\"participants_count\", data=df, alpha=0.3)\n",
       "\n",
       "# Add labels and grid\n",
       "plt.xlabel('Longitude')\n",
       "plt.ylabel('Latitude')\n",
       "plt.title('Accidents by Location')\n",
       "plt.grid(True)\n",
       "</pre>\n",
       "                <button style=\"height: fit-content;\" onclick=\"navigator.clipboard.writeText(JSON.parse(atob(`IlxuaW1wb3J0IHNlYWJvcm4gYXMgc25zXG5cbiMgU2V0IGZpZ3VyZSBzaXplXG5wbHQuZmlndXJlKGZpZ3NpemU9KDEyLCA5KSlcblxuIyBQbG90IHRoZSBkYXRhXG5zbnMuc2NhdHRlcnBsb3QoeD1cImxvblwiLCB5PVwibGF0XCIsIGh1ZT1cInBhcmVudF9yZWdpb25cIiwgc2l6ZT1cInBhcnRpY2lwYW50c19jb3VudFwiLCBkYXRhPWRmLCBhbHBoYT0wLjMpXG5cbiMgQWRkIGxhYmVscyBhbmQgZ3JpZFxucGx0LnhsYWJlbCgnTG9uZ2l0dWRlJylcbnBsdC55bGFiZWwoJ0xhdGl0dWRlJylcbnBsdC50aXRsZSgnQWNjaWRlbnRzIGJ5IExvY2F0aW9uJylcbnBsdC5ncmlkKFRydWUpXG4i`)))\">Copy</button>\n",
       "                </div>"
      ],
      "text/plain": [
       "<IPython.core.display.HTML object>"
      ]
     },
     "metadata": {},
     "output_type": "display_data"
    }
   ],
   "source": [
    "df.drop('vehicles',axis=1).sketch.howto(\"\"\"Построй координаты на графике с помощью seaborn \n",
    "    Цветом обозначь разные `parent_region`, \n",
    "    размер графика 12 на 9, размер точек пропорционально `participants_count`,\n",
    "    подпиши названия осей и графика, добавь на график сетку,\n",
    "    прозрачность точек 30 процентов\"\"\")"
   ]
  },
  {
   "cell_type": "code",
   "execution_count": 14,
   "metadata": {},
   "outputs": [
    {
     "data": {
      "image/png": "[encoded data removed]",
      "text/plain": [
       "<Figure size 864x648 with 1 Axes>"
      ]
     },
     "metadata": {
      "needs_background": "light"
     },
     "output_type": "display_data"
    }
   ],
   "source": [
    "import seaborn as sns\n",
    "\n",
    "# Set figure size\n",
    "plt.figure(figsize=(12, 9))\n",
    "\n",
    "# Plot the data\n",
    "sns.scatterplot(x=\"lon\", y=\"lat\", hue=\"parent_region\", size=\"participants_count\", data=df, alpha=0.3)\n",
    "\n",
    "# Add labels and grid\n",
    "plt.xlabel('Longitude')\n",
    "plt.ylabel('Latitude')\n",
    "plt.title('Accidents by Location')\n",
    "plt.grid(True)"
   ]
  },
  {
   "cell_type": "code",
   "execution_count": null,
   "metadata": {},
   "outputs": [
    {
     "data": {
      "text/plain": [
       "Text(0, 0.5, 'Latitude')"
      ]
     },
     "metadata": {},
     "output_type": "display_data"
    },
    {
     "data": {
      "image/png": "[encoded data removed]",
      "text/plain": [
       "<Figure size 864x720 with 1 Axes>"
      ]
     },
     "metadata": {},
     "output_type": "display_data"
    }
   ],
   "source": [
    "import matplotlib.pyplot as plt\n",
    "import seaborn as sns\n",
    "\n",
    "# Set figure size\n",
    "plt.figure(figsize=(12, 10))\n",
    "\n",
    "# Plot the data\n",
    "sns.scatterplot(x=\"lon\", y=\"lat\", hue=\"severity\", size=\"participants_count\", data=df)\n",
    "\n",
    "# Add labels and title\n",
    "plt.title(\"Coordinates of Different Regions\")\n",
    "plt.xlabel(\"Longitude\")\n",
    "plt.ylabel(\"Latitude\")"
   ]
  },
  {
   "cell_type": "code",
   "execution_count": 15,
   "metadata": {},
   "outputs": [
    {
     "data": {
      "text/html": [
       "<div style=\"display:flex;flex-direction:row;justify-content:space-between;\">\n",
       "                <pre style=\"width: 100%; white-space: pre-wrap;\" id=\"75e41b07-adc1-40bf-8a5b-ba2efe8d6e69\">\n",
       "#import necessary libraries\n",
       "import pandas as pd\n",
       "import numpy as np\n",
       "from sklearn.cluster import KMeans\n",
       "\n",
       "#create a dataframe with only the columns needed for clustering\n",
       "df_cluster = df[['lat', 'lon']]\n",
       "\n",
       "#instantiate the KMeans model with the desired number of clusters\n",
       "kmeans = KMeans(n_clusters=5)\n",
       "\n",
       "#fit the model to the dataframe\n",
       "kmeans.fit(df_cluster)\n",
       "\n",
       "#predict the clusters for each row in the dataframe\n",
       "df['cluster'] = kmeans.predict(df_cluster)\n",
       "</pre>\n",
       "                <button style=\"height: fit-content;\" onclick=\"navigator.clipboard.writeText(JSON.parse(atob(`IlxuI2ltcG9ydCBuZWNlc3NhcnkgbGlicmFyaWVzXG5pbXBvcnQgcGFuZGFzIGFzIHBkXG5pbXBvcnQgbnVtcHkgYXMgbnBcbmZyb20gc2tsZWFybi5jbHVzdGVyIGltcG9ydCBLTWVhbnNcblxuI2NyZWF0ZSBhIGRhdGFmcmFtZSB3aXRoIG9ubHkgdGhlIGNvbHVtbnMgbmVlZGVkIGZvciBjbHVzdGVyaW5nXG5kZl9jbHVzdGVyID0gZGZbWydsYXQnLCAnbG9uJ11dXG5cbiNpbnN0YW50aWF0ZSB0aGUgS01lYW5zIG1vZGVsIHdpdGggdGhlIGRlc2lyZWQgbnVtYmVyIG9mIGNsdXN0ZXJzXG5rbWVhbnMgPSBLTWVhbnMobl9jbHVzdGVycz01KVxuXG4jZml0IHRoZSBtb2RlbCB0byB0aGUgZGF0YWZyYW1lXG5rbWVhbnMuZml0KGRmX2NsdXN0ZXIpXG5cbiNwcmVkaWN0IHRoZSBjbHVzdGVycyBmb3IgZWFjaCByb3cgaW4gdGhlIGRhdGFmcmFtZVxuZGZbJ2NsdXN0ZXInXSA9IGttZWFucy5wcmVkaWN0KGRmX2NsdXN0ZXIpXG4i`)))\">Copy</button>\n",
       "                </div>"
      ],
      "text/plain": [
       "<IPython.core.display.HTML object>"
      ]
     },
     "metadata": {},
     "output_type": "display_data"
    }
   ],
   "source": [
    "df.sketch.howto('Кластеризация точек')"
   ]
  },
  {
   "cell_type": "code",
   "execution_count": 17,
   "metadata": {},
   "outputs": [
    {
     "data": {
      "text/html": [
       "<div style=\"display:flex;flex-direction:row;justify-content:space-between;\">\n",
       "                <pre style=\"width: 100%; white-space: pre-wrap;\" id=\"a64666b7-d6ff-42cc-8d89-db5caba3226d\">\n",
       "#import necessary libraries\n",
       "import pandas as pd\n",
       "import numpy as np\n",
       "from sklearn.model_selection import train_test_split\n",
       "from sklearn.linear_model import LinearRegression\n",
       "from sklearn.metrics import mean_squared_error, r2_score\n",
       "\n",
       "#separate the dataframe into features and target\n",
       "X = df[['lat', 'lon', 'participants_count', 'injured_count']]\n",
       "y = df['dead_count']\n",
       "\n",
       "#split the data into training and testing sets\n",
       "X_train, X_test, y_train, y_test = train_test_split(X, y, test_size=0.2, random_state=42)\n",
       "\n",
       "#fit the model to the training data\n",
       "model = LinearRegression()\n",
       "model.fit(X_train, y_train)\n",
       "\n",
       "#make predictions on the test data\n",
       "y_pred = model.predict(X_test)\n",
       "\n",
       "#evaluate the model's performance using metrics such as mean squared error and r2 score\n",
       "mse = mean_squared_error(y_test, y_pred) \n",
       "r2 = r2_score(y_test, y_pred) \n",
       "print('Mean Squared Error:', mse) \n",
       "print('R2 Score:', r2) \n",
       "</pre>\n",
       "                <button style=\"height: fit-content;\" onclick=\"navigator.clipboard.writeText(JSON.parse(atob(`IlxuI2ltcG9ydCBuZWNlc3NhcnkgbGlicmFyaWVzXG5pbXBvcnQgcGFuZGFzIGFzIHBkXG5pbXBvcnQgbnVtcHkgYXMgbnBcbmZyb20gc2tsZWFybi5tb2RlbF9zZWxlY3Rpb24gaW1wb3J0IHRyYWluX3Rlc3Rfc3BsaXRcbmZyb20gc2tsZWFybi5saW5lYXJfbW9kZWwgaW1wb3J0IExpbmVhclJlZ3Jlc3Npb25cbmZyb20gc2tsZWFybi5tZXRyaWNzIGltcG9ydCBtZWFuX3NxdWFyZWRfZXJyb3IsIHIyX3Njb3JlXG5cbiNzZXBhcmF0ZSB0aGUgZGF0YWZyYW1lIGludG8gZmVhdHVyZXMgYW5kIHRhcmdldFxuWCA9IGRmW1snbGF0JywgJ2xvbicsICdwYXJ0aWNpcGFudHNfY291bnQnLCAnaW5qdXJlZF9jb3VudCddXVxueSA9IGRmWydkZWFkX2NvdW50J11cblxuI3NwbGl0IHRoZSBkYXRhIGludG8gdHJhaW5pbmcgYW5kIHRlc3Rpbmcgc2V0c1xuWF90cmFpbiwgWF90ZXN0LCB5X3RyYWluLCB5X3Rlc3QgPSB0cmFpbl90ZXN0X3NwbGl0KFgsIHksIHRlc3Rfc2l6ZT0wLjIsIHJhbmRvbV9zdGF0ZT00MilcblxuI2ZpdCB0aGUgbW9kZWwgdG8gdGhlIHRyYWluaW5nIGRhdGFcbm1vZGVsID0gTGluZWFyUmVncmVzc2lvbigpXG5tb2RlbC5maXQoWF90cmFpbiwgeV90cmFpbilcblxuI21ha2UgcHJlZGljdGlvbnMgb24gdGhlIHRlc3QgZGF0YVxueV9wcmVkID0gbW9kZWwucHJlZGljdChYX3Rlc3QpXG5cbiNldmFsdWF0ZSB0aGUgbW9kZWwncyBwZXJmb3JtYW5jZSB1c2luZyBtZXRyaWNzIHN1Y2ggYXMgbWVhbiBzcXVhcmVkIGVycm9yIGFuZCByMiBzY29yZVxubXNlID0gbWVhbl9zcXVhcmVkX2Vycm9yKHlfdGVzdCwgeV9wcmVkKSBcbnIyID0gcjJfc2NvcmUoeV90ZXN0LCB5X3ByZWQpIFxucHJpbnQoJ01lYW4gU3F1YXJlZCBFcnJvcjonLCBtc2UpIFxucHJpbnQoJ1IyIFNjb3JlOicsIHIyKSBcbiI=`)))\">Copy</button>\n",
       "                </div>"
      ],
      "text/plain": [
       "<IPython.core.display.HTML object>"
      ]
     },
     "metadata": {},
     "output_type": "display_data"
    }
   ],
   "source": [
    "df.sketch.howto(\"\"\"Построить модель, \n",
    "    предсказывающую количество погибших в ДТП на основе численных признаков\"\"\")"
   ]
  },
  {
   "cell_type": "code",
   "execution_count": null,
   "metadata": {},
   "outputs": [],
   "source": [
    "#import necessary libraries\n",
    "import pandas as pd\n",
    "import numpy as np\n",
    "from sklearn.model_selection import train_test_split\n",
    "from sklearn.linear_model import LinearRegression\n",
    "from sklearn.metrics import mean_squared_error, r2_score\n",
    "\n",
    "#separate the dataframe into features and target variables\n",
    "X = df[['lat', 'lon', 'participants_count', 'injured_count']]\n",
    "y = df['dead_count']\n",
    "\n",
    "#split the data into training and testing sets\n",
    "X_train, X_test, y_train, y_test = train_test_split(X, y, test_size=0.2, random_state=42)\n",
    "\n",
    "#fit the model to the training data\n",
    "model = LinearRegression()\n",
    "model.fit(X_train, y_train)\n",
    "\n",
    "#make predictions on the test data\n",
    "y_pred = model.predict(X_test)\n",
    "\n",
    "#evaluate the model's performance using metrics such as mean squared error and r2 score\n",
    "mse = mean_squared_error(y_test, y_pred) \n",
    "r2 = r2_score(y_test, y_pred) \n",
    "print('Mean Squared Error:', mse) \n",
    "print('R2 Score:', r2) "
   ]
  },
  {
   "cell_type": "code",
   "execution_count": null,
   "metadata": {},
   "outputs": [],
   "source": []
  },
  {
   "cell_type": "code",
   "execution_count": null,
   "metadata": {},
   "outputs": [],
   "source": []
  }
 ],
 "metadata": {
  "kernelspec": {
   "display_name": "Python 3 (ipykernel)",
   "language": "python",
   "name": "python3"
  },
  "language_info": {
   "codemirror_mode": {
    "name": "ipython",
    "version": 3
   },
   "file_extension": ".py",
   "mimetype": "text/x-python",
   "name": "python",
   "nbconvert_exporter": "python",
   "pygments_lexer": "ipython3",
   "version": "3.9.15"
  },
  "toc": {
   "base_numbering": 1,
   "nav_menu": {},
   "number_sections": true,
   "sideBar": true,
   "skip_h1_title": false,
   "title_cell": "Table of Contents",
   "title_sidebar": "Contents",
   "toc_cell": false,
   "toc_position": {},
   "toc_section_display": true,
   "toc_window_display": false
  },
  "vscode": {
   "interpreter": {
    "hash": "58656f4d27507c1cf066d160953941131aeedc5e8ddd25f7cf3d9165a5f5fe3d"
   }
  }
 },
 "nbformat": 4,
 "nbformat_minor": 2
}

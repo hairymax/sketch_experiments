{
 "cells": [
  {
   "cell_type": "code",
   "execution_count": 1,
   "metadata": {},
   "outputs": [],
   "source": [
    "import sketch\n",
    "import pandas as pd"
   ]
  },
  {
   "cell_type": "code",
   "execution_count": 2,
   "metadata": {},
   "outputs": [
    {
     "name": "stdout",
     "output_type": "stream",
     "text": [
      "<class 'pandas.core.frame.DataFrame'>\n",
      "RangeIndex: 30662 entries, 0 to 30661\n",
      "Data columns (total 15 columns):\n",
      " #   Column                  Non-Null Count  Dtype         \n",
      "---  ------                  --------------  -----         \n",
      " 0   datetime                30662 non-null  datetime64[ns]\n",
      " 1   lat                     30662 non-null  float64       \n",
      " 2   lon                     30662 non-null  float64       \n",
      " 3   parent_region           30662 non-null  object        \n",
      " 4   region                  30662 non-null  object        \n",
      " 5   address                 28908 non-null  object        \n",
      " 6   category                30662 non-null  object        \n",
      " 7   severity                30662 non-null  object        \n",
      " 8   vehicles                30662 non-null  object        \n",
      " 9   participant_categories  30662 non-null  object        \n",
      " 10  participants_count      30662 non-null  int64         \n",
      " 11  injured_count           30662 non-null  int64         \n",
      " 12  dead_count              30662 non-null  int64         \n",
      " 13  light                   30662 non-null  object        \n",
      " 14  weather                 30662 non-null  object        \n",
      "dtypes: datetime64[ns](1), float64(2), int64(3), object(9)\n",
      "memory usage: 3.5+ MB\n"
     ]
    },
    {
     "data": {
      "text/html": [
       "<div>\n",
       "<style scoped>\n",
       "    .dataframe tbody tr th:only-of-type {\n",
       "        vertical-align: middle;\n",
       "    }\n",
       "\n",
       "    .dataframe tbody tr th {\n",
       "        vertical-align: top;\n",
       "    }\n",
       "\n",
       "    .dataframe thead th {\n",
       "        text-align: right;\n",
       "    }\n",
       "</style>\n",
       "<table border=\"1\" class=\"dataframe\">\n",
       "  <thead>\n",
       "    <tr style=\"text-align: right;\">\n",
       "      <th></th>\n",
       "      <th>datetime</th>\n",
       "      <th>lat</th>\n",
       "      <th>lon</th>\n",
       "      <th>parent_region</th>\n",
       "      <th>region</th>\n",
       "      <th>address</th>\n",
       "      <th>category</th>\n",
       "      <th>severity</th>\n",
       "      <th>vehicles</th>\n",
       "      <th>participant_categories</th>\n",
       "      <th>participants_count</th>\n",
       "      <th>injured_count</th>\n",
       "      <th>dead_count</th>\n",
       "      <th>light</th>\n",
       "      <th>weather</th>\n",
       "    </tr>\n",
       "  </thead>\n",
       "  <tbody>\n",
       "    <tr>\n",
       "      <th>24638</th>\n",
       "      <td>2018-09-25 17:33:00</td>\n",
       "      <td>50.305747</td>\n",
       "      <td>127.531904</td>\n",
       "      <td>Амурская область</td>\n",
       "      <td>Благовещенск</td>\n",
       "      <td>г Благовещенск, ш Новотроицкое, 21А</td>\n",
       "      <td>Наезд на пешехода</td>\n",
       "      <td>Легкий</td>\n",
       "      <td>[TOYOTA Прочие модели грузовых Toyota 1986]</td>\n",
       "      <td>Водители и пассажиры ТС, Пешеходы</td>\n",
       "      <td>2</td>\n",
       "      <td>1</td>\n",
       "      <td>0</td>\n",
       "      <td>Светлое время суток</td>\n",
       "      <td>Ясно</td>\n",
       "    </tr>\n",
       "    <tr>\n",
       "      <th>10877</th>\n",
       "      <td>2020-08-16 19:37:00</td>\n",
       "      <td>48.488446</td>\n",
       "      <td>135.042443</td>\n",
       "      <td>Хабаровский край</td>\n",
       "      <td>Хабаровск</td>\n",
       "      <td>г Хабаровск, ул Тихоокеанская, 16 1</td>\n",
       "      <td>Столкновение</td>\n",
       "      <td>Тяжёлый</td>\n",
       "      <td>[TOYOTA Camry 2014, HONDA CBR 2004]</td>\n",
       "      <td>Водители и пассажиры ТС, Мотоциклисты</td>\n",
       "      <td>2</td>\n",
       "      <td>1</td>\n",
       "      <td>0</td>\n",
       "      <td>Светлое время суток</td>\n",
       "      <td>Ясно</td>\n",
       "    </tr>\n",
       "    <tr>\n",
       "      <th>29394</th>\n",
       "      <td>2015-07-03 17:30:00</td>\n",
       "      <td>46.935274</td>\n",
       "      <td>142.745126</td>\n",
       "      <td>Сахалинская область</td>\n",
       "      <td>Южно-Сахалинск</td>\n",
       "      <td>г Южно-Сахалинск, ул Пуркаева М.А., 106-1</td>\n",
       "      <td>Наезд на пешехода</td>\n",
       "      <td>Легкий</td>\n",
       "      <td>[Прочие марки ТС Прочие марки и модели ТС None]</td>\n",
       "      <td>Водители и пассажиры ТС, Пешеходы</td>\n",
       "      <td>2</td>\n",
       "      <td>1</td>\n",
       "      <td>0</td>\n",
       "      <td>Светлое время суток</td>\n",
       "      <td>Пасмурно</td>\n",
       "    </tr>\n",
       "    <tr>\n",
       "      <th>9230</th>\n",
       "      <td>2019-03-19 01:30:00</td>\n",
       "      <td>48.461112</td>\n",
       "      <td>135.119927</td>\n",
       "      <td>Хабаровский край</td>\n",
       "      <td>Хабаровск</td>\n",
       "      <td>г Хабаровск, пр-кт 60-летия Октября, Океанская 21</td>\n",
       "      <td>Наезд на препятствие</td>\n",
       "      <td>С погибшими</td>\n",
       "      <td>[NISSAN Teana 2003]</td>\n",
       "      <td>Водители и пассажиры ТС</td>\n",
       "      <td>2</td>\n",
       "      <td>1</td>\n",
       "      <td>1</td>\n",
       "      <td>В темное время суток, освещение включено</td>\n",
       "      <td>Ясно</td>\n",
       "    </tr>\n",
       "  </tbody>\n",
       "</table>\n",
       "</div>"
      ],
      "text/plain": [
       "                 datetime        lat         lon        parent_region  \\\n",
       "24638 2018-09-25 17:33:00  50.305747  127.531904     Амурская область   \n",
       "10877 2020-08-16 19:37:00  48.488446  135.042443     Хабаровский край   \n",
       "29394 2015-07-03 17:30:00  46.935274  142.745126  Сахалинская область   \n",
       "9230  2019-03-19 01:30:00  48.461112  135.119927     Хабаровский край   \n",
       "\n",
       "               region                                            address  \\\n",
       "24638    Благовещенск                г Благовещенск, ш Новотроицкое, 21А   \n",
       "10877       Хабаровск                г Хабаровск, ул Тихоокеанская, 16 1   \n",
       "29394  Южно-Сахалинск          г Южно-Сахалинск, ул Пуркаева М.А., 106-1   \n",
       "9230        Хабаровск  г Хабаровск, пр-кт 60-летия Октября, Океанская 21   \n",
       "\n",
       "                   category     severity  \\\n",
       "24638     Наезд на пешехода       Легкий   \n",
       "10877          Столкновение      Тяжёлый   \n",
       "29394     Наезд на пешехода       Легкий   \n",
       "9230   Наезд на препятствие  С погибшими   \n",
       "\n",
       "                                              vehicles  \\\n",
       "24638      [TOYOTA Прочие модели грузовых Toyota 1986]   \n",
       "10877              [TOYOTA Camry 2014, HONDA CBR 2004]   \n",
       "29394  [Прочие марки ТС Прочие марки и модели ТС None]   \n",
       "9230                               [NISSAN Teana 2003]   \n",
       "\n",
       "                      participant_categories  participants_count  \\\n",
       "24638      Водители и пассажиры ТС, Пешеходы                   2   \n",
       "10877  Водители и пассажиры ТС, Мотоциклисты                   2   \n",
       "29394      Водители и пассажиры ТС, Пешеходы                   2   \n",
       "9230                 Водители и пассажиры ТС                   2   \n",
       "\n",
       "       injured_count  dead_count                                     light  \\\n",
       "24638              1           0                       Светлое время суток   \n",
       "10877              1           0                       Светлое время суток   \n",
       "29394              1           0                       Светлое время суток   \n",
       "9230               1           1  В темное время суток, освещение включено   \n",
       "\n",
       "        weather  \n",
       "24638      Ясно  \n",
       "10877      Ясно  \n",
       "29394  Пасмурно  \n",
       "9230       Ясно  "
      ]
     },
     "execution_count": 2,
     "metadata": {},
     "output_type": "execute_result"
    }
   ],
   "source": [
    "try:\n",
    "    df = pd.read_parquet('dtp.parquet')\n",
    "except:\n",
    "    from tqdm import tqdm\n",
    "    import json\n",
    "    \n",
    "    files = ['khabarovskii-krai.geojson', 'evreiskaia-avtonomnaia-oblast.geojson', 'amurskaia-oblast.geojson', 'sakhalinskaia-oblast.geojson']\n",
    "    columns = ['datetime', 'lat', 'lon', 'parent_region', 'region', 'address', 'category', 'severity', 'vehicles', 'participant_categories', 'participants_count', 'injured_count', 'dead_count', 'light', 'weather']\n",
    "\n",
    "    def get_df(dtp_geojson):\n",
    "        \n",
    "        # print(dtp_geojson)\n",
    "        with open(dtp_geojson) as json_file:\n",
    "            df = pd.DataFrame(json.load(json_file)['features']).drop(['type', 'geometry'], axis=1)\n",
    "\n",
    "        single_value_keys = ['datetime', 'parent_region', 'region', 'address', 'category', 'severity', 'participants_count', 'injured_count', 'dead_count', 'light']\n",
    "\n",
    "        # tqdm.pandas(desc='coordinates')\n",
    "        df[['lat','lon']] = df.properties.apply(lambda x: pd.Series([x['point']['lat'], x['point']['long']]))\n",
    "        \n",
    "        # tqdm.pandas(desc='single value keys')\n",
    "        df[single_value_keys] = df.properties.apply(lambda x: pd.Series(x[key] for key in single_value_keys))\n",
    "\n",
    "        # tqdm.pandas(desc='weather')\n",
    "        df['weather'] = df.properties.apply(lambda x: ', '.join(x['weather']))\n",
    "\n",
    "        # tqdm.pandas(desc='participant_categories')\n",
    "        def get_participant_categories(x):\n",
    "            res = sorted(x['participant_categories'])\n",
    "            res.insert(0, res.pop(res.index('Все участники')))\n",
    "            return ', '.join(res).replace('Все участники','Водители и пассажиры ТС')\n",
    "        df['participant_categories'] = df.properties.apply(get_participant_categories)\n",
    "\n",
    "        # tqdm.pandas(desc='vehicles')\n",
    "        df['vehicles'] = df.properties.apply(lambda x: [' '.join([str(v['brand']), str(v['model']), str(v['year'])]) for v in x['vehicles']])\n",
    "        \n",
    "        df = df[(df.lon > 119) & (df.lon < 157) & (df.lat > 46) & (df.lat < 62)]\n",
    "        df.datetime = df.datetime.astype('datetime64')\n",
    "        return df[columns]\n",
    "\n",
    "    df = pd.DataFrame(columns=columns)\n",
    "    pbar = tqdm(files)\n",
    "    for f in pbar:\n",
    "        pbar.set_postfix_str(f)\n",
    "        df = pd.concat([df, get_df(f)], ignore_index=True)\n",
    "\n",
    "    # df.to_csv('dtp.csv', sep=';', index=False)\n",
    "    df.to_parquet('dtp.parquet')\n",
    "\n",
    "df.info()\n",
    "df.sample(4)"
   ]
  },
  {
   "cell_type": "markdown",
   "metadata": {},
   "source": [
    "### `.ask` the questions"
   ]
  },
  {
   "cell_type": "code",
   "execution_count": 16,
   "metadata": {},
   "outputs": [
    {
     "name": "stdout",
     "output_type": "stream",
     "text": [
      "Failed to use remote https://prompts.approx.dev.. 414 Client Error: Request-URI Too Large for url: https://prompts.approx.dev/prompt/ask_from_parts?dfname=df&column_names=WyJpbmRleCIsICJkYXRldGltZSIsICJsYXQiLCAibG9uIiwgInBhcmVudF9yZWdpb24iLCAicmVnaW9uIiwgImFkZHJlc3MiLCAiY2F0ZWdvcnkiLCAic2V2ZXJpdHkiLCAidmVoaWNsZXMiLCAicGFydGljaXBhbnRfY2F0ZWdvcmllcyIsICJwYXJ0aWNpcGFudHNfY291bnQiLCAiaW5qdXJlZF9jb3VudCIsICJkZWFkX2NvdW50IiwgImxpZ2h0IiwgIndlYXRoZXIiXQ%3D%3D&data_types=WyJpbnQ2NCIsICJkYXRldGltZTY0W25zXSIsICJmbG9hdDY0IiwgImZsb2F0NjQiLCAib2JqZWN0IiwgIm9iamVjdCIsICJvYmplY3QiLCAib2JqZWN0IiwgIm9iamVjdCIsICJvYmplY3QiLCAib2JqZWN0IiwgImludDY0IiwgImludDY0IiwgImludDY0IiwgIm9iamVjdCIsICJvYmplY3QiXQ%3D%3D&extras=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&question=%D0%9E%D0%BF%D0%B8%D1%88%D0%B8+%D0%B4%D0%B0%D1%82%D0%B0%D1%81%D0%B5%D1%82. \n",
      "Consider setting SKETCH_USE_REMOTE_LAMBDAPROMPT=False \n",
      "and run with your own open-ai key\n",
      "\n"
     ]
    },
    {
     "data": {
      "text/html": [
       "SKETCH ERROR - see print logs for full error"
      ],
      "text/plain": [
       "<IPython.core.display.HTML object>"
      ]
     },
     "metadata": {},
     "output_type": "display_data"
    }
   ],
   "source": [
    "df.sketch.ask('Опиши датасет')"
   ]
  },
  {
   "cell_type": "code",
   "execution_count": 55,
   "metadata": {},
   "outputs": [
    {
     "data": {
      "text/html": [
       "\n",
       "В датасете есть следующие колонки: index, datetime, lat, lon, parent_region, region, category, severity, vehicles, participant_categories, participants_count, injured_count, dead_count, light и weather."
      ],
      "text/plain": [
       "<IPython.core.display.HTML object>"
      ]
     },
     "metadata": {},
     "output_type": "display_data"
    }
   ],
   "source": [
    "df.sketch.ask(\"Какие колонки есть в датасете?\")"
   ]
  },
  {
   "cell_type": "code",
   "execution_count": 3,
   "metadata": {},
   "outputs": [
    {
     "data": {
      "text/html": [
       "\n",
       "Датасет содержит информацию о 30662 ДТП, произошедших в Хабаровском крае. Он содержит следующие столбцы: index, datetime, lat, lon, parent_region, region, category, severity, vehicles, participant_categories, participants_count, injured_count, dead_count, light и weather. Типы данных различны: int64, datetime64[ns], float64 и object. В столбцах index, parent_region, region, category, severity, participant_categories и light уникальные значения соответственно 30662, 4, 61, 16, 3, 21 и 6."
      ],
      "text/plain": [
       "<IPython.core.display.HTML object>"
      ]
     },
     "metadata": {},
     "output_type": "display_data"
    }
   ],
   "source": [
    "address = df.pop('address')\n",
    "df.sketch.ask('Опиши датасет')"
   ]
  },
  {
   "cell_type": "code",
   "execution_count": 5,
   "metadata": {},
   "outputs": [
    {
     "data": {
      "text/plain": [
       "Хабаровский край                14362\n",
       "Амурская область                 9546\n",
       "Сахалинская область              5017\n",
       "Еврейская автономная область     1737\n",
       "Name: parent_region, dtype: int64"
      ]
     },
     "execution_count": 5,
     "metadata": {},
     "output_type": "execute_result"
    }
   ],
   "source": [
    "df.parent_region.value_counts()"
   ]
  },
  {
   "cell_type": "code",
   "execution_count": 6,
   "metadata": {},
   "outputs": [
    {
     "data": {
      "text/html": [
       "\n",
       "В датасете есть географические данные, включая широту (lat), долготу (lon), родительский регион (parent_region) и регион (region)."
      ],
      "text/plain": [
       "<IPython.core.display.HTML object>"
      ]
     },
     "metadata": {},
     "output_type": "display_data"
    }
   ],
   "source": [
    "df.sketch.ask(\"Какие географические данные есть в датасете?\")"
   ]
  },
  {
   "cell_type": "code",
   "execution_count": 7,
   "metadata": {},
   "outputs": [
    {
     "data": {
      "text/html": [
       "\n",
       "Столбец category имеет 16 уникальных значений: Отбрасывание предмета, Столкновение, Наезд на препятствие, Наезд на пешехода, Наезд на животное, Опрокидывание, Протаранил, Вылет с дороги, Налёт, Противоречия свидетельских показаний, Другое, Налёт со стороны, Налёт сзади, Налёт спереди, Обгон.\n",
       "\n",
       "Столбец severity имеет 3 уникальных значения: Легкий, Средний, Тяжёлый.\n"
      ],
      "text/plain": [
       "<IPython.core.display.HTML object>"
      ]
     },
     "metadata": {},
     "output_type": "display_data"
    }
   ],
   "source": [
    "df.sketch.ask(\"Какие уникальные значения у столбцов category, severity?\")"
   ]
  },
  {
   "cell_type": "code",
   "execution_count": 8,
   "metadata": {},
   "outputs": [
    {
     "name": "stdout",
     "output_type": "stream",
     "text": [
      "Уникальные значения category\n",
      "['Отбрасывание предмета' 'Столкновение' 'Наезд на стоящее ТС'\n",
      " 'Наезд на пешехода' 'Опрокидывание' 'Наезд на велосипедиста'\n",
      " 'Съезд с дороги' 'Иной вид ДТП' 'Наезд на препятствие'\n",
      " 'Наезд на внезапно возникшее препятствие' 'Падение пассажира'\n",
      " 'Наезд на животное'\n",
      " 'Наезд на лицо, не являющееся участником дорожного движения, осуществляющее производство работ'\n",
      " 'Наезд на лицо, не являющееся участником дорожного движения, осуществляющее какую-либо другую деятельность'\n",
      " 'Падение груза'\n",
      " 'Наезд на лицо, не являющееся участником дорожного движения, осуществляющее несение службы']\n",
      "Уникальные значения severity\n",
      "['Легкий' 'Тяжёлый' 'С погибшими']\n"
     ]
    }
   ],
   "source": [
    "print(f'Уникальные значения category\\n{df.category.unique()}')\n",
    "print(f'Уникальные значения severity\\n{df.severity.unique()}')"
   ]
  },
  {
   "cell_type": "code",
   "execution_count": null,
   "metadata": {},
   "outputs": [
    {
     "data": {
      "text/html": [
       "\n",
       "index: min=0.0, max=30661.0, mean=15330.5, median=15330.5\n",
       "lat: min=46.0042, max=60.087426, mean=48.814077, median=48.971184\n",
       "lon: min=120.166667, max=156.1431, mean=135.311845, median=135.078009\n",
       "participants_count: min=1.0, max=58.0, mean=2.837862, median=2.0\n",
       "injured_count: min=0.0, max=43.0, mean=1.097881, median=1.0\n",
       "dead_count: min=0.0, max=15.0, mean=0.252041, median=0.0\n",
       "``"
      ],
      "text/plain": [
       "<IPython.core.display.HTML object>"
      ]
     },
     "metadata": {},
     "output_type": "display_data"
    }
   ],
   "source": [
    "df.sketch.ask('Какие минимальные и максимальные, средние и медианные значения у численных столбцов?')"
   ]
  },
  {
   "cell_type": "code",
   "execution_count": null,
   "metadata": {},
   "outputs": [
    {
     "data": {
      "text/html": [
       "<div>\n",
       "<style scoped>\n",
       "    .dataframe tbody tr th:only-of-type {\n",
       "        vertical-align: middle;\n",
       "    }\n",
       "\n",
       "    .dataframe tbody tr th {\n",
       "        vertical-align: top;\n",
       "    }\n",
       "\n",
       "    .dataframe thead th {\n",
       "        text-align: right;\n",
       "    }\n",
       "</style>\n",
       "<table border=\"1\" class=\"dataframe\">\n",
       "  <thead>\n",
       "    <tr style=\"text-align: right;\">\n",
       "      <th></th>\n",
       "      <th>lat</th>\n",
       "      <th>lon</th>\n",
       "      <th>participants_count</th>\n",
       "      <th>injured_count</th>\n",
       "      <th>dead_count</th>\n",
       "    </tr>\n",
       "  </thead>\n",
       "  <tbody>\n",
       "    <tr>\n",
       "      <th>count</th>\n",
       "      <td>30662.000000</td>\n",
       "      <td>30662.000000</td>\n",
       "      <td>30662.000000</td>\n",
       "      <td>30662.000000</td>\n",
       "      <td>30662.000000</td>\n",
       "    </tr>\n",
       "    <tr>\n",
       "      <th>mean</th>\n",
       "      <td>49.445560</td>\n",
       "      <td>134.289527</td>\n",
       "      <td>2.426424</td>\n",
       "      <td>1.262214</td>\n",
       "      <td>0.104135</td>\n",
       "    </tr>\n",
       "    <tr>\n",
       "      <th>std</th>\n",
       "      <td>1.795554</td>\n",
       "      <td>5.275187</td>\n",
       "      <td>1.165527</td>\n",
       "      <td>0.899246</td>\n",
       "      <td>0.368720</td>\n",
       "    </tr>\n",
       "    <tr>\n",
       "      <th>min</th>\n",
       "      <td>46.004200</td>\n",
       "      <td>120.166667</td>\n",
       "      <td>1.000000</td>\n",
       "      <td>0.000000</td>\n",
       "      <td>0.000000</td>\n",
       "    </tr>\n",
       "    <tr>\n",
       "      <th>25%</th>\n",
       "      <td>48.422789</td>\n",
       "      <td>128.481935</td>\n",
       "      <td>2.000000</td>\n",
       "      <td>1.000000</td>\n",
       "      <td>0.000000</td>\n",
       "    </tr>\n",
       "    <tr>\n",
       "      <th>50%</th>\n",
       "      <td>48.971184</td>\n",
       "      <td>135.078009</td>\n",
       "      <td>2.000000</td>\n",
       "      <td>1.000000</td>\n",
       "      <td>0.000000</td>\n",
       "    </tr>\n",
       "    <tr>\n",
       "      <th>75%</th>\n",
       "      <td>50.514203</td>\n",
       "      <td>137.004433</td>\n",
       "      <td>3.000000</td>\n",
       "      <td>1.000000</td>\n",
       "      <td>0.000000</td>\n",
       "    </tr>\n",
       "    <tr>\n",
       "      <th>max</th>\n",
       "      <td>60.087426</td>\n",
       "      <td>156.143100</td>\n",
       "      <td>58.000000</td>\n",
       "      <td>43.000000</td>\n",
       "      <td>15.000000</td>\n",
       "    </tr>\n",
       "  </tbody>\n",
       "</table>\n",
       "</div>"
      ],
      "text/plain": [
       "                lat           lon  participants_count  injured_count  \\\n",
       "count  30662.000000  30662.000000        30662.000000   30662.000000   \n",
       "mean      49.445560    134.289527            2.426424       1.262214   \n",
       "std        1.795554      5.275187            1.165527       0.899246   \n",
       "min       46.004200    120.166667            1.000000       0.000000   \n",
       "25%       48.422789    128.481935            2.000000       1.000000   \n",
       "50%       48.971184    135.078009            2.000000       1.000000   \n",
       "75%       50.514203    137.004433            3.000000       1.000000   \n",
       "max       60.087426    156.143100           58.000000      43.000000   \n",
       "\n",
       "         dead_count  \n",
       "count  30662.000000  \n",
       "mean       0.104135  \n",
       "std        0.368720  \n",
       "min        0.000000  \n",
       "25%        0.000000  \n",
       "50%        0.000000  \n",
       "75%        0.000000  \n",
       "max       15.000000  "
      ]
     },
     "metadata": {},
     "output_type": "display_data"
    }
   ],
   "source": [
    "df.describe()"
   ]
  },
  {
   "attachments": {},
   "cell_type": "markdown",
   "metadata": {},
   "source": [
    "#### Ещё некоторые примеры"
   ]
  },
  {
   "cell_type": "code",
   "execution_count": 18,
   "metadata": {},
   "outputs": [
    {
     "data": {
      "text/html": [
       "\n",
       "Для определения доли иномарок среди автомобилей необходимо посчитать количество уникальных иномарок в столбце \"vehicles\" и поделить его на общее количество уникальных автомобилей.\n"
      ],
      "text/plain": [
       "<IPython.core.display.HTML object>"
      ]
     },
     "metadata": {},
     "output_type": "display_data"
    }
   ],
   "source": [
    "df.sketch.ask('Как определить долю иномарок среди автомобилей?')"
   ]
  },
  {
   "cell_type": "code",
   "execution_count": 52,
   "metadata": {},
   "outputs": [
    {
     "data": {
      "text/html": [
       "\n",
       "parent_region: Хабаровский край\n",
       "region: Хабаровский район, Амурская область, Забайкальский край, Иркутская область, Камчатский край, Кемеровская область, Красноярский край, Магаданская область, Ненецкий автономный округ, Нижегородская область, Новосибирская область, Омская область, Оренбургская область, Пензенская область, Приморский край, Ростовская область, Свердловская область, Смоленская область, Тюменская область, \n",
       "category: \n",
       "    'Отвечение', 'Отвечение уч. уч. уч.', '"
      ],
      "text/plain": [
       "<IPython.core.display.HTML object>"
      ]
     },
     "metadata": {},
     "output_type": "display_data"
    }
   ],
   "source": [
    "df.sketch.ask(\"Какие уникальные значения строковых столбцов?\")"
   ]
  },
  {
   "cell_type": "code",
   "execution_count": 53,
   "metadata": {},
   "outputs": [
    {
     "data": {
      "text/html": [
       "\n",
       "df.injured_count.plot(kind='hist')\n"
      ],
      "text/plain": [
       "<IPython.core.display.HTML object>"
      ]
     },
     "metadata": {},
     "output_type": "display_data"
    }
   ],
   "source": [
    "df.sketch.ask('Как построить гистограмму количества пострадавших?')"
   ]
  },
  {
   "cell_type": "code",
   "execution_count": 54,
   "metadata": {},
   "outputs": [
    {
     "data": {
      "text/html": [
       "\n",
       "В столбце light содержатся следующие значения: 'Светлое время суток', 'Туман', 'Ночь с полнолунием', 'Ночь, без луны', 'День', 'Ночь'."
      ],
      "text/plain": [
       "<IPython.core.display.HTML object>"
      ]
     },
     "metadata": {},
     "output_type": "display_data"
    }
   ],
   "source": [
    "df.sketch.ask(\"Какие значения и содержатся в столбце light\")"
   ]
  },
  {
   "cell_type": "code",
   "execution_count": 58,
   "metadata": {},
   "outputs": [
    {
     "data": {
      "text/html": [
       "\n",
       "Для получения ответа на данный вопрос необходимо проанализировать столбец `participant_categories` датафрейма `df`. В этом столбце указаны категории участников ДТП. Если в строке указано \"Пешеходы\", то это означает, что в этом ДТП участвовали пешеходы. Для подсчета количества таких ДТП можно использовать следующую строку:\n",
       "\n",
       "df[df['participant_categories'].str.contains('Пешеходы')].shape[0]\n"
      ],
      "text/plain": [
       "<IPython.core.display.HTML object>"
      ]
     },
     "metadata": {},
     "output_type": "display_data"
    }
   ],
   "source": [
    "df.sketch.ask(\"Сколько ДТП с участием пешеходов\")"
   ]
  },
  {
   "cell_type": "code",
   "execution_count": 57,
   "metadata": {},
   "outputs": [
    {
     "data": {
      "text/html": [
       "\n",
       "В тёмное время суток произошло 14,845 ДТП, а в светлое время суток - 15,817 ДТП.\n"
      ],
      "text/plain": [
       "<IPython.core.display.HTML object>"
      ]
     },
     "metadata": {},
     "output_type": "display_data"
    },
    {
     "data": {
      "text/plain": [
       "Светлое время суток                            19465\n",
       "В темное время суток, освещение включено        6362\n",
       "В темное время суток, освещение отсутствует     3876\n",
       "Сумерки                                          643\n",
       "В темное время суток, освещение не включено      313\n",
       "Не установлено                                     3\n",
       "Name: light, dtype: int64"
      ]
     },
     "execution_count": 57,
     "metadata": {},
     "output_type": "execute_result"
    }
   ],
   "source": [
    "df.sketch.ask(\"Сколько ДТП произошло в тёмное время суток и в светлое время суток?\")\n",
    "df.light.value_counts()"
   ]
  },
  {
   "cell_type": "code",
   "execution_count": 61,
   "metadata": {},
   "outputs": [
    {
     "data": {
      "text/html": [
       "\n",
       "В данном датасете всего 30662 ДТП, из которых 21 содержит пострадавших."
      ],
      "text/plain": [
       "<IPython.core.display.HTML object>"
      ]
     },
     "metadata": {},
     "output_type": "display_data"
    },
    {
     "data": {
      "text/html": [
       "\n",
       "В данном датафрейме есть 21 строка со значением `injured_count` больше 0.\n"
      ],
      "text/plain": [
       "<IPython.core.display.HTML object>"
      ]
     },
     "metadata": {},
     "output_type": "display_data"
    },
    {
     "data": {
      "text/html": [
       "\n",
       "There are 14,845 rows with an injured_count greater than 0.\n"
      ],
      "text/plain": [
       "<IPython.core.display.HTML object>"
      ]
     },
     "metadata": {},
     "output_type": "display_data"
    },
    {
     "name": "stdout",
     "output_type": "stream",
     "text": [
      "ДТП с пострадавшими: 28915\n"
     ]
    }
   ],
   "source": [
    "df.sketch.ask(\"Сколько ДТП с пострадавшими?\")\n",
    "df.sketch.ask(\"Сколько строк со значением `injured_count` больше 0?\")\n",
    "df.sketch.ask(\"How many rows with `injured_count` greater than 0?\")\n",
    "print('ДТП с пострадавшими:', (df.injured_count > 0).sum())"
   ]
  },
  {
   "attachments": {},
   "cell_type": "markdown",
   "metadata": {},
   "source": [
    "### `.howto` write the code"
   ]
  },
  {
   "cell_type": "markdown",
   "metadata": {},
   "source": [
    "#### Генерация признаков"
   ]
  },
  {
   "cell_type": "code",
   "execution_count": null,
   "metadata": {},
   "outputs": [
    {
     "data": {
      "text/html": [
       "<div style=\"display:flex;flex-direction:row;justify-content:space-between;\">\n",
       "                <pre style=\"width: 100%; white-space: pre-wrap;\" id=\"53a27d5b-1531-45f0-a9eb-8b9863094dbe\">\n",
       "# Create a new column with the day of the week\n",
       "df['day_of_week'] = df['datetime'].dt.day_name()\n",
       "\n",
       "# Create a new column with the hour of the day\n",
       "df['hour_of_day'] = df['datetime'].dt.hour\n",
       "\n",
       "# Create a new column with the month of the year\n",
       "df['month_of_year'] = df['datetime'].dt.month_name()\n",
       "</pre>\n",
       "                <button style=\"height: fit-content;\" onclick=\"navigator.clipboard.writeText(JSON.parse(atob(`IlxuIyBDcmVhdGUgYSBuZXcgY29sdW1uIHdpdGggdGhlIGRheSBvZiB0aGUgd2Vla1xuZGZbJ2RheV9vZl93ZWVrJ10gPSBkZlsnZGF0ZXRpbWUnXS5kdC5kYXlfbmFtZSgpXG5cbiMgQ3JlYXRlIGEgbmV3IGNvbHVtbiB3aXRoIHRoZSBob3VyIG9mIHRoZSBkYXlcbmRmWydob3VyX29mX2RheSddID0gZGZbJ2RhdGV0aW1lJ10uZHQuaG91clxuXG4jIENyZWF0ZSBhIG5ldyBjb2x1bW4gd2l0aCB0aGUgbW9udGggb2YgdGhlIHllYXJcbmRmWydtb250aF9vZl95ZWFyJ10gPSBkZlsnZGF0ZXRpbWUnXS5kdC5tb250aF9uYW1lKClcbiI=`)))\">Copy</button>\n",
       "                </div>"
      ],
      "text/plain": [
       "<IPython.core.display.HTML object>"
      ]
     },
     "metadata": {},
     "output_type": "display_data"
    }
   ],
   "source": [
    "df.sketch.howto('Сгенерируй новые признаки')"
   ]
  },
  {
   "cell_type": "code",
   "execution_count": null,
   "metadata": {},
   "outputs": [
    {
     "data": {
      "text/html": [
       "<div style=\"display:flex;flex-direction:row;justify-content:space-between;\">\n",
       "                <pre style=\"width: 100%; white-space: pre-wrap;\" id=\"199d1a73-0b73-4180-98e5-50a76d71fae7\">\n",
       "# Create a new column with the total number of participants in an accident\n",
       "df['total_participants'] = df['participants_count'] + df['injured_count'] + df['dead_count']\n",
       "\n",
       "# Create a new column with the ratio of injured to total participants\n",
       "df['injured_ratio'] = df['injured_count'] / df['total_participants']\n",
       "\n",
       "# Create a new column with the ratio of dead to total participants\n",
       "df['dead_ratio'] = df['dead_count'] / df['total_participants']\n",
       "</pre>\n",
       "                <button style=\"height: fit-content;\" onclick=\"navigator.clipboard.writeText(JSON.parse(atob(`IlxuIyBDcmVhdGUgYSBuZXcgY29sdW1uIHdpdGggdGhlIHRvdGFsIG51bWJlciBvZiBwYXJ0aWNpcGFudHMgaW4gYW4gYWNjaWRlbnRcbmRmWyd0b3RhbF9wYXJ0aWNpcGFudHMnXSA9IGRmWydwYXJ0aWNpcGFudHNfY291bnQnXSArIGRmWydpbmp1cmVkX2NvdW50J10gKyBkZlsnZGVhZF9jb3VudCddXG5cbiMgQ3JlYXRlIGEgbmV3IGNvbHVtbiB3aXRoIHRoZSByYXRpbyBvZiBpbmp1cmVkIHRvIHRvdGFsIHBhcnRpY2lwYW50c1xuZGZbJ2luanVyZWRfcmF0aW8nXSA9IGRmWydpbmp1cmVkX2NvdW50J10gLyBkZlsndG90YWxfcGFydGljaXBhbnRzJ11cblxuIyBDcmVhdGUgYSBuZXcgY29sdW1uIHdpdGggdGhlIHJhdGlvIG9mIGRlYWQgdG8gdG90YWwgcGFydGljaXBhbnRzXG5kZlsnZGVhZF9yYXRpbyddID0gZGZbJ2RlYWRfY291bnQnXSAvIGRmWyd0b3RhbF9wYXJ0aWNpcGFudHMnXVxuIg==`)))\">Copy</button>\n",
       "                </div>"
      ],
      "text/plain": [
       "<IPython.core.display.HTML object>"
      ]
     },
     "metadata": {},
     "output_type": "display_data"
    }
   ],
   "source": [
    "df.drop('datetime',axis=1).sketch.howto('Сгенерируй новые признаки')"
   ]
  },
  {
   "cell_type": "code",
   "execution_count": null,
   "metadata": {},
   "outputs": [
    {
     "data": {
      "text/html": [
       "<div style=\"display:flex;flex-direction:row;justify-content:space-between;\">\n",
       "                <pre style=\"width: 100%; white-space: pre-wrap;\" id=\"2f88841e-9a37-4037-a7b6-ac4ea794e7c4\">\n",
       "# Create a new column with the number of participants per vehicle\n",
       "df['participants_per_vehicle'] = df['participants_count'] / df['vehicles'].str.len()\n",
       "\n",
       "# Create a new column with the ratio of injured to dead\n",
       "df['injured_to_dead_ratio'] = df['injured_count'] / df['dead_count']\n",
       "\n",
       "# Create a new column with the ratio of participants to injured\n",
       "df['participants_to_injured_ratio'] = df['participants_count'] / df['injured_count']\n",
       "</pre>\n",
       "                <button style=\"height: fit-content;\" onclick=\"navigator.clipboard.writeText(JSON.parse(atob(`IlxuIyBDcmVhdGUgYSBuZXcgY29sdW1uIHdpdGggdGhlIG51bWJlciBvZiBwYXJ0aWNpcGFudHMgcGVyIHZlaGljbGVcbmRmWydwYXJ0aWNpcGFudHNfcGVyX3ZlaGljbGUnXSA9IGRmWydwYXJ0aWNpcGFudHNfY291bnQnXSAvIGRmWyd2ZWhpY2xlcyddLnN0ci5sZW4oKVxuXG4jIENyZWF0ZSBhIG5ldyBjb2x1bW4gd2l0aCB0aGUgcmF0aW8gb2YgaW5qdXJlZCB0byBkZWFkXG5kZlsnaW5qdXJlZF90b19kZWFkX3JhdGlvJ10gPSBkZlsnaW5qdXJlZF9jb3VudCddIC8gZGZbJ2RlYWRfY291bnQnXVxuXG4jIENyZWF0ZSBhIG5ldyBjb2x1bW4gd2l0aCB0aGUgcmF0aW8gb2YgcGFydGljaXBhbnRzIHRvIGluanVyZWRcbmRmWydwYXJ0aWNpcGFudHNfdG9faW5qdXJlZF9yYXRpbyddID0gZGZbJ3BhcnRpY2lwYW50c19jb3VudCddIC8gZGZbJ2luanVyZWRfY291bnQnXVxuIg==`)))\">Copy</button>\n",
       "                </div>"
      ],
      "text/plain": [
       "<IPython.core.display.HTML object>"
      ]
     },
     "metadata": {},
     "output_type": "display_data"
    }
   ],
   "source": [
    "df.datetime = df.datetime.astype(str)\n",
    "df.sketch.howto('Сгенерируй новые признаки')"
   ]
  },
  {
   "cell_type": "code",
   "execution_count": null,
   "metadata": {},
   "outputs": [
    {
     "data": {
      "text/html": [
       "<div style=\"display:flex;flex-direction:row;justify-content:space-between;\">\n",
       "                <pre style=\"width: 100%; white-space: pre-wrap;\" id=\"f855aca0-6c0c-455b-ad95-8982b4678e26\">\n",
       "# Convert the datetime column from string to datetime64\n",
       "df['datetime'] = pd.to_datetime(df['datetime'])\n",
       "\n",
       "# Create new features from the datetime column\n",
       "df['year'] = df['datetime'].dt.year\n",
       "df['month'] = df['datetime'].dt.month\n",
       "df['day'] = df['datetime'].dt.day\n",
       "df['hour'] = df['datetime'].dt.hour\n",
       "df['minute'] = df['datetime'].dt.minute\n",
       "</pre>\n",
       "                <button style=\"height: fit-content;\" onclick=\"navigator.clipboard.writeText(JSON.parse(atob(`IlxuIyBDb252ZXJ0IHRoZSBkYXRldGltZSBjb2x1bW4gZnJvbSBzdHJpbmcgdG8gZGF0ZXRpbWU2NFxuZGZbJ2RhdGV0aW1lJ10gPSBwZC50b19kYXRldGltZShkZlsnZGF0ZXRpbWUnXSlcblxuIyBDcmVhdGUgbmV3IGZlYXR1cmVzIGZyb20gdGhlIGRhdGV0aW1lIGNvbHVtblxuZGZbJ3llYXInXSA9IGRmWydkYXRldGltZSddLmR0LnllYXJcbmRmWydtb250aCddID0gZGZbJ2RhdGV0aW1lJ10uZHQubW9udGhcbmRmWydkYXknXSA9IGRmWydkYXRldGltZSddLmR0LmRheVxuZGZbJ2hvdXInXSA9IGRmWydkYXRldGltZSddLmR0LmhvdXJcbmRmWydtaW51dGUnXSA9IGRmWydkYXRldGltZSddLmR0Lm1pbnV0ZVxuIg==`)))\">Copy</button>\n",
       "                </div>"
      ],
      "text/plain": [
       "<IPython.core.display.HTML object>"
      ]
     },
     "metadata": {},
     "output_type": "display_data"
    }
   ],
   "source": [
    "df.sketch.howto('Сгенерируй новые признаки (поле datetime необходимо перевести из строки в datetime64)')"
   ]
  },
  {
   "cell_type": "code",
   "execution_count": null,
   "metadata": {},
   "outputs": [
    {
     "name": "stdout",
     "output_type": "stream",
     "text": [
      "['Ясно' 'Дождь' 'Пасмурно' 'Снегопад' 'Метель' 'Пасмурно, Дождь'\n",
      " 'Ясно, Туман' 'Пасмурно, Снегопад' 'Снегопад, Метель' 'Дождь, Снегопад'\n",
      " 'Туман' 'Дождь, Ураганный ветер' 'Туман, Температура ниже -30С'\n",
      " 'Пасмурно, Туман' 'Ясно, Температура ниже -30С' 'Дождь, Туман'\n",
      " 'Снегопад, Температура ниже -30С' 'Пасмурно, Температура ниже -30С'\n",
      " 'Ясно, Дождь' 'Ясно, Температура выше +30С' 'Пасмурно, Метель'\n",
      " 'Пасмурно, Ураганный ветер' 'Пасмурно, Температура выше +30С'\n",
      " 'Метель, Ураганный ветер']\n"
     ]
    }
   ],
   "source": [
    "print(df.weather.unique())"
   ]
  },
  {
   "cell_type": "code",
   "execution_count": null,
   "metadata": {},
   "outputs": [
    {
     "data": {
      "text/html": [
       "<div style=\"display:flex;flex-direction:row;justify-content:space-between;\">\n",
       "                <pre style=\"width: 100%; white-space: pre-wrap;\" id=\"60806edd-0e5e-4e5f-8371-1f5eb9797757\">\n",
       "# Generate new logical features from all possible weather conditions in the `weather` field (first convert values to lowercase)\n",
       "df['weather_clear'] = df['weather'].str.lower().eq('ясно')\n",
       "df['weather_rain'] = df['weather'].str.lower().eq('дождь')\n",
       "df['weather_snow'] = df['weather'].str.lower().eq('снег')\n",
       "df['weather_fog'] = df['weather'].str.lower().eq('туман')\n",
       "</pre>\n",
       "                <button style=\"height: fit-content;\" onclick=\"navigator.clipboard.writeText(JSON.parse(atob(`IlxuIyBHZW5lcmF0ZSBuZXcgbG9naWNhbCBmZWF0dXJlcyBmcm9tIGFsbCBwb3NzaWJsZSB3ZWF0aGVyIGNvbmRpdGlvbnMgaW4gdGhlIGB3ZWF0aGVyYCBmaWVsZCAoZmlyc3QgY29udmVydCB2YWx1ZXMgdG8gbG93ZXJjYXNlKVxuZGZbJ3dlYXRoZXJfY2xlYXInXSA9IGRmWyd3ZWF0aGVyJ10uc3RyLmxvd2VyKCkuZXEoJ1x1MDQ0Zlx1MDQ0MVx1MDQzZFx1MDQzZScpXG5kZlsnd2VhdGhlcl9yYWluJ10gPSBkZlsnd2VhdGhlciddLnN0ci5sb3dlcigpLmVxKCdcdTA0MzRcdTA0M2VcdTA0MzZcdTA0MzRcdTA0NGMnKVxuZGZbJ3dlYXRoZXJfc25vdyddID0gZGZbJ3dlYXRoZXInXS5zdHIubG93ZXIoKS5lcSgnXHUwNDQxXHUwNDNkXHUwNDM1XHUwNDMzJylcbmRmWyd3ZWF0aGVyX2ZvZyddID0gZGZbJ3dlYXRoZXInXS5zdHIubG93ZXIoKS5lcSgnXHUwNDQyXHUwNDQzXHUwNDNjXHUwNDMwXHUwNDNkJylcbiI=`)))\">Copy</button>\n",
       "                </div>"
      ],
      "text/plain": [
       "<IPython.core.display.HTML object>"
      ]
     },
     "metadata": {},
     "output_type": "display_data"
    }
   ],
   "source": [
    "df.sketch.howto('Сгенерируй новые логические признаки из всех возможных погодных условий в поле `weather` (сначала приведи значения к нижнему регистру)')"
   ]
  },
  {
   "cell_type": "code",
   "execution_count": null,
   "metadata": {},
   "outputs": [
    {
     "data": {
      "text/html": [
       "<div style=\"display:flex;flex-direction:row;justify-content:space-between;\">\n",
       "                <pre style=\"width: 100%; white-space: pre-wrap;\" id=\"a68fd5ef-a490-4d1f-aba5-828f5b657dd8\">\n",
       "# Create a list of all possible weather conditions\n",
       "weather_conditions = df['weather'].str.split(',').tolist()\n",
       "weather_conditions = [item for sublist in weather_conditions for item in sublist]\n",
       "weather_conditions = list(set(weather_conditions))\n",
       "\n",
       "# Create new boolean columns for each weather condition\n",
       "for condition in weather_conditions:\n",
       "    df[condition] = df['weather'].str.contains(condition).astype(int)\n",
       "</pre>\n",
       "                <button style=\"height: fit-content;\" onclick=\"navigator.clipboard.writeText(JSON.parse(atob(`IlxuIyBDcmVhdGUgYSBsaXN0IG9mIGFsbCBwb3NzaWJsZSB3ZWF0aGVyIGNvbmRpdGlvbnNcbndlYXRoZXJfY29uZGl0aW9ucyA9IGRmWyd3ZWF0aGVyJ10uc3RyLnNwbGl0KCcsJykudG9saXN0KClcbndlYXRoZXJfY29uZGl0aW9ucyA9IFtpdGVtIGZvciBzdWJsaXN0IGluIHdlYXRoZXJfY29uZGl0aW9ucyBmb3IgaXRlbSBpbiBzdWJsaXN0XVxud2VhdGhlcl9jb25kaXRpb25zID0gbGlzdChzZXQod2VhdGhlcl9jb25kaXRpb25zKSlcblxuIyBDcmVhdGUgbmV3IGJvb2xlYW4gY29sdW1ucyBmb3IgZWFjaCB3ZWF0aGVyIGNvbmRpdGlvblxuZm9yIGNvbmRpdGlvbiBpbiB3ZWF0aGVyX2NvbmRpdGlvbnM6XG4gICAgZGZbY29uZGl0aW9uXSA9IGRmWyd3ZWF0aGVyJ10uc3RyLmNvbnRhaW5zKGNvbmRpdGlvbikuYXN0eXBlKGludClcbiI=`)))\">Copy</button>\n",
       "                </div>"
      ],
      "text/plain": [
       "<IPython.core.display.HTML object>"
      ]
     },
     "metadata": {},
     "output_type": "display_data"
    }
   ],
   "source": [
    "df.sketch.howto('Сгенерируй новые логические признаки из всех возможных погодных условий в поле `weather` (погодные условия перечисляются через запятую)')"
   ]
  },
  {
   "cell_type": "code",
   "execution_count": null,
   "metadata": {},
   "outputs": [
    {
     "data": {
      "text/html": [
       "<div>\n",
       "<style scoped>\n",
       "    .dataframe tbody tr th:only-of-type {\n",
       "        vertical-align: middle;\n",
       "    }\n",
       "\n",
       "    .dataframe tbody tr th {\n",
       "        vertical-align: top;\n",
       "    }\n",
       "\n",
       "    .dataframe thead th {\n",
       "        text-align: right;\n",
       "    }\n",
       "</style>\n",
       "<table border=\"1\" class=\"dataframe\">\n",
       "  <thead>\n",
       "    <tr style=\"text-align: right;\">\n",
       "      <th></th>\n",
       "      <th>Температура выше +30С</th>\n",
       "      <th>Ясно</th>\n",
       "      <th>Дождь</th>\n",
       "      <th>Температура ниже -30С</th>\n",
       "      <th>Пасмурно</th>\n",
       "      <th>Снегопад</th>\n",
       "      <th>Туман</th>\n",
       "      <th>Метель</th>\n",
       "      <th>Ураганный ветер</th>\n",
       "    </tr>\n",
       "  </thead>\n",
       "  <tbody>\n",
       "    <tr>\n",
       "      <th>11106</th>\n",
       "      <td>0</td>\n",
       "      <td>0</td>\n",
       "      <td>0</td>\n",
       "      <td>0</td>\n",
       "      <td>1</td>\n",
       "      <td>0</td>\n",
       "      <td>0</td>\n",
       "      <td>0</td>\n",
       "      <td>0</td>\n",
       "    </tr>\n",
       "    <tr>\n",
       "      <th>4025</th>\n",
       "      <td>0</td>\n",
       "      <td>1</td>\n",
       "      <td>0</td>\n",
       "      <td>0</td>\n",
       "      <td>0</td>\n",
       "      <td>0</td>\n",
       "      <td>0</td>\n",
       "      <td>0</td>\n",
       "      <td>0</td>\n",
       "    </tr>\n",
       "    <tr>\n",
       "      <th>25534</th>\n",
       "      <td>0</td>\n",
       "      <td>0</td>\n",
       "      <td>0</td>\n",
       "      <td>0</td>\n",
       "      <td>0</td>\n",
       "      <td>1</td>\n",
       "      <td>0</td>\n",
       "      <td>0</td>\n",
       "      <td>0</td>\n",
       "    </tr>\n",
       "    <tr>\n",
       "      <th>24867</th>\n",
       "      <td>0</td>\n",
       "      <td>1</td>\n",
       "      <td>0</td>\n",
       "      <td>0</td>\n",
       "      <td>0</td>\n",
       "      <td>0</td>\n",
       "      <td>0</td>\n",
       "      <td>0</td>\n",
       "      <td>0</td>\n",
       "    </tr>\n",
       "    <tr>\n",
       "      <th>22514</th>\n",
       "      <td>0</td>\n",
       "      <td>1</td>\n",
       "      <td>0</td>\n",
       "      <td>0</td>\n",
       "      <td>0</td>\n",
       "      <td>0</td>\n",
       "      <td>0</td>\n",
       "      <td>0</td>\n",
       "      <td>0</td>\n",
       "    </tr>\n",
       "  </tbody>\n",
       "</table>\n",
       "</div>"
      ],
      "text/plain": [
       "       Температура выше +30С  Ясно  Дождь  Температура ниже -30С  Пасмурно  \\\n",
       "11106                      0     0      0                      0         1   \n",
       "4025                       0     1      0                      0         0   \n",
       "25534                      0     0      0                      0         0   \n",
       "24867                      0     1      0                      0         0   \n",
       "22514                      0     1      0                      0         0   \n",
       "\n",
       "       Снегопад  Туман  Метель  Ураганный ветер  \n",
       "11106         0      0       0                0  \n",
       "4025          0      0       0                0  \n",
       "25534         1      0       0                0  \n",
       "24867         0      0       0                0  \n",
       "22514         0      0       0                0  "
      ]
     },
     "metadata": {},
     "output_type": "display_data"
    }
   ],
   "source": [
    "df1 = df.copy()\n",
    "# Create a list of all possible weather conditions\n",
    "weather_conditions = df['weather'].str.split(', ').tolist()\n",
    "weather_conditions = [item for sublist in weather_conditions for item in sublist]\n",
    "weather_conditions = list(set(weather_conditions))\n",
    "\n",
    "# Create new boolean columns for each weather condition\n",
    "for condition in weather_conditions:\n",
    "    df1[condition] = df['weather'].str.contains(condition).astype(int)\n",
    "    \n",
    "df1[weather_conditions].sample(5)"
   ]
  },
  {
   "attachments": {},
   "cell_type": "markdown",
   "metadata": {},
   "source": [
    "#### Манипуляции с данными"
   ]
  },
  {
   "cell_type": "code",
   "execution_count": 75,
   "metadata": {},
   "outputs": [
    {
     "data": {
      "text/plain": [
       "150                           [None None None]\n",
       "29443                      [TOYOTA Vista 1990]\n",
       "2725                         [HONDA Logo 1999]\n",
       "25595    [NISSAN Juke 1994, NISSAN Tiida 2009]\n",
       "6093      [TOYOTA Crown 2002, YAMAHA XVS 2003]\n",
       "Name: vehicles, dtype: object"
      ]
     },
     "execution_count": 75,
     "metadata": {},
     "output_type": "execute_result"
    }
   ],
   "source": [
    "df.vehicles.sample(5)"
   ]
  },
  {
   "cell_type": "code",
   "execution_count": 63,
   "metadata": {},
   "outputs": [
    {
     "data": {
      "text/html": [
       "\n",
       "Минимальный год выпуска автомобилей: 1986\n",
       "Максимальный год выпуска автомобилей: 2018"
      ],
      "text/plain": [
       "<IPython.core.display.HTML object>"
      ]
     },
     "metadata": {},
     "output_type": "display_data"
    }
   ],
   "source": [
    "df.sketch.ask('Какой минимальный и максимальный годы выпуска автомобилей (колонка vehicles имеет тип списка, год может быть неизвестен)?')"
   ]
  },
  {
   "cell_type": "code",
   "execution_count": 80,
   "metadata": {},
   "outputs": [
    {
     "data": {
      "text/html": [
       "<div style=\"display:flex;flex-direction:row;justify-content:space-between;\">\n",
       "                <pre style=\"width: 100%; white-space: pre-wrap;\" id=\"8744a1f3-a273-40c9-bf45-6863ba2e526c\">\n",
       "# Get list of all vehicles\n",
       "vehicles_list = df['vehicles'].tolist()\n",
       "\n",
       "# Create empty list to store years\n",
       "years_list = []\n",
       "\n",
       "# Iterate through each vehicle in the list and extract the year from the string\n",
       "for vehicle in vehicles_list:\n",
       "    # Split the string on space\n",
       "    vehicle_split = vehicle.split(' ')\n",
       "    # Get the last item in the list which is the year\n",
       "    year = vehicle_split[-1]\n",
       "    # Append the year to the years_list if it is a number\n",
       "    if year.isdigit():\n",
       "        years_list.append(int(year))\n",
       "        \n",
       "# Calculate min and max years from the years_list\n",
       "min_year = min(years_list)\n",
       "max_year = max(years_list)\n",
       "\n",
       "print('Min year:', min_year)\n",
       "print('Max year:', max_year)\n",
       "</pre>\n",
       "                <button style=\"height: fit-content;\" onclick=\"navigator.clipboard.writeText(JSON.parse(atob(`IlxuIyBHZXQgbGlzdCBvZiBhbGwgdmVoaWNsZXNcbnZlaGljbGVzX2xpc3QgPSBkZlsndmVoaWNsZXMnXS50b2xpc3QoKVxuXG4jIENyZWF0ZSBlbXB0eSBsaXN0IHRvIHN0b3JlIHllYXJzXG55ZWFyc19saXN0ID0gW11cblxuIyBJdGVyYXRlIHRocm91Z2ggZWFjaCB2ZWhpY2xlIGluIHRoZSBsaXN0IGFuZCBleHRyYWN0IHRoZSB5ZWFyIGZyb20gdGhlIHN0cmluZ1xuZm9yIHZlaGljbGUgaW4gdmVoaWNsZXNfbGlzdDpcbiAgICAjIFNwbGl0IHRoZSBzdHJpbmcgb24gc3BhY2VcbiAgICB2ZWhpY2xlX3NwbGl0ID0gdmVoaWNsZS5zcGxpdCgnICcpXG4gICAgIyBHZXQgdGhlIGxhc3QgaXRlbSBpbiB0aGUgbGlzdCB3aGljaCBpcyB0aGUgeWVhclxuICAgIHllYXIgPSB2ZWhpY2xlX3NwbGl0Wy0xXVxuICAgICMgQXBwZW5kIHRoZSB5ZWFyIHRvIHRoZSB5ZWFyc19saXN0IGlmIGl0IGlzIGEgbnVtYmVyXG4gICAgaWYgeWVhci5pc2RpZ2l0KCk6XG4gICAgICAgIHllYXJzX2xpc3QuYXBwZW5kKGludCh5ZWFyKSlcbiAgICAgICAgXG4jIENhbGN1bGF0ZSBtaW4gYW5kIG1heCB5ZWFycyBmcm9tIHRoZSB5ZWFyc19saXN0XG5taW5feWVhciA9IG1pbih5ZWFyc19saXN0KVxubWF4X3llYXIgPSBtYXgoeWVhcnNfbGlzdClcblxucHJpbnQoJ01pbiB5ZWFyOicsIG1pbl95ZWFyKVxucHJpbnQoJ01heCB5ZWFyOicsIG1heF95ZWFyKVxuIg==`)))\">Copy</button>\n",
       "                </div>"
      ],
      "text/plain": [
       "<IPython.core.display.HTML object>"
      ]
     },
     "metadata": {},
     "output_type": "display_data"
    }
   ],
   "source": [
    "df.sketch.howto('Определи минимальный и максимальный годы выпуска автомобилей (колонка vehicles имеет тип списка, год может быть неизвестен)?')"
   ]
  },
  {
   "cell_type": "code",
   "execution_count": null,
   "metadata": {},
   "outputs": [
    {
     "name": "stdout",
     "output_type": "stream",
     "text": [
      "Min Year: 1\n",
      "Max Year: 2022\n"
     ]
    }
   ],
   "source": [
    "# Get list of all vehicles\n",
    "vehicles_list = df['vehicles'].tolist()\n",
    "\n",
    "# Create empty list to store all years\n",
    "years_list = []\n",
    "\n",
    "# Iterate through the list of vehicles and extract the year from each vehicle\n",
    "for vehicles in vehicles_list:\n",
    "    for v in vehicles:\n",
    "        # Split the string on space to get the year\n",
    "        year = v.split(' ')[-1]\n",
    "        # Append the year to the list of years\n",
    "        if year.isdigit():\n",
    "            years_list.append(int(year))\n",
    "        \n",
    "# Calculate min and max years from the list of years\n",
    "min_year = min(years_list)\n",
    "max_year = max(years_list)\n",
    "\n",
    "print('Min Year:', min_year)\n",
    "print('Max Year:', max_year)"
   ]
  },
  {
   "cell_type": "code",
   "execution_count": 91,
   "metadata": {},
   "outputs": [
    {
     "data": {
      "text/html": [
       "<div style=\"display:flex;flex-direction:row;justify-content:space-between;\">\n",
       "                <pre style=\"width: 100%; white-space: pre-wrap;\" id=\"99c0553b-f4b6-443c-b7bb-9955d7e92ac8\">\n",
       "# Count the number of accidents involving Toyota vehicles before 2000\n",
       "toyota_before_2000 = df[df['vehicles'].apply(lambda x: any('TOYOTA' in v and int(v.split()[-1]) < 2000 for v in x))].shape[0]\n",
       "print(f'Number of accidents involving Toyota vehicles before 2000: {toyota_before_2000}')\n",
       "</pre>\n",
       "                <button style=\"height: fit-content;\" onclick=\"navigator.clipboard.writeText(JSON.parse(atob(`IlxuIyBDb3VudCB0aGUgbnVtYmVyIG9mIGFjY2lkZW50cyBpbnZvbHZpbmcgVG95b3RhIHZlaGljbGVzIGJlZm9yZSAyMDAwXG50b3lvdGFfYmVmb3JlXzIwMDAgPSBkZltkZlsndmVoaWNsZXMnXS5hcHBseShsYW1iZGEgeDogYW55KCdUT1lPVEEnIGluIHYgYW5kIGludCh2LnNwbGl0KClbLTFdKSA8IDIwMDAgZm9yIHYgaW4geCkpXS5zaGFwZVswXVxucHJpbnQoZidOdW1iZXIgb2YgYWNjaWRlbnRzIGludm9sdmluZyBUb3lvdGEgdmVoaWNsZXMgYmVmb3JlIDIwMDA6IHt0b3lvdGFfYmVmb3JlXzIwMDB9JylcbiI=`)))\">Copy</button>\n",
       "                </div>"
      ],
      "text/plain": [
       "<IPython.core.display.HTML object>"
      ]
     },
     "metadata": {},
     "output_type": "display_data"
    }
   ],
   "source": [
    "df.sketch.howto(\"\"\"\n",
    "    Посчитать количество ДТП с участием машин марки `TOYOTA` до 2000 года выпуска,\n",
    "    поле `vehicles` имеет тип списка, год может быть неизвестен\n",
    "\"\"\")"
   ]
  },
  {
   "cell_type": "code",
   "execution_count": 93,
   "metadata": {},
   "outputs": [
    {
     "name": "stdout",
     "output_type": "stream",
     "text": [
      "Number of accidents involving Toyota vehicles before 2000: 8961\n"
     ]
    }
   ],
   "source": [
    "# Count the number of accidents involving Toyota vehicles before 2000\n",
    "toyota_before_2000 = df[df['vehicles'].apply(lambda x: any('TOYOTA' in v and (int(v.split()[-1]) < 2000 if v.split()[-1].isdigit() else False) for v in x))].shape[0]\n",
    "print(f'Number of accidents involving Toyota vehicles before 2000: {toyota_before_2000}')"
   ]
  },
  {
   "cell_type": "code",
   "execution_count": 97,
   "metadata": {},
   "outputs": [
    {
     "data": {
      "text/html": [
       "<div style=\"display:flex;flex-direction:row;justify-content:space-between;\">\n",
       "                <pre style=\"width: 100%; white-space: pre-wrap;\" id=\"d36d25e2-af2a-47f6-9575-f46ac8d6fb21\">\n",
       "# Get all rows where the `vehicles` column contains a Toyota\n",
       "toyota_rows = df[df['vehicles'].str.contains('TOYOTA')]\n",
       "\n",
       "# Get all rows where the `vehicles` column contains a Toyota before 2000\n",
       "toyota_before_2000 = toyota_rows[toyota_rows['vehicles'].str.contains('\\d{4}') & toyota_rows['vehicles'].str.contains('\\d{4}').apply(lambda x: int(x) < 2000)]\n",
       "\n",
       "# Count the number of rows\n",
       "num_toyota_before_2000 = len(toyota_before_2000)\n",
       "</pre>\n",
       "                <button style=\"height: fit-content;\" onclick=\"navigator.clipboard.writeText(JSON.parse(atob(`IlxuIyBHZXQgYWxsIHJvd3Mgd2hlcmUgdGhlIGB2ZWhpY2xlc2AgY29sdW1uIGNvbnRhaW5zIGEgVG95b3RhXG50b3lvdGFfcm93cyA9IGRmW2RmWyd2ZWhpY2xlcyddLnN0ci5jb250YWlucygnVE9ZT1RBJyldXG5cbiMgR2V0IGFsbCByb3dzIHdoZXJlIHRoZSBgdmVoaWNsZXNgIGNvbHVtbiBjb250YWlucyBhIFRveW90YSBiZWZvcmUgMjAwMFxudG95b3RhX2JlZm9yZV8yMDAwID0gdG95b3RhX3Jvd3NbdG95b3RhX3Jvd3NbJ3ZlaGljbGVzJ10uc3RyLmNvbnRhaW5zKCdcXGR7NH0nKSAmIHRveW90YV9yb3dzWyd2ZWhpY2xlcyddLnN0ci5jb250YWlucygnXFxkezR9JykuYXBwbHkobGFtYmRhIHg6IGludCh4KSA8IDIwMDApXVxuXG4jIENvdW50IHRoZSBudW1iZXIgb2Ygcm93c1xubnVtX3RveW90YV9iZWZvcmVfMjAwMCA9IGxlbih0b3lvdGFfYmVmb3JlXzIwMDApXG4i`)))\">Copy</button>\n",
       "                </div>"
      ],
      "text/plain": [
       "<IPython.core.display.HTML object>"
      ]
     },
     "metadata": {},
     "output_type": "display_data"
    }
   ],
   "source": [
    "df.sketch.howto(\"\"\"\n",
    "    Количество ДТП с участием машин марки `TOYOTA` до 2000 года выпуска,\n",
    "    поле `vehicles` имеет тип списка, год может быть неизвестен\n",
    "\"\"\")"
   ]
  },
  {
   "cell_type": "code",
   "execution_count": 98,
   "metadata": {},
   "outputs": [
    {
     "data": {
      "text/html": [
       "<div style=\"display:flex;flex-direction:row;justify-content:space-between;\">\n",
       "                <pre style=\"width: 100%; white-space: pre-wrap;\" id=\"2a5bc335-ee9b-4fa7-8768-c5918c59eb5e\">\n",
       "# Count the number of accidents involving motorcyclists\n",
       "motorcycle_accidents = df[df['participant_categories'].str.contains('Мотоциклисты')].shape[0]\n",
       "print(f'Number of accidents involving motorcyclists: {motorcycle_accidents}')\n",
       "</pre>\n",
       "                <button style=\"height: fit-content;\" onclick=\"navigator.clipboard.writeText(JSON.parse(atob(`IlxuIyBDb3VudCB0aGUgbnVtYmVyIG9mIGFjY2lkZW50cyBpbnZvbHZpbmcgbW90b3JjeWNsaXN0c1xubW90b3JjeWNsZV9hY2NpZGVudHMgPSBkZltkZlsncGFydGljaXBhbnRfY2F0ZWdvcmllcyddLnN0ci5jb250YWlucygnXHUwNDFjXHUwNDNlXHUwNDQyXHUwNDNlXHUwNDQ2XHUwNDM4XHUwNDNhXHUwNDNiXHUwNDM4XHUwNDQxXHUwNDQyXHUwNDRiJyldLnNoYXBlWzBdXG5wcmludChmJ051bWJlciBvZiBhY2NpZGVudHMgaW52b2x2aW5nIG1vdG9yY3ljbGlzdHM6IHttb3RvcmN5Y2xlX2FjY2lkZW50c30nKVxuIg==`)))\">Copy</button>\n",
       "                </div>"
      ],
      "text/plain": [
       "<IPython.core.display.HTML object>"
      ]
     },
     "metadata": {},
     "output_type": "display_data"
    }
   ],
   "source": [
    "df.sketch.howto('Количество ДТП с участием мотоциклистов')"
   ]
  },
  {
   "cell_type": "code",
   "execution_count": 111,
   "metadata": {},
   "outputs": [
    {
     "name": "stdout",
     "output_type": "stream",
     "text": [
      "Number of accidents involving motorcyclists: 2221\n"
     ]
    }
   ],
   "source": [
    "# Count the number of accidents involving motorcyclists\n",
    "motorcycle_accidents = df[df['participant_categories'].str.contains('Мотоциклисты')].shape[0]\n",
    "print(f'Number of accidents involving motorcyclists: {motorcycle_accidents}')"
   ]
  },
  {
   "cell_type": "code",
   "execution_count": 15,
   "metadata": {
    "scrolled": true
   },
   "outputs": [
    {
     "name": "stderr",
     "output_type": "stream",
     "text": [
      "WARNING:root:Module astral not found, but part of suggestion. May need to pip install...\n"
     ]
    },
    {
     "data": {
      "text/html": [
       "<div style=\"display:flex;flex-direction:row;justify-content:space-between;\">\n",
       "                <pre style=\"width: 100%; white-space: pre-wrap;\" id=\"855948e3-8332-4d04-89ed-b4f523ca3a37\">\n",
       "# import necessary libraries\n",
       "import pandas as pd\n",
       "import datetime\n",
       "from astral import Astral\n",
       "\n",
       "# create an Astral object\n",
       "a = Astral()\n",
       "\n",
       "# create a list of dates from the datetime column in df\n",
       "dates = df['datetime'].tolist()\n",
       "\n",
       "# create a list of moon phases for each date in the list of dates\n",
       "moon_phases = [a.moon_phase(date) for date in dates]\n",
       "\n",
       "# add the list of moon phases to the dataframe as a new column\n",
       "df['moon_phase'] = moon_phases\n",
       "</pre>\n",
       "                <button style=\"height: fit-content;\" onclick=\"navigator.clipboard.writeText(JSON.parse(atob(`IlxuIyBpbXBvcnQgbmVjZXNzYXJ5IGxpYnJhcmllc1xuaW1wb3J0IHBhbmRhcyBhcyBwZFxuaW1wb3J0IGRhdGV0aW1lXG5mcm9tIGFzdHJhbCBpbXBvcnQgQXN0cmFsXG5cbiMgY3JlYXRlIGFuIEFzdHJhbCBvYmplY3RcbmEgPSBBc3RyYWwoKVxuXG4jIGNyZWF0ZSBhIGxpc3Qgb2YgZGF0ZXMgZnJvbSB0aGUgZGF0ZXRpbWUgY29sdW1uIGluIGRmXG5kYXRlcyA9IGRmWydkYXRldGltZSddLnRvbGlzdCgpXG5cbiMgY3JlYXRlIGEgbGlzdCBvZiBtb29uIHBoYXNlcyBmb3IgZWFjaCBkYXRlIGluIHRoZSBsaXN0IG9mIGRhdGVzXG5tb29uX3BoYXNlcyA9IFthLm1vb25fcGhhc2UoZGF0ZSkgZm9yIGRhdGUgaW4gZGF0ZXNdXG5cbiMgYWRkIHRoZSBsaXN0IG9mIG1vb24gcGhhc2VzIHRvIHRoZSBkYXRhZnJhbWUgYXMgYSBuZXcgY29sdW1uXG5kZlsnbW9vbl9waGFzZSddID0gbW9vbl9waGFzZXNcbiI=`)))\">Copy</button>\n",
       "                </div>"
      ],
      "text/plain": [
       "<IPython.core.display.HTML object>"
      ]
     },
     "metadata": {},
     "output_type": "display_data"
    }
   ],
   "source": [
    "df.sketch.howto('Какая фаза луны была в день ДТП?')"
   ]
  },
  {
   "cell_type": "code",
   "execution_count": 17,
   "metadata": {},
   "outputs": [
    {
     "data": {
      "text/html": [
       "<div style=\"display:flex;flex-direction:row;justify-content:space-between;\">\n",
       "                <pre style=\"width: 100%; white-space: pre-wrap;\" id=\"563a6509-6c8f-4823-ad16-d6b964057108\">\n",
       "# import necessary libraries\n",
       "import pandas as pd\n",
       "import numpy as np\n",
       "from geopy.distance import geodesic\n",
       "\n",
       "# define coordinates of Moscow\n",
       "moscow_lat = 55.755826\n",
       "moscow_lon = 37.6173\n",
       "\n",
       "# calculate distance from Moscow for each row in the dataframe\n",
       "df['distance_from_moscow'] = df.apply(lambda row: geodesic((row['lat'], row['lon']), (moscow_lat, moscow_lon)).km, axis=1)\n",
       "\n",
       "# print the min and max distances from Moscow\n",
       "print('Minimum distance from Moscow:', df['distance_from_moscow'].min())\n",
       "print('Maximum distance from Moscow:', df['distance_from_moscow'].max())\n",
       "</pre>\n",
       "                <button style=\"height: fit-content;\" onclick=\"navigator.clipboard.writeText(JSON.parse(atob(`IlxuIyBpbXBvcnQgbmVjZXNzYXJ5IGxpYnJhcmllc1xuaW1wb3J0IHBhbmRhcyBhcyBwZFxuaW1wb3J0IG51bXB5IGFzIG5wXG5mcm9tIGdlb3B5LmRpc3RhbmNlIGltcG9ydCBnZW9kZXNpY1xuXG4jIGRlZmluZSBjb29yZGluYXRlcyBvZiBNb3Njb3dcbm1vc2Nvd19sYXQgPSA1NS43NTU4MjZcbm1vc2Nvd19sb24gPSAzNy42MTczXG5cbiMgY2FsY3VsYXRlIGRpc3RhbmNlIGZyb20gTW9zY293IGZvciBlYWNoIHJvdyBpbiB0aGUgZGF0YWZyYW1lXG5kZlsnZGlzdGFuY2VfZnJvbV9tb3Njb3cnXSA9IGRmLmFwcGx5KGxhbWJkYSByb3c6IGdlb2Rlc2ljKChyb3dbJ2xhdCddLCByb3dbJ2xvbiddKSwgKG1vc2Nvd19sYXQsIG1vc2Nvd19sb24pKS5rbSwgYXhpcz0xKVxuXG4jIHByaW50IHRoZSBtaW4gYW5kIG1heCBkaXN0YW5jZXMgZnJvbSBNb3Njb3dcbnByaW50KCdNaW5pbXVtIGRpc3RhbmNlIGZyb20gTW9zY293OicsIGRmWydkaXN0YW5jZV9mcm9tX21vc2NvdyddLm1pbigpKVxucHJpbnQoJ01heGltdW0gZGlzdGFuY2UgZnJvbSBNb3Njb3c6JywgZGZbJ2Rpc3RhbmNlX2Zyb21fbW9zY293J10ubWF4KCkpXG4i`)))\">Copy</button>\n",
       "                </div>"
      ],
      "text/plain": [
       "<IPython.core.display.HTML object>"
      ]
     },
     "metadata": {},
     "output_type": "display_data"
    }
   ],
   "source": [
    "df.sketch.howto('На каком расстоянии от Москвы произошло ДТП?')"
   ]
  },
  {
   "cell_type": "code",
   "execution_count": 112,
   "metadata": {},
   "outputs": [
    {
     "name": "stdout",
     "output_type": "stream",
     "text": [
      "Minimum distance from Moscow: 4737.977084020733\n",
      "Maximum distance from Moscow: 7127.686149630483\n"
     ]
    }
   ],
   "source": [
    "# import necessary libraries\n",
    "import pandas as pd\n",
    "import numpy as np\n",
    "from geopy.distance import geodesic\n",
    "\n",
    "# define coordinates of Moscow\n",
    "moscow_lat = 55.755826\n",
    "moscow_lon = 37.6173\n",
    "\n",
    "# calculate distance from Moscow for each row in the dataframe\n",
    "df['distance_from_moscow'] = df.apply(lambda row: geodesic((row['lat'], row['lon']), (moscow_lat, moscow_lon)).km, axis=1)\n",
    "\n",
    "# print the min and max distances from Moscow\n",
    "print('Minimum distance from Moscow:', df['distance_from_moscow'].min())\n",
    "print('Maximum distance from Moscow:', df['distance_from_moscow'].max())"
   ]
  },
  {
   "cell_type": "code",
   "execution_count": 110,
   "metadata": {},
   "outputs": [
    {
     "data": {
      "text/html": [
       "<div style=\"display:flex;flex-direction:row;justify-content:space-between;\">\n",
       "                <pre style=\"width: 100%; white-space: pre-wrap;\" id=\"26a26ca7-d0f6-4f87-9c65-0b04bd212fbe\">\n",
       "# Get the datetime column from the dataframe\n",
       "datetime_col = df['datetime']\n",
       "\n",
       "# Get the date of Lenin's birthday\n",
       "lenin_birthday = datetime.date(1870, 4, 22)\n",
       "\n",
       "# Filter the dataframe to only include rows with a datetime that matches Lenin's birthday\n",
       "lenin_birthday_df = df[datetime_col.dt.date == lenin_birthday]\n",
       "\n",
       "# Count the number of rows in the filtered dataframe\n",
       "lenin_birthday_count = lenin_birthday_df.shape[0]\n",
       "\n",
       "# Print the result\n",
       "print('Number of DTPs on Lenin\\'s birthday: {}'.format(lenin_birthday_count))\n",
       "</pre>\n",
       "                <button style=\"height: fit-content;\" onclick=\"navigator.clipboard.writeText(JSON.parse(atob(`IlxuIyBHZXQgdGhlIGRhdGV0aW1lIGNvbHVtbiBmcm9tIHRoZSBkYXRhZnJhbWVcbmRhdGV0aW1lX2NvbCA9IGRmWydkYXRldGltZSddXG5cbiMgR2V0IHRoZSBkYXRlIG9mIExlbmluJ3MgYmlydGhkYXlcbmxlbmluX2JpcnRoZGF5ID0gZGF0ZXRpbWUuZGF0ZSgxODcwLCA0LCAyMilcblxuIyBGaWx0ZXIgdGhlIGRhdGFmcmFtZSB0byBvbmx5IGluY2x1ZGUgcm93cyB3aXRoIGEgZGF0ZXRpbWUgdGhhdCBtYXRjaGVzIExlbmluJ3MgYmlydGhkYXlcbmxlbmluX2JpcnRoZGF5X2RmID0gZGZbZGF0ZXRpbWVfY29sLmR0LmRhdGUgPT0gbGVuaW5fYmlydGhkYXldXG5cbiMgQ291bnQgdGhlIG51bWJlciBvZiByb3dzIGluIHRoZSBmaWx0ZXJlZCBkYXRhZnJhbWVcbmxlbmluX2JpcnRoZGF5X2NvdW50ID0gbGVuaW5fYmlydGhkYXlfZGYuc2hhcGVbMF1cblxuIyBQcmludCB0aGUgcmVzdWx0XG5wcmludCgnTnVtYmVyIG9mIERUUHMgb24gTGVuaW5cXCdzIGJpcnRoZGF5OiB7fScuZm9ybWF0KGxlbmluX2JpcnRoZGF5X2NvdW50KSlcbiI=`)))\">Copy</button>\n",
       "                </div>"
      ],
      "text/plain": [
       "<IPython.core.display.HTML object>"
      ]
     },
     "metadata": {},
     "output_type": "display_data"
    }
   ],
   "source": [
    "df.sketch.howto('Сколько ДТП произошли в день рождения Ленина?')"
   ]
  },
  {
   "cell_type": "code",
   "execution_count": 102,
   "metadata": {},
   "outputs": [
    {
     "data": {
      "text/html": [
       "\n",
       "Нет, эта информация не присутствует в данном датафрейме."
      ],
      "text/plain": [
       "<IPython.core.display.HTML object>"
      ]
     },
     "metadata": {},
     "output_type": "display_data"
    }
   ],
   "source": [
    "df.sketch.ask('День рождения Ленина')"
   ]
  },
  {
   "cell_type": "code",
   "execution_count": 103,
   "metadata": {},
   "outputs": [
    {
     "data": {
      "text/html": [
       "<div style=\"display:flex;flex-direction:row;justify-content:space-between;\">\n",
       "                <pre style=\"width: 100%; white-space: pre-wrap;\" id=\"6050b4a6-3f66-486a-9d86-310a1bdb6c22\">\n",
       "# Get the datetime column from the dataframe\n",
       "datetime_column = df['datetime']\n",
       "\n",
       "# Filter the datetime column to only include dates that match the day of Lenin's birthday\n",
       "lenin_birthday = datetime_column.dt.month == 4 and datetime_column.dt.day == 22\n",
       "\n",
       "# Get the rows that match the filter\n",
       "lenin_birthday_rows = df[lenin_birthday]\n",
       "</pre>\n",
       "                <button style=\"height: fit-content;\" onclick=\"navigator.clipboard.writeText(JSON.parse(atob(`IlxuIyBHZXQgdGhlIGRhdGV0aW1lIGNvbHVtbiBmcm9tIHRoZSBkYXRhZnJhbWVcbmRhdGV0aW1lX2NvbHVtbiA9IGRmWydkYXRldGltZSddXG5cbiMgRmlsdGVyIHRoZSBkYXRldGltZSBjb2x1bW4gdG8gb25seSBpbmNsdWRlIGRhdGVzIHRoYXQgbWF0Y2ggdGhlIGRheSBvZiBMZW5pbidzIGJpcnRoZGF5XG5sZW5pbl9iaXJ0aGRheSA9IGRhdGV0aW1lX2NvbHVtbi5kdC5tb250aCA9PSA0IGFuZCBkYXRldGltZV9jb2x1bW4uZHQuZGF5ID09IDIyXG5cbiMgR2V0IHRoZSByb3dzIHRoYXQgbWF0Y2ggdGhlIGZpbHRlclxubGVuaW5fYmlydGhkYXlfcm93cyA9IGRmW2xlbmluX2JpcnRoZGF5XVxuIg==`)))\">Copy</button>\n",
       "                </div>"
      ],
      "text/plain": [
       "<IPython.core.display.HTML object>"
      ]
     },
     "metadata": {},
     "output_type": "display_data"
    }
   ],
   "source": [
    "df.sketch.howto('День рождения Ленина')"
   ]
  },
  {
   "attachments": {},
   "cell_type": "markdown",
   "metadata": {},
   "source": [
    "#### Графики"
   ]
  },
  {
   "cell_type": "code",
   "execution_count": 121,
   "metadata": {},
   "outputs": [
    {
     "data": {
      "text/html": [
       "<div style=\"display:flex;flex-direction:row;justify-content:space-between;\">\n",
       "                <pre style=\"width: 100%; white-space: pre-wrap;\" id=\"42e3876d-8b98-4ddc-a190-c055d5953786\">\n",
       "import matplotlib.pyplot as plt\n",
       "\n",
       "# Get the max value of injured_count\n",
       "max_injured_count = df['injured_count'].max()\n",
       "\n",
       "# Create a histogram of the injured_count column with max_injured_count bins\n",
       "df['injured_count'].hist(bins=max_injured_count)\n",
       "\n",
       "# Set the title and labels for the histogram\n",
       "plt.title('Injured Count')\n",
       "plt.xlabel('Number of Injuries')\n",
       "plt.ylabel('Frequency')\n",
       "\n",
       "# Show the plot\n",
       "plt.show()\n",
       "</pre>\n",
       "                <button style=\"height: fit-content;\" onclick=\"navigator.clipboard.writeText(JSON.parse(atob(`IlxuaW1wb3J0IG1hdHBsb3RsaWIucHlwbG90IGFzIHBsdFxuXG4jIEdldCB0aGUgbWF4IHZhbHVlIG9mIGluanVyZWRfY291bnRcbm1heF9pbmp1cmVkX2NvdW50ID0gZGZbJ2luanVyZWRfY291bnQnXS5tYXgoKVxuXG4jIENyZWF0ZSBhIGhpc3RvZ3JhbSBvZiB0aGUgaW5qdXJlZF9jb3VudCBjb2x1bW4gd2l0aCBtYXhfaW5qdXJlZF9jb3VudCBiaW5zXG5kZlsnaW5qdXJlZF9jb3VudCddLmhpc3QoYmlucz1tYXhfaW5qdXJlZF9jb3VudClcblxuIyBTZXQgdGhlIHRpdGxlIGFuZCBsYWJlbHMgZm9yIHRoZSBoaXN0b2dyYW1cbnBsdC50aXRsZSgnSW5qdXJlZCBDb3VudCcpXG5wbHQueGxhYmVsKCdOdW1iZXIgb2YgSW5qdXJpZXMnKVxucGx0LnlsYWJlbCgnRnJlcXVlbmN5JylcblxuIyBTaG93IHRoZSBwbG90XG5wbHQuc2hvdygpXG4i`)))\">Copy</button>\n",
       "                </div>"
      ],
      "text/plain": [
       "<IPython.core.display.HTML object>"
      ]
     },
     "metadata": {},
     "output_type": "display_data"
    }
   ],
   "source": [
    "df.sketch.howto(\"\"\"Построить гистограмму количества пострадавших, \n",
    "                установить количество корзин равным максимальному значению\"\"\")"
   ]
  },
  {
   "cell_type": "code",
   "execution_count": 5,
   "metadata": {},
   "outputs": [
    {
     "data": {
      "image/png": "[encoded data removed]",
      "text/plain": [
       "<Figure size 432x288 with 1 Axes>"
      ]
     },
     "metadata": {
      "needs_background": "light"
     },
     "output_type": "display_data"
    }
   ],
   "source": [
    "import matplotlib.pyplot as plt\n",
    "\n",
    "# Get the max value of injured_count\n",
    "max_injured_count = df['injured_count'].max()\n",
    "\n",
    "# Create a histogram of the injured_count column with max_injured_count bins\n",
    "df['injured_count'].hist(bins=max_injured_count)\n",
    "\n",
    "# Set the title and labels for the histogram\n",
    "plt.title('Injured Count')\n",
    "plt.xlabel('Number of Injuries')\n",
    "plt.ylabel('Frequency')\n",
    "\n",
    "# Show the plot\n",
    "plt.show()"
   ]
  },
  {
   "cell_type": "code",
   "execution_count": 13,
   "metadata": {},
   "outputs": [
    {
     "data": {
      "text/html": [
       "<div style=\"display:flex;flex-direction:row;justify-content:space-between;\">\n",
       "                <pre style=\"width: 100%; white-space: pre-wrap;\" id=\"a3fd9b6e-aa3c-4d0e-9a56-52bd74e7e085\">\n",
       "import seaborn as sns\n",
       "\n",
       "# Set figure size\n",
       "plt.figure(figsize=(12, 9))\n",
       "\n",
       "# Plot the data\n",
       "sns.scatterplot(x=\"lon\", y=\"lat\", hue=\"parent_region\", size=\"participants_count\", data=df, alpha=0.3)\n",
       "\n",
       "# Add labels and grid\n",
       "plt.xlabel('Longitude')\n",
       "plt.ylabel('Latitude')\n",
       "plt.title('Accidents by Location')\n",
       "plt.grid(True)\n",
       "</pre>\n",
       "                <button style=\"height: fit-content;\" onclick=\"navigator.clipboard.writeText(JSON.parse(atob(`IlxuaW1wb3J0IHNlYWJvcm4gYXMgc25zXG5cbiMgU2V0IGZpZ3VyZSBzaXplXG5wbHQuZmlndXJlKGZpZ3NpemU9KDEyLCA5KSlcblxuIyBQbG90IHRoZSBkYXRhXG5zbnMuc2NhdHRlcnBsb3QoeD1cImxvblwiLCB5PVwibGF0XCIsIGh1ZT1cInBhcmVudF9yZWdpb25cIiwgc2l6ZT1cInBhcnRpY2lwYW50c19jb3VudFwiLCBkYXRhPWRmLCBhbHBoYT0wLjMpXG5cbiMgQWRkIGxhYmVscyBhbmQgZ3JpZFxucGx0LnhsYWJlbCgnTG9uZ2l0dWRlJylcbnBsdC55bGFiZWwoJ0xhdGl0dWRlJylcbnBsdC50aXRsZSgnQWNjaWRlbnRzIGJ5IExvY2F0aW9uJylcbnBsdC5ncmlkKFRydWUpXG4i`)))\">Copy</button>\n",
       "                </div>"
      ],
      "text/plain": [
       "<IPython.core.display.HTML object>"
      ]
     },
     "metadata": {},
     "output_type": "display_data"
    }
   ],
   "source": [
    "df.drop('vehicles',axis=1).sketch.howto(\"\"\"Построй координаты на графике с помощью seaborn \n",
    "    Цветом обозначь разные `parent_region`, \n",
    "    размер графика 12 на 9, размер точек пропорционально `participants_count`,\n",
    "    подпиши названия осей и графика, добавь на график сетку,\n",
    "    прозрачность точек 30 процентов\"\"\")"
   ]
  },
  {
   "cell_type": "code",
   "execution_count": 14,
   "metadata": {},
   "outputs": [
    {
     "data": {
      "image/png": "[encoded data removed]",
      "text/plain": [
       "<Figure size 864x648 with 1 Axes>"
      ]
     },
     "metadata": {
      "needs_background": "light"
     },
     "output_type": "display_data"
    }
   ],
   "source": [
    "import seaborn as sns\n",
    "\n",
    "# Set figure size\n",
    "plt.figure(figsize=(12, 9))\n",
    "\n",
    "# Plot the data\n",
    "sns.scatterplot(x=\"lon\", y=\"lat\", hue=\"parent_region\", size=\"participants_count\", data=df, alpha=0.3)\n",
    "\n",
    "# Add labels and grid\n",
    "plt.xlabel('Longitude')\n",
    "plt.ylabel('Latitude')\n",
    "plt.title('Accidents by Location')\n",
    "plt.grid(True)"
   ]
  },
  {
   "cell_type": "code",
   "execution_count": null,
   "metadata": {},
   "outputs": [
    {
     "data": {
      "text/plain": [
       "Text(0, 0.5, 'Latitude')"
      ]
     },
     "metadata": {},
     "output_type": "display_data"
    },
    {
     "data": {
      "image/png": "[encoded data removed]",
      "text/plain": [
       "<Figure size 864x720 with 1 Axes>"
      ]
     },
     "metadata": {},
     "output_type": "display_data"
    }
   ],
   "source": [
    "import matplotlib.pyplot as plt\n",
    "import seaborn as sns\n",
    "\n",
    "# Set figure size\n",
    "plt.figure(figsize=(12, 10))\n",
    "\n",
    "# Plot the data\n",
    "sns.scatterplot(x=\"lon\", y=\"lat\", hue=\"severity\", size=\"participants_count\", data=df)\n",
    "\n",
    "# Add labels and title\n",
    "plt.title(\"Coordinates of Different Regions\")\n",
    "plt.xlabel(\"Longitude\")\n",
    "plt.ylabel(\"Latitude\")"
   ]
  },
  {
   "cell_type": "code",
   "execution_count": 15,
   "metadata": {},
   "outputs": [
    {
     "data": {
      "text/html": [
       "<div style=\"display:flex;flex-direction:row;justify-content:space-between;\">\n",
       "                <pre style=\"width: 100%; white-space: pre-wrap;\" id=\"75e41b07-adc1-40bf-8a5b-ba2efe8d6e69\">\n",
       "#import necessary libraries\n",
       "import pandas as pd\n",
       "import numpy as np\n",
       "from sklearn.cluster import KMeans\n",
       "\n",
       "#create a dataframe with only the columns needed for clustering\n",
       "df_cluster = df[['lat', 'lon']]\n",
       "\n",
       "#instantiate the KMeans model with the desired number of clusters\n",
       "kmeans = KMeans(n_clusters=5)\n",
       "\n",
       "#fit the model to the dataframe\n",
       "kmeans.fit(df_cluster)\n",
       "\n",
       "#predict the clusters for each row in the dataframe\n",
       "df['cluster'] = kmeans.predict(df_cluster)\n",
       "</pre>\n",
       "                <button style=\"height: fit-content;\" onclick=\"navigator.clipboard.writeText(JSON.parse(atob(`IlxuI2ltcG9ydCBuZWNlc3NhcnkgbGlicmFyaWVzXG5pbXBvcnQgcGFuZGFzIGFzIHBkXG5pbXBvcnQgbnVtcHkgYXMgbnBcbmZyb20gc2tsZWFybi5jbHVzdGVyIGltcG9ydCBLTWVhbnNcblxuI2NyZWF0ZSBhIGRhdGFmcmFtZSB3aXRoIG9ubHkgdGhlIGNvbHVtbnMgbmVlZGVkIGZvciBjbHVzdGVyaW5nXG5kZl9jbHVzdGVyID0gZGZbWydsYXQnLCAnbG9uJ11dXG5cbiNpbnN0YW50aWF0ZSB0aGUgS01lYW5zIG1vZGVsIHdpdGggdGhlIGRlc2lyZWQgbnVtYmVyIG9mIGNsdXN0ZXJzXG5rbWVhbnMgPSBLTWVhbnMobl9jbHVzdGVycz01KVxuXG4jZml0IHRoZSBtb2RlbCB0byB0aGUgZGF0YWZyYW1lXG5rbWVhbnMuZml0KGRmX2NsdXN0ZXIpXG5cbiNwcmVkaWN0IHRoZSBjbHVzdGVycyBmb3IgZWFjaCByb3cgaW4gdGhlIGRhdGFmcmFtZVxuZGZbJ2NsdXN0ZXInXSA9IGttZWFucy5wcmVkaWN0KGRmX2NsdXN0ZXIpXG4i`)))\">Copy</button>\n",
       "                </div>"
      ],
      "text/plain": [
       "<IPython.core.display.HTML object>"
      ]
     },
     "metadata": {},
     "output_type": "display_data"
    }
   ],
   "source": [
    "df.sketch.howto('Кластеризация точек')"
   ]
  },
  {
   "cell_type": "code",
   "execution_count": 17,
   "metadata": {},
   "outputs": [
    {
     "data": {
      "text/html": [
       "<div style=\"display:flex;flex-direction:row;justify-content:space-between;\">\n",
       "                <pre style=\"width: 100%; white-space: pre-wrap;\" id=\"a64666b7-d6ff-42cc-8d89-db5caba3226d\">\n",
       "#import necessary libraries\n",
       "import pandas as pd\n",
       "import numpy as np\n",
       "from sklearn.model_selection import train_test_split\n",
       "from sklearn.linear_model import LinearRegression\n",
       "from sklearn.metrics import mean_squared_error, r2_score\n",
       "\n",
       "#separate the dataframe into features and target\n",
       "X = df[['lat', 'lon', 'participants_count', 'injured_count']]\n",
       "y = df['dead_count']\n",
       "\n",
       "#split the data into training and testing sets\n",
       "X_train, X_test, y_train, y_test = train_test_split(X, y, test_size=0.2, random_state=42)\n",
       "\n",
       "#fit the model to the training data\n",
       "model = LinearRegression()\n",
       "model.fit(X_train, y_train)\n",
       "\n",
       "#make predictions on the test data\n",
       "y_pred = model.predict(X_test)\n",
       "\n",
       "#evaluate the model's performance using metrics such as mean squared error and r2 score\n",
       "mse = mean_squared_error(y_test, y_pred) \n",
       "r2 = r2_score(y_test, y_pred) \n",
       "print('Mean Squared Error:', mse) \n",
       "print('R2 Score:', r2) \n",
       "</pre>\n",
       "                <button style=\"height: fit-content;\" onclick=\"navigator.clipboard.writeText(JSON.parse(atob(`IlxuI2ltcG9ydCBuZWNlc3NhcnkgbGlicmFyaWVzXG5pbXBvcnQgcGFuZGFzIGFzIHBkXG5pbXBvcnQgbnVtcHkgYXMgbnBcbmZyb20gc2tsZWFybi5tb2RlbF9zZWxlY3Rpb24gaW1wb3J0IHRyYWluX3Rlc3Rfc3BsaXRcbmZyb20gc2tsZWFybi5saW5lYXJfbW9kZWwgaW1wb3J0IExpbmVhclJlZ3Jlc3Npb25cbmZyb20gc2tsZWFybi5tZXRyaWNzIGltcG9ydCBtZWFuX3NxdWFyZWRfZXJyb3IsIHIyX3Njb3JlXG5cbiNzZXBhcmF0ZSB0aGUgZGF0YWZyYW1lIGludG8gZmVhdHVyZXMgYW5kIHRhcmdldFxuWCA9IGRmW1snbGF0JywgJ2xvbicsICdwYXJ0aWNpcGFudHNfY291bnQnLCAnaW5qdXJlZF9jb3VudCddXVxueSA9IGRmWydkZWFkX2NvdW50J11cblxuI3NwbGl0IHRoZSBkYXRhIGludG8gdHJhaW5pbmcgYW5kIHRlc3Rpbmcgc2V0c1xuWF90cmFpbiwgWF90ZXN0LCB5X3RyYWluLCB5X3Rlc3QgPSB0cmFpbl90ZXN0X3NwbGl0KFgsIHksIHRlc3Rfc2l6ZT0wLjIsIHJhbmRvbV9zdGF0ZT00MilcblxuI2ZpdCB0aGUgbW9kZWwgdG8gdGhlIHRyYWluaW5nIGRhdGFcbm1vZGVsID0gTGluZWFyUmVncmVzc2lvbigpXG5tb2RlbC5maXQoWF90cmFpbiwgeV90cmFpbilcblxuI21ha2UgcHJlZGljdGlvbnMgb24gdGhlIHRlc3QgZGF0YVxueV9wcmVkID0gbW9kZWwucHJlZGljdChYX3Rlc3QpXG5cbiNldmFsdWF0ZSB0aGUgbW9kZWwncyBwZXJmb3JtYW5jZSB1c2luZyBtZXRyaWNzIHN1Y2ggYXMgbWVhbiBzcXVhcmVkIGVycm9yIGFuZCByMiBzY29yZVxubXNlID0gbWVhbl9zcXVhcmVkX2Vycm9yKHlfdGVzdCwgeV9wcmVkKSBcbnIyID0gcjJfc2NvcmUoeV90ZXN0LCB5X3ByZWQpIFxucHJpbnQoJ01lYW4gU3F1YXJlZCBFcnJvcjonLCBtc2UpIFxucHJpbnQoJ1IyIFNjb3JlOicsIHIyKSBcbiI=`)))\">Copy</button>\n",
       "                </div>"
      ],
      "text/plain": [
       "<IPython.core.display.HTML object>"
      ]
     },
     "metadata": {},
     "output_type": "display_data"
    }
   ],
   "source": [
    "df.sketch.howto(\"\"\"Построить модель, \n",
    "    предсказывающую количество погибших в ДТП на основе численных признаков\"\"\")"
   ]
  },
  {
   "cell_type": "code",
   "execution_count": null,
   "metadata": {},
   "outputs": [],
   "source": [
    "#import necessary libraries\n",
    "import pandas as pd\n",
    "import numpy as np\n",
    "from sklearn.model_selection import train_test_split\n",
    "from sklearn.linear_model import LinearRegression\n",
    "from sklearn.metrics import mean_squared_error, r2_score\n",
    "\n",
    "#separate the dataframe into features and target variables\n",
    "X = df[['lat', 'lon', 'participants_count', 'injured_count']]\n",
    "y = df['dead_count']\n",
    "\n",
    "#split the data into training and testing sets\n",
    "X_train, X_test, y_train, y_test = train_test_split(X, y, test_size=0.2, random_state=42)\n",
    "\n",
    "#fit the model to the training data\n",
    "model = LinearRegression()\n",
    "model.fit(X_train, y_train)\n",
    "\n",
    "#make predictions on the test data\n",
    "y_pred = model.predict(X_test)\n",
    "\n",
    "#evaluate the model's performance using metrics such as mean squared error and r2 score\n",
    "mse = mean_squared_error(y_test, y_pred) \n",
    "r2 = r2_score(y_test, y_pred) \n",
    "print('Mean Squared Error:', mse) \n",
    "print('R2 Score:', r2) "
   ]
  },
  {
   "cell_type": "code",
   "execution_count": null,
   "metadata": {},
   "outputs": [],
   "source": []
  },
  {
   "cell_type": "code",
   "execution_count": null,
   "metadata": {},
   "outputs": [],
   "source": []
  }
 ],
 "metadata": {
  "kernelspec": {
   "display_name": "Python 3 (ipykernel)",
   "language": "python",
   "name": "python3"
  },
  "language_info": {
   "codemirror_mode": {
    "name": "ipython",
    "version": 3
   },
   "file_extension": ".py",
   "mimetype": "text/x-python",
   "name": "python",
   "nbconvert_exporter": "python",
   "pygments_lexer": "ipython3",
   "version": "3.9.15"
  },
  "toc": {
   "base_numbering": 1,
   "nav_menu": {},
   "number_sections": true,
   "sideBar": true,
   "skip_h1_title": false,
   "title_cell": "Table of Contents",
   "title_sidebar": "Contents",
   "toc_cell": false,
   "toc_position": {},
   "toc_section_display": true,
   "toc_window_display": false
  },
  "vscode": {
   "interpreter": {
    "hash": "58656f4d27507c1cf066d160953941131aeedc5e8ddd25f7cf3d9165a5f5fe3d"
   }
  }
 },
 "nbformat": 4,
 "nbformat_minor": 2
}
